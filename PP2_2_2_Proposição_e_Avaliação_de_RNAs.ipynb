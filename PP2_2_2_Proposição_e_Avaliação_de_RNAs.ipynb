{
  "nbformat": 4,
  "nbformat_minor": 0,
  "metadata": {
    "kernelspec": {
      "display_name": "Python 3",
      "language": "python",
      "name": "python3"
    },
    "language_info": {
      "codemirror_mode": {
        "name": "ipython",
        "version": 3
      },
      "file_extension": ".py",
      "mimetype": "text/x-python",
      "name": "python",
      "nbconvert_exporter": "python",
      "pygments_lexer": "ipython3",
      "version": "3.6.10"
    },
    "colab": {
      "name": "PP2.2.2 - Proposição e Avaliação de RNAs.ipynb",
      "provenance": [],
      "include_colab_link": true
    }
  },
  "cells": [
    {
      "cell_type": "markdown",
      "metadata": {
        "id": "view-in-github",
        "colab_type": "text"
      },
      "source": [
        "<a href=\"https://colab.research.google.com/github/AllanHigorLP/Atividade_avaliativa-2.2-RNA/blob/main/PP2_2_2_Proposi%C3%A7%C3%A3o_e_Avalia%C3%A7%C3%A3o_de_RNAs.ipynb\" target=\"_parent\"><img src=\"https://colab.research.google.com/assets/colab-badge.svg\" alt=\"Open In Colab\"/></a>"
      ]
    },
    {
      "cell_type": "markdown",
      "metadata": {
        "id": "A49m5nHB6nR0"
      },
      "source": [
        "## Redes Neurais Artificiais 2021.1\n",
        "\n",
        "- **Disciplina**: Redes Neurais Artificiais 2021.1  \n",
        "- **Professora**: Elloá B. Guedes (ebgcosta@uea.edu.br)  \n",
        "- **Github**: http://github.com/elloa  \n",
        "        \n",
        "\n",
        "Levando em conta a base de dados **_Forest Cover Type_**, esta segunda parte do Projeto Prático 2.2 diz respeito à proposição e avaliação de múltiplas redes neurais artificiais do tipo feedforward multilayer perceptron para o problema da classificação multi-classe da cobertura florestal em uma área do Roosevelt National Forest.\n",
        "\n",
        "## Testando Redes Neurais sem os Atributos Categórios\n",
        "\n",
        "1. Abra a base de dados em questão\n",
        "2. Elimine todas as colunas relativas aos atributos categóricos\n",
        "3. Armazene o atributo alvo em uma variável y e os atributos preditores em uma variável X\n",
        "4. Efetue uma partição holdout 70/30 com o sklearn, distribuindo os exemplos de maneira aleatória\n",
        "5. Efetue o escalonamento dos atributos\n",
        "\n",
        "### Escalonando os atributos\n",
        "\n",
        "O treinamento de uma rede neural artificial é mais eficiente quando os valores que lhes são fornecidos como entrada são pequenos, pois isto favorece a convergência. Isto é feito escalonando-se todos os atributos para o intervalo [0,1], mas precisa ser feito de maneira cautelosa, para que informações do conjunto de teste não sejam fornecidas no treinamento.\n",
        "\n",
        "Há duas estratégias para tal escalonamento: normalização e padronização. Ambas possuem características particulares, vantagens e limitações, como é possível ver aqui: https://www.analyticsvidhya.com/blog/2020/04/feature-scaling-machine-learning-normalization-standardization/\n",
        "\n",
        "\n",
        "No nosso caso, vamos usar a padronização. Assim, com os atributos preditores do treinamento, isto é, X_train, deve-se subtrair a média e dividir pelo desvio padrão:\n",
        "\n",
        "X_train_std = (X_train - np.mean(X_train))/np.std(X_train)\n",
        "\n",
        "Em seguida, o mesmo deve ser feito com os atributos preditores do conjunto de testes, mas com padronização relativa ao conjunto de treinamento:\n",
        "\n",
        "X_test_std = (X_test - np.mean(X_train))/np.std(X_train)\n",
        "\n",
        "Se todo o conjunto X for utilizado na padronização, a rede neural receberá informações do conjunto de teste por meio da média e variância utilizada para preparar os dados de treinamento, o que não é desejável.\n",
        "\n",
        "\n",
        "### Continuando\n",
        "\n",
        "5. Treine uma rede neural multilayer perceptron para este problema com uma única camada e dez neurônios  \n",
        "    5.1 Utilize a função de ativação ReLU  \n",
        "    5.2 Utilize o solver Adam    \n",
        "    5.3 Imprima o passo a passo do treinamento    \n",
        "    5.4 Utilize o número máximo de épocas igual a 300  \n",
        "6. Com o modelo em questão, após o treinamento, apresente:  \n",
        "    6.1 Matriz de confusão para o conjunto de teste  \n",
        "    6.2 Acurácia  \n",
        "    6.3 F-Score  \n",
        "    6.4 Precisão  \n",
        "    6.5 Revocação  \n",
        "7. Repita o treinamento da mesma rede anterior sem imprimir o passo a passo (verbose False) por 100 vezes  \n",
        "    7.1 Cada uma destas repetições deve ser feita com uma nova partição Holdout  \n",
        "    7.2 Apresente a média e o desvio padrão da acurácia e do F-Score para o conjunto de treino  \n",
        "8. Repita por 100 vezes o treinamento desta mesma rede, mas utilizando o otimizador SGD  \n",
        "    8.1 Apresente a média e o desvio padrão da acurácia e do F-Score para o conjunto de treino  \n",
        "9. Houve influência da escolha do otimizador no desempenho da rede?"
      ]
    },
    {
      "cell_type": "markdown",
      "metadata": {
        "id": "1grTtuJ_DuQd"
      },
      "source": [
        "# 1 - Abra a base de dados em questão"
      ]
    },
    {
      "cell_type": "markdown",
      "metadata": {
        "id": "GTQ5H48UCEJC"
      },
      "source": [
        "**Criando o diretório no Google Drive**"
      ]
    },
    {
      "cell_type": "code",
      "metadata": {
        "colab": {
          "base_uri": "https://localhost:8080/"
        },
        "id": "t1-3msHYB-bL",
        "outputId": "1e24bed6-34f9-4646-8321-65855c5811a5"
      },
      "source": [
        "from google.colab import drive, files\n",
        "drive.mount('/content/drive/')"
      ],
      "execution_count": 31,
      "outputs": [
        {
          "output_type": "stream",
          "name": "stdout",
          "text": [
            "Drive already mounted at /content/drive/; to attempt to forcibly remount, call drive.mount(\"/content/drive/\", force_remount=True).\n"
          ]
        }
      ]
    },
    {
      "cell_type": "markdown",
      "metadata": {
        "id": "txP4_glb_l2L"
      },
      "source": [
        "**Importando as bibliotecas**"
      ]
    },
    {
      "cell_type": "code",
      "metadata": {
        "id": "8FQzUnkD6nSF"
      },
      "source": [
        "import numpy as np # linear algebra\n",
        "import pandas as pd # data processing, CSV file I/O (e.g. pd.read_csv)\n",
        "import seaborn as sns\n",
        "import matplotlib.pyplot as plt\n",
        "from sklearn.model_selection import train_test_split #to split the dataset for training and testing\n",
        "from sklearn.neural_network import MLPClassifier #Importing MLPClassifier for classification.\n",
        "from sklearn import metrics\n",
        "from sklearn.metrics import confusion_matrix"
      ],
      "execution_count": 32,
      "outputs": []
    },
    {
      "cell_type": "markdown",
      "metadata": {
        "id": "g57iJP1D_6p7"
      },
      "source": [
        "**Abrindo o dataset**"
      ]
    },
    {
      "cell_type": "code",
      "metadata": {
        "colab": {
          "base_uri": "https://localhost:8080/"
        },
        "id": "V9lns2ng_9pF",
        "outputId": "4fe42ee6-418f-4e71-f5ef-ff3276cd17ed"
      },
      "source": [
        "df = pd.read_csv('/content/drive/My Drive/Colab Notebooks/covtype.csv')\n",
        "print(df)"
      ],
      "execution_count": 33,
      "outputs": [
        {
          "output_type": "stream",
          "name": "stdout",
          "text": [
            "        Elevation  Aspect  Slope  ...  Soil_Type39  Soil_Type40  Cover_Type\n",
            "0            2596      51      3  ...            0            0           5\n",
            "1            2590      56      2  ...            0            0           5\n",
            "2            2804     139      9  ...            0            0           2\n",
            "3            2785     155     18  ...            0            0           2\n",
            "4            2595      45      2  ...            0            0           5\n",
            "...           ...     ...    ...  ...          ...          ...         ...\n",
            "581007       2396     153     20  ...            0            0           3\n",
            "581008       2391     152     19  ...            0            0           3\n",
            "581009       2386     159     17  ...            0            0           3\n",
            "581010       2384     170     15  ...            0            0           3\n",
            "581011       2383     165     13  ...            0            0           3\n",
            "\n",
            "[581012 rows x 55 columns]\n"
          ]
        }
      ]
    },
    {
      "cell_type": "markdown",
      "metadata": {
        "id": "68N3TE9REAQ0"
      },
      "source": [
        "# 2 - Elimine todas as colunas relativas aos atributos categóricos"
      ]
    },
    {
      "cell_type": "markdown",
      "metadata": {
        "id": "9_bps5cmEZOO"
      },
      "source": [
        "**Mostrando as colunas do dataset**"
      ]
    },
    {
      "cell_type": "code",
      "metadata": {
        "colab": {
          "base_uri": "https://localhost:8080/"
        },
        "id": "tUYlNn73EatE",
        "outputId": "e55b8522-e6df-4f31-887b-f7b3b7ceca43"
      },
      "source": [
        "df.columns"
      ],
      "execution_count": 34,
      "outputs": [
        {
          "output_type": "execute_result",
          "data": {
            "text/plain": [
              "Index(['Elevation', 'Aspect', 'Slope', 'Horizontal_Distance_To_Hydrology',\n",
              "       'Vertical_Distance_To_Hydrology', 'Horizontal_Distance_To_Roadways',\n",
              "       'Hillshade_9am', 'Hillshade_Noon', 'Hillshade_3pm',\n",
              "       'Horizontal_Distance_To_Fire_Points', 'Wilderness_Area1',\n",
              "       'Wilderness_Area2', 'Wilderness_Area3', 'Wilderness_Area4',\n",
              "       'Soil_Type1', 'Soil_Type2', 'Soil_Type3', 'Soil_Type4', 'Soil_Type5',\n",
              "       'Soil_Type6', 'Soil_Type7', 'Soil_Type8', 'Soil_Type9', 'Soil_Type10',\n",
              "       'Soil_Type11', 'Soil_Type12', 'Soil_Type13', 'Soil_Type14',\n",
              "       'Soil_Type15', 'Soil_Type16', 'Soil_Type17', 'Soil_Type18',\n",
              "       'Soil_Type19', 'Soil_Type20', 'Soil_Type21', 'Soil_Type22',\n",
              "       'Soil_Type23', 'Soil_Type24', 'Soil_Type25', 'Soil_Type26',\n",
              "       'Soil_Type27', 'Soil_Type28', 'Soil_Type29', 'Soil_Type30',\n",
              "       'Soil_Type31', 'Soil_Type32', 'Soil_Type33', 'Soil_Type34',\n",
              "       'Soil_Type35', 'Soil_Type36', 'Soil_Type37', 'Soil_Type38',\n",
              "       'Soil_Type39', 'Soil_Type40', 'Cover_Type'],\n",
              "      dtype='object')"
            ]
          },
          "metadata": {},
          "execution_count": 34
        }
      ]
    },
    {
      "cell_type": "markdown",
      "metadata": {
        "id": "To1fNCOCEwig"
      },
      "source": [
        "**Deletando os atributos categóricos**"
      ]
    },
    {
      "cell_type": "code",
      "metadata": {
        "id": "TeWeHCjZE2Vm"
      },
      "source": [
        "df.drop(columns=['Wilderness_Area1',\n",
        "       'Wilderness_Area2', 'Wilderness_Area3', 'Wilderness_Area4',\n",
        "       'Soil_Type1', 'Soil_Type2', 'Soil_Type3', 'Soil_Type4', 'Soil_Type5',\n",
        "       'Soil_Type6', 'Soil_Type7', 'Soil_Type8', 'Soil_Type9', 'Soil_Type10',\n",
        "       'Soil_Type11', 'Soil_Type12', 'Soil_Type13', 'Soil_Type14',\n",
        "       'Soil_Type15', 'Soil_Type16', 'Soil_Type17', 'Soil_Type18',\n",
        "       'Soil_Type19', 'Soil_Type20', 'Soil_Type21', 'Soil_Type22',\n",
        "       'Soil_Type23', 'Soil_Type24', 'Soil_Type25', 'Soil_Type26',\n",
        "       'Soil_Type27', 'Soil_Type28', 'Soil_Type29', 'Soil_Type30',\n",
        "       'Soil_Type31', 'Soil_Type32', 'Soil_Type33', 'Soil_Type34',\n",
        "       'Soil_Type35', 'Soil_Type36', 'Soil_Type37', 'Soil_Type38',\n",
        "       'Soil_Type39', 'Soil_Type40'], inplace=True)"
      ],
      "execution_count": 35,
      "outputs": []
    },
    {
      "cell_type": "markdown",
      "metadata": {
        "id": "-gMBSPVEFPis"
      },
      "source": [
        "**Verificando se há inconsistencias após a eliminação das colunas**"
      ]
    },
    {
      "cell_type": "code",
      "metadata": {
        "colab": {
          "base_uri": "https://localhost:8080/"
        },
        "id": "L7sekDIjFXGz",
        "outputId": "8415f53d-36cb-4783-886a-c0b4bd62c7ab"
      },
      "source": [
        "df.info()"
      ],
      "execution_count": 36,
      "outputs": [
        {
          "output_type": "stream",
          "name": "stdout",
          "text": [
            "<class 'pandas.core.frame.DataFrame'>\n",
            "RangeIndex: 581012 entries, 0 to 581011\n",
            "Data columns (total 11 columns):\n",
            " #   Column                              Non-Null Count   Dtype\n",
            "---  ------                              --------------   -----\n",
            " 0   Elevation                           581012 non-null  int64\n",
            " 1   Aspect                              581012 non-null  int64\n",
            " 2   Slope                               581012 non-null  int64\n",
            " 3   Horizontal_Distance_To_Hydrology    581012 non-null  int64\n",
            " 4   Vertical_Distance_To_Hydrology      581012 non-null  int64\n",
            " 5   Horizontal_Distance_To_Roadways     581012 non-null  int64\n",
            " 6   Hillshade_9am                       581012 non-null  int64\n",
            " 7   Hillshade_Noon                      581012 non-null  int64\n",
            " 8   Hillshade_3pm                       581012 non-null  int64\n",
            " 9   Horizontal_Distance_To_Fire_Points  581012 non-null  int64\n",
            " 10  Cover_Type                          581012 non-null  int64\n",
            "dtypes: int64(11)\n",
            "memory usage: 48.8 MB\n"
          ]
        }
      ]
    },
    {
      "cell_type": "markdown",
      "metadata": {
        "id": "t3saaA_vFhAx"
      },
      "source": [
        "**Visão geral do dataset**"
      ]
    },
    {
      "cell_type": "code",
      "metadata": {
        "colab": {
          "base_uri": "https://localhost:8080/",
          "height": 439
        },
        "id": "Y7fP9dafFfMd",
        "outputId": "5e990e33-fe64-4035-845c-65e362306376"
      },
      "source": [
        "df.head(-1)"
      ],
      "execution_count": 37,
      "outputs": [
        {
          "output_type": "execute_result",
          "data": {
            "text/html": [
              "<div>\n",
              "<style scoped>\n",
              "    .dataframe tbody tr th:only-of-type {\n",
              "        vertical-align: middle;\n",
              "    }\n",
              "\n",
              "    .dataframe tbody tr th {\n",
              "        vertical-align: top;\n",
              "    }\n",
              "\n",
              "    .dataframe thead th {\n",
              "        text-align: right;\n",
              "    }\n",
              "</style>\n",
              "<table border=\"1\" class=\"dataframe\">\n",
              "  <thead>\n",
              "    <tr style=\"text-align: right;\">\n",
              "      <th></th>\n",
              "      <th>Elevation</th>\n",
              "      <th>Aspect</th>\n",
              "      <th>Slope</th>\n",
              "      <th>Horizontal_Distance_To_Hydrology</th>\n",
              "      <th>Vertical_Distance_To_Hydrology</th>\n",
              "      <th>Horizontal_Distance_To_Roadways</th>\n",
              "      <th>Hillshade_9am</th>\n",
              "      <th>Hillshade_Noon</th>\n",
              "      <th>Hillshade_3pm</th>\n",
              "      <th>Horizontal_Distance_To_Fire_Points</th>\n",
              "      <th>Cover_Type</th>\n",
              "    </tr>\n",
              "  </thead>\n",
              "  <tbody>\n",
              "    <tr>\n",
              "      <th>0</th>\n",
              "      <td>2596</td>\n",
              "      <td>51</td>\n",
              "      <td>3</td>\n",
              "      <td>258</td>\n",
              "      <td>0</td>\n",
              "      <td>510</td>\n",
              "      <td>221</td>\n",
              "      <td>232</td>\n",
              "      <td>148</td>\n",
              "      <td>6279</td>\n",
              "      <td>5</td>\n",
              "    </tr>\n",
              "    <tr>\n",
              "      <th>1</th>\n",
              "      <td>2590</td>\n",
              "      <td>56</td>\n",
              "      <td>2</td>\n",
              "      <td>212</td>\n",
              "      <td>-6</td>\n",
              "      <td>390</td>\n",
              "      <td>220</td>\n",
              "      <td>235</td>\n",
              "      <td>151</td>\n",
              "      <td>6225</td>\n",
              "      <td>5</td>\n",
              "    </tr>\n",
              "    <tr>\n",
              "      <th>2</th>\n",
              "      <td>2804</td>\n",
              "      <td>139</td>\n",
              "      <td>9</td>\n",
              "      <td>268</td>\n",
              "      <td>65</td>\n",
              "      <td>3180</td>\n",
              "      <td>234</td>\n",
              "      <td>238</td>\n",
              "      <td>135</td>\n",
              "      <td>6121</td>\n",
              "      <td>2</td>\n",
              "    </tr>\n",
              "    <tr>\n",
              "      <th>3</th>\n",
              "      <td>2785</td>\n",
              "      <td>155</td>\n",
              "      <td>18</td>\n",
              "      <td>242</td>\n",
              "      <td>118</td>\n",
              "      <td>3090</td>\n",
              "      <td>238</td>\n",
              "      <td>238</td>\n",
              "      <td>122</td>\n",
              "      <td>6211</td>\n",
              "      <td>2</td>\n",
              "    </tr>\n",
              "    <tr>\n",
              "      <th>4</th>\n",
              "      <td>2595</td>\n",
              "      <td>45</td>\n",
              "      <td>2</td>\n",
              "      <td>153</td>\n",
              "      <td>-1</td>\n",
              "      <td>391</td>\n",
              "      <td>220</td>\n",
              "      <td>234</td>\n",
              "      <td>150</td>\n",
              "      <td>6172</td>\n",
              "      <td>5</td>\n",
              "    </tr>\n",
              "    <tr>\n",
              "      <th>...</th>\n",
              "      <td>...</td>\n",
              "      <td>...</td>\n",
              "      <td>...</td>\n",
              "      <td>...</td>\n",
              "      <td>...</td>\n",
              "      <td>...</td>\n",
              "      <td>...</td>\n",
              "      <td>...</td>\n",
              "      <td>...</td>\n",
              "      <td>...</td>\n",
              "      <td>...</td>\n",
              "    </tr>\n",
              "    <tr>\n",
              "      <th>581006</th>\n",
              "      <td>2401</td>\n",
              "      <td>157</td>\n",
              "      <td>21</td>\n",
              "      <td>90</td>\n",
              "      <td>15</td>\n",
              "      <td>120</td>\n",
              "      <td>238</td>\n",
              "      <td>238</td>\n",
              "      <td>119</td>\n",
              "      <td>830</td>\n",
              "      <td>3</td>\n",
              "    </tr>\n",
              "    <tr>\n",
              "      <th>581007</th>\n",
              "      <td>2396</td>\n",
              "      <td>153</td>\n",
              "      <td>20</td>\n",
              "      <td>85</td>\n",
              "      <td>17</td>\n",
              "      <td>108</td>\n",
              "      <td>240</td>\n",
              "      <td>237</td>\n",
              "      <td>118</td>\n",
              "      <td>837</td>\n",
              "      <td>3</td>\n",
              "    </tr>\n",
              "    <tr>\n",
              "      <th>581008</th>\n",
              "      <td>2391</td>\n",
              "      <td>152</td>\n",
              "      <td>19</td>\n",
              "      <td>67</td>\n",
              "      <td>12</td>\n",
              "      <td>95</td>\n",
              "      <td>240</td>\n",
              "      <td>237</td>\n",
              "      <td>119</td>\n",
              "      <td>845</td>\n",
              "      <td>3</td>\n",
              "    </tr>\n",
              "    <tr>\n",
              "      <th>581009</th>\n",
              "      <td>2386</td>\n",
              "      <td>159</td>\n",
              "      <td>17</td>\n",
              "      <td>60</td>\n",
              "      <td>7</td>\n",
              "      <td>90</td>\n",
              "      <td>236</td>\n",
              "      <td>241</td>\n",
              "      <td>130</td>\n",
              "      <td>854</td>\n",
              "      <td>3</td>\n",
              "    </tr>\n",
              "    <tr>\n",
              "      <th>581010</th>\n",
              "      <td>2384</td>\n",
              "      <td>170</td>\n",
              "      <td>15</td>\n",
              "      <td>60</td>\n",
              "      <td>5</td>\n",
              "      <td>90</td>\n",
              "      <td>230</td>\n",
              "      <td>245</td>\n",
              "      <td>143</td>\n",
              "      <td>864</td>\n",
              "      <td>3</td>\n",
              "    </tr>\n",
              "  </tbody>\n",
              "</table>\n",
              "<p>581011 rows × 11 columns</p>\n",
              "</div>"
            ],
            "text/plain": [
              "        Elevation  Aspect  ...  Horizontal_Distance_To_Fire_Points  Cover_Type\n",
              "0            2596      51  ...                                6279           5\n",
              "1            2590      56  ...                                6225           5\n",
              "2            2804     139  ...                                6121           2\n",
              "3            2785     155  ...                                6211           2\n",
              "4            2595      45  ...                                6172           5\n",
              "...           ...     ...  ...                                 ...         ...\n",
              "581006       2401     157  ...                                 830           3\n",
              "581007       2396     153  ...                                 837           3\n",
              "581008       2391     152  ...                                 845           3\n",
              "581009       2386     159  ...                                 854           3\n",
              "581010       2384     170  ...                                 864           3\n",
              "\n",
              "[581011 rows x 11 columns]"
            ]
          },
          "metadata": {},
          "execution_count": 37
        }
      ]
    },
    {
      "cell_type": "markdown",
      "metadata": {
        "id": "VXwqzPaMGwJa"
      },
      "source": [
        "# 3 - Armazene o atributo alvo em uma variável y e os atributos preditores em uma variável X"
      ]
    },
    {
      "cell_type": "code",
      "metadata": {
        "colab": {
          "base_uri": "https://localhost:8080/",
          "height": 224
        },
        "id": "YhRjd5QYGc5w",
        "outputId": "b02e685b-bf62-420a-9b1e-545f31cd15c4"
      },
      "source": [
        "Y = df['Cover_Type']\n",
        "df.drop([\"Cover_Type\"],axis = 1,inplace=True)\n",
        "X = df\n",
        "X.head()"
      ],
      "execution_count": 38,
      "outputs": [
        {
          "output_type": "execute_result",
          "data": {
            "text/html": [
              "<div>\n",
              "<style scoped>\n",
              "    .dataframe tbody tr th:only-of-type {\n",
              "        vertical-align: middle;\n",
              "    }\n",
              "\n",
              "    .dataframe tbody tr th {\n",
              "        vertical-align: top;\n",
              "    }\n",
              "\n",
              "    .dataframe thead th {\n",
              "        text-align: right;\n",
              "    }\n",
              "</style>\n",
              "<table border=\"1\" class=\"dataframe\">\n",
              "  <thead>\n",
              "    <tr style=\"text-align: right;\">\n",
              "      <th></th>\n",
              "      <th>Elevation</th>\n",
              "      <th>Aspect</th>\n",
              "      <th>Slope</th>\n",
              "      <th>Horizontal_Distance_To_Hydrology</th>\n",
              "      <th>Vertical_Distance_To_Hydrology</th>\n",
              "      <th>Horizontal_Distance_To_Roadways</th>\n",
              "      <th>Hillshade_9am</th>\n",
              "      <th>Hillshade_Noon</th>\n",
              "      <th>Hillshade_3pm</th>\n",
              "      <th>Horizontal_Distance_To_Fire_Points</th>\n",
              "    </tr>\n",
              "  </thead>\n",
              "  <tbody>\n",
              "    <tr>\n",
              "      <th>0</th>\n",
              "      <td>2596</td>\n",
              "      <td>51</td>\n",
              "      <td>3</td>\n",
              "      <td>258</td>\n",
              "      <td>0</td>\n",
              "      <td>510</td>\n",
              "      <td>221</td>\n",
              "      <td>232</td>\n",
              "      <td>148</td>\n",
              "      <td>6279</td>\n",
              "    </tr>\n",
              "    <tr>\n",
              "      <th>1</th>\n",
              "      <td>2590</td>\n",
              "      <td>56</td>\n",
              "      <td>2</td>\n",
              "      <td>212</td>\n",
              "      <td>-6</td>\n",
              "      <td>390</td>\n",
              "      <td>220</td>\n",
              "      <td>235</td>\n",
              "      <td>151</td>\n",
              "      <td>6225</td>\n",
              "    </tr>\n",
              "    <tr>\n",
              "      <th>2</th>\n",
              "      <td>2804</td>\n",
              "      <td>139</td>\n",
              "      <td>9</td>\n",
              "      <td>268</td>\n",
              "      <td>65</td>\n",
              "      <td>3180</td>\n",
              "      <td>234</td>\n",
              "      <td>238</td>\n",
              "      <td>135</td>\n",
              "      <td>6121</td>\n",
              "    </tr>\n",
              "    <tr>\n",
              "      <th>3</th>\n",
              "      <td>2785</td>\n",
              "      <td>155</td>\n",
              "      <td>18</td>\n",
              "      <td>242</td>\n",
              "      <td>118</td>\n",
              "      <td>3090</td>\n",
              "      <td>238</td>\n",
              "      <td>238</td>\n",
              "      <td>122</td>\n",
              "      <td>6211</td>\n",
              "    </tr>\n",
              "    <tr>\n",
              "      <th>4</th>\n",
              "      <td>2595</td>\n",
              "      <td>45</td>\n",
              "      <td>2</td>\n",
              "      <td>153</td>\n",
              "      <td>-1</td>\n",
              "      <td>391</td>\n",
              "      <td>220</td>\n",
              "      <td>234</td>\n",
              "      <td>150</td>\n",
              "      <td>6172</td>\n",
              "    </tr>\n",
              "  </tbody>\n",
              "</table>\n",
              "</div>"
            ],
            "text/plain": [
              "   Elevation  Aspect  ...  Hillshade_3pm  Horizontal_Distance_To_Fire_Points\n",
              "0       2596      51  ...            148                                6279\n",
              "1       2590      56  ...            151                                6225\n",
              "2       2804     139  ...            135                                6121\n",
              "3       2785     155  ...            122                                6211\n",
              "4       2595      45  ...            150                                6172\n",
              "\n",
              "[5 rows x 10 columns]"
            ]
          },
          "metadata": {},
          "execution_count": 38
        }
      ]
    },
    {
      "cell_type": "markdown",
      "metadata": {
        "id": "PtqAVDXSHQlw"
      },
      "source": [
        "# 4 - Efetue uma partição holdout 70/30 com o sklearn, distribuindo os exemplos de maneira aleatória"
      ]
    },
    {
      "cell_type": "code",
      "metadata": {
        "id": "dtcJbBRMHUha"
      },
      "source": [
        "X_train, X_test, Y_train, Y_test = train_test_split(X, Y, test_size=0.30)\n"
      ],
      "execution_count": 77,
      "outputs": []
    },
    {
      "cell_type": "markdown",
      "metadata": {
        "id": "a35AmftuJWdJ"
      },
      "source": [
        "# 5 - Efetue o escalonamento dos atributos "
      ]
    },
    {
      "cell_type": "code",
      "metadata": {
        "id": "-ZbhK8kvKCOc",
        "colab": {
          "base_uri": "https://localhost:8080/"
        },
        "outputId": "e2339116-7b78-43d3-cead-7a5828aa8c0b"
      },
      "source": [
        "from sklearn.preprocessing import StandardScaler\n",
        "\n",
        "X_train_stand = X_train.copy()\n",
        "X_test_stand = X_test.copy()\n",
        "\n",
        "num_cols = ['Elevation', 'Aspect', 'Slope', 'Horizontal_Distance_To_Hydrology',\n",
        "       'Vertical_Distance_To_Hydrology', 'Horizontal_Distance_To_Roadways',\n",
        "       'Hillshade_9am', 'Hillshade_Noon', 'Hillshade_3pm',\n",
        "       'Horizontal_Distance_To_Fire_Points']\n",
        "\n",
        "for i in num_cols:\n",
        "    \n",
        "    scale = StandardScaler().fit(X_train_stand[[i]])\n",
        "    \n",
        "    X_train_stand[i] = scale.transform(X_train_stand[[i]])\n",
        "    \n",
        "    X_test_stand[i] = scale.transform(X_test_stand[[i]])\n",
        "\n",
        "X_train_std = (X_train - np.mean(X_train))/np.std(X_train)\n",
        "X_test_std = (X_test - np.mean(X_train))/np.std(X_train)\n",
        "print(X_train_stand)\n",
        "print(X_train_std)\n",
        "print(X_test_std)\n",
        "print(X_test_stand)"
      ],
      "execution_count": 40,
      "outputs": [
        {
          "output_type": "stream",
          "name": "stdout",
          "text": [
            "        Elevation    Aspect  ...  Hillshade_3pm  Horizontal_Distance_To_Fire_Points\n",
            "166276  -0.037723 -0.988559  ...      -0.197006                           -0.334109\n",
            "88661   -1.219918 -0.693703  ...      -0.510572                           -0.543966\n",
            "281774  -2.444973 -0.827729  ...      -0.223136                           -0.927446\n",
            "310757  -2.055670  1.593664  ...       0.769822                           -1.118432\n",
            "124481   0.451585 -0.389912  ...      -0.379919                            0.743862\n",
            "...           ...       ...  ...            ...                                 ...\n",
            "293393  -0.069867  1.736625  ...       0.430125                           -1.200714\n",
            "578831  -1.769943  0.047904  ...      -0.876398                           -0.374873\n",
            "405984   1.437343 -0.291627  ...      -0.562833                           -1.105599\n",
            "28295   -0.016293 -0.470328  ...      -1.137703                            1.335690\n",
            "102404  -0.627035 -0.345237  ...      -0.954790                           -0.049519\n",
            "\n",
            "[406708 rows x 10 columns]\n",
            "        Elevation    Aspect  ...  Hillshade_3pm  Horizontal_Distance_To_Fire_Points\n",
            "166276  -0.037723 -0.988559  ...      -0.197006                           -0.334109\n",
            "88661   -1.219918 -0.693703  ...      -0.510572                           -0.543966\n",
            "281774  -2.444973 -0.827729  ...      -0.223136                           -0.927446\n",
            "310757  -2.055670  1.593664  ...       0.769822                           -1.118432\n",
            "124481   0.451585 -0.389912  ...      -0.379919                            0.743862\n",
            "...           ...       ...  ...            ...                                 ...\n",
            "293393  -0.069867  1.736625  ...       0.430125                           -1.200714\n",
            "578831  -1.769943  0.047904  ...      -0.876398                           -0.374873\n",
            "405984   1.437343 -0.291627  ...      -0.562833                           -1.105599\n",
            "28295   -0.016293 -0.470328  ...      -1.137703                            1.335690\n",
            "102404  -0.627035 -0.345237  ...      -0.954790                           -0.049519\n",
            "\n",
            "[406708 rows x 10 columns]\n",
            "        Elevation    Aspect  ...  Hillshade_3pm  Horizontal_Distance_To_Fire_Points\n",
            "473545  -0.077010 -1.131520  ...      -0.144745                           -1.289790\n",
            "165259  -0.419883 -0.282692  ...      -0.667355                           -0.023098\n",
            "247574  -0.898475 -1.274480  ...      -0.876398                           -0.634552\n",
            "347400   0.858746 -0.220147  ...      -0.667355                           -0.352226\n",
            "160463   0.362295  0.941407  ...       1.161779                           -0.001961\n",
            "...           ...       ...  ...            ...                                 ...\n",
            "268932   0.069425 -0.997494  ...      -0.771876                           -0.917633\n",
            "563239  -1.102056 -0.934949  ...      -1.425138                            0.331697\n",
            "402600   1.583778  0.047904  ...      -0.040223                           -1.028601\n",
            "555766   1.340910  0.458916  ...       0.874344                            1.921478\n",
            "317231  -0.473456  0.074709  ...      -0.223136                            0.776322\n",
            "\n",
            "[174304 rows x 10 columns]\n",
            "        Elevation    Aspect  ...  Hillshade_3pm  Horizontal_Distance_To_Fire_Points\n",
            "473545  -0.077010 -1.131520  ...      -0.144745                           -1.289790\n",
            "165259  -0.419883 -0.282692  ...      -0.667355                           -0.023098\n",
            "247574  -0.898475 -1.274480  ...      -0.876398                           -0.634552\n",
            "347400   0.858746 -0.220147  ...      -0.667355                           -0.352226\n",
            "160463   0.362295  0.941407  ...       1.161779                           -0.001961\n",
            "...           ...       ...  ...            ...                                 ...\n",
            "268932   0.069425 -0.997494  ...      -0.771876                           -0.917633\n",
            "563239  -1.102056 -0.934949  ...      -1.425138                            0.331697\n",
            "402600   1.583778  0.047904  ...      -0.040223                           -1.028601\n",
            "555766   1.340910  0.458916  ...       0.874344                            1.921478\n",
            "317231  -0.473456  0.074709  ...      -0.223136                            0.776322\n",
            "\n",
            "[174304 rows x 10 columns]\n"
          ]
        }
      ]
    },
    {
      "cell_type": "markdown",
      "metadata": {
        "id": "bxIuKCn069uJ"
      },
      "source": [
        "# Continuação"
      ]
    },
    {
      "cell_type": "markdown",
      "metadata": {
        "id": "WdJxjiNW7QZZ"
      },
      "source": [
        "#5 - Treine uma rede neural multilayer perceptron para este problema com uma única camada e dez neurônios"
      ]
    },
    {
      "cell_type": "markdown",
      "metadata": {
        "id": "vgY84-305nWK"
      },
      "source": [
        "**5.1 - Utilize a função de ativação ReLU**"
      ]
    },
    {
      "cell_type": "code",
      "metadata": {
        "colab": {
          "base_uri": "https://localhost:8080/"
        },
        "id": "x4DaQHna6kt6",
        "outputId": "1d207504-03c2-4ac9-aecf-e9ee1c9444e8"
      },
      "source": [
        "rede = MLPClassifier(hidden_layer_sizes=(10,),activation='relu',solver='adam',max_iter=300,verbose=True)\n",
        "rede.fit(X_train_stand,Y_train)"
      ],
      "execution_count": 63,
      "outputs": [
        {
          "output_type": "stream",
          "name": "stdout",
          "text": [
            "Iteration 1, loss = 0.97059416\n",
            "Iteration 2, loss = 0.70297210\n",
            "Iteration 3, loss = 0.68037386\n",
            "Iteration 4, loss = 0.67373084\n",
            "Iteration 5, loss = 0.67069732\n",
            "Iteration 6, loss = 0.66849501\n",
            "Iteration 7, loss = 0.66659761\n",
            "Iteration 8, loss = 0.66502268\n",
            "Iteration 9, loss = 0.66344011\n",
            "Iteration 10, loss = 0.66215028\n",
            "Iteration 11, loss = 0.66100506\n",
            "Iteration 12, loss = 0.66000623\n",
            "Iteration 13, loss = 0.65919818\n",
            "Iteration 14, loss = 0.65844903\n",
            "Iteration 15, loss = 0.65761839\n",
            "Iteration 16, loss = 0.65671229\n",
            "Iteration 17, loss = 0.65589289\n",
            "Iteration 18, loss = 0.65518101\n",
            "Iteration 19, loss = 0.65438855\n",
            "Iteration 20, loss = 0.65395935\n",
            "Iteration 21, loss = 0.65372523\n",
            "Iteration 22, loss = 0.65338241\n",
            "Iteration 23, loss = 0.65313152\n",
            "Iteration 24, loss = 0.65299793\n",
            "Iteration 25, loss = 0.65280194\n",
            "Iteration 26, loss = 0.65254685\n",
            "Iteration 27, loss = 0.65247721\n",
            "Iteration 28, loss = 0.65233572\n",
            "Iteration 29, loss = 0.65226298\n",
            "Iteration 30, loss = 0.65209979\n",
            "Iteration 31, loss = 0.65190316\n",
            "Iteration 32, loss = 0.65186866\n",
            "Iteration 33, loss = 0.65183237\n",
            "Iteration 34, loss = 0.65164267\n",
            "Iteration 35, loss = 0.65160830\n",
            "Iteration 36, loss = 0.65141751\n",
            "Iteration 37, loss = 0.65130555\n",
            "Iteration 38, loss = 0.65131643\n",
            "Iteration 39, loss = 0.65117384\n",
            "Iteration 40, loss = 0.65098623\n",
            "Iteration 41, loss = 0.65087325\n",
            "Iteration 42, loss = 0.65079661\n",
            "Iteration 43, loss = 0.65074902\n",
            "Iteration 44, loss = 0.65072466\n",
            "Iteration 45, loss = 0.65057099\n",
            "Iteration 46, loss = 0.65033792\n",
            "Iteration 47, loss = 0.65036307\n",
            "Iteration 48, loss = 0.65033847\n",
            "Iteration 49, loss = 0.65023726\n",
            "Iteration 50, loss = 0.65020636\n",
            "Iteration 51, loss = 0.65007798\n",
            "Iteration 52, loss = 0.64998505\n",
            "Iteration 53, loss = 0.64993643\n",
            "Iteration 54, loss = 0.64990744\n",
            "Iteration 55, loss = 0.64971446\n",
            "Iteration 56, loss = 0.64984500\n",
            "Iteration 57, loss = 0.64968373\n",
            "Iteration 58, loss = 0.64960331\n",
            "Iteration 59, loss = 0.64953221\n",
            "Iteration 60, loss = 0.64940863\n",
            "Iteration 61, loss = 0.64945289\n",
            "Iteration 62, loss = 0.64936981\n",
            "Iteration 63, loss = 0.64936718\n",
            "Iteration 64, loss = 0.64923158\n",
            "Iteration 65, loss = 0.64918633\n",
            "Iteration 66, loss = 0.64913148\n",
            "Iteration 67, loss = 0.64904356\n",
            "Iteration 68, loss = 0.64895965\n",
            "Iteration 69, loss = 0.64890183\n",
            "Iteration 70, loss = 0.64893605\n",
            "Iteration 71, loss = 0.64887553\n",
            "Iteration 72, loss = 0.64882063\n",
            "Iteration 73, loss = 0.64880268\n",
            "Iteration 74, loss = 0.64880437\n",
            "Iteration 75, loss = 0.64868327\n",
            "Iteration 76, loss = 0.64873658\n",
            "Iteration 77, loss = 0.64866572\n",
            "Iteration 78, loss = 0.64859927\n",
            "Iteration 79, loss = 0.64856916\n",
            "Iteration 80, loss = 0.64849814\n",
            "Iteration 81, loss = 0.64846400\n",
            "Iteration 82, loss = 0.64843106\n",
            "Iteration 83, loss = 0.64827827\n",
            "Iteration 84, loss = 0.64841757\n",
            "Iteration 85, loss = 0.64831049\n",
            "Iteration 86, loss = 0.64844856\n",
            "Iteration 87, loss = 0.64833219\n",
            "Iteration 88, loss = 0.64829539\n",
            "Iteration 89, loss = 0.64830514\n",
            "Iteration 90, loss = 0.64815213\n",
            "Iteration 91, loss = 0.64816246\n",
            "Iteration 92, loss = 0.64816398\n",
            "Iteration 93, loss = 0.64808103\n",
            "Iteration 94, loss = 0.64810537\n",
            "Iteration 95, loss = 0.64810638\n",
            "Iteration 96, loss = 0.64801399\n",
            "Iteration 97, loss = 0.64798118\n",
            "Iteration 98, loss = 0.64795053\n",
            "Iteration 99, loss = 0.64794733\n",
            "Iteration 100, loss = 0.64783769\n",
            "Iteration 101, loss = 0.64779341\n",
            "Iteration 102, loss = 0.64767415\n",
            "Iteration 103, loss = 0.64761613\n",
            "Iteration 104, loss = 0.64757083\n",
            "Iteration 105, loss = 0.64746378\n",
            "Iteration 106, loss = 0.64739592\n",
            "Iteration 107, loss = 0.64716702\n",
            "Iteration 108, loss = 0.64723294\n",
            "Iteration 109, loss = 0.64705305\n",
            "Iteration 110, loss = 0.64706311\n",
            "Iteration 111, loss = 0.64697158\n",
            "Iteration 112, loss = 0.64686102\n",
            "Iteration 113, loss = 0.64674025\n",
            "Iteration 114, loss = 0.64669446\n",
            "Iteration 115, loss = 0.64662352\n",
            "Iteration 116, loss = 0.64658655\n",
            "Iteration 117, loss = 0.64647441\n",
            "Iteration 118, loss = 0.64644784\n",
            "Iteration 119, loss = 0.64634743\n",
            "Iteration 120, loss = 0.64639201\n",
            "Iteration 121, loss = 0.64635814\n",
            "Iteration 122, loss = 0.64632443\n",
            "Iteration 123, loss = 0.64614689\n",
            "Iteration 124, loss = 0.64616895\n",
            "Iteration 125, loss = 0.64618179\n",
            "Iteration 126, loss = 0.64600268\n",
            "Iteration 127, loss = 0.64602999\n",
            "Iteration 128, loss = 0.64599281\n",
            "Iteration 129, loss = 0.64588983\n",
            "Iteration 130, loss = 0.64583136\n",
            "Iteration 131, loss = 0.64582606\n",
            "Iteration 132, loss = 0.64580937\n",
            "Iteration 133, loss = 0.64569382\n",
            "Iteration 134, loss = 0.64563884\n",
            "Iteration 135, loss = 0.64573470\n",
            "Iteration 136, loss = 0.64563211\n",
            "Iteration 137, loss = 0.64564182\n",
            "Iteration 138, loss = 0.64573909\n",
            "Iteration 139, loss = 0.64565190\n",
            "Iteration 140, loss = 0.64561234\n",
            "Iteration 141, loss = 0.64554788\n",
            "Iteration 142, loss = 0.64554101\n",
            "Iteration 143, loss = 0.64563632\n",
            "Iteration 144, loss = 0.64560158\n",
            "Training loss did not improve more than tol=0.000100 for 10 consecutive epochs. Stopping.\n"
          ]
        },
        {
          "output_type": "execute_result",
          "data": {
            "text/plain": [
              "MLPClassifier(hidden_layer_sizes=(10,), max_iter=300, verbose=True)"
            ]
          },
          "metadata": {},
          "execution_count": 63
        }
      ]
    },
    {
      "cell_type": "code",
      "metadata": {
        "colab": {
          "base_uri": "https://localhost:8080/",
          "height": 260
        },
        "id": "IODWMxAG_uyp",
        "outputId": "2f9d4a8f-acea-4c23-f436-2a6b0790c40a"
      },
      "source": [
        "y_pred = rede.predict(X_test_stand)\n",
        "\n",
        "from sklearn.metrics import  confusion_matrix\n",
        "\n",
        "\n",
        "conf_matrix = confusion_matrix(y_pred, Y_test)\n",
        "plt.matshow(conf_matrix, cmap=plt.cm.Greens)\n",
        "\n",
        "for (m, n), value in np.ndenumerate(conf_matrix):\n",
        "    plt.text(m, n, f\"{value}\", va=\"center\", ha=\"center\")\n",
        "plt.xlabel(\"y_pred\")\n",
        "plt.ylabel(\"y_test\")\n",
        "plt.colorbar()\n",
        "plt.plot()\n",
        "plt.show()"
      ],
      "execution_count": 64,
      "outputs": [
        {
          "output_type": "display_data",
          "data": {
            "image/png": "[encoded data removed]",
            "text/plain": [
              "<Figure size 288x288 with 2 Axes>"
            ]
          },
          "metadata": {
            "needs_background": "light"
          }
        }
      ]
    },
    {
      "cell_type": "code",
      "metadata": {
        "colab": {
          "base_uri": "https://localhost:8080/"
        },
        "id": "V7N7H7GUDG9j",
        "outputId": "e263bc3d-25e4-4ddb-fa16-bbddcfed4223"
      },
      "source": [
        "from sklearn.metrics import  precision_score, accuracy_score, f1_score, recall_score\n",
        "acuracia = accuracy_score(y_pred, Y_test)\n",
        "precisao = precision_score(y_pred, Y_test, average='weighted')\n",
        "revogacao = recall_score(y_pred, Y_test, average='weighted')\n",
        "fscore = f1_score(y_pred, Y_test, average='weighted')\n",
        "\n",
        "print(\"Acuracia {:.3f}\".format(acuracia))\n",
        "print(\"Precisão: {:.3f}\".format(precisao))\n",
        "print(\"Revocação: {:.3f}\".format(revogacao))\n",
        "print(\"F1-Score: {:.3f}\".format(fscore))"
      ],
      "execution_count": 75,
      "outputs": [
        {
          "output_type": "stream",
          "name": "stdout",
          "text": [
            "Acuracia 0.718\n",
            "Precisão: 0.749\n",
            "Revocação: 0.718\n",
            "F1-Score: 0.731\n"
          ]
        }
      ]
    },
    {
      "cell_type": "markdown",
      "metadata": {
        "id": "74LqNJ0c6nSI"
      },
      "source": [
        "## Discussão\n",
        "\n",
        "Nos passos anteriores, você avaliou o desempenho de uma única rede neural que contém os seguintes parâmetros: uma única camada oculta com 10 neurônios e função de ativação ReLU. O otimizador utilizado, quer seja SGD ou ADAM, trata-se do algoritmo para aproximar o gradiente do erro. Neste sentido, a escolha do otimizador é um hiperparâmetro, pois diz respeito a como a rede neural definida previamente atuará \"em tempo de execução\"  durante o processo de treinamento. Também são hiperparâmetros a quantidade de épocas, a taxa de aprendizado inicial, dentre outros.\n",
        "\n",
        "Cabe alientar também que você efetuou o treinamento desta rede por 100 vezes e apresentou os resultados em termos de média +- desvio padrão. Lembre-se que em uma rede neural há a inicialização aleatória de pesos e, em consequência, o desempenho delas está sujeito à uma flutuação estocástica. A execução destas múltiplas vezes faz com que eliminemos algum viés introduzido por uma boa ou má \"sorte\" na escolha de pesos no caso de uma única execução.\n",
        "\n",
        "Você também aprendeu uma estratégia para escalonar os atributos para uma melhor convergência da rede. Utilize-a em todos os treinamentos e testes propostos a seguir.\n",
        "\n",
        "## Propondo Novas Arquiteturas\n",
        "\n",
        "Variando  os parâmetros (uma ou duas camadas ocultas, com diferente números de neurônios em cada uma delas e a função de ativação) e o hiperparâmetros solver (Adam ou SGD) e o número de épocas (100,150 e 200), atenda ao que se pede:\n",
        "\n",
        "1. Proponha 10 arquiteturas distintas de RNAs para o problema em questão, à sua escolha\n",
        "2. Avalie cada uma das arquiteturas perante todos os hiperparâmetros apresentados por 100 vezes\n",
        "3. Como resultado da avaliação, apresente:  \n",
        "    3.1 Top-3 melhores redes no tocante à F-Score e Acurácia  \n",
        "    3.2 Repetição em que houve o melhor desempenho de cada uma dessas redes: ilustre tp, tf, fp e fn  "
      ]
    },
    {
      "cell_type": "code",
      "metadata": {
        "id": "J8XAu61l6nSK"
      },
      "source": [
        ""
      ],
      "execution_count": null,
      "outputs": []
    },
    {
      "cell_type": "markdown",
      "metadata": {
        "id": "hrMPgaZg6nSL"
      },
      "source": [
        "## Estimando o número de neurônios\n",
        "\n",
        "Um dos problemas de pesquisa com redes neurais artificiais consiste na determinação do número de neurônios em sua arquitetura. Embora não seja possível definir a priori qual rede neural é adequada para um problema, pois isto só é possível mediante uma busca exaustiva, há regras na literatura que sugerem o número de neurônios escondidos, tal como a regra da Pirâmide Geométrica, dada a seguir:\n",
        "\n",
        "$$N_h = \\alpha \\cdot \\sqrt{N_i \\cdot N_o},$$\n",
        "\n",
        "em que $N_h$ é o número de neurônios ocultos (a serem distribuídos em uma ou duas camadas ocultas), $N_i$ é o número de neurônios na camada de entrada e $N_o$ é o número de neurônios na camada de saída. \n",
        "\n",
        "1. Consulte a documentação da classe MLPClassifier (disponível em https://scikit-learn.org/stable/modules/generated/sklearn.neural_network.MLPClassifier.html) e obtenha os valores de $N_i$ e $N_o$.\n",
        "2. Teste os valores de $\\alpha$ como sendo iguais a $0.5$, $2$ e $3$.\n",
        "3. Proponha pelo menos 30 redes neurais segundo a regra da pirâmide geométrica e teste-as nos mesmos termos estabelecidos anterioremente  (solver, épocas, etc.)  \n",
        "    3.1 Apresente as top-3 melhores redes no tocante à F-Score e Acurácia  "
      ]
    },
    {
      "cell_type": "code",
      "metadata": {
        "id": "G4F20VmR6nSN"
      },
      "source": [
        ""
      ],
      "execution_count": null,
      "outputs": []
    },
    {
      "cell_type": "markdown",
      "metadata": {
        "id": "ZOe3HvhJ6nSO"
      },
      "source": [
        "## Testando as Redes Neurais com Atributos Categóricos\n",
        "\n",
        "1. Considere as 6 redes neurais obtidas nos dois top-3 anteriores (arquiteturas próprias e regra da pirâmide geométrica)\n",
        "2. Com todos os atributos preditores da base de dados original, incluindo os categóricos, treine e teste estas mesmas redes por 100 repetições  \n",
        "    2.1 Considere o melhor otimizador para cada uma delas  \n",
        "    2.2 Faça uso de 200 épocas para treinamento  \n",
        "    2.2 Apresente os resultados de acurácia e F-Score em termos da média +- dp para cada arquitetura\n",
        "3. Apresente o gráfico boxplot para o F-Score das 6 arquiteturas perante as 100 repetições"
      ]
    },
    {
      "cell_type": "code",
      "metadata": {
        "id": "qggD03I-6nST"
      },
      "source": [
        ""
      ],
      "execution_count": null,
      "outputs": []
    },
    {
      "cell_type": "markdown",
      "metadata": {
        "id": "z7jmU2w86nSV"
      },
      "source": [
        "## Considerações Parciais\n",
        "\n",
        "1. É possível identificar uma rede com desempenho superior às demais?\n",
        "2. Qual estratégia mostrou-se mais producente para a obtenção de boas arquiteturas (Estratégia Própria ou Pirâmide Geométrica)? Por quê?\n",
        "3. Considerar os atributos categóricos trouxe melhorias? Justifique.\n",
        "4. Um número maior de épocas trouxe melhorias?\n",
        "5. Qual a maior dificuldade de resolução do problema proposto perante as RNAs?"
      ]
    },
    {
      "cell_type": "code",
      "metadata": {
        "id": "kFm-oin46nSX"
      },
      "source": [
        ""
      ],
      "execution_count": null,
      "outputs": []
    }
  ]
}