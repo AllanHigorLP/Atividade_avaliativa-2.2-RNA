{
  "nbformat": 4,
  "nbformat_minor": 0,
  "metadata": {
    "colab": {
      "name": "Cópia de PP2_2_2_Proposição_e_Avaliação_de_RNAs.ipynb",
      "provenance": [],
      "include_colab_link": true
    },
    "kernelspec": {
      "display_name": "Python 3 (ipykernel)",
      "language": "python",
      "name": "python3"
    },
    "language_info": {
      "codemirror_mode": {
        "name": "ipython",
        "version": 3
      },
      "file_extension": ".py",
      "mimetype": "text/x-python",
      "name": "python",
      "nbconvert_exporter": "python",
      "pygments_lexer": "ipython3",
      "version": "3.9.7"
    }
  },
  "cells": [
    {
      "cell_type": "markdown",
      "metadata": {
        "id": "view-in-github",
        "colab_type": "text"
      },
      "source": [
        "<a href=\"https://colab.research.google.com/github/AllanHigorLP/Atividade_avaliativa-2.2-RNA/blob/main/PP2_2_2_Proposi%C3%A7%C3%A3o_e_Avalia%C3%A7%C3%A3o_de_RNAs.ipynb\" target=\"_parent\"><img src=\"https://colab.research.google.com/assets/colab-badge.svg\" alt=\"Open In Colab\"/></a>"
      ]
    },
    {
      "cell_type": "markdown",
      "metadata": {
        "id": "A49m5nHB6nR0",
        "tags": []
      },
      "source": [
        "## Redes Neurais Artificiais 2021.1\n",
        "\n",
        "- **Disciplina**: Redes Neurais Artificiais 2021.1  \n",
        "- **Professora**: Elloá B. Guedes (ebgcosta@uea.edu.br)  \n",
        "- **Github**: http://github.com/elloa  \n",
        "        \n",
        "\n",
        "Levando em conta a base de dados **_Forest Cover Type_**, esta segunda parte do Projeto Prático 2.2 diz respeito à proposição e avaliação de múltiplas redes neurais artificiais do tipo feedforward multilayer perceptron para o problema da classificação multi-classe da cobertura florestal em uma área do Roosevelt National Forest.\n",
        "\n",
        "## Testando Redes Neurais sem os Atributos Categórios\n",
        "\n",
        "1. Abra a base de dados em questão\n",
        "2. Elimine todas as colunas relativas aos atributos categóricos\n",
        "3. Armazene o atributo alvo em uma variável y e os atributos preditores em uma variável X\n",
        "4. Efetue uma partição holdout 70/30 com o sklearn, distribuindo os exemplos de maneira aleatória\n",
        "5. Efetue o escalonamento dos atributos\n",
        "\n",
        "### Escalonando os atributos\n",
        "\n",
        "O treinamento de uma rede neural artificial é mais eficiente quando os valores que lhes são fornecidos como entrada são pequenos, pois isto favorece a convergência. Isto é feito escalonando-se todos os atributos para o intervalo [0,1], mas precisa ser feito de maneira cautelosa, para que informações do conjunto de teste não sejam fornecidas no treinamento.\n",
        "\n",
        "Há duas estratégias para tal escalonamento: normalização e padronização. Ambas possuem características particulares, vantagens e limitações, como é possível ver aqui: https://www.analyticsvidhya.com/blog/2020/04/feature-scaling-machine-learning-normalization-standardization/\n",
        "\n",
        "\n",
        "No nosso caso, vamos usar a padronização. Assim, com os atributos preditores do treinamento, isto é, X_train, deve-se subtrair a média e dividir pelo desvio padrão:\n",
        "\n",
        "X_train_std = (X_train - np.mean(X_train))/np.std(X_train)\n",
        "\n",
        "Em seguida, o mesmo deve ser feito com os atributos preditores do conjunto de testes, mas com padronização relativa ao conjunto de treinamento:\n",
        "\n",
        "X_test_std = (X_test - np.mean(X_train))/np.std(X_train)\n",
        "\n",
        "Se todo o conjunto X for utilizado na padronização, a rede neural receberá informações do conjunto de teste por meio da média e variância utilizada para preparar os dados de treinamento, o que não é desejável.\n",
        "\n",
        "\n",
        "### Continuando\n",
        "\n",
        "5. Treine uma rede neural multilayer perceptron para este problema com uma única camada e dez neurônios  \n",
        "    5.1 Utilize a função de ativação ReLU  \n",
        "    5.2 Utilize o solver Adam    \n",
        "    5.3 Imprima o passo a passo do treinamento    \n",
        "    5.4 Utilize o número máximo de épocas igual a 300  \n",
        "6. Com o modelo em questão, após o treinamento, apresente:  \n",
        "    6.1 Matriz de confusão para o conjunto de teste  \n",
        "    6.2 Acurácia  \n",
        "    6.3 F-Score  \n",
        "    6.4 Precisão  \n",
        "    6.5 Revocação  \n",
        "7. Repita o treinamento da mesma rede anterior sem imprimir o passo a passo (verbose False) por 100 vezes  \n",
        "    7.1 Cada uma destas repetições deve ser feita com uma nova partição Holdout  \n",
        "    7.2 Apresente a média e o desvio padrão da acurácia e do F-Score para o conjunto de treino  \n",
        "8. Repita por 100 vezes o treinamento desta mesma rede, mas utilizando o otimizador SGD  \n",
        "    8.1 Apresente a média e o desvio padrão da acurácia e do F-Score para o conjunto de treino  \n",
        "9. Houve influência da escolha do otimizador no desempenho da rede?"
      ]
    },
    {
      "cell_type": "markdown",
      "metadata": {
        "id": "1grTtuJ_DuQd"
      },
      "source": [
        "# 1 - Abra a base de dados em questão"
      ]
    },
    {
      "cell_type": "markdown",
      "metadata": {
        "id": "GTQ5H48UCEJC"
      },
      "source": [
        "**Criando o diretório no Google Drive**"
      ]
    },
    {
      "cell_type": "code",
      "metadata": {
        "id": "t1-3msHYB-bL",
        "colab": {
          "base_uri": "https://localhost:8080/"
        },
        "outputId": "404e7cf1-c7e9-49d8-b46b-3da34718c543"
      },
      "source": [
        "from google.colab import drive, files\n",
        "drive.mount('/content/drive/')"
      ],
      "execution_count": 1,
      "outputs": [
        {
          "output_type": "stream",
          "name": "stdout",
          "text": [
            "Mounted at /content/drive/\n"
          ]
        }
      ]
    },
    {
      "cell_type": "markdown",
      "metadata": {
        "id": "txP4_glb_l2L"
      },
      "source": [
        "**Importando as bibliotecas**"
      ]
    },
    {
      "cell_type": "code",
      "metadata": {
        "id": "8FQzUnkD6nSF"
      },
      "source": [
        "import numpy as np # linear algebra\n",
        "import pandas as pd # data processing, CSV file I/O (e.g. pd.read_csv)\n",
        "import seaborn as sns\n",
        "import matplotlib.pyplot as plt\n",
        "from sklearn.model_selection import train_test_split #to split the dataset for training and testing\n",
        "from sklearn.neural_network import MLPClassifier #Importing MLPClassifier for classification.\n",
        "from sklearn import metrics\n",
        "from sklearn.metrics import confusion_matrix\n",
        "from sklearn.metrics import precision_score, accuracy_score, f1_score, recall_score"
      ],
      "execution_count": 2,
      "outputs": []
    },
    {
      "cell_type": "markdown",
      "metadata": {
        "id": "g57iJP1D_6p7"
      },
      "source": [
        "**Abrindo o dataset**"
      ]
    },
    {
      "cell_type": "code",
      "metadata": {
        "colab": {
          "base_uri": "https://localhost:8080/"
        },
        "id": "V9lns2ng_9pF",
        "outputId": "bdd9cf53-c13a-433f-b1a8-b24745c797b2"
      },
      "source": [
        "df = pd.read_csv('/content/drive/My Drive/Colab Notebooks/covtype.csv')\n",
        "print(df)"
      ],
      "execution_count": 3,
      "outputs": [
        {
          "output_type": "stream",
          "name": "stdout",
          "text": [
            "        Elevation  Aspect  Slope  ...  Soil_Type39  Soil_Type40  Cover_Type\n",
            "0            2596      51      3  ...            0            0           5\n",
            "1            2590      56      2  ...            0            0           5\n",
            "2            2804     139      9  ...            0            0           2\n",
            "3            2785     155     18  ...            0            0           2\n",
            "4            2595      45      2  ...            0            0           5\n",
            "...           ...     ...    ...  ...          ...          ...         ...\n",
            "581007       2396     153     20  ...            0            0           3\n",
            "581008       2391     152     19  ...            0            0           3\n",
            "581009       2386     159     17  ...            0            0           3\n",
            "581010       2384     170     15  ...            0            0           3\n",
            "581011       2383     165     13  ...            0            0           3\n",
            "\n",
            "[581012 rows x 55 columns]\n"
          ]
        }
      ]
    },
    {
      "cell_type": "markdown",
      "metadata": {
        "id": "68N3TE9REAQ0"
      },
      "source": [
        "# 2 - Elimine todas as colunas relativas aos atributos categóricos"
      ]
    },
    {
      "cell_type": "markdown",
      "metadata": {
        "id": "9_bps5cmEZOO"
      },
      "source": [
        "**Mostrando as colunas do dataset**"
      ]
    },
    {
      "cell_type": "code",
      "metadata": {
        "colab": {
          "base_uri": "https://localhost:8080/"
        },
        "id": "tUYlNn73EatE",
        "outputId": "cc3d56af-3794-4812-9731-c8f4bd81cc5c"
      },
      "source": [
        "df.columns"
      ],
      "execution_count": 4,
      "outputs": [
        {
          "output_type": "execute_result",
          "data": {
            "text/plain": [
              "Index(['Elevation', 'Aspect', 'Slope', 'Horizontal_Distance_To_Hydrology',\n",
              "       'Vertical_Distance_To_Hydrology', 'Horizontal_Distance_To_Roadways',\n",
              "       'Hillshade_9am', 'Hillshade_Noon', 'Hillshade_3pm',\n",
              "       'Horizontal_Distance_To_Fire_Points', 'Wilderness_Area1',\n",
              "       'Wilderness_Area2', 'Wilderness_Area3', 'Wilderness_Area4',\n",
              "       'Soil_Type1', 'Soil_Type2', 'Soil_Type3', 'Soil_Type4', 'Soil_Type5',\n",
              "       'Soil_Type6', 'Soil_Type7', 'Soil_Type8', 'Soil_Type9', 'Soil_Type10',\n",
              "       'Soil_Type11', 'Soil_Type12', 'Soil_Type13', 'Soil_Type14',\n",
              "       'Soil_Type15', 'Soil_Type16', 'Soil_Type17', 'Soil_Type18',\n",
              "       'Soil_Type19', 'Soil_Type20', 'Soil_Type21', 'Soil_Type22',\n",
              "       'Soil_Type23', 'Soil_Type24', 'Soil_Type25', 'Soil_Type26',\n",
              "       'Soil_Type27', 'Soil_Type28', 'Soil_Type29', 'Soil_Type30',\n",
              "       'Soil_Type31', 'Soil_Type32', 'Soil_Type33', 'Soil_Type34',\n",
              "       'Soil_Type35', 'Soil_Type36', 'Soil_Type37', 'Soil_Type38',\n",
              "       'Soil_Type39', 'Soil_Type40', 'Cover_Type'],\n",
              "      dtype='object')"
            ]
          },
          "metadata": {},
          "execution_count": 4
        }
      ]
    },
    {
      "cell_type": "markdown",
      "metadata": {
        "id": "To1fNCOCEwig"
      },
      "source": [
        "**Deletando os atributos categóricos**"
      ]
    },
    {
      "cell_type": "code",
      "metadata": {
        "id": "TeWeHCjZE2Vm"
      },
      "source": [
        "df.drop(columns=['Wilderness_Area1',\n",
        "       'Wilderness_Area2', 'Wilderness_Area3', 'Wilderness_Area4',\n",
        "       'Soil_Type1', 'Soil_Type2', 'Soil_Type3', 'Soil_Type4', 'Soil_Type5',\n",
        "       'Soil_Type6', 'Soil_Type7', 'Soil_Type8', 'Soil_Type9', 'Soil_Type10',\n",
        "       'Soil_Type11', 'Soil_Type12', 'Soil_Type13', 'Soil_Type14',\n",
        "       'Soil_Type15', 'Soil_Type16', 'Soil_Type17', 'Soil_Type18',\n",
        "       'Soil_Type19', 'Soil_Type20', 'Soil_Type21', 'Soil_Type22',\n",
        "       'Soil_Type23', 'Soil_Type24', 'Soil_Type25', 'Soil_Type26',\n",
        "       'Soil_Type27', 'Soil_Type28', 'Soil_Type29', 'Soil_Type30',\n",
        "       'Soil_Type31', 'Soil_Type32', 'Soil_Type33', 'Soil_Type34',\n",
        "       'Soil_Type35', 'Soil_Type36', 'Soil_Type37', 'Soil_Type38',\n",
        "       'Soil_Type39', 'Soil_Type40'], inplace=True)"
      ],
      "execution_count": 5,
      "outputs": []
    },
    {
      "cell_type": "markdown",
      "metadata": {
        "id": "-gMBSPVEFPis"
      },
      "source": [
        "**Verificando se há inconsistencias após a eliminação das colunas**"
      ]
    },
    {
      "cell_type": "code",
      "metadata": {
        "colab": {
          "base_uri": "https://localhost:8080/"
        },
        "id": "L7sekDIjFXGz",
        "outputId": "082a131e-a63b-4611-fd6c-999679da609b"
      },
      "source": [
        "df.info()"
      ],
      "execution_count": 6,
      "outputs": [
        {
          "output_type": "stream",
          "name": "stdout",
          "text": [
            "<class 'pandas.core.frame.DataFrame'>\n",
            "RangeIndex: 581012 entries, 0 to 581011\n",
            "Data columns (total 11 columns):\n",
            " #   Column                              Non-Null Count   Dtype\n",
            "---  ------                              --------------   -----\n",
            " 0   Elevation                           581012 non-null  int64\n",
            " 1   Aspect                              581012 non-null  int64\n",
            " 2   Slope                               581012 non-null  int64\n",
            " 3   Horizontal_Distance_To_Hydrology    581012 non-null  int64\n",
            " 4   Vertical_Distance_To_Hydrology      581012 non-null  int64\n",
            " 5   Horizontal_Distance_To_Roadways     581012 non-null  int64\n",
            " 6   Hillshade_9am                       581012 non-null  int64\n",
            " 7   Hillshade_Noon                      581012 non-null  int64\n",
            " 8   Hillshade_3pm                       581012 non-null  int64\n",
            " 9   Horizontal_Distance_To_Fire_Points  581012 non-null  int64\n",
            " 10  Cover_Type                          581012 non-null  int64\n",
            "dtypes: int64(11)\n",
            "memory usage: 48.8 MB\n"
          ]
        }
      ]
    },
    {
      "cell_type": "markdown",
      "metadata": {
        "id": "t3saaA_vFhAx"
      },
      "source": [
        "**Visão geral do dataset**"
      ]
    },
    {
      "cell_type": "code",
      "metadata": {
        "colab": {
          "base_uri": "https://localhost:8080/",
          "height": 444
        },
        "id": "Y7fP9dafFfMd",
        "outputId": "21fab141-2611-4c73-d3f8-aab854d26111"
      },
      "source": [
        "df.head(-1)"
      ],
      "execution_count": null,
      "outputs": [
        {
          "output_type": "execute_result",
          "data": {
            "text/html": [
              "<div>\n",
              "<style scoped>\n",
              "    .dataframe tbody tr th:only-of-type {\n",
              "        vertical-align: middle;\n",
              "    }\n",
              "\n",
              "    .dataframe tbody tr th {\n",
              "        vertical-align: top;\n",
              "    }\n",
              "\n",
              "    .dataframe thead th {\n",
              "        text-align: right;\n",
              "    }\n",
              "</style>\n",
              "<table border=\"1\" class=\"dataframe\">\n",
              "  <thead>\n",
              "    <tr style=\"text-align: right;\">\n",
              "      <th></th>\n",
              "      <th>Elevation</th>\n",
              "      <th>Aspect</th>\n",
              "      <th>Slope</th>\n",
              "      <th>Horizontal_Distance_To_Hydrology</th>\n",
              "      <th>Vertical_Distance_To_Hydrology</th>\n",
              "      <th>Horizontal_Distance_To_Roadways</th>\n",
              "      <th>Hillshade_9am</th>\n",
              "      <th>Hillshade_Noon</th>\n",
              "      <th>Hillshade_3pm</th>\n",
              "      <th>Horizontal_Distance_To_Fire_Points</th>\n",
              "      <th>Cover_Type</th>\n",
              "    </tr>\n",
              "  </thead>\n",
              "  <tbody>\n",
              "    <tr>\n",
              "      <th>0</th>\n",
              "      <td>2596</td>\n",
              "      <td>51</td>\n",
              "      <td>3</td>\n",
              "      <td>258</td>\n",
              "      <td>0</td>\n",
              "      <td>510</td>\n",
              "      <td>221</td>\n",
              "      <td>232</td>\n",
              "      <td>148</td>\n",
              "      <td>6279</td>\n",
              "      <td>5</td>\n",
              "    </tr>\n",
              "    <tr>\n",
              "      <th>1</th>\n",
              "      <td>2590</td>\n",
              "      <td>56</td>\n",
              "      <td>2</td>\n",
              "      <td>212</td>\n",
              "      <td>-6</td>\n",
              "      <td>390</td>\n",
              "      <td>220</td>\n",
              "      <td>235</td>\n",
              "      <td>151</td>\n",
              "      <td>6225</td>\n",
              "      <td>5</td>\n",
              "    </tr>\n",
              "    <tr>\n",
              "      <th>2</th>\n",
              "      <td>2804</td>\n",
              "      <td>139</td>\n",
              "      <td>9</td>\n",
              "      <td>268</td>\n",
              "      <td>65</td>\n",
              "      <td>3180</td>\n",
              "      <td>234</td>\n",
              "      <td>238</td>\n",
              "      <td>135</td>\n",
              "      <td>6121</td>\n",
              "      <td>2</td>\n",
              "    </tr>\n",
              "    <tr>\n",
              "      <th>3</th>\n",
              "      <td>2785</td>\n",
              "      <td>155</td>\n",
              "      <td>18</td>\n",
              "      <td>242</td>\n",
              "      <td>118</td>\n",
              "      <td>3090</td>\n",
              "      <td>238</td>\n",
              "      <td>238</td>\n",
              "      <td>122</td>\n",
              "      <td>6211</td>\n",
              "      <td>2</td>\n",
              "    </tr>\n",
              "    <tr>\n",
              "      <th>4</th>\n",
              "      <td>2595</td>\n",
              "      <td>45</td>\n",
              "      <td>2</td>\n",
              "      <td>153</td>\n",
              "      <td>-1</td>\n",
              "      <td>391</td>\n",
              "      <td>220</td>\n",
              "      <td>234</td>\n",
              "      <td>150</td>\n",
              "      <td>6172</td>\n",
              "      <td>5</td>\n",
              "    </tr>\n",
              "    <tr>\n",
              "      <th>...</th>\n",
              "      <td>...</td>\n",
              "      <td>...</td>\n",
              "      <td>...</td>\n",
              "      <td>...</td>\n",
              "      <td>...</td>\n",
              "      <td>...</td>\n",
              "      <td>...</td>\n",
              "      <td>...</td>\n",
              "      <td>...</td>\n",
              "      <td>...</td>\n",
              "      <td>...</td>\n",
              "    </tr>\n",
              "    <tr>\n",
              "      <th>581006</th>\n",
              "      <td>2401</td>\n",
              "      <td>157</td>\n",
              "      <td>21</td>\n",
              "      <td>90</td>\n",
              "      <td>15</td>\n",
              "      <td>120</td>\n",
              "      <td>238</td>\n",
              "      <td>238</td>\n",
              "      <td>119</td>\n",
              "      <td>830</td>\n",
              "      <td>3</td>\n",
              "    </tr>\n",
              "    <tr>\n",
              "      <th>581007</th>\n",
              "      <td>2396</td>\n",
              "      <td>153</td>\n",
              "      <td>20</td>\n",
              "      <td>85</td>\n",
              "      <td>17</td>\n",
              "      <td>108</td>\n",
              "      <td>240</td>\n",
              "      <td>237</td>\n",
              "      <td>118</td>\n",
              "      <td>837</td>\n",
              "      <td>3</td>\n",
              "    </tr>\n",
              "    <tr>\n",
              "      <th>581008</th>\n",
              "      <td>2391</td>\n",
              "      <td>152</td>\n",
              "      <td>19</td>\n",
              "      <td>67</td>\n",
              "      <td>12</td>\n",
              "      <td>95</td>\n",
              "      <td>240</td>\n",
              "      <td>237</td>\n",
              "      <td>119</td>\n",
              "      <td>845</td>\n",
              "      <td>3</td>\n",
              "    </tr>\n",
              "    <tr>\n",
              "      <th>581009</th>\n",
              "      <td>2386</td>\n",
              "      <td>159</td>\n",
              "      <td>17</td>\n",
              "      <td>60</td>\n",
              "      <td>7</td>\n",
              "      <td>90</td>\n",
              "      <td>236</td>\n",
              "      <td>241</td>\n",
              "      <td>130</td>\n",
              "      <td>854</td>\n",
              "      <td>3</td>\n",
              "    </tr>\n",
              "    <tr>\n",
              "      <th>581010</th>\n",
              "      <td>2384</td>\n",
              "      <td>170</td>\n",
              "      <td>15</td>\n",
              "      <td>60</td>\n",
              "      <td>5</td>\n",
              "      <td>90</td>\n",
              "      <td>230</td>\n",
              "      <td>245</td>\n",
              "      <td>143</td>\n",
              "      <td>864</td>\n",
              "      <td>3</td>\n",
              "    </tr>\n",
              "  </tbody>\n",
              "</table>\n",
              "<p>581011 rows × 11 columns</p>\n",
              "</div>"
            ],
            "text/plain": [
              "        Elevation  Aspect  ...  Horizontal_Distance_To_Fire_Points  Cover_Type\n",
              "0            2596      51  ...                                6279           5\n",
              "1            2590      56  ...                                6225           5\n",
              "2            2804     139  ...                                6121           2\n",
              "3            2785     155  ...                                6211           2\n",
              "4            2595      45  ...                                6172           5\n",
              "...           ...     ...  ...                                 ...         ...\n",
              "581006       2401     157  ...                                 830           3\n",
              "581007       2396     153  ...                                 837           3\n",
              "581008       2391     152  ...                                 845           3\n",
              "581009       2386     159  ...                                 854           3\n",
              "581010       2384     170  ...                                 864           3\n",
              "\n",
              "[581011 rows x 11 columns]"
            ]
          },
          "metadata": {},
          "execution_count": 7
        }
      ]
    },
    {
      "cell_type": "markdown",
      "metadata": {
        "id": "VXwqzPaMGwJa"
      },
      "source": [
        "# 3 - Armazene o atributo alvo em uma variável y e os atributos preditores em uma variável X"
      ]
    },
    {
      "cell_type": "code",
      "metadata": {
        "colab": {
          "base_uri": "https://localhost:8080/",
          "height": 224
        },
        "id": "YhRjd5QYGc5w",
        "outputId": "1e3d8145-334a-4bc8-8d3d-0dc1ebde67d9"
      },
      "source": [
        "Y = df['Cover_Type']\n",
        "df.drop([\"Cover_Type\"],axis = 1,inplace=True)\n",
        "X = df\n",
        "X.head()"
      ],
      "execution_count": 7,
      "outputs": [
        {
          "output_type": "execute_result",
          "data": {
            "text/html": [
              "<div>\n",
              "<style scoped>\n",
              "    .dataframe tbody tr th:only-of-type {\n",
              "        vertical-align: middle;\n",
              "    }\n",
              "\n",
              "    .dataframe tbody tr th {\n",
              "        vertical-align: top;\n",
              "    }\n",
              "\n",
              "    .dataframe thead th {\n",
              "        text-align: right;\n",
              "    }\n",
              "</style>\n",
              "<table border=\"1\" class=\"dataframe\">\n",
              "  <thead>\n",
              "    <tr style=\"text-align: right;\">\n",
              "      <th></th>\n",
              "      <th>Elevation</th>\n",
              "      <th>Aspect</th>\n",
              "      <th>Slope</th>\n",
              "      <th>Horizontal_Distance_To_Hydrology</th>\n",
              "      <th>Vertical_Distance_To_Hydrology</th>\n",
              "      <th>Horizontal_Distance_To_Roadways</th>\n",
              "      <th>Hillshade_9am</th>\n",
              "      <th>Hillshade_Noon</th>\n",
              "      <th>Hillshade_3pm</th>\n",
              "      <th>Horizontal_Distance_To_Fire_Points</th>\n",
              "    </tr>\n",
              "  </thead>\n",
              "  <tbody>\n",
              "    <tr>\n",
              "      <th>0</th>\n",
              "      <td>2596</td>\n",
              "      <td>51</td>\n",
              "      <td>3</td>\n",
              "      <td>258</td>\n",
              "      <td>0</td>\n",
              "      <td>510</td>\n",
              "      <td>221</td>\n",
              "      <td>232</td>\n",
              "      <td>148</td>\n",
              "      <td>6279</td>\n",
              "    </tr>\n",
              "    <tr>\n",
              "      <th>1</th>\n",
              "      <td>2590</td>\n",
              "      <td>56</td>\n",
              "      <td>2</td>\n",
              "      <td>212</td>\n",
              "      <td>-6</td>\n",
              "      <td>390</td>\n",
              "      <td>220</td>\n",
              "      <td>235</td>\n",
              "      <td>151</td>\n",
              "      <td>6225</td>\n",
              "    </tr>\n",
              "    <tr>\n",
              "      <th>2</th>\n",
              "      <td>2804</td>\n",
              "      <td>139</td>\n",
              "      <td>9</td>\n",
              "      <td>268</td>\n",
              "      <td>65</td>\n",
              "      <td>3180</td>\n",
              "      <td>234</td>\n",
              "      <td>238</td>\n",
              "      <td>135</td>\n",
              "      <td>6121</td>\n",
              "    </tr>\n",
              "    <tr>\n",
              "      <th>3</th>\n",
              "      <td>2785</td>\n",
              "      <td>155</td>\n",
              "      <td>18</td>\n",
              "      <td>242</td>\n",
              "      <td>118</td>\n",
              "      <td>3090</td>\n",
              "      <td>238</td>\n",
              "      <td>238</td>\n",
              "      <td>122</td>\n",
              "      <td>6211</td>\n",
              "    </tr>\n",
              "    <tr>\n",
              "      <th>4</th>\n",
              "      <td>2595</td>\n",
              "      <td>45</td>\n",
              "      <td>2</td>\n",
              "      <td>153</td>\n",
              "      <td>-1</td>\n",
              "      <td>391</td>\n",
              "      <td>220</td>\n",
              "      <td>234</td>\n",
              "      <td>150</td>\n",
              "      <td>6172</td>\n",
              "    </tr>\n",
              "  </tbody>\n",
              "</table>\n",
              "</div>"
            ],
            "text/plain": [
              "   Elevation  Aspect  ...  Hillshade_3pm  Horizontal_Distance_To_Fire_Points\n",
              "0       2596      51  ...            148                                6279\n",
              "1       2590      56  ...            151                                6225\n",
              "2       2804     139  ...            135                                6121\n",
              "3       2785     155  ...            122                                6211\n",
              "4       2595      45  ...            150                                6172\n",
              "\n",
              "[5 rows x 10 columns]"
            ]
          },
          "metadata": {},
          "execution_count": 7
        }
      ]
    },
    {
      "cell_type": "markdown",
      "metadata": {
        "id": "PtqAVDXSHQlw"
      },
      "source": [
        "# 4 - Efetue uma partição holdout 70/30 com o sklearn, distribuindo os exemplos de maneira aleatória"
      ]
    },
    {
      "cell_type": "code",
      "metadata": {
        "id": "dtcJbBRMHUha"
      },
      "source": [
        "X_train, X_test, Y_train, Y_test = train_test_split(X, Y, test_size=0.30)"
      ],
      "execution_count": null,
      "outputs": []
    },
    {
      "cell_type": "markdown",
      "metadata": {
        "id": "a35AmftuJWdJ"
      },
      "source": [
        "# 5 - Efetue o escalonamento dos atributos "
      ]
    },
    {
      "cell_type": "code",
      "metadata": {
        "colab": {
          "base_uri": "https://localhost:8080/"
        },
        "id": "-ZbhK8kvKCOc",
        "outputId": "a3578292-a2c3-47c6-e181-dd6cd4b98486"
      },
      "source": [
        "X_train_stand = X_train.copy()\n",
        "X_test_stand = X_test.copy()\n",
        "\n",
        "\n",
        "X_train_stand = (X_train - np.mean(X_train))/np.std(X_train)\n",
        "X_test_stand = (X_test - np.mean(X_train))/np.std(X_train)\n",
        "\n",
        "print(X_train_stand)\n",
        "print(X_test_stand)"
      ],
      "execution_count": null,
      "outputs": [
        {
          "output_type": "stream",
          "name": "stdout",
          "text": [
            "        Elevation    Aspect  ...  Hillshade_3pm  Horizontal_Distance_To_Fire_Points\n",
            "199669  -0.057348 -0.720281  ...      -1.109471                            0.014397\n",
            "303905   0.845886 -0.023497  ...      -0.116858                            0.382760\n",
            "161791   0.428185 -0.086029  ...       0.196598                            0.349547\n",
            "490600   1.017250 -0.139628  ...      -0.116858                            0.545051\n",
            "337203   0.485306 -1.354533  ...       0.065991                           -0.506443\n",
            "...           ...       ...  ...            ...                                 ...\n",
            "327870   0.463886  1.352204  ...       1.136968                            0.029494\n",
            "483839  -0.282264 -1.113339  ...      -0.064616                           -1.142020\n",
            "162459   0.703082 -0.800679  ...      -0.560922                           -0.096564\n",
            "51344    0.031904 -0.014564  ...       0.118234                            3.349286\n",
            "541801   1.188615  1.718463  ...       0.483934                           -0.081468\n",
            "\n",
            "[406708 rows x 10 columns]\n",
            "        Elevation    Aspect  ...  Hillshade_3pm  Horizontal_Distance_To_Fire_Points\n",
            "49135   -0.000227  1.039545  ...       1.319818                            1.487848\n",
            "183086   0.985119  0.217697  ...       0.379448                            0.483909\n",
            "195986   0.970839 -0.809612  ...      -0.508679                           -0.663450\n",
            "175320   0.728073 -0.407622  ...      -0.116858                            0.043836\n",
            "494742  -0.107330 -0.943609  ...      -0.874379                           -0.224887\n",
            "...           ...       ...  ...            ...                                 ...\n",
            "63619   -0.260844  1.539800  ...       0.614540                            1.461428\n",
            "574835  -1.981629 -0.622017  ...      -1.344564                           -0.820457\n",
            "53080   -0.082339 -0.630950  ...      -0.378072                            3.182466\n",
            "400347  -0.357236 -0.443354  ...      -3.721610                           -1.080878\n",
            "486573   0.688801  0.101567  ...      -0.456436                           -0.318488\n",
            "\n",
            "[174304 rows x 10 columns]\n"
          ]
        }
      ]
    },
    {
      "cell_type": "markdown",
      "metadata": {
        "id": "bxIuKCn069uJ"
      },
      "source": [
        "# Continuação"
      ]
    },
    {
      "cell_type": "markdown",
      "metadata": {
        "id": "WdJxjiNW7QZZ"
      },
      "source": [
        "#5 - Treine uma rede neural multilayer perceptron para este problema com uma única camada e dez neurônios"
      ]
    },
    {
      "cell_type": "markdown",
      "metadata": {
        "id": "vgY84-305nWK"
      },
      "source": [
        "**5.1 - Utilize a função de ativação ReLU <br>\n",
        "5.2 - Utilize o solver Adam <br>\n",
        "5.3 - Imprima o passo a passo do treinamento <br>\n",
        "5.4 - Utilize o número máximo de épocas igual a 300**"
      ]
    },
    {
      "cell_type": "code",
      "metadata": {
        "colab": {
          "base_uri": "https://localhost:8080/"
        },
        "id": "x4DaQHna6kt6",
        "outputId": "873362cc-fc10-45bd-e582-c5adeabb59e0"
      },
      "source": [
        "rede = MLPClassifier(hidden_layer_sizes=(10,),activation='relu',solver='adam',max_iter=300,verbose=True)\n",
        "rede.fit(X_train_stand,Y_train)"
      ],
      "execution_count": null,
      "outputs": [
        {
          "output_type": "stream",
          "name": "stdout",
          "text": [
            "Iteration 1, loss = 0.94266111\n",
            "Iteration 2, loss = 0.70917628\n",
            "Iteration 3, loss = 0.68710267\n",
            "Iteration 4, loss = 0.67962655\n",
            "Iteration 5, loss = 0.67321334\n",
            "Iteration 6, loss = 0.66874892\n",
            "Iteration 7, loss = 0.66582561\n",
            "Iteration 8, loss = 0.66391085\n",
            "Iteration 9, loss = 0.66240902\n",
            "Iteration 10, loss = 0.66123913\n",
            "Iteration 11, loss = 0.66009310\n",
            "Iteration 12, loss = 0.65945321\n",
            "Iteration 13, loss = 0.65880082\n",
            "Iteration 14, loss = 0.65831191\n",
            "Iteration 15, loss = 0.65781761\n",
            "Iteration 16, loss = 0.65752776\n",
            "Iteration 17, loss = 0.65720557\n",
            "Iteration 18, loss = 0.65696134\n",
            "Iteration 19, loss = 0.65651871\n",
            "Iteration 20, loss = 0.65634370\n",
            "Iteration 21, loss = 0.65600185\n",
            "Iteration 22, loss = 0.65564121\n",
            "Iteration 23, loss = 0.65541114\n",
            "Iteration 24, loss = 0.65511115\n",
            "Iteration 25, loss = 0.65485149\n",
            "Iteration 26, loss = 0.65464149\n",
            "Iteration 27, loss = 0.65424997\n",
            "Iteration 28, loss = 0.65392608\n",
            "Iteration 29, loss = 0.65365869\n",
            "Iteration 30, loss = 0.65344642\n",
            "Iteration 31, loss = 0.65305951\n",
            "Iteration 32, loss = 0.65282065\n",
            "Iteration 33, loss = 0.65256701\n",
            "Iteration 34, loss = 0.65234120\n",
            "Iteration 35, loss = 0.65207284\n",
            "Iteration 36, loss = 0.65181403\n",
            "Iteration 37, loss = 0.65161546\n",
            "Iteration 38, loss = 0.65133142\n",
            "Iteration 39, loss = 0.65116748\n",
            "Iteration 40, loss = 0.65098321\n",
            "Iteration 41, loss = 0.65082791\n",
            "Iteration 42, loss = 0.65067976\n",
            "Iteration 43, loss = 0.65059946\n",
            "Iteration 44, loss = 0.65040102\n",
            "Iteration 45, loss = 0.65035866\n",
            "Iteration 46, loss = 0.65011974\n",
            "Iteration 47, loss = 0.65000470\n",
            "Iteration 48, loss = 0.64991540\n",
            "Iteration 49, loss = 0.64981806\n",
            "Iteration 50, loss = 0.64970388\n",
            "Iteration 51, loss = 0.64977959\n",
            "Iteration 52, loss = 0.64963174\n",
            "Iteration 53, loss = 0.64952799\n",
            "Iteration 54, loss = 0.64931095\n",
            "Iteration 55, loss = 0.64939667\n",
            "Iteration 56, loss = 0.64927227\n",
            "Iteration 57, loss = 0.64916376\n",
            "Iteration 58, loss = 0.64911316\n",
            "Iteration 59, loss = 0.64907663\n",
            "Iteration 60, loss = 0.64901879\n",
            "Iteration 61, loss = 0.64897112\n",
            "Iteration 62, loss = 0.64883538\n",
            "Iteration 63, loss = 0.64875777\n",
            "Iteration 64, loss = 0.64883942\n",
            "Iteration 65, loss = 0.64863710\n",
            "Iteration 66, loss = 0.64863948\n",
            "Iteration 67, loss = 0.64861300\n",
            "Iteration 68, loss = 0.64853925\n",
            "Iteration 69, loss = 0.64855034\n",
            "Iteration 70, loss = 0.64849413\n",
            "Iteration 71, loss = 0.64826862\n",
            "Iteration 72, loss = 0.64836838\n",
            "Iteration 73, loss = 0.64817153\n",
            "Iteration 74, loss = 0.64821504\n",
            "Iteration 75, loss = 0.64823486\n",
            "Iteration 76, loss = 0.64808021\n",
            "Iteration 77, loss = 0.64801398\n",
            "Iteration 78, loss = 0.64802651\n",
            "Iteration 79, loss = 0.64791936\n",
            "Iteration 80, loss = 0.64793222\n",
            "Iteration 81, loss = 0.64787325\n",
            "Iteration 82, loss = 0.64782697\n",
            "Training loss did not improve more than tol=0.000100 for 10 consecutive epochs. Stopping.\n"
          ]
        },
        {
          "output_type": "execute_result",
          "data": {
            "text/plain": [
              "MLPClassifier(hidden_layer_sizes=(10,), max_iter=300, verbose=True)"
            ]
          },
          "metadata": {},
          "execution_count": 11
        }
      ]
    },
    {
      "cell_type": "markdown",
      "metadata": {
        "id": "NIy6RQxRiTZW"
      },
      "source": [
        "# 6 - Com o modelo em questão, após o treinamento, apresente:\n"
      ]
    },
    {
      "cell_type": "markdown",
      "metadata": {
        "id": "ecgk0Vj6idip"
      },
      "source": [
        "**6.1 - Matriz de confusão para o conjunto de teste <br>\n",
        "6.2 - Acurácia <br>\n",
        "6.3 - F-Score <br>\n",
        "6.4 - Precisão <br>\n",
        "6.5 - Revocação**"
      ]
    },
    {
      "cell_type": "code",
      "metadata": {
        "colab": {
          "base_uri": "https://localhost:8080/",
          "height": 260
        },
        "id": "IODWMxAG_uyp",
        "outputId": "0967bcfe-043e-4abb-da30-95d12ef7121b"
      },
      "source": [
        "y_pred = rede.predict(X_test_stand)\n",
        "\n",
        "conf_matrix = confusion_matrix(y_pred, Y_test)\n",
        "plt.matshow(conf_matrix, cmap=plt.cm.Greens)\n",
        "\n",
        "for (m, n), value in np.ndenumerate(conf_matrix):\n",
        "    plt.text(m, n, f\"{value}\", va=\"center\", ha=\"center\")\n",
        "plt.xlabel(\"y_pred\")\n",
        "plt.ylabel(\"y_test\")\n",
        "plt.colorbar()\n",
        "plt.plot()\n",
        "plt.show()"
      ],
      "execution_count": null,
      "outputs": [
        {
          "output_type": "display_data",
          "data": {
            "image/png": "[encoded data removed]",
            "text/plain": [
              "<Figure size 288x288 with 2 Axes>"
            ]
          },
          "metadata": {
            "needs_background": "light"
          }
        }
      ]
    },
    {
      "cell_type": "code",
      "metadata": {
        "colab": {
          "base_uri": "https://localhost:8080/"
        },
        "id": "V7N7H7GUDG9j",
        "outputId": "e4f13d26-b25c-4df3-ff54-3a71d4949053"
      },
      "source": [
        "acuracia = accuracy_score(y_pred, Y_test)\n",
        "fscore = f1_score(y_pred, Y_test, average='weighted')\n",
        "precisao = precision_score(y_pred, Y_test, average='weighted')\n",
        "revocacao = recall_score(y_pred, Y_test, average='weighted')\n",
        "\n",
        "print(\"Acurácia {:.3f}\".format(acuracia))\n",
        "print(\"F1-Score: {:.3f}\".format(fscore))\n",
        "print(\"Precisão: {:.3f}\".format(precisao))\n",
        "print(\"Revocação: {:.3f}\".format(revocacao))"
      ],
      "execution_count": null,
      "outputs": [
        {
          "output_type": "stream",
          "name": "stdout",
          "text": [
            "Acurácia 0.718\n",
            "F1-Score: 0.728\n",
            "Precisão: 0.743\n",
            "Revocação: 0.718\n"
          ]
        }
      ]
    },
    {
      "cell_type": "markdown",
      "metadata": {
        "id": "ZZxgw2NOjy4H"
      },
      "source": [
        "# 7 - Repita o treinamento da mesma rede anterior sem imprimir o passo a passo (verbose False) por 15 vezes"
      ]
    },
    {
      "cell_type": "markdown",
      "metadata": {
        "id": "Jlf_Hptrj1gM"
      },
      "source": [
        "**7.1 - Cada uma destas repetições deve ser feita com uma nova partição Holdout <br>\n",
        "7.2 - Apresente a média e o desvio padrão da acurácia e do F-Score para o conjunto de treino**"
      ]
    },
    {
      "cell_type": "code",
      "metadata": {
        "colab": {
          "base_uri": "https://localhost:8080/"
        },
        "id": "G4F20VmR6nSN",
        "outputId": "675741b5-b240-4d53-9f2c-b8bda765e459"
      },
      "source": [
        "acuracia = []\n",
        "fscore = []\n",
        "\n",
        "\n",
        "for i in range(15):\n",
        "    X_train, X_test, Y_train, Y_test = train_test_split(X, Y, test_size=0.30)\n",
        "    \n",
        "    X_train_stand = X_train.copy()\n",
        "    X_test_stand = X_test.copy()\n",
        "    X_train_stand = (X_train - np.mean(X_train))/np.std(X_train)\n",
        "    X_test_stand = (X_test - np.mean(X_train))/np.std(X_train)\n",
        "\n",
        "    y_pred = rede.predict(X_test_stand)\n",
        "    rede = MLPClassifier(hidden_layer_sizes=(10,),activation='relu',solver='adam',max_iter=300,verbose=False)\n",
        "    rede.fit(X_train_stand,Y_train)\n",
        "    acuracia.append(accuracy_score(y_pred, Y_test))\n",
        "    fscore.append(f1_score(y_pred, Y_test, average='weighted'))\n",
        "\n",
        "dp = np.std(fscore)\n",
        "media = np.mean(fscore)\n",
        "dp_a = np.std(acuracia)\n",
        "media_a = np.mean(acuracia)\n",
        "\n",
        "print(\"Desvio padrão Acurácia:\", dp_a, \"\\nMédia Acurácia:\", media_a,\"\\nDesvio padrão F-Score:\", dp, \"\\nMédia F-score:\", media) "
      ],
      "execution_count": null,
      "outputs": [
        {
          "name": "stdout",
          "output_type": "stream",
          "text": [
            "Desvio padrão Acurácia: 0.0021960659728800396 \n",
            "Média Acurácia: 0.7182719080839607 \n",
            "Desvio padrão F-Score: 0.00219594454810365 \n",
            "Média F-score: 0.7278876574889274\n"
          ]
        }
      ]
    },
    {
      "cell_type": "markdown",
      "metadata": {
        "id": "N_dBBsfMktpu"
      },
      "source": [
        "# 8 - Repita por 15 vezes o treinamento desta mesma rede, mas utilizando o otimizador SGD"
      ]
    },
    {
      "cell_type": "markdown",
      "metadata": {
        "id": "mwlClzDDlBbA"
      },
      "source": [
        "**8.1 - Apresente a média e o desvio padrão da acurácia e do F-Score para o conjunto de treino**"
      ]
    },
    {
      "cell_type": "code",
      "metadata": {
        "colab": {
          "base_uri": "https://localhost:8080/"
        },
        "id": "8fOuv7TllGaJ",
        "outputId": "6a51bbe4-b2b7-47c8-b2b0-e63319001dad"
      },
      "source": [
        "acuraciaSGD = []\n",
        "fscoreSGD = []\n",
        "\n",
        "for i in range(15):\n",
        "    X_train, X_test, Y_train, Y_test = train_test_split(X, Y, test_size=0.30)\n",
        "\n",
        "    X_train_stand = X_train.copy()\n",
        "    X_test_stand = X_test.copy()\n",
        "    X_train_stand = (X_train - np.mean(X_train))/np.std(X_train)\n",
        "    X_test_stand = (X_test - np.mean(X_train))/np.std(X_train)\n",
        "\n",
        "    \n",
        "    rede2 = MLPClassifier(hidden_layer_sizes=(10,),activation='relu',solver='sgd',max_iter=300,verbose=False)\n",
        "    rede2.fit(X_train_stand,Y_train)\n",
        "  \n",
        "    y_pred = rede2.predict(X_test_stand)\n",
        "    acuraciaSGD.append(accuracy_score(y_pred, Y_test))\n",
        "    fscoreSGD.append(f1_score(y_pred, Y_test, average='weighted'))\n",
        "\n",
        "dp_f = np.std(fscoreSGD)\n",
        "media_f = np.mean(fscoreSGD)\n",
        "dp_a = np.std(acuraciaSGD)\n",
        "media_a = np.mean(acuraciaSGD)\n",
        "\n",
        "print(\"Desvio Padrão Acurácia:\", dp_a, \"\\nMédia Acurácia:\", media_a,\"\\nDesvio Padrão F-Score:\", dp_f, \"\\nMédia F-Score:\", media_f) "
      ],
      "execution_count": null,
      "outputs": [
        {
          "name": "stdout",
          "output_type": "stream",
          "text": [
            "Desvio Padrão Acurácia: 0.0027142951537368503 \n",
            "Média Acurácia: 0.7151780796768862 \n",
            "Desvio Padrão F-Score: 0.002444865678778554 \n",
            "Média F-Score: 0.7260423674941989\n"
          ]
        }
      ]
    },
    {
      "cell_type": "markdown",
      "metadata": {
        "id": "bgdgHyVblHcs"
      },
      "source": [
        " # 9 - Houve influência da escolha do otimizador no desempenho da rede?"
      ]
    },
    {
      "cell_type": "markdown",
      "metadata": {
        "id": "20FKxO5VlMqj"
      },
      "source": [
        "**R: Houve uma influência pouco significativa do otimizador SGD em relação ao otimizador ADAM, pois as médias e desvios padrões de acurácia e F-Score de ambos ficaram com valores muito próximos. Entretanto, o otimizador SGD obteve um tempo de execução maior em relação ao otimizador ADAM, que foi menor, onde notamos que o tempo de excução dos otimizadores influência no desempenho da rede.**"
      ]
    },
    {
      "cell_type": "markdown",
      "metadata": {
        "id": "74LqNJ0c6nSI",
        "tags": []
      },
      "source": [
        "## Discussão\n",
        "\n",
        "Nos passos anteriores, você avaliou o desempenho de uma única rede neural que contém os seguintes parâmetros: uma única camada oculta com 10 neurônios e função de ativação ReLU. O otimizador utilizado, quer seja SGD ou ADAM, trata-se do algoritmo para aproximar o gradiente do erro. Neste sentido, a escolha do otimizador é um hiperparâmetro, pois diz respeito a como a rede neural definida previamente atuará \"em tempo de execução\"  durante o processo de treinamento. Também são hiperparâmetros a quantidade de épocas, a taxa de aprendizado inicial, dentre outros.\n",
        "\n",
        "Cabe alientar também que você efetuou o treinamento desta rede por 15 vezes e apresentou os resultados em termos de média +- desvio padrão. Lembre-se que em uma rede neural há a inicialização aleatória de pesos e, em consequência, o desempenho delas está sujeito à uma flutuação estocástica. A execução destas múltiplas vezes faz com que eliminemos algum viés introduzido por uma boa ou má \"sorte\" na escolha de pesos no caso de uma única execução.\n",
        "\n",
        "Você também aprendeu uma estratégia para escalonar os atributos para uma melhor convergência da rede. Utilize-a em todos os treinamentos e testes propostos a seguir.\n",
        "\n",
        "## Propondo Novas Arquiteturas\n",
        "\n",
        "Variando  os parâmetros (uma ou duas camadas ocultas, com diferente números de neurônios em cada uma delas e a função de ativação) e o hiperparâmetros solver (Adam ou SGD) e o número de épocas (100,150 e 200), atenda ao que se pede:\n",
        "\n",
        "1. Proponha 10 arquiteturas distintas de RNAs para o problema em questão, à sua escolha\n",
        "2. Avalie cada uma das arquiteturas perante todos os hiperparâmetros apresentados por 15 vezes\n",
        "3. Como resultado da avaliação, apresente:  \n",
        "    3.1 Top-3 melhores redes no tocante à F-Score e Acurácia  \n",
        "    3.2 Repetição em que houve o melhor desempenho de cada uma dessas redes: ilustre tp, tf, fp e fn  "
      ]
    },
    {
      "cell_type": "markdown",
      "metadata": {
        "id": "7EavKbH8NETE"
      },
      "source": [
        "**1. Proponha 10 arquiteturas distintas de RNAs para o problema em questão, à sua escolha**\n",
        "\n",
        "1. Hiperparâmetro solver: Adam, número de épocas: 100, número de camadas ocultas: 1, função de ativação: relu, número de neurônios: 10;\n",
        "2. Hiperparâmetro solver: Adam, número de épocas: 100, número de camadas ocultas: 2, função de ativação: relu, número de neurônios: 15;\n",
        "3. Hiperparâmetro solver: Adam, número de épocas: 150, número de camadas ocultas: 1, função de ativação: logistic, número de neurônios: 8;\n",
        "4. Hiperparâmetro solver: Adam, número de épocas: 200, número de camadas ocultas: 1, função de ativação: relu, número de neurônios: 18;\n",
        "5. Hiperparâmetro solver: Adam, número de épocas: 200, número de camadas ocultas: 2, função de ativação: logistic, número de neurônios: 20;\n",
        "6. Hiperparâmetro solver: SGD, número de épocas: 100, número de camadas ocultas: 1, função de ativação: relu, número de neurônios: 5;\n",
        "7. Hiperparâmetro solver: SGD, número de épocas: 100, número de camadas ocultas: 2, função de ativação: relu, número de neurônios: 13;\n",
        "8. Hiperparâmetro solver: SGD, número de épocas: 150, número de camadas ocultas: 1, função de ativação: logistic, número de neurônios: 17;\n",
        "9. Hiperparâmetro solver: SGD, número de épocas: 200, número de camadas ocultas: 1, função de ativação: relu, número de neurônios: 9;\n",
        "10. Hiperparâmetro solver: SGD, número de épocas: 200, número de camadas ocultas: 2, função de ativação: logistic, número de neurônios: 30;"
      ]
    },
    {
      "cell_type": "markdown",
      "metadata": {
        "id": "30HHSPfvOB0j"
      },
      "source": [
        "1. MLPClassifier(hidden_layer_sizes=(10,),activation='relu',solver='adam',max_iter=100,verbose=False)\n",
        "2. MLPClassifier(hidden_layer_sizes=(15,2),activation='relu',solver='adam',max_iter=100,verbose=False)\n",
        "3. MLPClassifier(hidden_layer_sizes=(8,),activation='logistic',solver='adam',max_iter=150,verbose=False)\n",
        "4. MLPClassifier(hidden_layer_sizes=(18,),activation='relu',solver='adam',max_iter=200,verbose=False)\n",
        "5. MLPClassifier(hidden_layer_sizes=(20,2),activation='logistic',solver='adam',max_iter=200,verbose=False)\n",
        "6. MLPClassifier(hidden_layer_sizes=(5,),activation='relu',solver='sgd',max_iter=100,verbose=False)\n",
        "7. MLPClassifier(hidden_layer_sizes=(13,2),activation='relu',solver='sgd',max_iter=100,verbose=False)\n",
        "8. MLPClassifier(hidden_layer_sizes=(17,),activation='logistic',solver='sgd',max_iter=150,verbose=False)\n",
        "9. MLPClassifier(hidden_layer_sizes=(9,),activation='relu',solver='sgd',max_iter=200,verbose=False)\n",
        "10. MLPClassifier(hidden_layer_sizes=(30,2),activation='logistic',solver='sgd',max_iter=200,verbose=False)"
      ]
    },
    {
      "cell_type": "code",
      "metadata": {
        "id": "fqhn7KWRUk27"
      },
      "source": [
        "def arquitetura(hidden_layer,layer, activ, solv, iter):\n",
        "  acuracia = []\n",
        "  fscore = []\n",
        "  \n",
        "  for i in range(15):\n",
        "    X_train, X_test, Y_train, Y_test = train_test_split(X, Y, test_size=0.30)\n",
        "    \n",
        "    X_train_stand = X_train.copy()\n",
        "    X_test_stand = X_test.copy()\n",
        "    X_train_stand = (X_train - np.mean(X_train))/np.std(X_train)\n",
        "    X_test_stand = (X_test - np.mean(X_train))/np.std(X_train)\n",
        "\n",
        "   \n",
        "    if(hidden_layer == 1):\n",
        "      rede3 = MLPClassifier(hidden_layer_sizes=(layer,),activation=activ,solver=solv,max_iter=iter,verbose=False)\n",
        "    else:\n",
        "      rede3 = MLPClassifier(hidden_layer_sizes=(layer,2),activation=activ,solver=solv,max_iter=iter,verbose=False)\n",
        "    rede3.fit(X_train_stand,Y_train)\n",
        "     \n",
        "    y_pred = rede3.predict(X_test_stand)\n",
        "\n",
        "    acuracia.append(accuracy_score(y_pred, Y_test))\n",
        "    fscore.append(f1_score(y_pred, Y_test, average='weighted'))\n",
        "\n",
        "  dp_f = np.std(fscore)\n",
        "  media_f = np.mean(fscore)\n",
        "  dp_a = np.std(acuracia)\n",
        "  media_a = np.mean(acuracia)\n",
        "\n",
        "  print(\"Desvio Padrão Acurácia:\", dp_a, \"\\nMédia Acurácia:\", media_a,\"\\nDesvio Padrão F-Score:\", dp_f, \"\\nMédia F-Score:\", media_f) \n",
        "  return media_f, media_a"
      ],
      "execution_count": null,
      "outputs": []
    },
    {
      "cell_type": "code",
      "metadata": {
        "id": "Ui_eKaBfocG0"
      },
      "source": [
        "FScore_arqs = []\n",
        "Acuracia_arqs = []"
      ],
      "execution_count": null,
      "outputs": []
    },
    {
      "cell_type": "code",
      "metadata": {
        "colab": {
          "base_uri": "https://localhost:8080/"
        },
        "id": "jmAk4Hx6WLXE",
        "outputId": "ccc55c94-14bb-45d9-a736-2c0654d64fce"
      },
      "source": [
        "# 1. MLPClassifier(hidden_layer_sizes=(10,),activation='relu',solver='adam',max_iter=100,verbose=False)\n",
        "media_f, media_a = arquitetura(1, 10, 'relu', 'adam', 100)\n",
        "FScore_arqs.append(media_f)\n",
        "Acuracia_arqs.append(media_a)"
      ],
      "execution_count": null,
      "outputs": [
        {
          "name": "stderr",
          "output_type": "stream",
          "text": [
            "/home/elloa/.conda/envs/gpr-ufcg/lib/python3.9/site-packages/sklearn/neural_network/_multilayer_perceptron.py:614: ConvergenceWarning: Stochastic Optimizer: Maximum iterations (100) reached and the optimization hasn't converged yet.\n",
            "  warnings.warn(\n",
            "/home/elloa/.conda/envs/gpr-ufcg/lib/python3.9/site-packages/sklearn/neural_network/_multilayer_perceptron.py:614: ConvergenceWarning: Stochastic Optimizer: Maximum iterations (100) reached and the optimization hasn't converged yet.\n",
            "  warnings.warn(\n",
            "/home/elloa/.conda/envs/gpr-ufcg/lib/python3.9/site-packages/sklearn/neural_network/_multilayer_perceptron.py:614: ConvergenceWarning: Stochastic Optimizer: Maximum iterations (100) reached and the optimization hasn't converged yet.\n",
            "  warnings.warn(\n"
          ]
        },
        {
          "name": "stdout",
          "output_type": "stream",
          "text": [
            "Desvio Padrão Acurácia: 0.0031297432231122656 \n",
            "Média Acurácia: 0.718549966342329 \n",
            "Desvio Padrão F-Score: 0.0032068952813825375 \n",
            "Média F-Score: 0.7284409873895787\n"
          ]
        }
      ]
    },
    {
      "cell_type": "code",
      "metadata": {
        "colab": {
          "base_uri": "https://localhost:8080/",
          "height": 1000
        },
        "id": "OUAmaTh7eNjh",
        "outputId": "e9cd3bbb-5dfe-4f36-b253-c149fbd7efd2"
      },
      "source": [
        "# 2. MLPClassifier(hidden_layer_sizes=(15,2),activation='relu',solver='adam',max_iter=100,verbose=False)\n",
        "media_f, media_a = arquitetura(2, 15, 'relu', 'adam', 100)\n",
        "FScore_arqs.append(media_f)\n",
        "Acuracia_arqs.append(media_a)"
      ],
      "execution_count": null,
      "outputs": [
        {
          "name": "stderr",
          "output_type": "stream",
          "text": [
            "/home/elloa/.conda/envs/gpr-ufcg/lib/python3.9/site-packages/sklearn/neural_network/_multilayer_perceptron.py:614: ConvergenceWarning: Stochastic Optimizer: Maximum iterations (100) reached and the optimization hasn't converged yet.\n",
            "  warnings.warn(\n",
            "/home/elloa/.conda/envs/gpr-ufcg/lib/python3.9/site-packages/sklearn/neural_network/_multilayer_perceptron.py:614: ConvergenceWarning: Stochastic Optimizer: Maximum iterations (100) reached and the optimization hasn't converged yet.\n",
            "  warnings.warn(\n",
            "/home/elloa/.conda/envs/gpr-ufcg/lib/python3.9/site-packages/sklearn/neural_network/_multilayer_perceptron.py:614: ConvergenceWarning: Stochastic Optimizer: Maximum iterations (100) reached and the optimization hasn't converged yet.\n",
            "  warnings.warn(\n",
            "/home/elloa/.conda/envs/gpr-ufcg/lib/python3.9/site-packages/sklearn/neural_network/_multilayer_perceptron.py:614: ConvergenceWarning: Stochastic Optimizer: Maximum iterations (100) reached and the optimization hasn't converged yet.\n",
            "  warnings.warn(\n",
            "/home/elloa/.conda/envs/gpr-ufcg/lib/python3.9/site-packages/sklearn/neural_network/_multilayer_perceptron.py:614: ConvergenceWarning: Stochastic Optimizer: Maximum iterations (100) reached and the optimization hasn't converged yet.\n",
            "  warnings.warn(\n",
            "/home/elloa/.conda/envs/gpr-ufcg/lib/python3.9/site-packages/sklearn/neural_network/_multilayer_perceptron.py:614: ConvergenceWarning: Stochastic Optimizer: Maximum iterations (100) reached and the optimization hasn't converged yet.\n",
            "  warnings.warn(\n",
            "/home/elloa/.conda/envs/gpr-ufcg/lib/python3.9/site-packages/sklearn/neural_network/_multilayer_perceptron.py:614: ConvergenceWarning: Stochastic Optimizer: Maximum iterations (100) reached and the optimization hasn't converged yet.\n",
            "  warnings.warn(\n",
            "/home/elloa/.conda/envs/gpr-ufcg/lib/python3.9/site-packages/sklearn/neural_network/_multilayer_perceptron.py:614: ConvergenceWarning: Stochastic Optimizer: Maximum iterations (100) reached and the optimization hasn't converged yet.\n",
            "  warnings.warn(\n",
            "/home/elloa/.conda/envs/gpr-ufcg/lib/python3.9/site-packages/sklearn/neural_network/_multilayer_perceptron.py:614: ConvergenceWarning: Stochastic Optimizer: Maximum iterations (100) reached and the optimization hasn't converged yet.\n",
            "  warnings.warn(\n",
            "/home/elloa/.conda/envs/gpr-ufcg/lib/python3.9/site-packages/sklearn/neural_network/_multilayer_perceptron.py:614: ConvergenceWarning: Stochastic Optimizer: Maximum iterations (100) reached and the optimization hasn't converged yet.\n",
            "  warnings.warn(\n",
            "/home/elloa/.conda/envs/gpr-ufcg/lib/python3.9/site-packages/sklearn/neural_network/_multilayer_perceptron.py:614: ConvergenceWarning: Stochastic Optimizer: Maximum iterations (100) reached and the optimization hasn't converged yet.\n",
            "  warnings.warn(\n",
            "/home/elloa/.conda/envs/gpr-ufcg/lib/python3.9/site-packages/sklearn/neural_network/_multilayer_perceptron.py:614: ConvergenceWarning: Stochastic Optimizer: Maximum iterations (100) reached and the optimization hasn't converged yet.\n",
            "  warnings.warn(\n"
          ]
        },
        {
          "name": "stdout",
          "output_type": "stream",
          "text": [
            "Desvio Padrão Acurácia: 0.002380240872014125 \n",
            "Média Acurácia: 0.7210341319380701 \n",
            "Desvio Padrão F-Score: 0.0037090172934870266 \n",
            "Média F-Score: 0.7336377948793722\n"
          ]
        },
        {
          "name": "stderr",
          "output_type": "stream",
          "text": [
            "/home/elloa/.conda/envs/gpr-ufcg/lib/python3.9/site-packages/sklearn/neural_network/_multilayer_perceptron.py:614: ConvergenceWarning: Stochastic Optimizer: Maximum iterations (100) reached and the optimization hasn't converged yet.\n",
            "  warnings.warn(\n"
          ]
        }
      ]
    },
    {
      "cell_type": "code",
      "metadata": {
        "colab": {
          "base_uri": "https://localhost:8080/",
          "height": 287
        },
        "id": "9NwJadm3eNcw",
        "outputId": "32a5c56e-396a-436c-b538-b4634565135e"
      },
      "source": [
        "# 3. MLPClassifier(hidden_layer_sizes=(8,),activation='logistic',solver='adam',max_iter=150,verbose=False)\n",
        "media_f, media_a = arquitetura(1, 8, 'logistic', 'adam', 150)\n",
        "FScore_arqs.append(media_f)\n",
        "Acuracia_arqs.append(media_a)"
      ],
      "execution_count": null,
      "outputs": [
        {
          "name": "stdout",
          "output_type": "stream",
          "text": [
            "Desvio Padrão Acurácia: 0.0018570509961679364 \n",
            "Média Acurácia: 0.7131907472002937 \n",
            "Desvio Padrão F-Score: 0.0018432768817629296 \n",
            "Média F-Score: 0.7245234063553949\n"
          ]
        }
      ]
    },
    {
      "cell_type": "code",
      "metadata": {
        "id": "sMj9CAd0eNW0",
        "outputId": "c0c7ed2c-691b-4f33-c291-4b4ae1648d66"
      },
      "source": [
        "# 4. MLPClassifier(hidden_layer_sizes=(18,),activation='relu',solver='adam',max_iter=200,verbose=False)\n",
        "media_f, media_a = arquitetura(1, 18, 'relu', 'adam', 200)\n",
        "FScore_arqs.append(media_f)\n",
        "Acuracia_arqs.append(media_a)"
      ],
      "execution_count": null,
      "outputs": [
        {
          "name": "stdout",
          "output_type": "stream",
          "text": [
            "Desvio Padrão Acurácia: 0.0013060527528066025 \n",
            "Média Acurácia: 0.7307998286518573 \n",
            "Desvio Padrão F-Score: 0.001759732093570076 \n",
            "Média F-Score: 0.7378688005452879\n"
          ]
        }
      ]
    },
    {
      "cell_type": "code",
      "metadata": {
        "id": "venMZV6BeNQk",
        "outputId": "e6551038-1b5e-4284-8a02-195cd1a25531"
      },
      "source": [
        "# 5. MLPClassifier(hidden_layer_sizes=(20,2),activation='logistic',solver='adam',max_iter=200,verbose=False)\n",
        "media_f, media_a = arquitetura(2, 20, 'logistic', 'adam', 200)\n",
        "FScore_arqs.append(media_f)\n",
        "Acuracia_arqs.append(media_a)"
      ],
      "execution_count": null,
      "outputs": [
        {
          "name": "stderr",
          "output_type": "stream",
          "text": [
            "/home/elloa/.conda/envs/gpr-ufcg/lib/python3.9/site-packages/sklearn/neural_network/_multilayer_perceptron.py:614: ConvergenceWarning: Stochastic Optimizer: Maximum iterations (200) reached and the optimization hasn't converged yet.\n",
            "  warnings.warn(\n",
            "/home/elloa/.conda/envs/gpr-ufcg/lib/python3.9/site-packages/sklearn/neural_network/_multilayer_perceptron.py:614: ConvergenceWarning: Stochastic Optimizer: Maximum iterations (200) reached and the optimization hasn't converged yet.\n",
            "  warnings.warn(\n",
            "/home/elloa/.conda/envs/gpr-ufcg/lib/python3.9/site-packages/sklearn/neural_network/_multilayer_perceptron.py:614: ConvergenceWarning: Stochastic Optimizer: Maximum iterations (200) reached and the optimization hasn't converged yet.\n",
            "  warnings.warn(\n",
            "/home/elloa/.conda/envs/gpr-ufcg/lib/python3.9/site-packages/sklearn/neural_network/_multilayer_perceptron.py:614: ConvergenceWarning: Stochastic Optimizer: Maximum iterations (200) reached and the optimization hasn't converged yet.\n",
            "  warnings.warn(\n"
          ]
        },
        {
          "name": "stdout",
          "output_type": "stream",
          "text": [
            "Desvio Padrão Acurácia: 0.002650779555371101 \n",
            "Média Acurácia: 0.7388818768741203 \n",
            "Desvio Padrão F-Score: 0.0028474806334959405 \n",
            "Média F-Score: 0.7513327085891925\n"
          ]
        }
      ]
    },
    {
      "cell_type": "code",
      "metadata": {
        "id": "sRc9UAD9eNKi",
        "outputId": "51907ffd-2a77-4b86-83d5-d9b8a30a2d3e"
      },
      "source": [
        "# 6. MLPClassifier(hidden_layer_sizes=(5,),activation='relu',solver='sgd',max_iter=100,verbose=False)\n",
        "media_f, media_a = arquitetura(1, 5, 'relu', 'sgd', 100)\n",
        "FScore_arqs.append(media_f)\n",
        "Acuracia_arqs.append(media_a)"
      ],
      "execution_count": null,
      "outputs": [
        {
          "name": "stderr",
          "output_type": "stream",
          "text": [
            "/home/elloa/.conda/envs/gpr-ufcg/lib/python3.9/site-packages/sklearn/neural_network/_multilayer_perceptron.py:614: ConvergenceWarning: Stochastic Optimizer: Maximum iterations (100) reached and the optimization hasn't converged yet.\n",
            "  warnings.warn(\n",
            "/home/elloa/.conda/envs/gpr-ufcg/lib/python3.9/site-packages/sklearn/neural_network/_multilayer_perceptron.py:614: ConvergenceWarning: Stochastic Optimizer: Maximum iterations (100) reached and the optimization hasn't converged yet.\n",
            "  warnings.warn(\n",
            "/home/elloa/.conda/envs/gpr-ufcg/lib/python3.9/site-packages/sklearn/neural_network/_multilayer_perceptron.py:614: ConvergenceWarning: Stochastic Optimizer: Maximum iterations (100) reached and the optimization hasn't converged yet.\n",
            "  warnings.warn(\n",
            "/home/elloa/.conda/envs/gpr-ufcg/lib/python3.9/site-packages/sklearn/neural_network/_multilayer_perceptron.py:614: ConvergenceWarning: Stochastic Optimizer: Maximum iterations (100) reached and the optimization hasn't converged yet.\n",
            "  warnings.warn(\n"
          ]
        },
        {
          "name": "stdout",
          "output_type": "stream",
          "text": [
            "Desvio Padrão Acurácia: 0.0030568620404942226 \n",
            "Média Acurácia: 0.7027312434979501 \n",
            "Desvio Padrão F-Score: 0.003587186135683673 \n",
            "Média F-Score: 0.7175716927404461\n"
          ]
        },
        {
          "name": "stderr",
          "output_type": "stream",
          "text": [
            "/home/elloa/.conda/envs/gpr-ufcg/lib/python3.9/site-packages/sklearn/neural_network/_multilayer_perceptron.py:614: ConvergenceWarning: Stochastic Optimizer: Maximum iterations (100) reached and the optimization hasn't converged yet.\n",
            "  warnings.warn(\n"
          ]
        }
      ]
    },
    {
      "cell_type": "code",
      "metadata": {
        "id": "YOrblWdYeNEU",
        "outputId": "6f069c24-7db5-4748-e7fa-243556486cc7"
      },
      "source": [
        "# 7. MLPClassifier(hidden_layer_sizes=(13,2),activation='relu',solver='sgd',max_iter=100,verbose=False)\n",
        "media_f, media_a = arquitetura(2, 13, 'relu', 'sgd', 100)\n",
        "FScore_arqs.append(media_f)\n",
        "Acuracia_arqs.append(media_a)"
      ],
      "execution_count": null,
      "outputs": [
        {
          "name": "stderr",
          "output_type": "stream",
          "text": [
            "/home/elloa/.conda/envs/gpr-ufcg/lib/python3.9/site-packages/sklearn/neural_network/_multilayer_perceptron.py:614: ConvergenceWarning: Stochastic Optimizer: Maximum iterations (100) reached and the optimization hasn't converged yet.\n",
            "  warnings.warn(\n",
            "/home/elloa/.conda/envs/gpr-ufcg/lib/python3.9/site-packages/sklearn/neural_network/_multilayer_perceptron.py:614: ConvergenceWarning: Stochastic Optimizer: Maximum iterations (100) reached and the optimization hasn't converged yet.\n",
            "  warnings.warn(\n",
            "/home/elloa/.conda/envs/gpr-ufcg/lib/python3.9/site-packages/sklearn/neural_network/_multilayer_perceptron.py:614: ConvergenceWarning: Stochastic Optimizer: Maximum iterations (100) reached and the optimization hasn't converged yet.\n",
            "  warnings.warn(\n",
            "/home/elloa/.conda/envs/gpr-ufcg/lib/python3.9/site-packages/sklearn/neural_network/_multilayer_perceptron.py:614: ConvergenceWarning: Stochastic Optimizer: Maximum iterations (100) reached and the optimization hasn't converged yet.\n",
            "  warnings.warn(\n",
            "/home/elloa/.conda/envs/gpr-ufcg/lib/python3.9/site-packages/sklearn/neural_network/_multilayer_perceptron.py:614: ConvergenceWarning: Stochastic Optimizer: Maximum iterations (100) reached and the optimization hasn't converged yet.\n",
            "  warnings.warn(\n",
            "/home/elloa/.conda/envs/gpr-ufcg/lib/python3.9/site-packages/sklearn/neural_network/_multilayer_perceptron.py:614: ConvergenceWarning: Stochastic Optimizer: Maximum iterations (100) reached and the optimization hasn't converged yet.\n",
            "  warnings.warn(\n",
            "/home/elloa/.conda/envs/gpr-ufcg/lib/python3.9/site-packages/sklearn/neural_network/_multilayer_perceptron.py:614: ConvergenceWarning: Stochastic Optimizer: Maximum iterations (100) reached and the optimization hasn't converged yet.\n",
            "  warnings.warn(\n",
            "/home/elloa/.conda/envs/gpr-ufcg/lib/python3.9/site-packages/sklearn/neural_network/_multilayer_perceptron.py:614: ConvergenceWarning: Stochastic Optimizer: Maximum iterations (100) reached and the optimization hasn't converged yet.\n",
            "  warnings.warn(\n",
            "/home/elloa/.conda/envs/gpr-ufcg/lib/python3.9/site-packages/sklearn/neural_network/_multilayer_perceptron.py:614: ConvergenceWarning: Stochastic Optimizer: Maximum iterations (100) reached and the optimization hasn't converged yet.\n",
            "  warnings.warn(\n",
            "/home/elloa/.conda/envs/gpr-ufcg/lib/python3.9/site-packages/sklearn/neural_network/_multilayer_perceptron.py:614: ConvergenceWarning: Stochastic Optimizer: Maximum iterations (100) reached and the optimization hasn't converged yet.\n",
            "  warnings.warn(\n",
            "/home/elloa/.conda/envs/gpr-ufcg/lib/python3.9/site-packages/sklearn/neural_network/_multilayer_perceptron.py:614: ConvergenceWarning: Stochastic Optimizer: Maximum iterations (100) reached and the optimization hasn't converged yet.\n",
            "  warnings.warn(\n",
            "/home/elloa/.conda/envs/gpr-ufcg/lib/python3.9/site-packages/sklearn/neural_network/_multilayer_perceptron.py:614: ConvergenceWarning: Stochastic Optimizer: Maximum iterations (100) reached and the optimization hasn't converged yet.\n",
            "  warnings.warn(\n",
            "/home/elloa/.conda/envs/gpr-ufcg/lib/python3.9/site-packages/sklearn/neural_network/_multilayer_perceptron.py:614: ConvergenceWarning: Stochastic Optimizer: Maximum iterations (100) reached and the optimization hasn't converged yet.\n",
            "  warnings.warn(\n"
          ]
        },
        {
          "name": "stdout",
          "output_type": "stream",
          "text": [
            "Desvio Padrão Acurácia: 0.002803642030792968 \n",
            "Média Acurácia: 0.7166112080044059 \n",
            "Desvio Padrão F-Score: 0.0036145873208375664 \n",
            "Média F-Score: 0.7327329617316776\n"
          ]
        },
        {
          "name": "stderr",
          "output_type": "stream",
          "text": [
            "/home/elloa/.conda/envs/gpr-ufcg/lib/python3.9/site-packages/sklearn/neural_network/_multilayer_perceptron.py:614: ConvergenceWarning: Stochastic Optimizer: Maximum iterations (100) reached and the optimization hasn't converged yet.\n",
            "  warnings.warn(\n"
          ]
        }
      ]
    },
    {
      "cell_type": "code",
      "metadata": {
        "id": "RDr8MAGzeM80",
        "outputId": "bee96281-b278-418d-991d-6e4dcf400264"
      },
      "source": [
        "# 8. MLPClassifier(hidden_layer_sizes=(17,),activation='logistic',solver='sgd',max_iter=150,verbose=False)\n",
        "media_f, media_a = arquitetura(1, 17, 'relu', 'sgd', 150)\n",
        "FScore_arqs.append(media_f)\n",
        "Acuracia_arqs.append(media_a)"
      ],
      "execution_count": null,
      "outputs": [
        {
          "name": "stderr",
          "output_type": "stream",
          "text": [
            "/home/elloa/.conda/envs/gpr-ufcg/lib/python3.9/site-packages/sklearn/neural_network/_multilayer_perceptron.py:614: ConvergenceWarning: Stochastic Optimizer: Maximum iterations (150) reached and the optimization hasn't converged yet.\n",
            "  warnings.warn(\n",
            "/home/elloa/.conda/envs/gpr-ufcg/lib/python3.9/site-packages/sklearn/neural_network/_multilayer_perceptron.py:614: ConvergenceWarning: Stochastic Optimizer: Maximum iterations (150) reached and the optimization hasn't converged yet.\n",
            "  warnings.warn(\n",
            "/home/elloa/.conda/envs/gpr-ufcg/lib/python3.9/site-packages/sklearn/neural_network/_multilayer_perceptron.py:614: ConvergenceWarning: Stochastic Optimizer: Maximum iterations (150) reached and the optimization hasn't converged yet.\n",
            "  warnings.warn(\n",
            "/home/elloa/.conda/envs/gpr-ufcg/lib/python3.9/site-packages/sklearn/neural_network/_multilayer_perceptron.py:614: ConvergenceWarning: Stochastic Optimizer: Maximum iterations (150) reached and the optimization hasn't converged yet.\n",
            "  warnings.warn(\n",
            "/home/elloa/.conda/envs/gpr-ufcg/lib/python3.9/site-packages/sklearn/neural_network/_multilayer_perceptron.py:614: ConvergenceWarning: Stochastic Optimizer: Maximum iterations (150) reached and the optimization hasn't converged yet.\n",
            "  warnings.warn(\n",
            "/home/elloa/.conda/envs/gpr-ufcg/lib/python3.9/site-packages/sklearn/neural_network/_multilayer_perceptron.py:614: ConvergenceWarning: Stochastic Optimizer: Maximum iterations (150) reached and the optimization hasn't converged yet.\n",
            "  warnings.warn(\n",
            "/home/elloa/.conda/envs/gpr-ufcg/lib/python3.9/site-packages/sklearn/neural_network/_multilayer_perceptron.py:614: ConvergenceWarning: Stochastic Optimizer: Maximum iterations (150) reached and the optimization hasn't converged yet.\n",
            "  warnings.warn(\n",
            "/home/elloa/.conda/envs/gpr-ufcg/lib/python3.9/site-packages/sklearn/neural_network/_multilayer_perceptron.py:614: ConvergenceWarning: Stochastic Optimizer: Maximum iterations (150) reached and the optimization hasn't converged yet.\n",
            "  warnings.warn(\n",
            "/home/elloa/.conda/envs/gpr-ufcg/lib/python3.9/site-packages/sklearn/neural_network/_multilayer_perceptron.py:614: ConvergenceWarning: Stochastic Optimizer: Maximum iterations (150) reached and the optimization hasn't converged yet.\n",
            "  warnings.warn(\n",
            "/home/elloa/.conda/envs/gpr-ufcg/lib/python3.9/site-packages/sklearn/neural_network/_multilayer_perceptron.py:614: ConvergenceWarning: Stochastic Optimizer: Maximum iterations (150) reached and the optimization hasn't converged yet.\n",
            "  warnings.warn(\n",
            "/home/elloa/.conda/envs/gpr-ufcg/lib/python3.9/site-packages/sklearn/neural_network/_multilayer_perceptron.py:614: ConvergenceWarning: Stochastic Optimizer: Maximum iterations (150) reached and the optimization hasn't converged yet.\n",
            "  warnings.warn(\n",
            "/home/elloa/.conda/envs/gpr-ufcg/lib/python3.9/site-packages/sklearn/neural_network/_multilayer_perceptron.py:614: ConvergenceWarning: Stochastic Optimizer: Maximum iterations (150) reached and the optimization hasn't converged yet.\n",
            "  warnings.warn(\n"
          ]
        },
        {
          "name": "stdout",
          "output_type": "stream",
          "text": [
            "Desvio Padrão Acurácia: 0.0034174875903233183 \n",
            "Média Acurácia: 0.7250474267180711 \n",
            "Desvio Padrão F-Score: 0.003192106715028556 \n",
            "Média F-Score: 0.7342372521160385\n"
          ]
        },
        {
          "name": "stderr",
          "output_type": "stream",
          "text": [
            "/home/elloa/.conda/envs/gpr-ufcg/lib/python3.9/site-packages/sklearn/neural_network/_multilayer_perceptron.py:614: ConvergenceWarning: Stochastic Optimizer: Maximum iterations (150) reached and the optimization hasn't converged yet.\n",
            "  warnings.warn(\n"
          ]
        }
      ]
    },
    {
      "cell_type": "code",
      "metadata": {
        "id": "zPJahHSyeMxj",
        "outputId": "b31aec35-7565-4acf-af33-b2604d9045bd"
      },
      "source": [
        "# 9. MLPClassifier(hidden_layer_sizes=(9,),activation='relu',solver='sgd',max_iter=200,verbose=False)\n",
        "media_f, media_a = arquitetura(1, 9, 'relu', 'sgd', 200)\n",
        "FScore_arqs.append(media_f)\n",
        "Acuracia_arqs.append(media_a)"
      ],
      "execution_count": null,
      "outputs": [
        {
          "name": "stdout",
          "output_type": "stream",
          "text": [
            "Desvio Padrão Acurácia: 0.0033153496371343405 \n",
            "Média Acurácia: 0.7119672143687656 \n",
            "Desvio Padrão F-Score: 0.0027423978885138087 \n",
            "Média F-Score: 0.7235489214629366\n"
          ]
        }
      ]
    },
    {
      "cell_type": "code",
      "metadata": {
        "id": "arW3tyIFecfM",
        "outputId": "978c3b4a-5765-4659-f865-44cb82eb4ccb"
      },
      "source": [
        "# 10. MLPClassifier(hidden_layer_sizes=(30,2),activation='logistic',solver='sgd',max_iter=200,verbose=False)\n",
        "media_f, media_a = arquitetura(2, 30, 'logistic', 'sgd', 200)\n",
        "FScore_arqs.append(media_f)\n",
        "Acuracia_arqs.append(media_a)"
      ],
      "execution_count": null,
      "outputs": [
        {
          "name": "stderr",
          "output_type": "stream",
          "text": [
            "/home/elloa/.conda/envs/gpr-ufcg/lib/python3.9/site-packages/sklearn/neural_network/_multilayer_perceptron.py:614: ConvergenceWarning: Stochastic Optimizer: Maximum iterations (200) reached and the optimization hasn't converged yet.\n",
            "  warnings.warn(\n",
            "/home/elloa/.conda/envs/gpr-ufcg/lib/python3.9/site-packages/sklearn/neural_network/_multilayer_perceptron.py:614: ConvergenceWarning: Stochastic Optimizer: Maximum iterations (200) reached and the optimization hasn't converged yet.\n",
            "  warnings.warn(\n",
            "/home/elloa/.conda/envs/gpr-ufcg/lib/python3.9/site-packages/sklearn/neural_network/_multilayer_perceptron.py:614: ConvergenceWarning: Stochastic Optimizer: Maximum iterations (200) reached and the optimization hasn't converged yet.\n",
            "  warnings.warn(\n",
            "/home/elloa/.conda/envs/gpr-ufcg/lib/python3.9/site-packages/sklearn/neural_network/_multilayer_perceptron.py:614: ConvergenceWarning: Stochastic Optimizer: Maximum iterations (200) reached and the optimization hasn't converged yet.\n",
            "  warnings.warn(\n",
            "/home/elloa/.conda/envs/gpr-ufcg/lib/python3.9/site-packages/sklearn/neural_network/_multilayer_perceptron.py:614: ConvergenceWarning: Stochastic Optimizer: Maximum iterations (200) reached and the optimization hasn't converged yet.\n",
            "  warnings.warn(\n",
            "/home/elloa/.conda/envs/gpr-ufcg/lib/python3.9/site-packages/sklearn/neural_network/_multilayer_perceptron.py:614: ConvergenceWarning: Stochastic Optimizer: Maximum iterations (200) reached and the optimization hasn't converged yet.\n",
            "  warnings.warn(\n",
            "/home/elloa/.conda/envs/gpr-ufcg/lib/python3.9/site-packages/sklearn/neural_network/_multilayer_perceptron.py:614: ConvergenceWarning: Stochastic Optimizer: Maximum iterations (200) reached and the optimization hasn't converged yet.\n",
            "  warnings.warn(\n",
            "/home/elloa/.conda/envs/gpr-ufcg/lib/python3.9/site-packages/sklearn/neural_network/_multilayer_perceptron.py:614: ConvergenceWarning: Stochastic Optimizer: Maximum iterations (200) reached and the optimization hasn't converged yet.\n",
            "  warnings.warn(\n",
            "/home/elloa/.conda/envs/gpr-ufcg/lib/python3.9/site-packages/sklearn/neural_network/_multilayer_perceptron.py:614: ConvergenceWarning: Stochastic Optimizer: Maximum iterations (200) reached and the optimization hasn't converged yet.\n",
            "  warnings.warn(\n",
            "/home/elloa/.conda/envs/gpr-ufcg/lib/python3.9/site-packages/sklearn/neural_network/_multilayer_perceptron.py:614: ConvergenceWarning: Stochastic Optimizer: Maximum iterations (200) reached and the optimization hasn't converged yet.\n",
            "  warnings.warn(\n",
            "/home/elloa/.conda/envs/gpr-ufcg/lib/python3.9/site-packages/sklearn/neural_network/_multilayer_perceptron.py:614: ConvergenceWarning: Stochastic Optimizer: Maximum iterations (200) reached and the optimization hasn't converged yet.\n",
            "  warnings.warn(\n",
            "/home/elloa/.conda/envs/gpr-ufcg/lib/python3.9/site-packages/sklearn/neural_network/_multilayer_perceptron.py:614: ConvergenceWarning: Stochastic Optimizer: Maximum iterations (200) reached and the optimization hasn't converged yet.\n",
            "  warnings.warn(\n",
            "/home/elloa/.conda/envs/gpr-ufcg/lib/python3.9/site-packages/sklearn/neural_network/_multilayer_perceptron.py:614: ConvergenceWarning: Stochastic Optimizer: Maximum iterations (200) reached and the optimization hasn't converged yet.\n",
            "  warnings.warn(\n",
            "/home/elloa/.conda/envs/gpr-ufcg/lib/python3.9/site-packages/sklearn/neural_network/_multilayer_perceptron.py:614: ConvergenceWarning: Stochastic Optimizer: Maximum iterations (200) reached and the optimization hasn't converged yet.\n",
            "  warnings.warn(\n"
          ]
        },
        {
          "name": "stdout",
          "output_type": "stream",
          "text": [
            "Desvio Padrão Acurácia: 0.0016886084758260427 \n",
            "Média Acurácia: 0.7124625175937825 \n",
            "Desvio Padrão F-Score: 0.0015821773544336722 \n",
            "Média F-Score: 0.7353989527615276\n"
          ]
        },
        {
          "name": "stderr",
          "output_type": "stream",
          "text": [
            "/home/elloa/.conda/envs/gpr-ufcg/lib/python3.9/site-packages/sklearn/neural_network/_multilayer_perceptron.py:614: ConvergenceWarning: Stochastic Optimizer: Maximum iterations (200) reached and the optimization hasn't converged yet.\n",
            "  warnings.warn(\n"
          ]
        }
      ]
    },
    {
      "cell_type": "markdown",
      "metadata": {
        "id": "AxrRHxRFwS4F"
      },
      "source": [
        "**Top 3**"
      ]
    },
    {
      "cell_type": "code",
      "metadata": {
        "colab": {
          "base_uri": "https://localhost:8080/"
        },
        "id": "xqh_ie38wWFo",
        "outputId": "c9014252-4514-4930-989e-a5e35f5ca40c"
      },
      "source": [
        "listaAcuracia = [0.718549966342329, 0.7210341319380701, 0.7131907472002937, 0.7307998286518573, 0.7388818768741203, 0.7027312434979501, 0.7166112080044059, 0.7250474267180711, 0.7119672143687656, 0.7124625175937825]\n",
        "listaFScore = [0.7284409873895787, 0.7336377948793722, 0.7245234063553949, 0.7378688005452879, 0.7513327085891925, 0.7175716927404461, 0.7327329617316776, 0.7342372521160385, 0.7235489214629366, 0.7353989527615276]\n",
        "\n",
        "listaAcuraciaO = sorted(listaAcuracia)\n",
        "listaFScoreO = sorted(listaFScore)\n",
        "\n",
        "listaAcuraciaO.sort()\n",
        "listaFScoreO.sort()\n",
        "\n",
        "print(\"Top 3: Acurácia\")\n",
        "for i in range(10):\n",
        "    if(listaAcuraciaO[-1] == listaAcuracia[i]):\n",
        "        print(i+1,\"-\",listaAcuracia[i])\n",
        "    elif(listaAcuraciaO[-2] == listaAcuracia[i]):\n",
        "        print(i+1,\"-\",listaAcuracia[i])\n",
        "    elif(listaAcuraciaO[-3] == listaAcuracia[i]):\n",
        "        print(i+1,\"-\",listaAcuracia[i])\n",
        "print(\"Top 3: F-Score\")\n",
        "for i in range(10):\n",
        "    if(listaFScoreO[-1] == listaFScore[i]):\n",
        "        print(i+1,\"-\",listaFScore[i])\n",
        "    elif(listaFScoreO[-2] == listaFScore[i]):\n",
        "        print(i+1,\"-\",listaFScore[i])\n",
        "    elif(listaFScoreO[-3] == listaFScore[i]):\n",
        "        print(i+1,\"-\",listaFScore[i])\n"
      ],
      "execution_count": null,
      "outputs": [
        {
          "output_type": "stream",
          "name": "stdout",
          "text": [
            "Top 3: Acurácia\n",
            "4 - 0.7307998286518573\n",
            "5 - 0.7388818768741203\n",
            "8 - 0.7250474267180711\n",
            "Top 3: F-Score\n",
            "4 - 0.7378688005452879\n",
            "5 - 0.7513327085891925\n",
            "10 - 0.7353989527615276\n"
          ]
        }
      ]
    },
    {
      "cell_type": "markdown",
      "metadata": {
        "id": "hrMPgaZg6nSL"
      },
      "source": [
        "## Estimando o número de neurônios\n",
        "\n",
        "Um dos problemas de pesquisa com redes neurais artificiais consiste na determinação do número de neurônios em sua arquitetura. Embora não seja possível definir a priori qual rede neural é adequada para um problema, pois isto só é possível mediante uma busca exaustiva, há regras na literatura que sugerem o número de neurônios escondidos, tal como a regra da Pirâmide Geométrica, dada a seguir:\n",
        "\n",
        "$$N_h = \\alpha \\cdot \\sqrt{N_i \\cdot N_o},$$\n",
        "\n",
        "em que $N_h$ é o número de neurônios ocultos (a serem distribuídos em uma ou duas camadas ocultas), $N_i$ é o número de neurônios na camada de entrada e $N_o$ é o número de neurônios na camada de saída. \n",
        "\n",
        "1. Consulte a documentação da classe MLPClassifier (disponível em https://scikit-learn.org/stable/modules/generated/sklearn.neural_network.MLPClassifier.html) e obtenha os valores de $N_i$ e $N_o$.\n",
        "2. Teste os valores de $\\alpha$ como sendo iguais a $0.5$, $2$ e $3$.\n",
        "3. Proponha pelo menos 30 redes neurais segundo a regra da pirâmide geométrica e teste-as nos mesmos termos estabelecidos anterioremente  (solver, épocas, etc.)  \n",
        "    3.1 Apresente as top-3 melhores redes no tocante à F-Score e Acurácia  "
      ]
    },
    {
      "cell_type": "code",
      "metadata": {
        "id": "J8XAu61l6nSK"
      },
      "source": [
        "Ni = rede.n_features_in_\n",
        "No = rede.n_outputs_\n",
        "\n",
        "alpha1 = 0.5\n",
        "alpha2 = 2\n",
        "alpha3 = 3\n",
        "\n",
        "Nh1 = round(alpha1*np.sqrt(Ni*No))\n",
        "Nh2 = round(alpha2*np.sqrt(Ni*No))\n",
        "Nh3 = round(alpha3*np.sqrt(Ni*No))\n"
      ],
      "execution_count": null,
      "outputs": []
    },
    {
      "cell_type": "code",
      "metadata": {
        "id": "Lx0F0eQbpEyd"
      },
      "source": [
        "FScore_arqs2 = []\n",
        "Acuracia_arqs2 = []"
      ],
      "execution_count": null,
      "outputs": []
    },
    {
      "cell_type": "markdown",
      "metadata": {
        "id": "Beaq0_9zXaUs"
      },
      "source": [
        "\n",
        " **Alpha 0.5**\n",
        "1.   MLPClassifier(hidden_layer_sizes=(4,),activation='relu',solver='adam',max_iter=100,verbose=False)\n",
        "2.   MLPClassifier(hidden_layer_sizes=(4,),activation='logistic',solver='SGD',max_iter=150,verbose=False)\n",
        "3.   MLPClassifier(hidden_layer_sizes=(4,),activation='relu',solver='adam',max_iter=200,verbose=False)\n",
        "4.  MLPClassifier(hidden_layer_sizes=(4,),activation='logistic',solver='SGD',max_iter=100,verbose=False)\n",
        "5.  MLPClassifier(hidden_layer_sizes=(4,),activation='relu',solver='adam',max_iter=150,verbose=False)\n",
        "6.  MLPClassifier(hidden_layer_sizes=(2,2),activation='logistic',solver='SGD',max_iter=200,verbose=False)\n",
        "7.  MLPClassifier(hidden_layer_sizes=(2,2),activation='relu',solver='adam',max_iter=100,verbose=False)\n",
        "8.  MLPClassifier(hidden_layer_sizes=(2,2),activation='logistic',solver='SGD',max_iter=150,verbose=False)\n",
        "9.  MLPClassifier(hidden_layer_sizes=(2,2),activation='relu',solver='adam',max_iter=200,verbose=False)\n",
        "10. MLPClassifier(hidden_layer_sizes=(2,2),activation='logistic',solver='SGD',max_iter=100,verbose=False)\n",
        "\n"
      ]
    },
    {
      "cell_type": "code",
      "metadata": {
        "id": "6_iRoDq4c2zU",
        "outputId": "0f28594b-9212-46d4-82f6-b73733eef8dc"
      },
      "source": [
        "# 1. MLPClassifier(hidden_layer_sizes=(10,),activation='relu',solver='adam',max_iter=100,verbose=False)\n",
        "media_f, media_a = arquitetura(1, 4, 'relu', 'adam', 100)\n",
        "FScore_arqs2.append(media_f)\n",
        "Acuracia_arqs2.append(media_a)"
      ],
      "execution_count": null,
      "outputs": [
        {
          "name": "stderr",
          "output_type": "stream",
          "text": [
            "/home/elloa/.conda/envs/gpr-ufcg/lib/python3.9/site-packages/sklearn/neural_network/_multilayer_perceptron.py:614: ConvergenceWarning: Stochastic Optimizer: Maximum iterations (100) reached and the optimization hasn't converged yet.\n",
            "  warnings.warn(\n"
          ]
        },
        {
          "name": "stdout",
          "output_type": "stream",
          "text": [
            "Desvio Padrão Acurácia: 0.0026846809807786077 \n",
            "Média Acurácia: 0.7018156018603513 \n",
            "Desvio Padrão F-Score: 0.002771783623912404 \n",
            "Média F-Score: 0.7164427124196977\n"
          ]
        }
      ]
    },
    {
      "cell_type": "code",
      "metadata": {
        "id": "D_iUnPS2kycx",
        "colab": {
          "base_uri": "https://localhost:8080/"
        },
        "outputId": "61cc6d6b-a9e5-4063-ba9a-ef24ac2bd8dd"
      },
      "source": [
        "# 2. MLPClassifier(hidden_layer_sizes=(10,),activation='logistic',solver='SGD',max_iter=150,verbose=False)\n",
        "media_f, media_a = arquitetura(1, 4, 'logistic', 'sgd', 150)\n",
        "FScore_arqs2.append(media_f)\n",
        "Acuracia_arqs2.append(media_a)"
      ],
      "execution_count": null,
      "outputs": [
        {
          "output_type": "stream",
          "name": "stderr",
          "text": [
            "/usr/local/lib/python3.7/dist-packages/sklearn/neural_network/_multilayer_perceptron.py:696: ConvergenceWarning: Stochastic Optimizer: Maximum iterations (150) reached and the optimization hasn't converged yet.\n",
            "  ConvergenceWarning,\n",
            "/usr/local/lib/python3.7/dist-packages/sklearn/neural_network/_multilayer_perceptron.py:696: ConvergenceWarning: Stochastic Optimizer: Maximum iterations (150) reached and the optimization hasn't converged yet.\n",
            "  ConvergenceWarning,\n",
            "/usr/local/lib/python3.7/dist-packages/sklearn/neural_network/_multilayer_perceptron.py:696: ConvergenceWarning: Stochastic Optimizer: Maximum iterations (150) reached and the optimization hasn't converged yet.\n",
            "  ConvergenceWarning,\n"
          ]
        },
        {
          "output_type": "stream",
          "name": "stdout",
          "text": [
            "Desvio Padrão Acurácia: 0.0015051465343305249 \n",
            "Média Acurácia: 0.6988705556575485 \n",
            "Desvio Padrão F-Score: 0.002381613223806759 \n",
            "Média F-Score: 0.7184304693099416\n"
          ]
        }
      ]
    },
    {
      "cell_type": "code",
      "metadata": {
        "id": "aXyKGLj0k07T",
        "outputId": "c5ab392b-1d77-43d3-8744-e33206f06a2c"
      },
      "source": [
        "# 3. MLPClassifier(hidden_layer_sizes=(10,),activation='relu',solver='adam',max_iter=200,verbose=False)\n",
        "media_f, media_a = arquitetura(1, 4, 'relu', 'adam', 200)\n",
        "FScore_arqs2.append(media_f)\n",
        "Acuracia_arqs2.append(media_a)"
      ],
      "execution_count": null,
      "outputs": [
        {
          "name": "stdout",
          "output_type": "stream",
          "text": [
            "Desvio Padrão Acurácia: 0.0027024609284505723 \n",
            "Média Acurácia: 0.6994905452542685 \n",
            "Desvio Padrão F-Score: 0.002952758873151467 \n",
            "Média F-Score: 0.7136145773061793\n"
          ]
        }
      ]
    },
    {
      "cell_type": "code",
      "metadata": {
        "id": "VFHJRfY5k3MQ",
        "colab": {
          "base_uri": "https://localhost:8080/"
        },
        "outputId": "d04c30d7-29f2-459a-fc21-e78437d2da39"
      },
      "source": [
        "# 4. MLPClassifier(hidden_layer_sizes=(10,),activation='logistic',solver='adSGDam',max_iter=100,verbose=False)\n",
        "media_f, media_a = arquitetura(1, 4, 'logistic', 'sgd', 100)\n",
        "FScore_arqs2.append(media_f)\n",
        "Acuracia_arqs2.append(media_a)"
      ],
      "execution_count": null,
      "outputs": [
        {
          "output_type": "stream",
          "name": "stderr",
          "text": [
            "/usr/local/lib/python3.7/dist-packages/sklearn/neural_network/_multilayer_perceptron.py:696: ConvergenceWarning: Stochastic Optimizer: Maximum iterations (100) reached and the optimization hasn't converged yet.\n",
            "  ConvergenceWarning,\n",
            "/usr/local/lib/python3.7/dist-packages/sklearn/neural_network/_multilayer_perceptron.py:696: ConvergenceWarning: Stochastic Optimizer: Maximum iterations (100) reached and the optimization hasn't converged yet.\n",
            "  ConvergenceWarning,\n",
            "/usr/local/lib/python3.7/dist-packages/sklearn/neural_network/_multilayer_perceptron.py:696: ConvergenceWarning: Stochastic Optimizer: Maximum iterations (100) reached and the optimization hasn't converged yet.\n",
            "  ConvergenceWarning,\n",
            "/usr/local/lib/python3.7/dist-packages/sklearn/neural_network/_multilayer_perceptron.py:696: ConvergenceWarning: Stochastic Optimizer: Maximum iterations (100) reached and the optimization hasn't converged yet.\n",
            "  ConvergenceWarning,\n",
            "/usr/local/lib/python3.7/dist-packages/sklearn/neural_network/_multilayer_perceptron.py:696: ConvergenceWarning: Stochastic Optimizer: Maximum iterations (100) reached and the optimization hasn't converged yet.\n",
            "  ConvergenceWarning,\n",
            "/usr/local/lib/python3.7/dist-packages/sklearn/neural_network/_multilayer_perceptron.py:696: ConvergenceWarning: Stochastic Optimizer: Maximum iterations (100) reached and the optimization hasn't converged yet.\n",
            "  ConvergenceWarning,\n",
            "/usr/local/lib/python3.7/dist-packages/sklearn/neural_network/_multilayer_perceptron.py:696: ConvergenceWarning: Stochastic Optimizer: Maximum iterations (100) reached and the optimization hasn't converged yet.\n",
            "  ConvergenceWarning,\n",
            "/usr/local/lib/python3.7/dist-packages/sklearn/neural_network/_multilayer_perceptron.py:696: ConvergenceWarning: Stochastic Optimizer: Maximum iterations (100) reached and the optimization hasn't converged yet.\n",
            "  ConvergenceWarning,\n",
            "/usr/local/lib/python3.7/dist-packages/sklearn/neural_network/_multilayer_perceptron.py:696: ConvergenceWarning: Stochastic Optimizer: Maximum iterations (100) reached and the optimization hasn't converged yet.\n",
            "  ConvergenceWarning,\n",
            "/usr/local/lib/python3.7/dist-packages/sklearn/neural_network/_multilayer_perceptron.py:696: ConvergenceWarning: Stochastic Optimizer: Maximum iterations (100) reached and the optimization hasn't converged yet.\n",
            "  ConvergenceWarning,\n",
            "/usr/local/lib/python3.7/dist-packages/sklearn/neural_network/_multilayer_perceptron.py:696: ConvergenceWarning: Stochastic Optimizer: Maximum iterations (100) reached and the optimization hasn't converged yet.\n",
            "  ConvergenceWarning,\n",
            "/usr/local/lib/python3.7/dist-packages/sklearn/neural_network/_multilayer_perceptron.py:696: ConvergenceWarning: Stochastic Optimizer: Maximum iterations (100) reached and the optimization hasn't converged yet.\n",
            "  ConvergenceWarning,\n",
            "/usr/local/lib/python3.7/dist-packages/sklearn/neural_network/_multilayer_perceptron.py:696: ConvergenceWarning: Stochastic Optimizer: Maximum iterations (100) reached and the optimization hasn't converged yet.\n",
            "  ConvergenceWarning,\n",
            "/usr/local/lib/python3.7/dist-packages/sklearn/neural_network/_multilayer_perceptron.py:696: ConvergenceWarning: Stochastic Optimizer: Maximum iterations (100) reached and the optimization hasn't converged yet.\n",
            "  ConvergenceWarning,\n",
            "/usr/local/lib/python3.7/dist-packages/sklearn/neural_network/_multilayer_perceptron.py:696: ConvergenceWarning: Stochastic Optimizer: Maximum iterations (100) reached and the optimization hasn't converged yet.\n",
            "  ConvergenceWarning,\n"
          ]
        },
        {
          "output_type": "stream",
          "name": "stdout",
          "text": [
            "Desvio Padrão Acurácia: 0.0012835366142793718 \n",
            "Média Acurácia: 0.6980337035677131 \n",
            "Desvio Padrão F-Score: 0.0025915097636930806 \n",
            "Média F-Score: 0.7198646659190439\n"
          ]
        }
      ]
    },
    {
      "cell_type": "code",
      "metadata": {
        "id": "C2D4-dTJk5cM",
        "outputId": "bfac9fa9-9b4c-4dbb-9c59-6b7ae8d9a380"
      },
      "source": [
        "# 5. MLPClassifier(hidden_layer_sizes=(10,),activation='relu',solver='adam',max_iter=150,verbose=False)\n",
        "media_f, media_a = arquitetura(1, 4, 'relu', 'adam', 150)\n",
        "FScore_arqs2.append(media_f)\n",
        "Acuracia_arqs2.append(media_a)"
      ],
      "execution_count": null,
      "outputs": [
        {
          "name": "stdout",
          "output_type": "stream",
          "text": [
            "Desvio Padrão Acurácia: 0.0023974810898361775 \n",
            "Média Acurácia: 0.7033137506884523 \n",
            "Desvio Padrão F-Score: 0.0023999152242565724 \n",
            "Média F-Score: 0.7176166213822908\n"
          ]
        }
      ]
    },
    {
      "cell_type": "code",
      "metadata": {
        "id": "9pNVD0xhk7r4",
        "colab": {
          "base_uri": "https://localhost:8080/"
        },
        "outputId": "108761cd-85d8-4d08-b4c5-b6641265b9ec"
      },
      "source": [
        "# 6. MLPClassifier(hidden_layer_sizes=(10,),activation='logistic',solver='SGD',max_iter=200,verbose=False)\n",
        "media_f, media_a = arquitetura(1, 4, 'logistic', 'sgd', 100)\n",
        "FScore_arqs2.append(media_f)\n",
        "Acuracia_arqs2.append(media_a)"
      ],
      "execution_count": null,
      "outputs": [
        {
          "output_type": "stream",
          "name": "stderr",
          "text": [
            "/usr/local/lib/python3.7/dist-packages/sklearn/neural_network/_multilayer_perceptron.py:696: ConvergenceWarning: Stochastic Optimizer: Maximum iterations (100) reached and the optimization hasn't converged yet.\n",
            "  ConvergenceWarning,\n",
            "/usr/local/lib/python3.7/dist-packages/sklearn/neural_network/_multilayer_perceptron.py:696: ConvergenceWarning: Stochastic Optimizer: Maximum iterations (100) reached and the optimization hasn't converged yet.\n",
            "  ConvergenceWarning,\n",
            "/usr/local/lib/python3.7/dist-packages/sklearn/neural_network/_multilayer_perceptron.py:696: ConvergenceWarning: Stochastic Optimizer: Maximum iterations (100) reached and the optimization hasn't converged yet.\n",
            "  ConvergenceWarning,\n",
            "/usr/local/lib/python3.7/dist-packages/sklearn/neural_network/_multilayer_perceptron.py:696: ConvergenceWarning: Stochastic Optimizer: Maximum iterations (100) reached and the optimization hasn't converged yet.\n",
            "  ConvergenceWarning,\n",
            "/usr/local/lib/python3.7/dist-packages/sklearn/neural_network/_multilayer_perceptron.py:696: ConvergenceWarning: Stochastic Optimizer: Maximum iterations (100) reached and the optimization hasn't converged yet.\n",
            "  ConvergenceWarning,\n",
            "/usr/local/lib/python3.7/dist-packages/sklearn/neural_network/_multilayer_perceptron.py:696: ConvergenceWarning: Stochastic Optimizer: Maximum iterations (100) reached and the optimization hasn't converged yet.\n",
            "  ConvergenceWarning,\n",
            "/usr/local/lib/python3.7/dist-packages/sklearn/neural_network/_multilayer_perceptron.py:696: ConvergenceWarning: Stochastic Optimizer: Maximum iterations (100) reached and the optimization hasn't converged yet.\n",
            "  ConvergenceWarning,\n",
            "/usr/local/lib/python3.7/dist-packages/sklearn/neural_network/_multilayer_perceptron.py:696: ConvergenceWarning: Stochastic Optimizer: Maximum iterations (100) reached and the optimization hasn't converged yet.\n",
            "  ConvergenceWarning,\n",
            "/usr/local/lib/python3.7/dist-packages/sklearn/neural_network/_multilayer_perceptron.py:696: ConvergenceWarning: Stochastic Optimizer: Maximum iterations (100) reached and the optimization hasn't converged yet.\n",
            "  ConvergenceWarning,\n",
            "/usr/local/lib/python3.7/dist-packages/sklearn/neural_network/_multilayer_perceptron.py:696: ConvergenceWarning: Stochastic Optimizer: Maximum iterations (100) reached and the optimization hasn't converged yet.\n",
            "  ConvergenceWarning,\n",
            "/usr/local/lib/python3.7/dist-packages/sklearn/neural_network/_multilayer_perceptron.py:696: ConvergenceWarning: Stochastic Optimizer: Maximum iterations (100) reached and the optimization hasn't converged yet.\n",
            "  ConvergenceWarning,\n",
            "/usr/local/lib/python3.7/dist-packages/sklearn/neural_network/_multilayer_perceptron.py:696: ConvergenceWarning: Stochastic Optimizer: Maximum iterations (100) reached and the optimization hasn't converged yet.\n",
            "  ConvergenceWarning,\n",
            "/usr/local/lib/python3.7/dist-packages/sklearn/neural_network/_multilayer_perceptron.py:696: ConvergenceWarning: Stochastic Optimizer: Maximum iterations (100) reached and the optimization hasn't converged yet.\n",
            "  ConvergenceWarning,\n",
            "/usr/local/lib/python3.7/dist-packages/sklearn/neural_network/_multilayer_perceptron.py:696: ConvergenceWarning: Stochastic Optimizer: Maximum iterations (100) reached and the optimization hasn't converged yet.\n",
            "  ConvergenceWarning,\n",
            "/usr/local/lib/python3.7/dist-packages/sklearn/neural_network/_multilayer_perceptron.py:696: ConvergenceWarning: Stochastic Optimizer: Maximum iterations (100) reached and the optimization hasn't converged yet.\n",
            "  ConvergenceWarning,\n"
          ]
        },
        {
          "output_type": "stream",
          "name": "stdout",
          "text": [
            "Desvio Padrão Acurácia: 0.0016670878399011506 \n",
            "Média Acurácia: 0.6981373538951104 \n",
            "Desvio Padrão F-Score: 0.0016921935629443017 \n",
            "Média F-Score: 0.7197300423902603\n"
          ]
        }
      ]
    },
    {
      "cell_type": "code",
      "metadata": {
        "id": "k39iVkFQk9qg",
        "outputId": "3cf02e46-9380-4592-882b-ef1999b6d68f"
      },
      "source": [
        "# 7. MLPClassifier(hidden_layer_sizes=(10,),activation='relu',solver='adam',max_iter=100,verbose=False)\n",
        "media_f, media_a = arquitetura(1, 4, 'relu', 'adam', 100)\n",
        "FScore_arqs2.append(media_f)\n",
        "Acuracia_arqs2.append(media_a)"
      ],
      "execution_count": null,
      "outputs": [
        {
          "name": "stderr",
          "output_type": "stream",
          "text": [
            "/home/elloa/.conda/envs/gpr-ufcg/lib/python3.9/site-packages/sklearn/neural_network/_multilayer_perceptron.py:614: ConvergenceWarning: Stochastic Optimizer: Maximum iterations (100) reached and the optimization hasn't converged yet.\n",
            "  warnings.warn(\n",
            "/home/elloa/.conda/envs/gpr-ufcg/lib/python3.9/site-packages/sklearn/neural_network/_multilayer_perceptron.py:614: ConvergenceWarning: Stochastic Optimizer: Maximum iterations (100) reached and the optimization hasn't converged yet.\n",
            "  warnings.warn(\n"
          ]
        },
        {
          "name": "stdout",
          "output_type": "stream",
          "text": [
            "Desvio Padrão Acurácia: 0.0039253936000475075 \n",
            "Média Acurácia: 0.7021280827366746 \n",
            "Desvio Padrão F-Score: 0.0038991495988220026 \n",
            "Média F-Score: 0.7165276397772263\n"
          ]
        }
      ]
    },
    {
      "cell_type": "code",
      "metadata": {
        "id": "Hv0OUotvlADv",
        "colab": {
          "base_uri": "https://localhost:8080/"
        },
        "outputId": "88ab07d2-3cf9-44ee-9547-d86c7239f470"
      },
      "source": [
        "# 8. MLPClassifier(hidden_layer_sizes=(10,),activation='logistic',solver='SGD',max_iter=150,verbose=False)\n",
        "media_f, media_a = arquitetura(1, 4, 'logistic', 'sgd', 150)\n",
        "FScore_arqs2.append(media_f)\n",
        "Acuracia_arqs2.append(media_a)"
      ],
      "execution_count": null,
      "outputs": [
        {
          "output_type": "stream",
          "name": "stderr",
          "text": [
            "/usr/local/lib/python3.7/dist-packages/sklearn/neural_network/_multilayer_perceptron.py:696: ConvergenceWarning: Stochastic Optimizer: Maximum iterations (150) reached and the optimization hasn't converged yet.\n",
            "  ConvergenceWarning,\n",
            "/usr/local/lib/python3.7/dist-packages/sklearn/neural_network/_multilayer_perceptron.py:696: ConvergenceWarning: Stochastic Optimizer: Maximum iterations (150) reached and the optimization hasn't converged yet.\n",
            "  ConvergenceWarning,\n",
            "/usr/local/lib/python3.7/dist-packages/sklearn/neural_network/_multilayer_perceptron.py:696: ConvergenceWarning: Stochastic Optimizer: Maximum iterations (150) reached and the optimization hasn't converged yet.\n",
            "  ConvergenceWarning,\n",
            "/usr/local/lib/python3.7/dist-packages/sklearn/neural_network/_multilayer_perceptron.py:696: ConvergenceWarning: Stochastic Optimizer: Maximum iterations (150) reached and the optimization hasn't converged yet.\n",
            "  ConvergenceWarning,\n"
          ]
        },
        {
          "output_type": "stream",
          "name": "stdout",
          "text": [
            "Desvio Padrão Acurácia: 0.0015937247595775497 \n",
            "Média Acurácia: 0.6982803989963896 \n",
            "Desvio Padrão F-Score: 0.0020200700487499642 \n",
            "Média F-Score: 0.7181835631457602\n"
          ]
        }
      ]
    },
    {
      "cell_type": "code",
      "metadata": {
        "id": "rhyPTD3vlCB5",
        "outputId": "dd3eee12-563b-4447-d14d-612b2f4281db"
      },
      "source": [
        "# 9. MLPClassifier(hidden_layer_sizes=(10,),activation='relu',solver='adam',max_iter=200,verbose=False)\n",
        "media_f, media_a = arquitetura(1, 4, 'relu', 'adam', 200)\n",
        "FScore_arqs2.append(media_f)\n",
        "Acuracia_arqs2.append(media_a)"
      ],
      "execution_count": null,
      "outputs": [
        {
          "name": "stdout",
          "output_type": "stream",
          "text": [
            "Desvio Padrão Acurácia: 0.003355618064219651 \n",
            "Média Acurácia: 0.7020489107153786 \n",
            "Desvio Padrão F-Score: 0.0031617716876645783 \n",
            "Média F-Score: 0.7166348348040705\n"
          ]
        }
      ]
    },
    {
      "cell_type": "code",
      "metadata": {
        "id": "MaenQghglEj1",
        "colab": {
          "base_uri": "https://localhost:8080/"
        },
        "outputId": "48afe72d-7165-4984-b9af-61a44d63c347"
      },
      "source": [
        "# 10. MLPClassifier(hidden_layer_sizes=(10,),activation='logistic',solver='SGD',max_iter=100,verbose=False)\n",
        "media_f, media_a = arquitetura(1, 4, 'logistic', 'sgd', 100)\n",
        "FScore_arqs2.append(media_f)\n",
        "Acuracia_arqs2.append(media_a)"
      ],
      "execution_count": null,
      "outputs": [
        {
          "output_type": "stream",
          "name": "stderr",
          "text": [
            "/usr/local/lib/python3.7/dist-packages/sklearn/neural_network/_multilayer_perceptron.py:696: ConvergenceWarning: Stochastic Optimizer: Maximum iterations (100) reached and the optimization hasn't converged yet.\n",
            "  ConvergenceWarning,\n",
            "/usr/local/lib/python3.7/dist-packages/sklearn/neural_network/_multilayer_perceptron.py:696: ConvergenceWarning: Stochastic Optimizer: Maximum iterations (100) reached and the optimization hasn't converged yet.\n",
            "  ConvergenceWarning,\n",
            "/usr/local/lib/python3.7/dist-packages/sklearn/neural_network/_multilayer_perceptron.py:696: ConvergenceWarning: Stochastic Optimizer: Maximum iterations (100) reached and the optimization hasn't converged yet.\n",
            "  ConvergenceWarning,\n",
            "/usr/local/lib/python3.7/dist-packages/sklearn/neural_network/_multilayer_perceptron.py:696: ConvergenceWarning: Stochastic Optimizer: Maximum iterations (100) reached and the optimization hasn't converged yet.\n",
            "  ConvergenceWarning,\n",
            "/usr/local/lib/python3.7/dist-packages/sklearn/neural_network/_multilayer_perceptron.py:696: ConvergenceWarning: Stochastic Optimizer: Maximum iterations (100) reached and the optimization hasn't converged yet.\n",
            "  ConvergenceWarning,\n",
            "/usr/local/lib/python3.7/dist-packages/sklearn/neural_network/_multilayer_perceptron.py:696: ConvergenceWarning: Stochastic Optimizer: Maximum iterations (100) reached and the optimization hasn't converged yet.\n",
            "  ConvergenceWarning,\n",
            "/usr/local/lib/python3.7/dist-packages/sklearn/neural_network/_multilayer_perceptron.py:696: ConvergenceWarning: Stochastic Optimizer: Maximum iterations (100) reached and the optimization hasn't converged yet.\n",
            "  ConvergenceWarning,\n",
            "/usr/local/lib/python3.7/dist-packages/sklearn/neural_network/_multilayer_perceptron.py:696: ConvergenceWarning: Stochastic Optimizer: Maximum iterations (100) reached and the optimization hasn't converged yet.\n",
            "  ConvergenceWarning,\n",
            "/usr/local/lib/python3.7/dist-packages/sklearn/neural_network/_multilayer_perceptron.py:696: ConvergenceWarning: Stochastic Optimizer: Maximum iterations (100) reached and the optimization hasn't converged yet.\n",
            "  ConvergenceWarning,\n",
            "/usr/local/lib/python3.7/dist-packages/sklearn/neural_network/_multilayer_perceptron.py:696: ConvergenceWarning: Stochastic Optimizer: Maximum iterations (100) reached and the optimization hasn't converged yet.\n",
            "  ConvergenceWarning,\n",
            "/usr/local/lib/python3.7/dist-packages/sklearn/neural_network/_multilayer_perceptron.py:696: ConvergenceWarning: Stochastic Optimizer: Maximum iterations (100) reached and the optimization hasn't converged yet.\n",
            "  ConvergenceWarning,\n",
            "/usr/local/lib/python3.7/dist-packages/sklearn/neural_network/_multilayer_perceptron.py:696: ConvergenceWarning: Stochastic Optimizer: Maximum iterations (100) reached and the optimization hasn't converged yet.\n",
            "  ConvergenceWarning,\n",
            "/usr/local/lib/python3.7/dist-packages/sklearn/neural_network/_multilayer_perceptron.py:696: ConvergenceWarning: Stochastic Optimizer: Maximum iterations (100) reached and the optimization hasn't converged yet.\n",
            "  ConvergenceWarning,\n",
            "/usr/local/lib/python3.7/dist-packages/sklearn/neural_network/_multilayer_perceptron.py:696: ConvergenceWarning: Stochastic Optimizer: Maximum iterations (100) reached and the optimization hasn't converged yet.\n",
            "  ConvergenceWarning,\n",
            "/usr/local/lib/python3.7/dist-packages/sklearn/neural_network/_multilayer_perceptron.py:696: ConvergenceWarning: Stochastic Optimizer: Maximum iterations (100) reached and the optimization hasn't converged yet.\n",
            "  ConvergenceWarning,\n"
          ]
        },
        {
          "output_type": "stream",
          "name": "stdout",
          "text": [
            "Desvio Padrão Acurácia: 0.0016817792244304057 \n",
            "Média Acurácia: 0.6975609662811333 \n",
            "Desvio Padrão F-Score: 0.0021129528287246635 \n",
            "Média F-Score: 0.7189830690314062\n"
          ]
        }
      ]
    },
    {
      "cell_type": "markdown",
      "metadata": {
        "id": "aNg4BBHGiE0S"
      },
      "source": [
        "**Alpha 2**\n",
        "1.   MLPClassifier(hidden_layer_sizes=(16,),activation='relu',solver='adam',max_iter=100,verbose=False)\n",
        "2.   MLPClassifier(hidden_layer_sizes=(16,),activation='relu',solver='SGD',max_iter=100,verbose=False)\n",
        "3.   MLPClassifier(hidden_layer_sizes=(16,),activation='logistic',solver='adam',max_iter=150,verbose=False)\n",
        "4.  MLPClassifier(hidden_layer_sizes=(16,),activation='relu',solver='SGD',max_iter=200,verbose=False)\n",
        "5.  MLPClassifier(hidden_layer_sizes=(16,),activation='logistic',solver='adam',max_iter=200,verbose=False)\n",
        "6.  MLPClassifier(hidden_layer_sizes=(8,2),activation='relu',solver='SGD',max_iter=100,verbose=False)\n",
        "7.  MLPClassifier(hidden_layer_sizes=(8,2),activation='relu',solver='adam',max_iter=100,verbose=False)\n",
        "8.  MLPClassifier(hidden_layer_sizes=(8,2),activation='logistic',solver='SGD',max_iter=150,verbose=False)\n",
        "9.  MLPClassifier(hidden_layer_sizes=(8,2),activation='relu',solver='adam',max_iter=100,verbose=False)\n",
        "10. MLPClassifier(hidden_layer_sizes=(8,2),activation='logistic',solver='SGD',max_iter=100,verbose=False)\n"
      ]
    },
    {
      "cell_type": "code",
      "metadata": {
        "id": "Hs6wzCPCfxMz",
        "outputId": "122cf9b8-1e2b-4f36-e4f1-41cf9106973b"
      },
      "source": [
        "# 1. MLPClassifier(hidden_layer_sizes=(10,),activation='relu',solver='adam',max_iter=100,verbose=False)\n",
        "media_f, media_a = arquitetura(1, 4, 'relu', 'adam', 100)\n",
        "FScore_arqs2.append(media_f)\n",
        "Acuracia_arqs2.append(media_a)"
      ],
      "execution_count": null,
      "outputs": [
        {
          "name": "stdout",
          "output_type": "stream",
          "text": [
            "Desvio Padrão Acurácia: 0.003754319558293256 \n",
            "Média Acurácia: 0.7005786824551742 \n",
            "Desvio Padrão F-Score: 0.0034425158623880747 \n",
            "Média F-Score: 0.7147772009768608\n"
          ]
        }
      ]
    },
    {
      "cell_type": "code",
      "metadata": {
        "id": "CfOYuQQLlYtR",
        "colab": {
          "base_uri": "https://localhost:8080/"
        },
        "outputId": "8d13ba53-6eac-4e1d-fd5c-c475c9c9e9d9"
      },
      "source": [
        "# 2. MLPClassifier(hidden_layer_sizes=(10,),activation='relu',solver='SGD',max_iter=100,verbose=False)\n",
        "media_f, media_a = arquitetura(1, 4, 'logistic', 'sgd', 100)\n",
        "FScore_arqs2.append(media_f)\n",
        "Acuracia_arqs2.append(media_a)"
      ],
      "execution_count": null,
      "outputs": [
        {
          "output_type": "stream",
          "name": "stderr",
          "text": [
            "/usr/local/lib/python3.7/dist-packages/sklearn/neural_network/_multilayer_perceptron.py:696: ConvergenceWarning: Stochastic Optimizer: Maximum iterations (100) reached and the optimization hasn't converged yet.\n",
            "  ConvergenceWarning,\n",
            "/usr/local/lib/python3.7/dist-packages/sklearn/neural_network/_multilayer_perceptron.py:696: ConvergenceWarning: Stochastic Optimizer: Maximum iterations (100) reached and the optimization hasn't converged yet.\n",
            "  ConvergenceWarning,\n",
            "/usr/local/lib/python3.7/dist-packages/sklearn/neural_network/_multilayer_perceptron.py:696: ConvergenceWarning: Stochastic Optimizer: Maximum iterations (100) reached and the optimization hasn't converged yet.\n",
            "  ConvergenceWarning,\n",
            "/usr/local/lib/python3.7/dist-packages/sklearn/neural_network/_multilayer_perceptron.py:696: ConvergenceWarning: Stochastic Optimizer: Maximum iterations (100) reached and the optimization hasn't converged yet.\n",
            "  ConvergenceWarning,\n",
            "/usr/local/lib/python3.7/dist-packages/sklearn/neural_network/_multilayer_perceptron.py:696: ConvergenceWarning: Stochastic Optimizer: Maximum iterations (100) reached and the optimization hasn't converged yet.\n",
            "  ConvergenceWarning,\n",
            "/usr/local/lib/python3.7/dist-packages/sklearn/neural_network/_multilayer_perceptron.py:696: ConvergenceWarning: Stochastic Optimizer: Maximum iterations (100) reached and the optimization hasn't converged yet.\n",
            "  ConvergenceWarning,\n",
            "/usr/local/lib/python3.7/dist-packages/sklearn/neural_network/_multilayer_perceptron.py:696: ConvergenceWarning: Stochastic Optimizer: Maximum iterations (100) reached and the optimization hasn't converged yet.\n",
            "  ConvergenceWarning,\n",
            "/usr/local/lib/python3.7/dist-packages/sklearn/neural_network/_multilayer_perceptron.py:696: ConvergenceWarning: Stochastic Optimizer: Maximum iterations (100) reached and the optimization hasn't converged yet.\n",
            "  ConvergenceWarning,\n",
            "/usr/local/lib/python3.7/dist-packages/sklearn/neural_network/_multilayer_perceptron.py:696: ConvergenceWarning: Stochastic Optimizer: Maximum iterations (100) reached and the optimization hasn't converged yet.\n",
            "  ConvergenceWarning,\n",
            "/usr/local/lib/python3.7/dist-packages/sklearn/neural_network/_multilayer_perceptron.py:696: ConvergenceWarning: Stochastic Optimizer: Maximum iterations (100) reached and the optimization hasn't converged yet.\n",
            "  ConvergenceWarning,\n",
            "/usr/local/lib/python3.7/dist-packages/sklearn/neural_network/_multilayer_perceptron.py:696: ConvergenceWarning: Stochastic Optimizer: Maximum iterations (100) reached and the optimization hasn't converged yet.\n",
            "  ConvergenceWarning,\n",
            "/usr/local/lib/python3.7/dist-packages/sklearn/neural_network/_multilayer_perceptron.py:696: ConvergenceWarning: Stochastic Optimizer: Maximum iterations (100) reached and the optimization hasn't converged yet.\n",
            "  ConvergenceWarning,\n",
            "/usr/local/lib/python3.7/dist-packages/sklearn/neural_network/_multilayer_perceptron.py:696: ConvergenceWarning: Stochastic Optimizer: Maximum iterations (100) reached and the optimization hasn't converged yet.\n",
            "  ConvergenceWarning,\n",
            "/usr/local/lib/python3.7/dist-packages/sklearn/neural_network/_multilayer_perceptron.py:696: ConvergenceWarning: Stochastic Optimizer: Maximum iterations (100) reached and the optimization hasn't converged yet.\n",
            "  ConvergenceWarning,\n",
            "/usr/local/lib/python3.7/dist-packages/sklearn/neural_network/_multilayer_perceptron.py:696: ConvergenceWarning: Stochastic Optimizer: Maximum iterations (100) reached and the optimization hasn't converged yet.\n",
            "  ConvergenceWarning,\n"
          ]
        },
        {
          "output_type": "stream",
          "name": "stdout",
          "text": [
            "Desvio Padrão Acurácia: 0.001480581475649442 \n",
            "Média Acurácia: 0.6979595037023437 \n",
            "Desvio Padrão F-Score: 0.0019158120752484915 \n",
            "Média F-Score: 0.7190991839667905\n"
          ]
        }
      ]
    },
    {
      "cell_type": "code",
      "metadata": {
        "id": "Ot5-fYWzlY0s",
        "outputId": "2daa5a1a-4a40-42d3-eebb-9796bd38a491"
      },
      "source": [
        "# 3. MLPClassifier(hidden_layer_sizes=(10,),activation='logistic',solver='adam',max_iter=150,verbose=False)\n",
        "media_f, media_a = arquitetura(1, 4, 'relu', 'adam', 150)\n",
        "FScore_arqs2.append(media_f)\n",
        "Acuracia_arqs2.append(media_a)"
      ],
      "execution_count": null,
      "outputs": [
        {
          "name": "stdout",
          "output_type": "stream",
          "text": [
            "Desvio Padrão Acurácia: 0.004395674914818868 \n",
            "Média Acurácia: 0.6997074077473838 \n",
            "Desvio Padrão F-Score: 0.0037827331660121332 \n",
            "Média F-Score: 0.7144345697053864\n"
          ]
        }
      ]
    },
    {
      "cell_type": "code",
      "metadata": {
        "id": "L24A3Is8lY6y",
        "colab": {
          "base_uri": "https://localhost:8080/"
        },
        "outputId": "b55f2af1-c67b-4550-e9d8-102dcb6b3110"
      },
      "source": [
        "# 4. MLPClassifier(hidden_layer_sizes=(10,),activation='relu',solver='adSGDam',max_iter=200,verbose=False)\n",
        "media_f, media_a = arquitetura(1, 4, 'logistic', 'sgd', 200)\n",
        "FScore_arqs2.append(media_f)\n",
        "Acuracia_arqs2.append(media_a)"
      ],
      "execution_count": null,
      "outputs": [
        {
          "output_type": "stream",
          "name": "stdout",
          "text": [
            "Desvio Padrão Acurácia: 0.0016027304105878735 \n",
            "Média Acurácia: 0.6988158619423536 \n",
            "Desvio Padrão F-Score: 0.002572551402284052 \n",
            "Média F-Score: 0.7188206792537234\n"
          ]
        }
      ]
    },
    {
      "cell_type": "code",
      "metadata": {
        "id": "2PutQspilZAg",
        "outputId": "bdef0378-01a7-4523-d551-a8950949d80c"
      },
      "source": [
        "# 5. MLPClassifier(hidden_layer_sizes=(10,),activation='logistic',solver='adam',max_iter=200,verbose=False)\n",
        "media_f, media_a = arquitetura(1, 4, 'relu', 'adam', 100)\n",
        "FScore_arqs2.append(media_f)\n",
        "Acuracia_arqs2.append(media_a)"
      ],
      "execution_count": null,
      "outputs": [
        {
          "name": "stdout",
          "output_type": "stream",
          "text": [
            "Desvio Padrão Acurácia: 0.003330780680980354 \n",
            "Média Acurácia: 0.7018538492136345 \n",
            "Desvio Padrão F-Score: 0.0026421078971209057 \n",
            "Média F-Score: 0.7161965554894917\n"
          ]
        }
      ]
    },
    {
      "cell_type": "code",
      "metadata": {
        "id": "4gYaYzG8lZGG",
        "colab": {
          "base_uri": "https://localhost:8080/"
        },
        "outputId": "663da1d8-e6fd-48e1-84c5-b7400a1c805a"
      },
      "source": [
        "# 6. MLPClassifier(hidden_layer_sizes=(10,),activation='relu',solver='SGD',max_iter=100,verbose=False)\n",
        "media_f, media_a = arquitetura(1, 4, 'logistic', 'sgd', 100)\n",
        "FScore_arqs2.append(media_f)\n",
        "Acuracia_arqs2.append(media_a)"
      ],
      "execution_count": null,
      "outputs": [
        {
          "output_type": "stream",
          "name": "stderr",
          "text": [
            "/usr/local/lib/python3.7/dist-packages/sklearn/neural_network/_multilayer_perceptron.py:696: ConvergenceWarning: Stochastic Optimizer: Maximum iterations (100) reached and the optimization hasn't converged yet.\n",
            "  ConvergenceWarning,\n",
            "/usr/local/lib/python3.7/dist-packages/sklearn/neural_network/_multilayer_perceptron.py:696: ConvergenceWarning: Stochastic Optimizer: Maximum iterations (100) reached and the optimization hasn't converged yet.\n",
            "  ConvergenceWarning,\n",
            "/usr/local/lib/python3.7/dist-packages/sklearn/neural_network/_multilayer_perceptron.py:696: ConvergenceWarning: Stochastic Optimizer: Maximum iterations (100) reached and the optimization hasn't converged yet.\n",
            "  ConvergenceWarning,\n",
            "/usr/local/lib/python3.7/dist-packages/sklearn/neural_network/_multilayer_perceptron.py:696: ConvergenceWarning: Stochastic Optimizer: Maximum iterations (100) reached and the optimization hasn't converged yet.\n",
            "  ConvergenceWarning,\n",
            "/usr/local/lib/python3.7/dist-packages/sklearn/neural_network/_multilayer_perceptron.py:696: ConvergenceWarning: Stochastic Optimizer: Maximum iterations (100) reached and the optimization hasn't converged yet.\n",
            "  ConvergenceWarning,\n",
            "/usr/local/lib/python3.7/dist-packages/sklearn/neural_network/_multilayer_perceptron.py:696: ConvergenceWarning: Stochastic Optimizer: Maximum iterations (100) reached and the optimization hasn't converged yet.\n",
            "  ConvergenceWarning,\n",
            "/usr/local/lib/python3.7/dist-packages/sklearn/neural_network/_multilayer_perceptron.py:696: ConvergenceWarning: Stochastic Optimizer: Maximum iterations (100) reached and the optimization hasn't converged yet.\n",
            "  ConvergenceWarning,\n",
            "/usr/local/lib/python3.7/dist-packages/sklearn/neural_network/_multilayer_perceptron.py:696: ConvergenceWarning: Stochastic Optimizer: Maximum iterations (100) reached and the optimization hasn't converged yet.\n",
            "  ConvergenceWarning,\n",
            "/usr/local/lib/python3.7/dist-packages/sklearn/neural_network/_multilayer_perceptron.py:696: ConvergenceWarning: Stochastic Optimizer: Maximum iterations (100) reached and the optimization hasn't converged yet.\n",
            "  ConvergenceWarning,\n",
            "/usr/local/lib/python3.7/dist-packages/sklearn/neural_network/_multilayer_perceptron.py:696: ConvergenceWarning: Stochastic Optimizer: Maximum iterations (100) reached and the optimization hasn't converged yet.\n",
            "  ConvergenceWarning,\n",
            "/usr/local/lib/python3.7/dist-packages/sklearn/neural_network/_multilayer_perceptron.py:696: ConvergenceWarning: Stochastic Optimizer: Maximum iterations (100) reached and the optimization hasn't converged yet.\n",
            "  ConvergenceWarning,\n",
            "/usr/local/lib/python3.7/dist-packages/sklearn/neural_network/_multilayer_perceptron.py:696: ConvergenceWarning: Stochastic Optimizer: Maximum iterations (100) reached and the optimization hasn't converged yet.\n",
            "  ConvergenceWarning,\n",
            "/usr/local/lib/python3.7/dist-packages/sklearn/neural_network/_multilayer_perceptron.py:696: ConvergenceWarning: Stochastic Optimizer: Maximum iterations (100) reached and the optimization hasn't converged yet.\n",
            "  ConvergenceWarning,\n",
            "/usr/local/lib/python3.7/dist-packages/sklearn/neural_network/_multilayer_perceptron.py:696: ConvergenceWarning: Stochastic Optimizer: Maximum iterations (100) reached and the optimization hasn't converged yet.\n",
            "  ConvergenceWarning,\n",
            "/usr/local/lib/python3.7/dist-packages/sklearn/neural_network/_multilayer_perceptron.py:696: ConvergenceWarning: Stochastic Optimizer: Maximum iterations (100) reached and the optimization hasn't converged yet.\n",
            "  ConvergenceWarning,\n"
          ]
        },
        {
          "output_type": "stream",
          "name": "stdout",
          "text": [
            "Desvio Padrão Acurácia: 0.0020689229021360733 \n",
            "Média Acurácia: 0.6968354139893519 \n",
            "Desvio Padrão F-Score: 0.0014819578778320257 \n",
            "Média F-Score: 0.7189550844554377\n"
          ]
        }
      ]
    },
    {
      "cell_type": "code",
      "metadata": {
        "id": "1XjevB5nlZK8",
        "outputId": "30b36ea8-aaf7-418a-ca59-1cc7dbfa95be"
      },
      "source": [
        "# 7. MLPClassifier(hidden_layer_sizes=(10,),activation='relu',solver='adam',max_iter=100,verbose=False)\n",
        "media_f, media_a = arquitetura(1, 4, 'relu', 'adam', 100)\n",
        "FScore_arqs2.append(media_f)\n",
        "Acuracia_arqs2.append(media_a)"
      ],
      "execution_count": null,
      "outputs": [
        {
          "name": "stderr",
          "output_type": "stream",
          "text": [
            "/home/elloa/.conda/envs/gpr-ufcg/lib/python3.9/site-packages/sklearn/neural_network/_multilayer_perceptron.py:614: ConvergenceWarning: Stochastic Optimizer: Maximum iterations (100) reached and the optimization hasn't converged yet.\n",
            "  warnings.warn(\n"
          ]
        },
        {
          "name": "stdout",
          "output_type": "stream",
          "text": [
            "Desvio Padrão Acurácia: 0.004355134336501288 \n",
            "Média Acurácia: 0.7017333700507924 \n",
            "Desvio Padrão F-Score: 0.004056461475189312 \n",
            "Média F-Score: 0.715362605045117\n"
          ]
        }
      ]
    },
    {
      "cell_type": "code",
      "metadata": {
        "id": "p9o10dFGlZPV",
        "colab": {
          "base_uri": "https://localhost:8080/"
        },
        "outputId": "5730517c-8cab-40d4-af3d-b4d9b1b01023"
      },
      "source": [
        "# 8. MLPClassifier(hidden_layer_sizes=(10,),activation='logistic',solver='SGD',max_iter=150,verbose=False)\n",
        "media_f, media_a = arquitetura(1, 4, 'logistic', 'sgd', 150)\n",
        "FScore_arqs2.append(media_f)\n",
        "Acuracia_arqs2.append(media_a)"
      ],
      "execution_count": null,
      "outputs": [
        {
          "output_type": "stream",
          "name": "stderr",
          "text": [
            "/usr/local/lib/python3.7/dist-packages/sklearn/neural_network/_multilayer_perceptron.py:696: ConvergenceWarning: Stochastic Optimizer: Maximum iterations (150) reached and the optimization hasn't converged yet.\n",
            "  ConvergenceWarning,\n",
            "/usr/local/lib/python3.7/dist-packages/sklearn/neural_network/_multilayer_perceptron.py:696: ConvergenceWarning: Stochastic Optimizer: Maximum iterations (150) reached and the optimization hasn't converged yet.\n",
            "  ConvergenceWarning,\n",
            "/usr/local/lib/python3.7/dist-packages/sklearn/neural_network/_multilayer_perceptron.py:696: ConvergenceWarning: Stochastic Optimizer: Maximum iterations (150) reached and the optimization hasn't converged yet.\n",
            "  ConvergenceWarning,\n"
          ]
        },
        {
          "output_type": "stream",
          "name": "stdout",
          "text": [
            "Desvio Padrão Acurácia: 0.0009264469047169734 \n",
            "Média Acurácia: 0.6978420843277646 \n",
            "Desvio Padrão F-Score: 0.0015716276522397 \n",
            "Média F-Score: 0.7167682973307415\n"
          ]
        }
      ]
    },
    {
      "cell_type": "code",
      "metadata": {
        "id": "lkzq5ta1lZUu",
        "outputId": "57b72374-55f5-4d44-988b-d2d779d166d1"
      },
      "source": [
        "# 9. MLPClassifier(hidden_layer_sizes=(10,),activation='relu',solver='adam',max_iter=100,verbose=False)\n",
        "media_f, media_a = arquitetura(1, 4, 'relu', 'adam', 100)\n",
        "FScore_arqs2.append(media_f)\n",
        "Acuracia_arqs2.append(media_a)"
      ],
      "execution_count": null,
      "outputs": [
        {
          "name": "stdout",
          "output_type": "stream",
          "text": [
            "Desvio Padrão Acurácia: 0.003687514705609679 \n",
            "Média Acurácia: 0.7005913040817576 \n",
            "Desvio Padrão F-Score: 0.002719570402105005 \n",
            "Média F-Score: 0.715303805282409\n"
          ]
        }
      ]
    },
    {
      "cell_type": "code",
      "metadata": {
        "id": "jG70exd7lZbh",
        "colab": {
          "base_uri": "https://localhost:8080/"
        },
        "outputId": "0f7cae0c-7800-46f1-9161-c106f7e8b852"
      },
      "source": [
        "# 10. MLPClassifier(hidden_layer_sizes=(10,),activation='relu',solver='SGD',max_iter=100,verbose=False)\n",
        "media_f, media_a = arquitetura(1, 4, 'logistic', 'sgd', 100)\n",
        "FScore_arqs2.append(media_f)\n",
        "Acuracia_arqs2.append(media_a)"
      ],
      "execution_count": null,
      "outputs": [
        {
          "output_type": "stream",
          "name": "stderr",
          "text": [
            "/usr/local/lib/python3.7/dist-packages/sklearn/neural_network/_multilayer_perceptron.py:696: ConvergenceWarning: Stochastic Optimizer: Maximum iterations (100) reached and the optimization hasn't converged yet.\n",
            "  ConvergenceWarning,\n",
            "/usr/local/lib/python3.7/dist-packages/sklearn/neural_network/_multilayer_perceptron.py:696: ConvergenceWarning: Stochastic Optimizer: Maximum iterations (100) reached and the optimization hasn't converged yet.\n",
            "  ConvergenceWarning,\n",
            "/usr/local/lib/python3.7/dist-packages/sklearn/neural_network/_multilayer_perceptron.py:696: ConvergenceWarning: Stochastic Optimizer: Maximum iterations (100) reached and the optimization hasn't converged yet.\n",
            "  ConvergenceWarning,\n",
            "/usr/local/lib/python3.7/dist-packages/sklearn/neural_network/_multilayer_perceptron.py:696: ConvergenceWarning: Stochastic Optimizer: Maximum iterations (100) reached and the optimization hasn't converged yet.\n",
            "  ConvergenceWarning,\n",
            "/usr/local/lib/python3.7/dist-packages/sklearn/neural_network/_multilayer_perceptron.py:696: ConvergenceWarning: Stochastic Optimizer: Maximum iterations (100) reached and the optimization hasn't converged yet.\n",
            "  ConvergenceWarning,\n",
            "/usr/local/lib/python3.7/dist-packages/sklearn/neural_network/_multilayer_perceptron.py:696: ConvergenceWarning: Stochastic Optimizer: Maximum iterations (100) reached and the optimization hasn't converged yet.\n",
            "  ConvergenceWarning,\n",
            "/usr/local/lib/python3.7/dist-packages/sklearn/neural_network/_multilayer_perceptron.py:696: ConvergenceWarning: Stochastic Optimizer: Maximum iterations (100) reached and the optimization hasn't converged yet.\n",
            "  ConvergenceWarning,\n",
            "/usr/local/lib/python3.7/dist-packages/sklearn/neural_network/_multilayer_perceptron.py:696: ConvergenceWarning: Stochastic Optimizer: Maximum iterations (100) reached and the optimization hasn't converged yet.\n",
            "  ConvergenceWarning,\n",
            "/usr/local/lib/python3.7/dist-packages/sklearn/neural_network/_multilayer_perceptron.py:696: ConvergenceWarning: Stochastic Optimizer: Maximum iterations (100) reached and the optimization hasn't converged yet.\n",
            "  ConvergenceWarning,\n",
            "/usr/local/lib/python3.7/dist-packages/sklearn/neural_network/_multilayer_perceptron.py:696: ConvergenceWarning: Stochastic Optimizer: Maximum iterations (100) reached and the optimization hasn't converged yet.\n",
            "  ConvergenceWarning,\n",
            "/usr/local/lib/python3.7/dist-packages/sklearn/neural_network/_multilayer_perceptron.py:696: ConvergenceWarning: Stochastic Optimizer: Maximum iterations (100) reached and the optimization hasn't converged yet.\n",
            "  ConvergenceWarning,\n",
            "/usr/local/lib/python3.7/dist-packages/sklearn/neural_network/_multilayer_perceptron.py:696: ConvergenceWarning: Stochastic Optimizer: Maximum iterations (100) reached and the optimization hasn't converged yet.\n",
            "  ConvergenceWarning,\n",
            "/usr/local/lib/python3.7/dist-packages/sklearn/neural_network/_multilayer_perceptron.py:696: ConvergenceWarning: Stochastic Optimizer: Maximum iterations (100) reached and the optimization hasn't converged yet.\n",
            "  ConvergenceWarning,\n",
            "/usr/local/lib/python3.7/dist-packages/sklearn/neural_network/_multilayer_perceptron.py:696: ConvergenceWarning: Stochastic Optimizer: Maximum iterations (100) reached and the optimization hasn't converged yet.\n",
            "  ConvergenceWarning,\n",
            "/usr/local/lib/python3.7/dist-packages/sklearn/neural_network/_multilayer_perceptron.py:696: ConvergenceWarning: Stochastic Optimizer: Maximum iterations (100) reached and the optimization hasn't converged yet.\n",
            "  ConvergenceWarning,\n"
          ]
        },
        {
          "output_type": "stream",
          "name": "stdout",
          "text": [
            "Desvio Padrão Acurácia: 0.0013902528335180482 \n",
            "Média Acurácia: 0.6969562756257267 \n",
            "Desvio Padrão F-Score: 0.002226615241863175 \n",
            "Média F-Score: 0.7190170771204389\n"
          ]
        }
      ]
    },
    {
      "cell_type": "markdown",
      "metadata": {
        "id": "KVAsbyuFiIo1"
      },
      "source": [
        "**Alpha 3**\n",
        "1.   MLPClassifier(hidden_layer_sizes=(24,),activation='relu',solver='adam',max_iter=100,verbose=False)\n",
        "2.   MLPClassifier(hidden_layer_sizes=(24,),activation='relu',solver='SGD',max_iter=100,verbose=False)\n",
        "3.   MLPClassifier(hidden_layer_sizes=(24,),activation='logistic',solver='adam',max_iter=150,verbose=False)\n",
        "4.  MLPClassifier(hidden_layer_sizes=(24,),activation='relu',solver='SGD',max_iter=200,verbose=False)\n",
        "5.  MLPClassifier(hidden_layer_sizes=(24,),activation='logistic',solver='adam',max_iter=200,verbose=False)\n",
        "6.  MLPClassifier(hidden_layer_sizes=(12,2),activation='relu',solver='SGD',max_iter=100,verbose=False)\n",
        "7.  MLPClassifier(hidden_layer_sizes=(12,2),activation='relu',solver='adam',max_iter=100,verbose=False)\n",
        "8.  MLPClassifier(hidden_layer_sizes=(12,2),activation='logistic',solver='SGD',max_iter=150,verbose=False)\n",
        "9.  MLPClassifier(hidden_layer_sizes=(12,2),activation='relu',solver='SGD',max_iter=200,verbose=False)\n",
        "10. MLPClassifier(hidden_layer_sizes=(12,2),activation='relu',solver='adam',max_iter=200,verbose=False)\n"
      ]
    },
    {
      "cell_type": "code",
      "metadata": {
        "id": "2m5kdK5QdaiW",
        "outputId": "dcc67f04-36a8-4c47-877d-7a0909407e08"
      },
      "source": [
        "# 1. MLPClassifier(hidden_layer_sizes=(24,),activation='relu',solver='adam',max_iter=100,verbose=False)\n",
        "media_f, media_a = arquitetura(1, 25, 'relu', 'adam', 100)\n",
        "FScore_arqs2.append(media_f)\n",
        "Acuracia_arqs2.append(media_a)"
      ],
      "execution_count": null,
      "outputs": [
        {
          "name": "stderr",
          "output_type": "stream",
          "text": [
            "/home/elloa/.conda/envs/gpr-ufcg/lib/python3.9/site-packages/sklearn/neural_network/_multilayer_perceptron.py:614: ConvergenceWarning: Stochastic Optimizer: Maximum iterations (100) reached and the optimization hasn't converged yet.\n",
            "  warnings.warn(\n",
            "/home/elloa/.conda/envs/gpr-ufcg/lib/python3.9/site-packages/sklearn/neural_network/_multilayer_perceptron.py:614: ConvergenceWarning: Stochastic Optimizer: Maximum iterations (100) reached and the optimization hasn't converged yet.\n",
            "  warnings.warn(\n",
            "/home/elloa/.conda/envs/gpr-ufcg/lib/python3.9/site-packages/sklearn/neural_network/_multilayer_perceptron.py:614: ConvergenceWarning: Stochastic Optimizer: Maximum iterations (100) reached and the optimization hasn't converged yet.\n",
            "  warnings.warn(\n",
            "/home/elloa/.conda/envs/gpr-ufcg/lib/python3.9/site-packages/sklearn/neural_network/_multilayer_perceptron.py:614: ConvergenceWarning: Stochastic Optimizer: Maximum iterations (100) reached and the optimization hasn't converged yet.\n",
            "  warnings.warn(\n",
            "/home/elloa/.conda/envs/gpr-ufcg/lib/python3.9/site-packages/sklearn/neural_network/_multilayer_perceptron.py:614: ConvergenceWarning: Stochastic Optimizer: Maximum iterations (100) reached and the optimization hasn't converged yet.\n",
            "  warnings.warn(\n",
            "/home/elloa/.conda/envs/gpr-ufcg/lib/python3.9/site-packages/sklearn/neural_network/_multilayer_perceptron.py:614: ConvergenceWarning: Stochastic Optimizer: Maximum iterations (100) reached and the optimization hasn't converged yet.\n",
            "  warnings.warn(\n",
            "/home/elloa/.conda/envs/gpr-ufcg/lib/python3.9/site-packages/sklearn/neural_network/_multilayer_perceptron.py:614: ConvergenceWarning: Stochastic Optimizer: Maximum iterations (100) reached and the optimization hasn't converged yet.\n",
            "  warnings.warn(\n",
            "/home/elloa/.conda/envs/gpr-ufcg/lib/python3.9/site-packages/sklearn/neural_network/_multilayer_perceptron.py:614: ConvergenceWarning: Stochastic Optimizer: Maximum iterations (100) reached and the optimization hasn't converged yet.\n",
            "  warnings.warn(\n",
            "/home/elloa/.conda/envs/gpr-ufcg/lib/python3.9/site-packages/sklearn/neural_network/_multilayer_perceptron.py:614: ConvergenceWarning: Stochastic Optimizer: Maximum iterations (100) reached and the optimization hasn't converged yet.\n",
            "  warnings.warn(\n",
            "/home/elloa/.conda/envs/gpr-ufcg/lib/python3.9/site-packages/sklearn/neural_network/_multilayer_perceptron.py:614: ConvergenceWarning: Stochastic Optimizer: Maximum iterations (100) reached and the optimization hasn't converged yet.\n",
            "  warnings.warn(\n",
            "/home/elloa/.conda/envs/gpr-ufcg/lib/python3.9/site-packages/sklearn/neural_network/_multilayer_perceptron.py:614: ConvergenceWarning: Stochastic Optimizer: Maximum iterations (100) reached and the optimization hasn't converged yet.\n",
            "  warnings.warn(\n",
            "/home/elloa/.conda/envs/gpr-ufcg/lib/python3.9/site-packages/sklearn/neural_network/_multilayer_perceptron.py:614: ConvergenceWarning: Stochastic Optimizer: Maximum iterations (100) reached and the optimization hasn't converged yet.\n",
            "  warnings.warn(\n",
            "/home/elloa/.conda/envs/gpr-ufcg/lib/python3.9/site-packages/sklearn/neural_network/_multilayer_perceptron.py:614: ConvergenceWarning: Stochastic Optimizer: Maximum iterations (100) reached and the optimization hasn't converged yet.\n",
            "  warnings.warn(\n",
            "/home/elloa/.conda/envs/gpr-ufcg/lib/python3.9/site-packages/sklearn/neural_network/_multilayer_perceptron.py:614: ConvergenceWarning: Stochastic Optimizer: Maximum iterations (100) reached and the optimization hasn't converged yet.\n",
            "  warnings.warn(\n"
          ]
        },
        {
          "name": "stdout",
          "output_type": "stream",
          "text": [
            "Desvio Padrão Acurácia: 0.002635626363566987 \n",
            "Média Acurácia: 0.7413759867817148 \n",
            "Desvio Padrão F-Score: 0.0031541770427993628 \n",
            "Média F-Score: 0.7479268244118178\n"
          ]
        }
      ]
    },
    {
      "cell_type": "code",
      "metadata": {
        "id": "gyAiBrdQmP5a",
        "colab": {
          "base_uri": "https://localhost:8080/"
        },
        "outputId": "c9bc977c-a737-4d0e-8e30-0ef4943c0c3e"
      },
      "source": [
        "# 2. MLPClassifier(hidden_layer_sizes=(24,),activation='relu',solver='SGD',max_iter=100,verbose=False)\n",
        "media_f, media_a = arquitetura(1, 25, 'relu', 'sgd', 100)\n",
        "FScore_arqs2.append(media_f)\n",
        "Acuracia_arqs2.append(media_a)"
      ],
      "execution_count": null,
      "outputs": [
        {
          "output_type": "stream",
          "name": "stderr",
          "text": [
            "/usr/local/lib/python3.7/dist-packages/sklearn/neural_network/_multilayer_perceptron.py:696: ConvergenceWarning: Stochastic Optimizer: Maximum iterations (100) reached and the optimization hasn't converged yet.\n",
            "  ConvergenceWarning,\n",
            "/usr/local/lib/python3.7/dist-packages/sklearn/neural_network/_multilayer_perceptron.py:696: ConvergenceWarning: Stochastic Optimizer: Maximum iterations (100) reached and the optimization hasn't converged yet.\n",
            "  ConvergenceWarning,\n",
            "/usr/local/lib/python3.7/dist-packages/sklearn/neural_network/_multilayer_perceptron.py:696: ConvergenceWarning: Stochastic Optimizer: Maximum iterations (100) reached and the optimization hasn't converged yet.\n",
            "  ConvergenceWarning,\n",
            "/usr/local/lib/python3.7/dist-packages/sklearn/neural_network/_multilayer_perceptron.py:696: ConvergenceWarning: Stochastic Optimizer: Maximum iterations (100) reached and the optimization hasn't converged yet.\n",
            "  ConvergenceWarning,\n",
            "/usr/local/lib/python3.7/dist-packages/sklearn/neural_network/_multilayer_perceptron.py:696: ConvergenceWarning: Stochastic Optimizer: Maximum iterations (100) reached and the optimization hasn't converged yet.\n",
            "  ConvergenceWarning,\n",
            "/usr/local/lib/python3.7/dist-packages/sklearn/neural_network/_multilayer_perceptron.py:696: ConvergenceWarning: Stochastic Optimizer: Maximum iterations (100) reached and the optimization hasn't converged yet.\n",
            "  ConvergenceWarning,\n",
            "/usr/local/lib/python3.7/dist-packages/sklearn/neural_network/_multilayer_perceptron.py:696: ConvergenceWarning: Stochastic Optimizer: Maximum iterations (100) reached and the optimization hasn't converged yet.\n",
            "  ConvergenceWarning,\n",
            "/usr/local/lib/python3.7/dist-packages/sklearn/neural_network/_multilayer_perceptron.py:696: ConvergenceWarning: Stochastic Optimizer: Maximum iterations (100) reached and the optimization hasn't converged yet.\n",
            "  ConvergenceWarning,\n",
            "/usr/local/lib/python3.7/dist-packages/sklearn/neural_network/_multilayer_perceptron.py:696: ConvergenceWarning: Stochastic Optimizer: Maximum iterations (100) reached and the optimization hasn't converged yet.\n",
            "  ConvergenceWarning,\n",
            "/usr/local/lib/python3.7/dist-packages/sklearn/neural_network/_multilayer_perceptron.py:696: ConvergenceWarning: Stochastic Optimizer: Maximum iterations (100) reached and the optimization hasn't converged yet.\n",
            "  ConvergenceWarning,\n",
            "/usr/local/lib/python3.7/dist-packages/sklearn/neural_network/_multilayer_perceptron.py:696: ConvergenceWarning: Stochastic Optimizer: Maximum iterations (100) reached and the optimization hasn't converged yet.\n",
            "  ConvergenceWarning,\n",
            "/usr/local/lib/python3.7/dist-packages/sklearn/neural_network/_multilayer_perceptron.py:696: ConvergenceWarning: Stochastic Optimizer: Maximum iterations (100) reached and the optimization hasn't converged yet.\n",
            "  ConvergenceWarning,\n",
            "/usr/local/lib/python3.7/dist-packages/sklearn/neural_network/_multilayer_perceptron.py:696: ConvergenceWarning: Stochastic Optimizer: Maximum iterations (100) reached and the optimization hasn't converged yet.\n",
            "  ConvergenceWarning,\n",
            "/usr/local/lib/python3.7/dist-packages/sklearn/neural_network/_multilayer_perceptron.py:696: ConvergenceWarning: Stochastic Optimizer: Maximum iterations (100) reached and the optimization hasn't converged yet.\n",
            "  ConvergenceWarning,\n",
            "/usr/local/lib/python3.7/dist-packages/sklearn/neural_network/_multilayer_perceptron.py:696: ConvergenceWarning: Stochastic Optimizer: Maximum iterations (100) reached and the optimization hasn't converged yet.\n",
            "  ConvergenceWarning,\n"
          ]
        },
        {
          "output_type": "stream",
          "name": "stdout",
          "text": [
            "Desvio Padrão Acurácia: 0.002271087580615002 \n",
            "Média Acurácia: 0.7297981304693716 \n",
            "Desvio Padrão F-Score: 0.0021364769934328538 \n",
            "Média F-Score: 0.7388107005162196\n"
          ]
        }
      ]
    },
    {
      "cell_type": "code",
      "metadata": {
        "id": "pyaGxn0hmQN5",
        "outputId": "a8211aab-f4d8-46c8-9650-66d336d73f03"
      },
      "source": [
        "# 3. MLPClassifier(hidden_layer_sizes=(24,),activation='logistic',solver='adam',max_iter=150,verbose=False)\n",
        "media_f, media_a = arquitetura(1, 25, 'logistic', 'adam', 150)\n",
        "FScore_arqs2.append(media_f)\n",
        "Acuracia_arqs2.append(media_a)"
      ],
      "execution_count": null,
      "outputs": [
        {
          "name": "stderr",
          "output_type": "stream",
          "text": [
            "/home/elloa/.conda/envs/gpr-ufcg/lib/python3.9/site-packages/sklearn/neural_network/_multilayer_perceptron.py:614: ConvergenceWarning: Stochastic Optimizer: Maximum iterations (150) reached and the optimization hasn't converged yet.\n",
            "  warnings.warn(\n",
            "/home/elloa/.conda/envs/gpr-ufcg/lib/python3.9/site-packages/sklearn/neural_network/_multilayer_perceptron.py:614: ConvergenceWarning: Stochastic Optimizer: Maximum iterations (150) reached and the optimization hasn't converged yet.\n",
            "  warnings.warn(\n",
            "/home/elloa/.conda/envs/gpr-ufcg/lib/python3.9/site-packages/sklearn/neural_network/_multilayer_perceptron.py:614: ConvergenceWarning: Stochastic Optimizer: Maximum iterations (150) reached and the optimization hasn't converged yet.\n",
            "  warnings.warn(\n",
            "/home/elloa/.conda/envs/gpr-ufcg/lib/python3.9/site-packages/sklearn/neural_network/_multilayer_perceptron.py:614: ConvergenceWarning: Stochastic Optimizer: Maximum iterations (150) reached and the optimization hasn't converged yet.\n",
            "  warnings.warn(\n",
            "/home/elloa/.conda/envs/gpr-ufcg/lib/python3.9/site-packages/sklearn/neural_network/_multilayer_perceptron.py:614: ConvergenceWarning: Stochastic Optimizer: Maximum iterations (150) reached and the optimization hasn't converged yet.\n",
            "  warnings.warn(\n",
            "/home/elloa/.conda/envs/gpr-ufcg/lib/python3.9/site-packages/sklearn/neural_network/_multilayer_perceptron.py:614: ConvergenceWarning: Stochastic Optimizer: Maximum iterations (150) reached and the optimization hasn't converged yet.\n",
            "  warnings.warn(\n",
            "/home/elloa/.conda/envs/gpr-ufcg/lib/python3.9/site-packages/sklearn/neural_network/_multilayer_perceptron.py:614: ConvergenceWarning: Stochastic Optimizer: Maximum iterations (150) reached and the optimization hasn't converged yet.\n",
            "  warnings.warn(\n",
            "/home/elloa/.conda/envs/gpr-ufcg/lib/python3.9/site-packages/sklearn/neural_network/_multilayer_perceptron.py:614: ConvergenceWarning: Stochastic Optimizer: Maximum iterations (150) reached and the optimization hasn't converged yet.\n",
            "  warnings.warn(\n",
            "/home/elloa/.conda/envs/gpr-ufcg/lib/python3.9/site-packages/sklearn/neural_network/_multilayer_perceptron.py:614: ConvergenceWarning: Stochastic Optimizer: Maximum iterations (150) reached and the optimization hasn't converged yet.\n",
            "  warnings.warn(\n",
            "/home/elloa/.conda/envs/gpr-ufcg/lib/python3.9/site-packages/sklearn/neural_network/_multilayer_perceptron.py:614: ConvergenceWarning: Stochastic Optimizer: Maximum iterations (150) reached and the optimization hasn't converged yet.\n",
            "  warnings.warn(\n",
            "/home/elloa/.conda/envs/gpr-ufcg/lib/python3.9/site-packages/sklearn/neural_network/_multilayer_perceptron.py:614: ConvergenceWarning: Stochastic Optimizer: Maximum iterations (150) reached and the optimization hasn't converged yet.\n",
            "  warnings.warn(\n",
            "/home/elloa/.conda/envs/gpr-ufcg/lib/python3.9/site-packages/sklearn/neural_network/_multilayer_perceptron.py:614: ConvergenceWarning: Stochastic Optimizer: Maximum iterations (150) reached and the optimization hasn't converged yet.\n",
            "  warnings.warn(\n"
          ]
        },
        {
          "name": "stdout",
          "output_type": "stream",
          "text": [
            "Desvio Padrão Acurácia: 0.003356681292865782 \n",
            "Média Acurácia: 0.7470932011504803 \n",
            "Desvio Padrão F-Score: 0.0034084728473328515 \n",
            "Média F-Score: 0.7539163897665984\n"
          ]
        }
      ]
    },
    {
      "cell_type": "code",
      "metadata": {
        "id": "v7cZgZa-mQRt",
        "colab": {
          "base_uri": "https://localhost:8080/"
        },
        "outputId": "75c0b22f-5cb7-4e06-e028-5ac8dec8de27"
      },
      "source": [
        "# 4. MLPClassifier(hidden_layer_sizes=(24,),activation='relu',solver='SGD',max_iter=200,verbose=False)\n",
        "media_f, media_a = arquitetura(1, 25, 'relu', 'sgd', 200)\n",
        "FScore_arqs2.append(media_f)\n",
        "Acuracia_arqs2.append(media_a)"
      ],
      "execution_count": null,
      "outputs": [
        {
          "output_type": "stream",
          "name": "stderr",
          "text": [
            "/usr/local/lib/python3.7/dist-packages/sklearn/neural_network/_multilayer_perceptron.py:696: ConvergenceWarning: Stochastic Optimizer: Maximum iterations (200) reached and the optimization hasn't converged yet.\n",
            "  ConvergenceWarning,\n",
            "/usr/local/lib/python3.7/dist-packages/sklearn/neural_network/_multilayer_perceptron.py:696: ConvergenceWarning: Stochastic Optimizer: Maximum iterations (200) reached and the optimization hasn't converged yet.\n",
            "  ConvergenceWarning,\n",
            "/usr/local/lib/python3.7/dist-packages/sklearn/neural_network/_multilayer_perceptron.py:696: ConvergenceWarning: Stochastic Optimizer: Maximum iterations (200) reached and the optimization hasn't converged yet.\n",
            "  ConvergenceWarning,\n",
            "/usr/local/lib/python3.7/dist-packages/sklearn/neural_network/_multilayer_perceptron.py:696: ConvergenceWarning: Stochastic Optimizer: Maximum iterations (200) reached and the optimization hasn't converged yet.\n",
            "  ConvergenceWarning,\n",
            "/usr/local/lib/python3.7/dist-packages/sklearn/neural_network/_multilayer_perceptron.py:696: ConvergenceWarning: Stochastic Optimizer: Maximum iterations (200) reached and the optimization hasn't converged yet.\n",
            "  ConvergenceWarning,\n",
            "/usr/local/lib/python3.7/dist-packages/sklearn/neural_network/_multilayer_perceptron.py:696: ConvergenceWarning: Stochastic Optimizer: Maximum iterations (200) reached and the optimization hasn't converged yet.\n",
            "  ConvergenceWarning,\n",
            "/usr/local/lib/python3.7/dist-packages/sklearn/neural_network/_multilayer_perceptron.py:696: ConvergenceWarning: Stochastic Optimizer: Maximum iterations (200) reached and the optimization hasn't converged yet.\n",
            "  ConvergenceWarning,\n",
            "/usr/local/lib/python3.7/dist-packages/sklearn/neural_network/_multilayer_perceptron.py:696: ConvergenceWarning: Stochastic Optimizer: Maximum iterations (200) reached and the optimization hasn't converged yet.\n",
            "  ConvergenceWarning,\n",
            "/usr/local/lib/python3.7/dist-packages/sklearn/neural_network/_multilayer_perceptron.py:696: ConvergenceWarning: Stochastic Optimizer: Maximum iterations (200) reached and the optimization hasn't converged yet.\n",
            "  ConvergenceWarning,\n",
            "/usr/local/lib/python3.7/dist-packages/sklearn/neural_network/_multilayer_perceptron.py:696: ConvergenceWarning: Stochastic Optimizer: Maximum iterations (200) reached and the optimization hasn't converged yet.\n",
            "  ConvergenceWarning,\n"
          ]
        },
        {
          "output_type": "stream",
          "name": "stdout",
          "text": [
            "Desvio Padrão Acurácia: 0.0020521655095380354 \n",
            "Média Acurácia: 0.7356813383513859 \n",
            "Desvio Padrão F-Score: 0.0021250637589542033 \n",
            "Média F-Score: 0.7439780960316463\n"
          ]
        }
      ]
    },
    {
      "cell_type": "code",
      "metadata": {
        "id": "zg3lyt6UmQUq",
        "outputId": "0bad10a8-629b-4faa-dd8c-51678ae0e67a"
      },
      "source": [
        "# 5. MLPClassifier(hidden_layer_sizes=(24,),activation='logistic',solver='adam',max_iter=200,verbose=False)\n",
        "media_f, media_a = arquitetura(1, 25, 'logistic', 'adam', 200)\n",
        "FScore_arqs2.append(media_f)\n",
        "Acuracia_arqs2.append(media_a)"
      ],
      "execution_count": null,
      "outputs": [
        {
          "name": "stderr",
          "output_type": "stream",
          "text": [
            "/home/elloa/.conda/envs/gpr-ufcg/lib/python3.9/site-packages/sklearn/neural_network/_multilayer_perceptron.py:614: ConvergenceWarning: Stochastic Optimizer: Maximum iterations (200) reached and the optimization hasn't converged yet.\n",
            "  warnings.warn(\n",
            "/home/elloa/.conda/envs/gpr-ufcg/lib/python3.9/site-packages/sklearn/neural_network/_multilayer_perceptron.py:614: ConvergenceWarning: Stochastic Optimizer: Maximum iterations (200) reached and the optimization hasn't converged yet.\n",
            "  warnings.warn(\n",
            "/home/elloa/.conda/envs/gpr-ufcg/lib/python3.9/site-packages/sklearn/neural_network/_multilayer_perceptron.py:614: ConvergenceWarning: Stochastic Optimizer: Maximum iterations (200) reached and the optimization hasn't converged yet.\n",
            "  warnings.warn(\n",
            "/home/elloa/.conda/envs/gpr-ufcg/lib/python3.9/site-packages/sklearn/neural_network/_multilayer_perceptron.py:614: ConvergenceWarning: Stochastic Optimizer: Maximum iterations (200) reached and the optimization hasn't converged yet.\n",
            "  warnings.warn(\n",
            "/home/elloa/.conda/envs/gpr-ufcg/lib/python3.9/site-packages/sklearn/neural_network/_multilayer_perceptron.py:614: ConvergenceWarning: Stochastic Optimizer: Maximum iterations (200) reached and the optimization hasn't converged yet.\n",
            "  warnings.warn(\n"
          ]
        },
        {
          "name": "stdout",
          "output_type": "stream",
          "text": [
            "Desvio Padrão Acurácia: 0.0038430670318996456 \n",
            "Média Acurácia: 0.7487917661097853 \n",
            "Desvio Padrão F-Score: 0.003815039797196513 \n",
            "Média F-Score: 0.7557262400293626\n"
          ]
        },
        {
          "name": "stderr",
          "output_type": "stream",
          "text": [
            "/home/elloa/.conda/envs/gpr-ufcg/lib/python3.9/site-packages/sklearn/neural_network/_multilayer_perceptron.py:614: ConvergenceWarning: Stochastic Optimizer: Maximum iterations (200) reached and the optimization hasn't converged yet.\n",
            "  warnings.warn(\n"
          ]
        }
      ]
    },
    {
      "cell_type": "code",
      "metadata": {
        "id": "E91bxZEBmQXf",
        "colab": {
          "base_uri": "https://localhost:8080/"
        },
        "outputId": "7e39c017-af76-49a0-9e08-5b8d66f8615d"
      },
      "source": [
        "\n",
        "# 6. MLPClassifier(hidden_layer_sizes=(12,2),activation='relu',solver='SGD',max_iter=100,verbose=False)\n",
        "media_f, media_a = arquitetura(1, 25, 'relu', 'sgd', 100)\n",
        "FScore_arqs2.append(media_f)\n",
        "Acuracia_arqs2.append(media_a)"
      ],
      "execution_count": null,
      "outputs": [
        {
          "output_type": "stream",
          "name": "stderr",
          "text": [
            "/usr/local/lib/python3.7/dist-packages/sklearn/neural_network/_multilayer_perceptron.py:696: ConvergenceWarning: Stochastic Optimizer: Maximum iterations (100) reached and the optimization hasn't converged yet.\n",
            "  ConvergenceWarning,\n",
            "/usr/local/lib/python3.7/dist-packages/sklearn/neural_network/_multilayer_perceptron.py:696: ConvergenceWarning: Stochastic Optimizer: Maximum iterations (100) reached and the optimization hasn't converged yet.\n",
            "  ConvergenceWarning,\n",
            "/usr/local/lib/python3.7/dist-packages/sklearn/neural_network/_multilayer_perceptron.py:696: ConvergenceWarning: Stochastic Optimizer: Maximum iterations (100) reached and the optimization hasn't converged yet.\n",
            "  ConvergenceWarning,\n",
            "/usr/local/lib/python3.7/dist-packages/sklearn/neural_network/_multilayer_perceptron.py:696: ConvergenceWarning: Stochastic Optimizer: Maximum iterations (100) reached and the optimization hasn't converged yet.\n",
            "  ConvergenceWarning,\n",
            "/usr/local/lib/python3.7/dist-packages/sklearn/neural_network/_multilayer_perceptron.py:696: ConvergenceWarning: Stochastic Optimizer: Maximum iterations (100) reached and the optimization hasn't converged yet.\n",
            "  ConvergenceWarning,\n",
            "/usr/local/lib/python3.7/dist-packages/sklearn/neural_network/_multilayer_perceptron.py:696: ConvergenceWarning: Stochastic Optimizer: Maximum iterations (100) reached and the optimization hasn't converged yet.\n",
            "  ConvergenceWarning,\n",
            "/usr/local/lib/python3.7/dist-packages/sklearn/neural_network/_multilayer_perceptron.py:696: ConvergenceWarning: Stochastic Optimizer: Maximum iterations (100) reached and the optimization hasn't converged yet.\n",
            "  ConvergenceWarning,\n",
            "/usr/local/lib/python3.7/dist-packages/sklearn/neural_network/_multilayer_perceptron.py:696: ConvergenceWarning: Stochastic Optimizer: Maximum iterations (100) reached and the optimization hasn't converged yet.\n",
            "  ConvergenceWarning,\n",
            "/usr/local/lib/python3.7/dist-packages/sklearn/neural_network/_multilayer_perceptron.py:696: ConvergenceWarning: Stochastic Optimizer: Maximum iterations (100) reached and the optimization hasn't converged yet.\n",
            "  ConvergenceWarning,\n",
            "/usr/local/lib/python3.7/dist-packages/sklearn/neural_network/_multilayer_perceptron.py:696: ConvergenceWarning: Stochastic Optimizer: Maximum iterations (100) reached and the optimization hasn't converged yet.\n",
            "  ConvergenceWarning,\n",
            "/usr/local/lib/python3.7/dist-packages/sklearn/neural_network/_multilayer_perceptron.py:696: ConvergenceWarning: Stochastic Optimizer: Maximum iterations (100) reached and the optimization hasn't converged yet.\n",
            "  ConvergenceWarning,\n",
            "/usr/local/lib/python3.7/dist-packages/sklearn/neural_network/_multilayer_perceptron.py:696: ConvergenceWarning: Stochastic Optimizer: Maximum iterations (100) reached and the optimization hasn't converged yet.\n",
            "  ConvergenceWarning,\n",
            "/usr/local/lib/python3.7/dist-packages/sklearn/neural_network/_multilayer_perceptron.py:696: ConvergenceWarning: Stochastic Optimizer: Maximum iterations (100) reached and the optimization hasn't converged yet.\n",
            "  ConvergenceWarning,\n",
            "/usr/local/lib/python3.7/dist-packages/sklearn/neural_network/_multilayer_perceptron.py:696: ConvergenceWarning: Stochastic Optimizer: Maximum iterations (100) reached and the optimization hasn't converged yet.\n",
            "  ConvergenceWarning,\n",
            "/usr/local/lib/python3.7/dist-packages/sklearn/neural_network/_multilayer_perceptron.py:696: ConvergenceWarning: Stochastic Optimizer: Maximum iterations (100) reached and the optimization hasn't converged yet.\n",
            "  ConvergenceWarning,\n"
          ]
        },
        {
          "output_type": "stream",
          "name": "stdout",
          "text": [
            "Desvio Padrão Acurácia: 0.0023624847396919463 \n",
            "Média Acurácia: 0.7294890918548437 \n",
            "Desvio Padrão F-Score: 0.0024132090663712604 \n",
            "Média F-Score: 0.7383430311892573\n"
          ]
        }
      ]
    },
    {
      "cell_type": "code",
      "metadata": {
        "id": "gyuIyrFWmQas",
        "outputId": "dae80fb9-d198-443b-ca19-4e90bf9e22ef"
      },
      "source": [
        "\n",
        "# 7. MLPClassifier(hidden_layer_sizes=(12,2),activation='relu',solver='adam',max_iter=100,verbose=False)\n",
        "media_f, media_a = arquitetura(2, 12, 'relu', 'adam', 100)\n",
        "FScore_arqs2.append(media_f)\n",
        "Acuracia_arqs2.append(media_a)"
      ],
      "execution_count": null,
      "outputs": [
        {
          "name": "stderr",
          "output_type": "stream",
          "text": [
            "/home/elloa/.conda/envs/gpr-ufcg/lib/python3.9/site-packages/sklearn/neural_network/_multilayer_perceptron.py:614: ConvergenceWarning: Stochastic Optimizer: Maximum iterations (100) reached and the optimization hasn't converged yet.\n",
            "  warnings.warn(\n",
            "/home/elloa/.conda/envs/gpr-ufcg/lib/python3.9/site-packages/sklearn/neural_network/_multilayer_perceptron.py:614: ConvergenceWarning: Stochastic Optimizer: Maximum iterations (100) reached and the optimization hasn't converged yet.\n",
            "  warnings.warn(\n",
            "/home/elloa/.conda/envs/gpr-ufcg/lib/python3.9/site-packages/sklearn/neural_network/_multilayer_perceptron.py:614: ConvergenceWarning: Stochastic Optimizer: Maximum iterations (100) reached and the optimization hasn't converged yet.\n",
            "  warnings.warn(\n",
            "/home/elloa/.conda/envs/gpr-ufcg/lib/python3.9/site-packages/sklearn/neural_network/_multilayer_perceptron.py:614: ConvergenceWarning: Stochastic Optimizer: Maximum iterations (100) reached and the optimization hasn't converged yet.\n",
            "  warnings.warn(\n",
            "/home/elloa/.conda/envs/gpr-ufcg/lib/python3.9/site-packages/sklearn/neural_network/_multilayer_perceptron.py:614: ConvergenceWarning: Stochastic Optimizer: Maximum iterations (100) reached and the optimization hasn't converged yet.\n",
            "  warnings.warn(\n",
            "/home/elloa/.conda/envs/gpr-ufcg/lib/python3.9/site-packages/sklearn/neural_network/_multilayer_perceptron.py:614: ConvergenceWarning: Stochastic Optimizer: Maximum iterations (100) reached and the optimization hasn't converged yet.\n",
            "  warnings.warn(\n",
            "/home/elloa/.conda/envs/gpr-ufcg/lib/python3.9/site-packages/sklearn/neural_network/_multilayer_perceptron.py:614: ConvergenceWarning: Stochastic Optimizer: Maximum iterations (100) reached and the optimization hasn't converged yet.\n",
            "  warnings.warn(\n",
            "/home/elloa/.conda/envs/gpr-ufcg/lib/python3.9/site-packages/sklearn/neural_network/_multilayer_perceptron.py:614: ConvergenceWarning: Stochastic Optimizer: Maximum iterations (100) reached and the optimization hasn't converged yet.\n",
            "  warnings.warn(\n",
            "/home/elloa/.conda/envs/gpr-ufcg/lib/python3.9/site-packages/sklearn/neural_network/_multilayer_perceptron.py:614: ConvergenceWarning: Stochastic Optimizer: Maximum iterations (100) reached and the optimization hasn't converged yet.\n",
            "  warnings.warn(\n",
            "/home/elloa/.conda/envs/gpr-ufcg/lib/python3.9/site-packages/sklearn/neural_network/_multilayer_perceptron.py:614: ConvergenceWarning: Stochastic Optimizer: Maximum iterations (100) reached and the optimization hasn't converged yet.\n",
            "  warnings.warn(\n",
            "/home/elloa/.conda/envs/gpr-ufcg/lib/python3.9/site-packages/sklearn/neural_network/_multilayer_perceptron.py:614: ConvergenceWarning: Stochastic Optimizer: Maximum iterations (100) reached and the optimization hasn't converged yet.\n",
            "  warnings.warn(\n"
          ]
        },
        {
          "name": "stdout",
          "output_type": "stream",
          "text": [
            "Desvio Padrão Acurácia: 0.010162174146160666 \n",
            "Média Acurácia: 0.7148621565387676 \n",
            "Desvio Padrão F-Score: 0.006319751316495101 \n",
            "Média F-Score: 0.7281525372435068\n"
          ]
        },
        {
          "name": "stderr",
          "output_type": "stream",
          "text": [
            "/home/elloa/.conda/envs/gpr-ufcg/lib/python3.9/site-packages/sklearn/neural_network/_multilayer_perceptron.py:614: ConvergenceWarning: Stochastic Optimizer: Maximum iterations (100) reached and the optimization hasn't converged yet.\n",
            "  warnings.warn(\n"
          ]
        }
      ]
    },
    {
      "cell_type": "code",
      "metadata": {
        "id": "qQifnrdmmQe-",
        "colab": {
          "base_uri": "https://localhost:8080/"
        },
        "outputId": "0f959db6-eb69-4398-aa98-f2489cb8eae0"
      },
      "source": [
        "# 8. MLPClassifier(hidden_layer_sizes=(12,2),activation='logistic',solver='SGD',max_iter=150,verbose=False)\n",
        "media_f, media_a = arquitetura(1, 25, 'logistic', 'sgd', 150)\n",
        "FScore_arqs2.append(media_f)\n",
        "Acuracia_arqs2.append(media_a)"
      ],
      "execution_count": null,
      "outputs": [
        {
          "output_type": "stream",
          "name": "stderr",
          "text": [
            "/usr/local/lib/python3.7/dist-packages/sklearn/neural_network/_multilayer_perceptron.py:696: ConvergenceWarning: Stochastic Optimizer: Maximum iterations (150) reached and the optimization hasn't converged yet.\n",
            "  ConvergenceWarning,\n",
            "/usr/local/lib/python3.7/dist-packages/sklearn/neural_network/_multilayer_perceptron.py:696: ConvergenceWarning: Stochastic Optimizer: Maximum iterations (150) reached and the optimization hasn't converged yet.\n",
            "  ConvergenceWarning,\n",
            "/usr/local/lib/python3.7/dist-packages/sklearn/neural_network/_multilayer_perceptron.py:696: ConvergenceWarning: Stochastic Optimizer: Maximum iterations (150) reached and the optimization hasn't converged yet.\n",
            "  ConvergenceWarning,\n",
            "/usr/local/lib/python3.7/dist-packages/sklearn/neural_network/_multilayer_perceptron.py:696: ConvergenceWarning: Stochastic Optimizer: Maximum iterations (150) reached and the optimization hasn't converged yet.\n",
            "  ConvergenceWarning,\n",
            "/usr/local/lib/python3.7/dist-packages/sklearn/neural_network/_multilayer_perceptron.py:696: ConvergenceWarning: Stochastic Optimizer: Maximum iterations (150) reached and the optimization hasn't converged yet.\n",
            "  ConvergenceWarning,\n",
            "/usr/local/lib/python3.7/dist-packages/sklearn/neural_network/_multilayer_perceptron.py:696: ConvergenceWarning: Stochastic Optimizer: Maximum iterations (150) reached and the optimization hasn't converged yet.\n",
            "  ConvergenceWarning,\n",
            "/usr/local/lib/python3.7/dist-packages/sklearn/neural_network/_multilayer_perceptron.py:696: ConvergenceWarning: Stochastic Optimizer: Maximum iterations (150) reached and the optimization hasn't converged yet.\n",
            "  ConvergenceWarning,\n",
            "/usr/local/lib/python3.7/dist-packages/sklearn/neural_network/_multilayer_perceptron.py:696: ConvergenceWarning: Stochastic Optimizer: Maximum iterations (150) reached and the optimization hasn't converged yet.\n",
            "  ConvergenceWarning,\n",
            "/usr/local/lib/python3.7/dist-packages/sklearn/neural_network/_multilayer_perceptron.py:696: ConvergenceWarning: Stochastic Optimizer: Maximum iterations (150) reached and the optimization hasn't converged yet.\n",
            "  ConvergenceWarning,\n",
            "/usr/local/lib/python3.7/dist-packages/sklearn/neural_network/_multilayer_perceptron.py:696: ConvergenceWarning: Stochastic Optimizer: Maximum iterations (150) reached and the optimization hasn't converged yet.\n",
            "  ConvergenceWarning,\n",
            "/usr/local/lib/python3.7/dist-packages/sklearn/neural_network/_multilayer_perceptron.py:696: ConvergenceWarning: Stochastic Optimizer: Maximum iterations (150) reached and the optimization hasn't converged yet.\n",
            "  ConvergenceWarning,\n",
            "/usr/local/lib/python3.7/dist-packages/sklearn/neural_network/_multilayer_perceptron.py:696: ConvergenceWarning: Stochastic Optimizer: Maximum iterations (150) reached and the optimization hasn't converged yet.\n",
            "  ConvergenceWarning,\n",
            "/usr/local/lib/python3.7/dist-packages/sklearn/neural_network/_multilayer_perceptron.py:696: ConvergenceWarning: Stochastic Optimizer: Maximum iterations (150) reached and the optimization hasn't converged yet.\n",
            "  ConvergenceWarning,\n",
            "/usr/local/lib/python3.7/dist-packages/sklearn/neural_network/_multilayer_perceptron.py:696: ConvergenceWarning: Stochastic Optimizer: Maximum iterations (150) reached and the optimization hasn't converged yet.\n",
            "  ConvergenceWarning,\n",
            "/usr/local/lib/python3.7/dist-packages/sklearn/neural_network/_multilayer_perceptron.py:696: ConvergenceWarning: Stochastic Optimizer: Maximum iterations (150) reached and the optimization hasn't converged yet.\n",
            "  ConvergenceWarning,\n"
          ]
        },
        {
          "output_type": "stream",
          "name": "stdout",
          "text": [
            "Desvio Padrão Acurácia: 0.001242111637629921 \n",
            "Média Acurácia: 0.7177276482467414 \n",
            "Desvio Padrão F-Score: 0.001454641438689158 \n",
            "Média F-Score: 0.7313448652842781\n"
          ]
        }
      ]
    },
    {
      "cell_type": "code",
      "metadata": {
        "id": "sQP4OC9RmQi5",
        "colab": {
          "base_uri": "https://localhost:8080/"
        },
        "outputId": "04676b4c-3ca6-4677-af62-3e15df5e2fd7"
      },
      "source": [
        "# 9. MLPClassifier(hidden_layer_sizes=(12,2),activation='relu',solver='SGD',max_iter=200,verbose=False)\n",
        "media_f, media_a = arquitetura(1, 25, 'relu', 'sgd', 200)\n",
        "FScore_arqs2.append(media_f)\n",
        "Acuracia_arqs2.append(media_a)"
      ],
      "execution_count": null,
      "outputs": [
        {
          "output_type": "stream",
          "name": "stderr",
          "text": [
            "/usr/local/lib/python3.7/dist-packages/sklearn/neural_network/_multilayer_perceptron.py:696: ConvergenceWarning: Stochastic Optimizer: Maximum iterations (200) reached and the optimization hasn't converged yet.\n",
            "  ConvergenceWarning,\n",
            "/usr/local/lib/python3.7/dist-packages/sklearn/neural_network/_multilayer_perceptron.py:696: ConvergenceWarning: Stochastic Optimizer: Maximum iterations (200) reached and the optimization hasn't converged yet.\n",
            "  ConvergenceWarning,\n",
            "/usr/local/lib/python3.7/dist-packages/sklearn/neural_network/_multilayer_perceptron.py:696: ConvergenceWarning: Stochastic Optimizer: Maximum iterations (200) reached and the optimization hasn't converged yet.\n",
            "  ConvergenceWarning,\n",
            "/usr/local/lib/python3.7/dist-packages/sklearn/neural_network/_multilayer_perceptron.py:696: ConvergenceWarning: Stochastic Optimizer: Maximum iterations (200) reached and the optimization hasn't converged yet.\n",
            "  ConvergenceWarning,\n",
            "/usr/local/lib/python3.7/dist-packages/sklearn/neural_network/_multilayer_perceptron.py:696: ConvergenceWarning: Stochastic Optimizer: Maximum iterations (200) reached and the optimization hasn't converged yet.\n",
            "  ConvergenceWarning,\n",
            "/usr/local/lib/python3.7/dist-packages/sklearn/neural_network/_multilayer_perceptron.py:696: ConvergenceWarning: Stochastic Optimizer: Maximum iterations (200) reached and the optimization hasn't converged yet.\n",
            "  ConvergenceWarning,\n",
            "/usr/local/lib/python3.7/dist-packages/sklearn/neural_network/_multilayer_perceptron.py:696: ConvergenceWarning: Stochastic Optimizer: Maximum iterations (200) reached and the optimization hasn't converged yet.\n",
            "  ConvergenceWarning,\n",
            "/usr/local/lib/python3.7/dist-packages/sklearn/neural_network/_multilayer_perceptron.py:696: ConvergenceWarning: Stochastic Optimizer: Maximum iterations (200) reached and the optimization hasn't converged yet.\n",
            "  ConvergenceWarning,\n",
            "/usr/local/lib/python3.7/dist-packages/sklearn/neural_network/_multilayer_perceptron.py:696: ConvergenceWarning: Stochastic Optimizer: Maximum iterations (200) reached and the optimization hasn't converged yet.\n",
            "  ConvergenceWarning,\n",
            "/usr/local/lib/python3.7/dist-packages/sklearn/neural_network/_multilayer_perceptron.py:696: ConvergenceWarning: Stochastic Optimizer: Maximum iterations (200) reached and the optimization hasn't converged yet.\n",
            "  ConvergenceWarning,\n",
            "/usr/local/lib/python3.7/dist-packages/sklearn/neural_network/_multilayer_perceptron.py:696: ConvergenceWarning: Stochastic Optimizer: Maximum iterations (200) reached and the optimization hasn't converged yet.\n",
            "  ConvergenceWarning,\n",
            "/usr/local/lib/python3.7/dist-packages/sklearn/neural_network/_multilayer_perceptron.py:696: ConvergenceWarning: Stochastic Optimizer: Maximum iterations (200) reached and the optimization hasn't converged yet.\n",
            "  ConvergenceWarning,\n",
            "/usr/local/lib/python3.7/dist-packages/sklearn/neural_network/_multilayer_perceptron.py:696: ConvergenceWarning: Stochastic Optimizer: Maximum iterations (200) reached and the optimization hasn't converged yet.\n",
            "  ConvergenceWarning,\n",
            "/usr/local/lib/python3.7/dist-packages/sklearn/neural_network/_multilayer_perceptron.py:696: ConvergenceWarning: Stochastic Optimizer: Maximum iterations (200) reached and the optimization hasn't converged yet.\n",
            "  ConvergenceWarning,\n"
          ]
        },
        {
          "output_type": "stream",
          "name": "stdout",
          "text": [
            "Desvio Padrão Acurácia: 0.0028173327029589004 \n",
            "Média Acurácia: 0.7367763600758829 \n",
            "Desvio Padrão F-Score: 0.0029300585637789815 \n",
            "Média F-Score: 0.7447348818150861\n"
          ]
        }
      ]
    },
    {
      "cell_type": "code",
      "metadata": {
        "id": "dwhZ9Et6mQlY",
        "outputId": "9ef16252-1ef1-4e6b-894b-772977131bc5"
      },
      "source": [
        "# 10. MLPClassifier(hidden_layer_sizes=(12,2),activation='relu',solver='adam',max_iter=200,verbose=False)\n",
        "media_f, media_a = arquitetura(1, 25, 'relu', 'adam', 200)\n",
        "FScore_arqs2.append(media_f)\n",
        "Acuracia_arqs2.append(media_a)"
      ],
      "execution_count": null,
      "outputs": [
        {
          "name": "stderr",
          "output_type": "stream",
          "text": [
            "/home/elloa/.conda/envs/gpr-ufcg/lib/python3.9/site-packages/sklearn/neural_network/_multilayer_perceptron.py:614: ConvergenceWarning: Stochastic Optimizer: Maximum iterations (200) reached and the optimization hasn't converged yet.\n",
            "  warnings.warn(\n",
            "/home/elloa/.conda/envs/gpr-ufcg/lib/python3.9/site-packages/sklearn/neural_network/_multilayer_perceptron.py:614: ConvergenceWarning: Stochastic Optimizer: Maximum iterations (200) reached and the optimization hasn't converged yet.\n",
            "  warnings.warn(\n",
            "/home/elloa/.conda/envs/gpr-ufcg/lib/python3.9/site-packages/sklearn/neural_network/_multilayer_perceptron.py:614: ConvergenceWarning: Stochastic Optimizer: Maximum iterations (200) reached and the optimization hasn't converged yet.\n",
            "  warnings.warn(\n"
          ]
        },
        {
          "name": "stdout",
          "output_type": "stream",
          "text": [
            "Desvio Padrão Acurácia: 0.0027362062978545684 \n",
            "Média Acurácia: 0.7407777981763661 \n",
            "Desvio Padrão F-Score: 0.0032705913008260422 \n",
            "Média F-Score: 0.7472630652502832\n"
          ]
        }
      ]
    },
    {
      "cell_type": "markdown",
      "metadata": {
        "id": "ZoJlbDfeHGre"
      },
      "source": [
        "**Top 3**"
      ]
    },
    {
      "cell_type": "code",
      "metadata": {
        "id": "rGZOSchIHZ3r",
        "colab": {
          "base_uri": "https://localhost:8080/"
        },
        "outputId": "5436680d-bd9b-49a6-8166-9cc0a9903cc0"
      },
      "source": [
        "listaAcuracia2 = [0.7018156018603513,0.6988705556575485,0.6994905452542685, 0.6980337035677131, 0.7033137506884523, 0.6981373538951104, 0.7021280827366746, 0.6982803989963896, 0.7020489107153786, 0.6975609662811333, 0.7005786824551742, 0.6979595037023437, 0.6997074077473838, 0.6988158619423536, 0.7018538492136345, 0.6968354139893519, 0.7017333700507924, 0.6978420843277646, 0.7005913040817576, 0.6969562756257267, 0.7413759867817148, 0.7297981304693716, 0.7470932011504803, 0.7356813383513859, 0.7487917661097853, 0.7294890918548437, 0.7148621565387676, 0.7177276482467414, 0.7367763600758829, 0.7407777981763661]\n",
        "listaFScore2 = [0.7164427124196977, 0.7184304693099416, 0.7136145773061793, 0.7198646659190439, 0.7176166213822908, 0.7197300423902603, 0.7165276397772263, 0.7181835631457602, 0.7166348348040705, 0.7189830690314062, 0.7147772009768608, 0.7190991839667905, 0.7144345697053864, 0.7188206792537234, 0.7161965554894917, 0.7189550844554377, 0.715362605045117, 0.7167682973307415, 0.715303805282409, 0.7190170771204389, 0.7479268244118178, 0.7388107005162196, 0.7539163897665984, 0.7439780960316463, 0.7557262400293626, 0.7383430311892573, 0.7281525372435068, 0.7313448652842781, 0.7447348818150861, 0.7472630652502832]\n",
        "\n",
        "listaAcuraciaO2 = sorted(listaAcuracia2)\n",
        "listaFScoreO2 = sorted(listaFScore2)\n",
        "\n",
        "print(\"Top 3: Acurácia\")\n",
        "for i in range(30):\n",
        "    if(listaAcuraciaO2[-1] == listaAcuracia2[i]):\n",
        "        print(i+1,\"-\",listaAcuracia2[i])\n",
        "    elif(listaAcuraciaO2[-2] == listaAcuracia2[i]):\n",
        "        print(i+1,\"-\",listaAcuracia2[i])\n",
        "    elif(listaAcuraciaO2[-3] == listaAcuracia2[i]):\n",
        "        print(i+1,\"-\",listaAcuracia2[i])\n",
        "\n",
        "print(\"Top 3: F-Score\")\n",
        "for i in range(30):\n",
        "    if(listaFScoreO2[-1] == listaFScore2[i]):\n",
        "        print(i+1,\"-\",listaFScore2[i])\n",
        "    elif(listaFScoreO2[-2] == listaFScore2[i]):\n",
        "        print(i+1,\"-\",listaFScore2[i])\n",
        "    elif(listaFScoreO2[-3] == listaFScore2[i]):\n",
        "        print(i+1,\"-\",listaFScore2[i])\n"
      ],
      "execution_count": null,
      "outputs": [
        {
          "output_type": "stream",
          "name": "stdout",
          "text": [
            "Top 3: Acurácia\n",
            "21 - 0.7413759867817148\n",
            "23 - 0.7470932011504803\n",
            "25 - 0.7487917661097853\n",
            "Top 3: F-Score\n",
            "21 - 0.7479268244118178\n",
            "23 - 0.7539163897665984\n",
            "25 - 0.7557262400293626\n"
          ]
        }
      ]
    },
    {
      "cell_type": "markdown",
      "metadata": {
        "id": "ZOe3HvhJ6nSO"
      },
      "source": [
        "## Testando as Redes Neurais com Atributos Categóricos\n",
        "\n",
        "1. Considere as 6 redes neurais obtidas nos dois top-3 anteriores (arquiteturas próprias e regra da pirâmide geométrica)\n",
        "2. Com todos os atributos preditores da base de dados original, incluindo os categóricos, treine e teste estas mesmas redes por 100 repetições  \n",
        "    2.1 Considere o melhor otimizador para cada uma delas  \n",
        "    2.2 Faça uso de 200 épocas para treinamento  \n",
        "    2.2 Apresente os resultados de acurácia e F-Score em termos da média +- dp para cada arquitetura\n",
        "3. Apresente o gráfico boxplot para o F-Score das 6 arquiteturas perante as 100 repetições"
      ]
    },
    {
      "cell_type": "markdown",
      "metadata": {
        "id": "mPC1s2BpH-GH"
      },
      "source": [
        "**Abrindo um novo dataframe com os atributos categóricos**"
      ]
    },
    {
      "cell_type": "code",
      "metadata": {
        "id": "WPfjIkLwH9bt",
        "colab": {
          "base_uri": "https://localhost:8080/"
        },
        "outputId": "f94d06d3-d18a-4475-f376-940ac99aaa34"
      },
      "source": [
        "df2 = pd.read_csv('/content/drive/My Drive/Colab Notebooks/covtype.csv')\n",
        "print(df2)"
      ],
      "execution_count": 8,
      "outputs": [
        {
          "output_type": "stream",
          "name": "stdout",
          "text": [
            "        Elevation  Aspect  Slope  ...  Soil_Type39  Soil_Type40  Cover_Type\n",
            "0            2596      51      3  ...            0            0           5\n",
            "1            2590      56      2  ...            0            0           5\n",
            "2            2804     139      9  ...            0            0           2\n",
            "3            2785     155     18  ...            0            0           2\n",
            "4            2595      45      2  ...            0            0           5\n",
            "...           ...     ...    ...  ...          ...          ...         ...\n",
            "581007       2396     153     20  ...            0            0           3\n",
            "581008       2391     152     19  ...            0            0           3\n",
            "581009       2386     159     17  ...            0            0           3\n",
            "581010       2384     170     15  ...            0            0           3\n",
            "581011       2383     165     13  ...            0            0           3\n",
            "\n",
            "[581012 rows x 55 columns]\n"
          ]
        }
      ]
    },
    {
      "cell_type": "markdown",
      "metadata": {
        "id": "gvGXcTsiIoe1"
      },
      "source": [
        "**Verificando se há inconsistencias**"
      ]
    },
    {
      "cell_type": "code",
      "metadata": {
        "id": "qggD03I-6nST",
        "colab": {
          "base_uri": "https://localhost:8080/"
        },
        "outputId": "cad115e9-c75e-4d26-e35c-da73357dc89c"
      },
      "source": [
        "df2.info()"
      ],
      "execution_count": 9,
      "outputs": [
        {
          "output_type": "stream",
          "name": "stdout",
          "text": [
            "<class 'pandas.core.frame.DataFrame'>\n",
            "RangeIndex: 581012 entries, 0 to 581011\n",
            "Data columns (total 55 columns):\n",
            " #   Column                              Non-Null Count   Dtype\n",
            "---  ------                              --------------   -----\n",
            " 0   Elevation                           581012 non-null  int64\n",
            " 1   Aspect                              581012 non-null  int64\n",
            " 2   Slope                               581012 non-null  int64\n",
            " 3   Horizontal_Distance_To_Hydrology    581012 non-null  int64\n",
            " 4   Vertical_Distance_To_Hydrology      581012 non-null  int64\n",
            " 5   Horizontal_Distance_To_Roadways     581012 non-null  int64\n",
            " 6   Hillshade_9am                       581012 non-null  int64\n",
            " 7   Hillshade_Noon                      581012 non-null  int64\n",
            " 8   Hillshade_3pm                       581012 non-null  int64\n",
            " 9   Horizontal_Distance_To_Fire_Points  581012 non-null  int64\n",
            " 10  Wilderness_Area1                    581012 non-null  int64\n",
            " 11  Wilderness_Area2                    581012 non-null  int64\n",
            " 12  Wilderness_Area3                    581012 non-null  int64\n",
            " 13  Wilderness_Area4                    581012 non-null  int64\n",
            " 14  Soil_Type1                          581012 non-null  int64\n",
            " 15  Soil_Type2                          581012 non-null  int64\n",
            " 16  Soil_Type3                          581012 non-null  int64\n",
            " 17  Soil_Type4                          581012 non-null  int64\n",
            " 18  Soil_Type5                          581012 non-null  int64\n",
            " 19  Soil_Type6                          581012 non-null  int64\n",
            " 20  Soil_Type7                          581012 non-null  int64\n",
            " 21  Soil_Type8                          581012 non-null  int64\n",
            " 22  Soil_Type9                          581012 non-null  int64\n",
            " 23  Soil_Type10                         581012 non-null  int64\n",
            " 24  Soil_Type11                         581012 non-null  int64\n",
            " 25  Soil_Type12                         581012 non-null  int64\n",
            " 26  Soil_Type13                         581012 non-null  int64\n",
            " 27  Soil_Type14                         581012 non-null  int64\n",
            " 28  Soil_Type15                         581012 non-null  int64\n",
            " 29  Soil_Type16                         581012 non-null  int64\n",
            " 30  Soil_Type17                         581012 non-null  int64\n",
            " 31  Soil_Type18                         581012 non-null  int64\n",
            " 32  Soil_Type19                         581012 non-null  int64\n",
            " 33  Soil_Type20                         581012 non-null  int64\n",
            " 34  Soil_Type21                         581012 non-null  int64\n",
            " 35  Soil_Type22                         581012 non-null  int64\n",
            " 36  Soil_Type23                         581012 non-null  int64\n",
            " 37  Soil_Type24                         581012 non-null  int64\n",
            " 38  Soil_Type25                         581012 non-null  int64\n",
            " 39  Soil_Type26                         581012 non-null  int64\n",
            " 40  Soil_Type27                         581012 non-null  int64\n",
            " 41  Soil_Type28                         581012 non-null  int64\n",
            " 42  Soil_Type29                         581012 non-null  int64\n",
            " 43  Soil_Type30                         581012 non-null  int64\n",
            " 44  Soil_Type31                         581012 non-null  int64\n",
            " 45  Soil_Type32                         581012 non-null  int64\n",
            " 46  Soil_Type33                         581012 non-null  int64\n",
            " 47  Soil_Type34                         581012 non-null  int64\n",
            " 48  Soil_Type35                         581012 non-null  int64\n",
            " 49  Soil_Type36                         581012 non-null  int64\n",
            " 50  Soil_Type37                         581012 non-null  int64\n",
            " 51  Soil_Type38                         581012 non-null  int64\n",
            " 52  Soil_Type39                         581012 non-null  int64\n",
            " 53  Soil_Type40                         581012 non-null  int64\n",
            " 54  Cover_Type                          581012 non-null  int64\n",
            "dtypes: int64(55)\n",
            "memory usage: 243.8 MB\n"
          ]
        }
      ]
    },
    {
      "cell_type": "markdown",
      "metadata": {
        "id": "bNm1juwVIywc"
      },
      "source": [
        "**Visão geral do dataframe 2**"
      ]
    },
    {
      "cell_type": "code",
      "metadata": {
        "id": "isuVM_oSI1rG",
        "colab": {
          "base_uri": "https://localhost:8080/",
          "height": 439
        },
        "outputId": "b4ffd0d2-870b-4fb4-a264-b1e7e3b3d537"
      },
      "source": [
        "df2.head(-1)"
      ],
      "execution_count": 10,
      "outputs": [
        {
          "output_type": "execute_result",
          "data": {
            "text/html": [
              "<div>\n",
              "<style scoped>\n",
              "    .dataframe tbody tr th:only-of-type {\n",
              "        vertical-align: middle;\n",
              "    }\n",
              "\n",
              "    .dataframe tbody tr th {\n",
              "        vertical-align: top;\n",
              "    }\n",
              "\n",
              "    .dataframe thead th {\n",
              "        text-align: right;\n",
              "    }\n",
              "</style>\n",
              "<table border=\"1\" class=\"dataframe\">\n",
              "  <thead>\n",
              "    <tr style=\"text-align: right;\">\n",
              "      <th></th>\n",
              "      <th>Elevation</th>\n",
              "      <th>Aspect</th>\n",
              "      <th>Slope</th>\n",
              "      <th>Horizontal_Distance_To_Hydrology</th>\n",
              "      <th>Vertical_Distance_To_Hydrology</th>\n",
              "      <th>Horizontal_Distance_To_Roadways</th>\n",
              "      <th>Hillshade_9am</th>\n",
              "      <th>Hillshade_Noon</th>\n",
              "      <th>Hillshade_3pm</th>\n",
              "      <th>Horizontal_Distance_To_Fire_Points</th>\n",
              "      <th>Wilderness_Area1</th>\n",
              "      <th>Wilderness_Area2</th>\n",
              "      <th>Wilderness_Area3</th>\n",
              "      <th>Wilderness_Area4</th>\n",
              "      <th>Soil_Type1</th>\n",
              "      <th>Soil_Type2</th>\n",
              "      <th>Soil_Type3</th>\n",
              "      <th>Soil_Type4</th>\n",
              "      <th>Soil_Type5</th>\n",
              "      <th>Soil_Type6</th>\n",
              "      <th>Soil_Type7</th>\n",
              "      <th>Soil_Type8</th>\n",
              "      <th>Soil_Type9</th>\n",
              "      <th>Soil_Type10</th>\n",
              "      <th>Soil_Type11</th>\n",
              "      <th>Soil_Type12</th>\n",
              "      <th>Soil_Type13</th>\n",
              "      <th>Soil_Type14</th>\n",
              "      <th>Soil_Type15</th>\n",
              "      <th>Soil_Type16</th>\n",
              "      <th>Soil_Type17</th>\n",
              "      <th>Soil_Type18</th>\n",
              "      <th>Soil_Type19</th>\n",
              "      <th>Soil_Type20</th>\n",
              "      <th>Soil_Type21</th>\n",
              "      <th>Soil_Type22</th>\n",
              "      <th>Soil_Type23</th>\n",
              "      <th>Soil_Type24</th>\n",
              "      <th>Soil_Type25</th>\n",
              "      <th>Soil_Type26</th>\n",
              "      <th>Soil_Type27</th>\n",
              "      <th>Soil_Type28</th>\n",
              "      <th>Soil_Type29</th>\n",
              "      <th>Soil_Type30</th>\n",
              "      <th>Soil_Type31</th>\n",
              "      <th>Soil_Type32</th>\n",
              "      <th>Soil_Type33</th>\n",
              "      <th>Soil_Type34</th>\n",
              "      <th>Soil_Type35</th>\n",
              "      <th>Soil_Type36</th>\n",
              "      <th>Soil_Type37</th>\n",
              "      <th>Soil_Type38</th>\n",
              "      <th>Soil_Type39</th>\n",
              "      <th>Soil_Type40</th>\n",
              "      <th>Cover_Type</th>\n",
              "    </tr>\n",
              "  </thead>\n",
              "  <tbody>\n",
              "    <tr>\n",
              "      <th>0</th>\n",
              "      <td>2596</td>\n",
              "      <td>51</td>\n",
              "      <td>3</td>\n",
              "      <td>258</td>\n",
              "      <td>0</td>\n",
              "      <td>510</td>\n",
              "      <td>221</td>\n",
              "      <td>232</td>\n",
              "      <td>148</td>\n",
              "      <td>6279</td>\n",
              "      <td>1</td>\n",
              "      <td>0</td>\n",
              "      <td>0</td>\n",
              "      <td>0</td>\n",
              "      <td>0</td>\n",
              "      <td>0</td>\n",
              "      <td>0</td>\n",
              "      <td>0</td>\n",
              "      <td>0</td>\n",
              "      <td>0</td>\n",
              "      <td>0</td>\n",
              "      <td>0</td>\n",
              "      <td>0</td>\n",
              "      <td>0</td>\n",
              "      <td>0</td>\n",
              "      <td>0</td>\n",
              "      <td>0</td>\n",
              "      <td>0</td>\n",
              "      <td>0</td>\n",
              "      <td>0</td>\n",
              "      <td>0</td>\n",
              "      <td>0</td>\n",
              "      <td>0</td>\n",
              "      <td>0</td>\n",
              "      <td>0</td>\n",
              "      <td>0</td>\n",
              "      <td>0</td>\n",
              "      <td>0</td>\n",
              "      <td>0</td>\n",
              "      <td>0</td>\n",
              "      <td>0</td>\n",
              "      <td>0</td>\n",
              "      <td>1</td>\n",
              "      <td>0</td>\n",
              "      <td>0</td>\n",
              "      <td>0</td>\n",
              "      <td>0</td>\n",
              "      <td>0</td>\n",
              "      <td>0</td>\n",
              "      <td>0</td>\n",
              "      <td>0</td>\n",
              "      <td>0</td>\n",
              "      <td>0</td>\n",
              "      <td>0</td>\n",
              "      <td>5</td>\n",
              "    </tr>\n",
              "    <tr>\n",
              "      <th>1</th>\n",
              "      <td>2590</td>\n",
              "      <td>56</td>\n",
              "      <td>2</td>\n",
              "      <td>212</td>\n",
              "      <td>-6</td>\n",
              "      <td>390</td>\n",
              "      <td>220</td>\n",
              "      <td>235</td>\n",
              "      <td>151</td>\n",
              "      <td>6225</td>\n",
              "      <td>1</td>\n",
              "      <td>0</td>\n",
              "      <td>0</td>\n",
              "      <td>0</td>\n",
              "      <td>0</td>\n",
              "      <td>0</td>\n",
              "      <td>0</td>\n",
              "      <td>0</td>\n",
              "      <td>0</td>\n",
              "      <td>0</td>\n",
              "      <td>0</td>\n",
              "      <td>0</td>\n",
              "      <td>0</td>\n",
              "      <td>0</td>\n",
              "      <td>0</td>\n",
              "      <td>0</td>\n",
              "      <td>0</td>\n",
              "      <td>0</td>\n",
              "      <td>0</td>\n",
              "      <td>0</td>\n",
              "      <td>0</td>\n",
              "      <td>0</td>\n",
              "      <td>0</td>\n",
              "      <td>0</td>\n",
              "      <td>0</td>\n",
              "      <td>0</td>\n",
              "      <td>0</td>\n",
              "      <td>0</td>\n",
              "      <td>0</td>\n",
              "      <td>0</td>\n",
              "      <td>0</td>\n",
              "      <td>0</td>\n",
              "      <td>1</td>\n",
              "      <td>0</td>\n",
              "      <td>0</td>\n",
              "      <td>0</td>\n",
              "      <td>0</td>\n",
              "      <td>0</td>\n",
              "      <td>0</td>\n",
              "      <td>0</td>\n",
              "      <td>0</td>\n",
              "      <td>0</td>\n",
              "      <td>0</td>\n",
              "      <td>0</td>\n",
              "      <td>5</td>\n",
              "    </tr>\n",
              "    <tr>\n",
              "      <th>2</th>\n",
              "      <td>2804</td>\n",
              "      <td>139</td>\n",
              "      <td>9</td>\n",
              "      <td>268</td>\n",
              "      <td>65</td>\n",
              "      <td>3180</td>\n",
              "      <td>234</td>\n",
              "      <td>238</td>\n",
              "      <td>135</td>\n",
              "      <td>6121</td>\n",
              "      <td>1</td>\n",
              "      <td>0</td>\n",
              "      <td>0</td>\n",
              "      <td>0</td>\n",
              "      <td>0</td>\n",
              "      <td>0</td>\n",
              "      <td>0</td>\n",
              "      <td>0</td>\n",
              "      <td>0</td>\n",
              "      <td>0</td>\n",
              "      <td>0</td>\n",
              "      <td>0</td>\n",
              "      <td>0</td>\n",
              "      <td>0</td>\n",
              "      <td>0</td>\n",
              "      <td>1</td>\n",
              "      <td>0</td>\n",
              "      <td>0</td>\n",
              "      <td>0</td>\n",
              "      <td>0</td>\n",
              "      <td>0</td>\n",
              "      <td>0</td>\n",
              "      <td>0</td>\n",
              "      <td>0</td>\n",
              "      <td>0</td>\n",
              "      <td>0</td>\n",
              "      <td>0</td>\n",
              "      <td>0</td>\n",
              "      <td>0</td>\n",
              "      <td>0</td>\n",
              "      <td>0</td>\n",
              "      <td>0</td>\n",
              "      <td>0</td>\n",
              "      <td>0</td>\n",
              "      <td>0</td>\n",
              "      <td>0</td>\n",
              "      <td>0</td>\n",
              "      <td>0</td>\n",
              "      <td>0</td>\n",
              "      <td>0</td>\n",
              "      <td>0</td>\n",
              "      <td>0</td>\n",
              "      <td>0</td>\n",
              "      <td>0</td>\n",
              "      <td>2</td>\n",
              "    </tr>\n",
              "    <tr>\n",
              "      <th>3</th>\n",
              "      <td>2785</td>\n",
              "      <td>155</td>\n",
              "      <td>18</td>\n",
              "      <td>242</td>\n",
              "      <td>118</td>\n",
              "      <td>3090</td>\n",
              "      <td>238</td>\n",
              "      <td>238</td>\n",
              "      <td>122</td>\n",
              "      <td>6211</td>\n",
              "      <td>1</td>\n",
              "      <td>0</td>\n",
              "      <td>0</td>\n",
              "      <td>0</td>\n",
              "      <td>0</td>\n",
              "      <td>0</td>\n",
              "      <td>0</td>\n",
              "      <td>0</td>\n",
              "      <td>0</td>\n",
              "      <td>0</td>\n",
              "      <td>0</td>\n",
              "      <td>0</td>\n",
              "      <td>0</td>\n",
              "      <td>0</td>\n",
              "      <td>0</td>\n",
              "      <td>0</td>\n",
              "      <td>0</td>\n",
              "      <td>0</td>\n",
              "      <td>0</td>\n",
              "      <td>0</td>\n",
              "      <td>0</td>\n",
              "      <td>0</td>\n",
              "      <td>0</td>\n",
              "      <td>0</td>\n",
              "      <td>0</td>\n",
              "      <td>0</td>\n",
              "      <td>0</td>\n",
              "      <td>0</td>\n",
              "      <td>0</td>\n",
              "      <td>0</td>\n",
              "      <td>0</td>\n",
              "      <td>0</td>\n",
              "      <td>0</td>\n",
              "      <td>1</td>\n",
              "      <td>0</td>\n",
              "      <td>0</td>\n",
              "      <td>0</td>\n",
              "      <td>0</td>\n",
              "      <td>0</td>\n",
              "      <td>0</td>\n",
              "      <td>0</td>\n",
              "      <td>0</td>\n",
              "      <td>0</td>\n",
              "      <td>0</td>\n",
              "      <td>2</td>\n",
              "    </tr>\n",
              "    <tr>\n",
              "      <th>4</th>\n",
              "      <td>2595</td>\n",
              "      <td>45</td>\n",
              "      <td>2</td>\n",
              "      <td>153</td>\n",
              "      <td>-1</td>\n",
              "      <td>391</td>\n",
              "      <td>220</td>\n",
              "      <td>234</td>\n",
              "      <td>150</td>\n",
              "      <td>6172</td>\n",
              "      <td>1</td>\n",
              "      <td>0</td>\n",
              "      <td>0</td>\n",
              "      <td>0</td>\n",
              "      <td>0</td>\n",
              "      <td>0</td>\n",
              "      <td>0</td>\n",
              "      <td>0</td>\n",
              "      <td>0</td>\n",
              "      <td>0</td>\n",
              "      <td>0</td>\n",
              "      <td>0</td>\n",
              "      <td>0</td>\n",
              "      <td>0</td>\n",
              "      <td>0</td>\n",
              "      <td>0</td>\n",
              "      <td>0</td>\n",
              "      <td>0</td>\n",
              "      <td>0</td>\n",
              "      <td>0</td>\n",
              "      <td>0</td>\n",
              "      <td>0</td>\n",
              "      <td>0</td>\n",
              "      <td>0</td>\n",
              "      <td>0</td>\n",
              "      <td>0</td>\n",
              "      <td>0</td>\n",
              "      <td>0</td>\n",
              "      <td>0</td>\n",
              "      <td>0</td>\n",
              "      <td>0</td>\n",
              "      <td>0</td>\n",
              "      <td>1</td>\n",
              "      <td>0</td>\n",
              "      <td>0</td>\n",
              "      <td>0</td>\n",
              "      <td>0</td>\n",
              "      <td>0</td>\n",
              "      <td>0</td>\n",
              "      <td>0</td>\n",
              "      <td>0</td>\n",
              "      <td>0</td>\n",
              "      <td>0</td>\n",
              "      <td>0</td>\n",
              "      <td>5</td>\n",
              "    </tr>\n",
              "    <tr>\n",
              "      <th>...</th>\n",
              "      <td>...</td>\n",
              "      <td>...</td>\n",
              "      <td>...</td>\n",
              "      <td>...</td>\n",
              "      <td>...</td>\n",
              "      <td>...</td>\n",
              "      <td>...</td>\n",
              "      <td>...</td>\n",
              "      <td>...</td>\n",
              "      <td>...</td>\n",
              "      <td>...</td>\n",
              "      <td>...</td>\n",
              "      <td>...</td>\n",
              "      <td>...</td>\n",
              "      <td>...</td>\n",
              "      <td>...</td>\n",
              "      <td>...</td>\n",
              "      <td>...</td>\n",
              "      <td>...</td>\n",
              "      <td>...</td>\n",
              "      <td>...</td>\n",
              "      <td>...</td>\n",
              "      <td>...</td>\n",
              "      <td>...</td>\n",
              "      <td>...</td>\n",
              "      <td>...</td>\n",
              "      <td>...</td>\n",
              "      <td>...</td>\n",
              "      <td>...</td>\n",
              "      <td>...</td>\n",
              "      <td>...</td>\n",
              "      <td>...</td>\n",
              "      <td>...</td>\n",
              "      <td>...</td>\n",
              "      <td>...</td>\n",
              "      <td>...</td>\n",
              "      <td>...</td>\n",
              "      <td>...</td>\n",
              "      <td>...</td>\n",
              "      <td>...</td>\n",
              "      <td>...</td>\n",
              "      <td>...</td>\n",
              "      <td>...</td>\n",
              "      <td>...</td>\n",
              "      <td>...</td>\n",
              "      <td>...</td>\n",
              "      <td>...</td>\n",
              "      <td>...</td>\n",
              "      <td>...</td>\n",
              "      <td>...</td>\n",
              "      <td>...</td>\n",
              "      <td>...</td>\n",
              "      <td>...</td>\n",
              "      <td>...</td>\n",
              "      <td>...</td>\n",
              "    </tr>\n",
              "    <tr>\n",
              "      <th>581006</th>\n",
              "      <td>2401</td>\n",
              "      <td>157</td>\n",
              "      <td>21</td>\n",
              "      <td>90</td>\n",
              "      <td>15</td>\n",
              "      <td>120</td>\n",
              "      <td>238</td>\n",
              "      <td>238</td>\n",
              "      <td>119</td>\n",
              "      <td>830</td>\n",
              "      <td>0</td>\n",
              "      <td>0</td>\n",
              "      <td>1</td>\n",
              "      <td>0</td>\n",
              "      <td>0</td>\n",
              "      <td>1</td>\n",
              "      <td>0</td>\n",
              "      <td>0</td>\n",
              "      <td>0</td>\n",
              "      <td>0</td>\n",
              "      <td>0</td>\n",
              "      <td>0</td>\n",
              "      <td>0</td>\n",
              "      <td>0</td>\n",
              "      <td>0</td>\n",
              "      <td>0</td>\n",
              "      <td>0</td>\n",
              "      <td>0</td>\n",
              "      <td>0</td>\n",
              "      <td>0</td>\n",
              "      <td>0</td>\n",
              "      <td>0</td>\n",
              "      <td>0</td>\n",
              "      <td>0</td>\n",
              "      <td>0</td>\n",
              "      <td>0</td>\n",
              "      <td>0</td>\n",
              "      <td>0</td>\n",
              "      <td>0</td>\n",
              "      <td>0</td>\n",
              "      <td>0</td>\n",
              "      <td>0</td>\n",
              "      <td>0</td>\n",
              "      <td>0</td>\n",
              "      <td>0</td>\n",
              "      <td>0</td>\n",
              "      <td>0</td>\n",
              "      <td>0</td>\n",
              "      <td>0</td>\n",
              "      <td>0</td>\n",
              "      <td>0</td>\n",
              "      <td>0</td>\n",
              "      <td>0</td>\n",
              "      <td>0</td>\n",
              "      <td>3</td>\n",
              "    </tr>\n",
              "    <tr>\n",
              "      <th>581007</th>\n",
              "      <td>2396</td>\n",
              "      <td>153</td>\n",
              "      <td>20</td>\n",
              "      <td>85</td>\n",
              "      <td>17</td>\n",
              "      <td>108</td>\n",
              "      <td>240</td>\n",
              "      <td>237</td>\n",
              "      <td>118</td>\n",
              "      <td>837</td>\n",
              "      <td>0</td>\n",
              "      <td>0</td>\n",
              "      <td>1</td>\n",
              "      <td>0</td>\n",
              "      <td>0</td>\n",
              "      <td>1</td>\n",
              "      <td>0</td>\n",
              "      <td>0</td>\n",
              "      <td>0</td>\n",
              "      <td>0</td>\n",
              "      <td>0</td>\n",
              "      <td>0</td>\n",
              "      <td>0</td>\n",
              "      <td>0</td>\n",
              "      <td>0</td>\n",
              "      <td>0</td>\n",
              "      <td>0</td>\n",
              "      <td>0</td>\n",
              "      <td>0</td>\n",
              "      <td>0</td>\n",
              "      <td>0</td>\n",
              "      <td>0</td>\n",
              "      <td>0</td>\n",
              "      <td>0</td>\n",
              "      <td>0</td>\n",
              "      <td>0</td>\n",
              "      <td>0</td>\n",
              "      <td>0</td>\n",
              "      <td>0</td>\n",
              "      <td>0</td>\n",
              "      <td>0</td>\n",
              "      <td>0</td>\n",
              "      <td>0</td>\n",
              "      <td>0</td>\n",
              "      <td>0</td>\n",
              "      <td>0</td>\n",
              "      <td>0</td>\n",
              "      <td>0</td>\n",
              "      <td>0</td>\n",
              "      <td>0</td>\n",
              "      <td>0</td>\n",
              "      <td>0</td>\n",
              "      <td>0</td>\n",
              "      <td>0</td>\n",
              "      <td>3</td>\n",
              "    </tr>\n",
              "    <tr>\n",
              "      <th>581008</th>\n",
              "      <td>2391</td>\n",
              "      <td>152</td>\n",
              "      <td>19</td>\n",
              "      <td>67</td>\n",
              "      <td>12</td>\n",
              "      <td>95</td>\n",
              "      <td>240</td>\n",
              "      <td>237</td>\n",
              "      <td>119</td>\n",
              "      <td>845</td>\n",
              "      <td>0</td>\n",
              "      <td>0</td>\n",
              "      <td>1</td>\n",
              "      <td>0</td>\n",
              "      <td>0</td>\n",
              "      <td>1</td>\n",
              "      <td>0</td>\n",
              "      <td>0</td>\n",
              "      <td>0</td>\n",
              "      <td>0</td>\n",
              "      <td>0</td>\n",
              "      <td>0</td>\n",
              "      <td>0</td>\n",
              "      <td>0</td>\n",
              "      <td>0</td>\n",
              "      <td>0</td>\n",
              "      <td>0</td>\n",
              "      <td>0</td>\n",
              "      <td>0</td>\n",
              "      <td>0</td>\n",
              "      <td>0</td>\n",
              "      <td>0</td>\n",
              "      <td>0</td>\n",
              "      <td>0</td>\n",
              "      <td>0</td>\n",
              "      <td>0</td>\n",
              "      <td>0</td>\n",
              "      <td>0</td>\n",
              "      <td>0</td>\n",
              "      <td>0</td>\n",
              "      <td>0</td>\n",
              "      <td>0</td>\n",
              "      <td>0</td>\n",
              "      <td>0</td>\n",
              "      <td>0</td>\n",
              "      <td>0</td>\n",
              "      <td>0</td>\n",
              "      <td>0</td>\n",
              "      <td>0</td>\n",
              "      <td>0</td>\n",
              "      <td>0</td>\n",
              "      <td>0</td>\n",
              "      <td>0</td>\n",
              "      <td>0</td>\n",
              "      <td>3</td>\n",
              "    </tr>\n",
              "    <tr>\n",
              "      <th>581009</th>\n",
              "      <td>2386</td>\n",
              "      <td>159</td>\n",
              "      <td>17</td>\n",
              "      <td>60</td>\n",
              "      <td>7</td>\n",
              "      <td>90</td>\n",
              "      <td>236</td>\n",
              "      <td>241</td>\n",
              "      <td>130</td>\n",
              "      <td>854</td>\n",
              "      <td>0</td>\n",
              "      <td>0</td>\n",
              "      <td>1</td>\n",
              "      <td>0</td>\n",
              "      <td>0</td>\n",
              "      <td>1</td>\n",
              "      <td>0</td>\n",
              "      <td>0</td>\n",
              "      <td>0</td>\n",
              "      <td>0</td>\n",
              "      <td>0</td>\n",
              "      <td>0</td>\n",
              "      <td>0</td>\n",
              "      <td>0</td>\n",
              "      <td>0</td>\n",
              "      <td>0</td>\n",
              "      <td>0</td>\n",
              "      <td>0</td>\n",
              "      <td>0</td>\n",
              "      <td>0</td>\n",
              "      <td>0</td>\n",
              "      <td>0</td>\n",
              "      <td>0</td>\n",
              "      <td>0</td>\n",
              "      <td>0</td>\n",
              "      <td>0</td>\n",
              "      <td>0</td>\n",
              "      <td>0</td>\n",
              "      <td>0</td>\n",
              "      <td>0</td>\n",
              "      <td>0</td>\n",
              "      <td>0</td>\n",
              "      <td>0</td>\n",
              "      <td>0</td>\n",
              "      <td>0</td>\n",
              "      <td>0</td>\n",
              "      <td>0</td>\n",
              "      <td>0</td>\n",
              "      <td>0</td>\n",
              "      <td>0</td>\n",
              "      <td>0</td>\n",
              "      <td>0</td>\n",
              "      <td>0</td>\n",
              "      <td>0</td>\n",
              "      <td>3</td>\n",
              "    </tr>\n",
              "    <tr>\n",
              "      <th>581010</th>\n",
              "      <td>2384</td>\n",
              "      <td>170</td>\n",
              "      <td>15</td>\n",
              "      <td>60</td>\n",
              "      <td>5</td>\n",
              "      <td>90</td>\n",
              "      <td>230</td>\n",
              "      <td>245</td>\n",
              "      <td>143</td>\n",
              "      <td>864</td>\n",
              "      <td>0</td>\n",
              "      <td>0</td>\n",
              "      <td>1</td>\n",
              "      <td>0</td>\n",
              "      <td>0</td>\n",
              "      <td>1</td>\n",
              "      <td>0</td>\n",
              "      <td>0</td>\n",
              "      <td>0</td>\n",
              "      <td>0</td>\n",
              "      <td>0</td>\n",
              "      <td>0</td>\n",
              "      <td>0</td>\n",
              "      <td>0</td>\n",
              "      <td>0</td>\n",
              "      <td>0</td>\n",
              "      <td>0</td>\n",
              "      <td>0</td>\n",
              "      <td>0</td>\n",
              "      <td>0</td>\n",
              "      <td>0</td>\n",
              "      <td>0</td>\n",
              "      <td>0</td>\n",
              "      <td>0</td>\n",
              "      <td>0</td>\n",
              "      <td>0</td>\n",
              "      <td>0</td>\n",
              "      <td>0</td>\n",
              "      <td>0</td>\n",
              "      <td>0</td>\n",
              "      <td>0</td>\n",
              "      <td>0</td>\n",
              "      <td>0</td>\n",
              "      <td>0</td>\n",
              "      <td>0</td>\n",
              "      <td>0</td>\n",
              "      <td>0</td>\n",
              "      <td>0</td>\n",
              "      <td>0</td>\n",
              "      <td>0</td>\n",
              "      <td>0</td>\n",
              "      <td>0</td>\n",
              "      <td>0</td>\n",
              "      <td>0</td>\n",
              "      <td>3</td>\n",
              "    </tr>\n",
              "  </tbody>\n",
              "</table>\n",
              "<p>581011 rows × 55 columns</p>\n",
              "</div>"
            ],
            "text/plain": [
              "        Elevation  Aspect  Slope  ...  Soil_Type39  Soil_Type40  Cover_Type\n",
              "0            2596      51      3  ...            0            0           5\n",
              "1            2590      56      2  ...            0            0           5\n",
              "2            2804     139      9  ...            0            0           2\n",
              "3            2785     155     18  ...            0            0           2\n",
              "4            2595      45      2  ...            0            0           5\n",
              "...           ...     ...    ...  ...          ...          ...         ...\n",
              "581006       2401     157     21  ...            0            0           3\n",
              "581007       2396     153     20  ...            0            0           3\n",
              "581008       2391     152     19  ...            0            0           3\n",
              "581009       2386     159     17  ...            0            0           3\n",
              "581010       2384     170     15  ...            0            0           3\n",
              "\n",
              "[581011 rows x 55 columns]"
            ]
          },
          "metadata": {},
          "execution_count": 10
        }
      ]
    },
    {
      "cell_type": "markdown",
      "metadata": {
        "id": "W8y32ZhQJF_4"
      },
      "source": [
        "**Separando atributo alvo dos atributos preditores**"
      ]
    },
    {
      "cell_type": "code",
      "metadata": {
        "id": "uO9hvUcHJNAy",
        "colab": {
          "base_uri": "https://localhost:8080/",
          "height": 224
        },
        "outputId": "86c5bb0f-b42b-4bd8-c154-5bb1d73a012d"
      },
      "source": [
        "Y2 = df2['Cover_Type']\n",
        "df2.drop([\"Cover_Type\"],axis = 1,inplace=True)\n",
        "X2 = df2\n",
        "X2.head()"
      ],
      "execution_count": 11,
      "outputs": [
        {
          "output_type": "execute_result",
          "data": {
            "text/html": [
              "<div>\n",
              "<style scoped>\n",
              "    .dataframe tbody tr th:only-of-type {\n",
              "        vertical-align: middle;\n",
              "    }\n",
              "\n",
              "    .dataframe tbody tr th {\n",
              "        vertical-align: top;\n",
              "    }\n",
              "\n",
              "    .dataframe thead th {\n",
              "        text-align: right;\n",
              "    }\n",
              "</style>\n",
              "<table border=\"1\" class=\"dataframe\">\n",
              "  <thead>\n",
              "    <tr style=\"text-align: right;\">\n",
              "      <th></th>\n",
              "      <th>Elevation</th>\n",
              "      <th>Aspect</th>\n",
              "      <th>Slope</th>\n",
              "      <th>Horizontal_Distance_To_Hydrology</th>\n",
              "      <th>Vertical_Distance_To_Hydrology</th>\n",
              "      <th>Horizontal_Distance_To_Roadways</th>\n",
              "      <th>Hillshade_9am</th>\n",
              "      <th>Hillshade_Noon</th>\n",
              "      <th>Hillshade_3pm</th>\n",
              "      <th>Horizontal_Distance_To_Fire_Points</th>\n",
              "      <th>Wilderness_Area1</th>\n",
              "      <th>Wilderness_Area2</th>\n",
              "      <th>Wilderness_Area3</th>\n",
              "      <th>Wilderness_Area4</th>\n",
              "      <th>Soil_Type1</th>\n",
              "      <th>Soil_Type2</th>\n",
              "      <th>Soil_Type3</th>\n",
              "      <th>Soil_Type4</th>\n",
              "      <th>Soil_Type5</th>\n",
              "      <th>Soil_Type6</th>\n",
              "      <th>Soil_Type7</th>\n",
              "      <th>Soil_Type8</th>\n",
              "      <th>Soil_Type9</th>\n",
              "      <th>Soil_Type10</th>\n",
              "      <th>Soil_Type11</th>\n",
              "      <th>Soil_Type12</th>\n",
              "      <th>Soil_Type13</th>\n",
              "      <th>Soil_Type14</th>\n",
              "      <th>Soil_Type15</th>\n",
              "      <th>Soil_Type16</th>\n",
              "      <th>Soil_Type17</th>\n",
              "      <th>Soil_Type18</th>\n",
              "      <th>Soil_Type19</th>\n",
              "      <th>Soil_Type20</th>\n",
              "      <th>Soil_Type21</th>\n",
              "      <th>Soil_Type22</th>\n",
              "      <th>Soil_Type23</th>\n",
              "      <th>Soil_Type24</th>\n",
              "      <th>Soil_Type25</th>\n",
              "      <th>Soil_Type26</th>\n",
              "      <th>Soil_Type27</th>\n",
              "      <th>Soil_Type28</th>\n",
              "      <th>Soil_Type29</th>\n",
              "      <th>Soil_Type30</th>\n",
              "      <th>Soil_Type31</th>\n",
              "      <th>Soil_Type32</th>\n",
              "      <th>Soil_Type33</th>\n",
              "      <th>Soil_Type34</th>\n",
              "      <th>Soil_Type35</th>\n",
              "      <th>Soil_Type36</th>\n",
              "      <th>Soil_Type37</th>\n",
              "      <th>Soil_Type38</th>\n",
              "      <th>Soil_Type39</th>\n",
              "      <th>Soil_Type40</th>\n",
              "    </tr>\n",
              "  </thead>\n",
              "  <tbody>\n",
              "    <tr>\n",
              "      <th>0</th>\n",
              "      <td>2596</td>\n",
              "      <td>51</td>\n",
              "      <td>3</td>\n",
              "      <td>258</td>\n",
              "      <td>0</td>\n",
              "      <td>510</td>\n",
              "      <td>221</td>\n",
              "      <td>232</td>\n",
              "      <td>148</td>\n",
              "      <td>6279</td>\n",
              "      <td>1</td>\n",
              "      <td>0</td>\n",
              "      <td>0</td>\n",
              "      <td>0</td>\n",
              "      <td>0</td>\n",
              "      <td>0</td>\n",
              "      <td>0</td>\n",
              "      <td>0</td>\n",
              "      <td>0</td>\n",
              "      <td>0</td>\n",
              "      <td>0</td>\n",
              "      <td>0</td>\n",
              "      <td>0</td>\n",
              "      <td>0</td>\n",
              "      <td>0</td>\n",
              "      <td>0</td>\n",
              "      <td>0</td>\n",
              "      <td>0</td>\n",
              "      <td>0</td>\n",
              "      <td>0</td>\n",
              "      <td>0</td>\n",
              "      <td>0</td>\n",
              "      <td>0</td>\n",
              "      <td>0</td>\n",
              "      <td>0</td>\n",
              "      <td>0</td>\n",
              "      <td>0</td>\n",
              "      <td>0</td>\n",
              "      <td>0</td>\n",
              "      <td>0</td>\n",
              "      <td>0</td>\n",
              "      <td>0</td>\n",
              "      <td>1</td>\n",
              "      <td>0</td>\n",
              "      <td>0</td>\n",
              "      <td>0</td>\n",
              "      <td>0</td>\n",
              "      <td>0</td>\n",
              "      <td>0</td>\n",
              "      <td>0</td>\n",
              "      <td>0</td>\n",
              "      <td>0</td>\n",
              "      <td>0</td>\n",
              "      <td>0</td>\n",
              "    </tr>\n",
              "    <tr>\n",
              "      <th>1</th>\n",
              "      <td>2590</td>\n",
              "      <td>56</td>\n",
              "      <td>2</td>\n",
              "      <td>212</td>\n",
              "      <td>-6</td>\n",
              "      <td>390</td>\n",
              "      <td>220</td>\n",
              "      <td>235</td>\n",
              "      <td>151</td>\n",
              "      <td>6225</td>\n",
              "      <td>1</td>\n",
              "      <td>0</td>\n",
              "      <td>0</td>\n",
              "      <td>0</td>\n",
              "      <td>0</td>\n",
              "      <td>0</td>\n",
              "      <td>0</td>\n",
              "      <td>0</td>\n",
              "      <td>0</td>\n",
              "      <td>0</td>\n",
              "      <td>0</td>\n",
              "      <td>0</td>\n",
              "      <td>0</td>\n",
              "      <td>0</td>\n",
              "      <td>0</td>\n",
              "      <td>0</td>\n",
              "      <td>0</td>\n",
              "      <td>0</td>\n",
              "      <td>0</td>\n",
              "      <td>0</td>\n",
              "      <td>0</td>\n",
              "      <td>0</td>\n",
              "      <td>0</td>\n",
              "      <td>0</td>\n",
              "      <td>0</td>\n",
              "      <td>0</td>\n",
              "      <td>0</td>\n",
              "      <td>0</td>\n",
              "      <td>0</td>\n",
              "      <td>0</td>\n",
              "      <td>0</td>\n",
              "      <td>0</td>\n",
              "      <td>1</td>\n",
              "      <td>0</td>\n",
              "      <td>0</td>\n",
              "      <td>0</td>\n",
              "      <td>0</td>\n",
              "      <td>0</td>\n",
              "      <td>0</td>\n",
              "      <td>0</td>\n",
              "      <td>0</td>\n",
              "      <td>0</td>\n",
              "      <td>0</td>\n",
              "      <td>0</td>\n",
              "    </tr>\n",
              "    <tr>\n",
              "      <th>2</th>\n",
              "      <td>2804</td>\n",
              "      <td>139</td>\n",
              "      <td>9</td>\n",
              "      <td>268</td>\n",
              "      <td>65</td>\n",
              "      <td>3180</td>\n",
              "      <td>234</td>\n",
              "      <td>238</td>\n",
              "      <td>135</td>\n",
              "      <td>6121</td>\n",
              "      <td>1</td>\n",
              "      <td>0</td>\n",
              "      <td>0</td>\n",
              "      <td>0</td>\n",
              "      <td>0</td>\n",
              "      <td>0</td>\n",
              "      <td>0</td>\n",
              "      <td>0</td>\n",
              "      <td>0</td>\n",
              "      <td>0</td>\n",
              "      <td>0</td>\n",
              "      <td>0</td>\n",
              "      <td>0</td>\n",
              "      <td>0</td>\n",
              "      <td>0</td>\n",
              "      <td>1</td>\n",
              "      <td>0</td>\n",
              "      <td>0</td>\n",
              "      <td>0</td>\n",
              "      <td>0</td>\n",
              "      <td>0</td>\n",
              "      <td>0</td>\n",
              "      <td>0</td>\n",
              "      <td>0</td>\n",
              "      <td>0</td>\n",
              "      <td>0</td>\n",
              "      <td>0</td>\n",
              "      <td>0</td>\n",
              "      <td>0</td>\n",
              "      <td>0</td>\n",
              "      <td>0</td>\n",
              "      <td>0</td>\n",
              "      <td>0</td>\n",
              "      <td>0</td>\n",
              "      <td>0</td>\n",
              "      <td>0</td>\n",
              "      <td>0</td>\n",
              "      <td>0</td>\n",
              "      <td>0</td>\n",
              "      <td>0</td>\n",
              "      <td>0</td>\n",
              "      <td>0</td>\n",
              "      <td>0</td>\n",
              "      <td>0</td>\n",
              "    </tr>\n",
              "    <tr>\n",
              "      <th>3</th>\n",
              "      <td>2785</td>\n",
              "      <td>155</td>\n",
              "      <td>18</td>\n",
              "      <td>242</td>\n",
              "      <td>118</td>\n",
              "      <td>3090</td>\n",
              "      <td>238</td>\n",
              "      <td>238</td>\n",
              "      <td>122</td>\n",
              "      <td>6211</td>\n",
              "      <td>1</td>\n",
              "      <td>0</td>\n",
              "      <td>0</td>\n",
              "      <td>0</td>\n",
              "      <td>0</td>\n",
              "      <td>0</td>\n",
              "      <td>0</td>\n",
              "      <td>0</td>\n",
              "      <td>0</td>\n",
              "      <td>0</td>\n",
              "      <td>0</td>\n",
              "      <td>0</td>\n",
              "      <td>0</td>\n",
              "      <td>0</td>\n",
              "      <td>0</td>\n",
              "      <td>0</td>\n",
              "      <td>0</td>\n",
              "      <td>0</td>\n",
              "      <td>0</td>\n",
              "      <td>0</td>\n",
              "      <td>0</td>\n",
              "      <td>0</td>\n",
              "      <td>0</td>\n",
              "      <td>0</td>\n",
              "      <td>0</td>\n",
              "      <td>0</td>\n",
              "      <td>0</td>\n",
              "      <td>0</td>\n",
              "      <td>0</td>\n",
              "      <td>0</td>\n",
              "      <td>0</td>\n",
              "      <td>0</td>\n",
              "      <td>0</td>\n",
              "      <td>1</td>\n",
              "      <td>0</td>\n",
              "      <td>0</td>\n",
              "      <td>0</td>\n",
              "      <td>0</td>\n",
              "      <td>0</td>\n",
              "      <td>0</td>\n",
              "      <td>0</td>\n",
              "      <td>0</td>\n",
              "      <td>0</td>\n",
              "      <td>0</td>\n",
              "    </tr>\n",
              "    <tr>\n",
              "      <th>4</th>\n",
              "      <td>2595</td>\n",
              "      <td>45</td>\n",
              "      <td>2</td>\n",
              "      <td>153</td>\n",
              "      <td>-1</td>\n",
              "      <td>391</td>\n",
              "      <td>220</td>\n",
              "      <td>234</td>\n",
              "      <td>150</td>\n",
              "      <td>6172</td>\n",
              "      <td>1</td>\n",
              "      <td>0</td>\n",
              "      <td>0</td>\n",
              "      <td>0</td>\n",
              "      <td>0</td>\n",
              "      <td>0</td>\n",
              "      <td>0</td>\n",
              "      <td>0</td>\n",
              "      <td>0</td>\n",
              "      <td>0</td>\n",
              "      <td>0</td>\n",
              "      <td>0</td>\n",
              "      <td>0</td>\n",
              "      <td>0</td>\n",
              "      <td>0</td>\n",
              "      <td>0</td>\n",
              "      <td>0</td>\n",
              "      <td>0</td>\n",
              "      <td>0</td>\n",
              "      <td>0</td>\n",
              "      <td>0</td>\n",
              "      <td>0</td>\n",
              "      <td>0</td>\n",
              "      <td>0</td>\n",
              "      <td>0</td>\n",
              "      <td>0</td>\n",
              "      <td>0</td>\n",
              "      <td>0</td>\n",
              "      <td>0</td>\n",
              "      <td>0</td>\n",
              "      <td>0</td>\n",
              "      <td>0</td>\n",
              "      <td>1</td>\n",
              "      <td>0</td>\n",
              "      <td>0</td>\n",
              "      <td>0</td>\n",
              "      <td>0</td>\n",
              "      <td>0</td>\n",
              "      <td>0</td>\n",
              "      <td>0</td>\n",
              "      <td>0</td>\n",
              "      <td>0</td>\n",
              "      <td>0</td>\n",
              "      <td>0</td>\n",
              "    </tr>\n",
              "  </tbody>\n",
              "</table>\n",
              "</div>"
            ],
            "text/plain": [
              "   Elevation  Aspect  Slope  ...  Soil_Type38  Soil_Type39  Soil_Type40\n",
              "0       2596      51      3  ...            0            0            0\n",
              "1       2590      56      2  ...            0            0            0\n",
              "2       2804     139      9  ...            0            0            0\n",
              "3       2785     155     18  ...            0            0            0\n",
              "4       2595      45      2  ...            0            0            0\n",
              "\n",
              "[5 rows x 54 columns]"
            ]
          },
          "metadata": {},
          "execution_count": 11
        }
      ]
    },
    {
      "cell_type": "markdown",
      "metadata": {
        "id": "m2QGdArrJYQw"
      },
      "source": [
        "**Partição Holdout 70/30**"
      ]
    },
    {
      "cell_type": "code",
      "metadata": {
        "id": "UAbxhDuzJftO"
      },
      "source": [
        "X_train, X_test, Y_train, Y_test = train_test_split(X2, Y2, test_size=0.30)"
      ],
      "execution_count": 12,
      "outputs": []
    },
    {
      "cell_type": "markdown",
      "metadata": {
        "id": "YCvrQpUXJodC"
      },
      "source": [
        "**Escalonamento dos atributos**"
      ]
    },
    {
      "cell_type": "code",
      "metadata": {
        "id": "i7czEpI_JuL6",
        "colab": {
          "base_uri": "https://localhost:8080/"
        },
        "outputId": "395448e1-fa56-4021-b8b1-8ffdace975a5"
      },
      "source": [
        "X_train_stand = X_train.copy()\n",
        "X_test_stand = X_test.copy()\n",
        "\n",
        "\n",
        "X_train_stand = (X_train - np.mean(X_train))/np.std(X_train)\n",
        "X_test_stand = (X_test - np.mean(X_train))/np.std(X_train)\n",
        "\n",
        "print(X_train_stand)\n",
        "print(X_test_stand)"
      ],
      "execution_count": 13,
      "outputs": [
        {
          "output_type": "stream",
          "name": "stdout",
          "text": [
            "        Elevation    Aspect     Slope  ...  Soil_Type38  Soil_Type39  Soil_Type40\n",
            "144145  -0.611975 -1.096137 -0.280439  ...    -0.165627    -0.155913    -0.124766\n",
            "92655    0.248536 -1.292695  0.655294  ...    -0.165627    -0.155913    -0.124766\n",
            "507593   0.041442  1.494864  0.120590  ...    -0.165627    -0.155913    -0.124766\n",
            "492119   0.519901 -0.229492  1.591028  ...    -0.165627    -0.155913    -0.124766\n",
            "438141  -0.158510  0.967729  1.992057  ...    -0.165627    -0.155913    -0.124766\n",
            "...           ...       ...       ...  ...          ...          ...          ...\n",
            "424756   1.201883 -0.470723 -0.681468  ...    -0.165627    -0.155913    -0.124766\n",
            "507788   1.030495 -0.041867  0.521618  ...    -0.165627    -0.155913    -0.124766\n",
            "491723   0.591313  1.602078  0.922647  ...    -0.165627    -0.155913    -0.124766\n",
            "157993   0.894812 -1.212285 -0.681468  ...    -0.165627    -0.155913    -0.124766\n",
            "198059   0.951942 -1.051464 -0.815144  ...    -0.165627    -0.155913    -0.124766\n",
            "\n",
            "[406708 rows x 54 columns]\n",
            "        Elevation    Aspect     Slope  ...  Soil_Type38  Soil_Type39  Soil_Type40\n",
            "181121   0.080719  1.271502 -0.146763  ...    -0.165627    -0.155913    -0.124766\n",
            "573054  -1.347515 -0.140147  0.788971  ...    -0.165627    -0.155913    -0.124766\n",
            "326821  -0.958322 -1.078268  0.120590  ...    -0.165627    -0.155913    -0.124766\n",
            "11119   -1.604598  0.118953  1.724704  ...    -0.165627    -0.155913    -0.124766\n",
            "90933   -0.408451 -0.944250 -1.349849  ...    -0.165627    -0.155913    -0.124766\n",
            "...           ...       ...       ...  ...          ...          ...          ...\n",
            "384310  -0.101381 -1.069333 -0.013087  ...    -0.165627    -0.155913    -0.124766\n",
            "361669   0.248536 -0.765561  2.393085  ...    -0.165627    -0.155913    -0.124766\n",
            "149322  -0.254916  1.396585  0.655294  ...    -0.165627    -0.155913    -0.124766\n",
            "311089  -0.001405 -1.185482 -1.216173  ...    -0.165627    -0.155913    -0.124766\n",
            "503691   0.719854  1.530602  0.387942  ...    -0.165627    -0.155913    -0.124766\n",
            "\n",
            "[174304 rows x 54 columns]\n"
          ]
        }
      ]
    },
    {
      "cell_type": "markdown",
      "metadata": {
        "id": "2IML4Fq5tC8i"
      },
      "source": [
        "**Função**"
      ]
    },
    {
      "cell_type": "code",
      "metadata": {
        "id": "i2SSstI6s9R6"
      },
      "source": [
        "def arquitetura2(hidden_layer,layer, activ, solv, iter):\n",
        "  acuracia = []\n",
        "  fscore = []\n",
        "  \n",
        "  for i in range(15):\n",
        "    X_train, X_test, Y_train, Y_test = train_test_split(X2, Y2, test_size=0.30)\n",
        "    \n",
        "    X_train_stand = X_train.copy()\n",
        "    X_test_stand = X_test.copy()\n",
        "    X_train_stand = (X_train - np.mean(X_train))/np.std(X_train)\n",
        "    X_test_stand = (X_test - np.mean(X_train))/np.std(X_train)\n",
        "\n",
        "   \n",
        "    if(hidden_layer == 1):\n",
        "      rede3 = MLPClassifier(hidden_layer_sizes=(layer,),activation=activ,solver=solv,max_iter=iter,verbose=False)\n",
        "    else:\n",
        "      rede3 = MLPClassifier(hidden_layer_sizes=(layer,2),activation=activ,solver=solv,max_iter=iter,verbose=False)\n",
        "    rede3.fit(X_train_stand,Y_train)\n",
        "     \n",
        "    y_pred = rede3.predict(X_test_stand)\n",
        "\n",
        "    acuracia.append(accuracy_score(y_pred, Y_test))\n",
        "    fscore.append(f1_score(y_pred, Y_test, average='weighted'))\n",
        "\n",
        "  dp_f = np.std(fscore)\n",
        "  media_f = np.mean(fscore)\n",
        "  dp_a = np.std(acuracia)\n",
        "  media_a = np.mean(acuracia)\n",
        "\n",
        "  print(\"Desvio Padrão Acurácia:\", dp_a, \"\\nMédia Acurácia:\", media_a,\"\\nDesvio Padrão F-Score:\", dp_f, \"\\nMédia F-Score:\", media_f) \n",
        "  return media_f, media_a"
      ],
      "execution_count": 14,
      "outputs": []
    },
    {
      "cell_type": "markdown",
      "metadata": {
        "id": "XTCuaDCkwpwD"
      },
      "source": [
        "**Listas Acurácia e F-Score**"
      ]
    },
    {
      "cell_type": "code",
      "metadata": {
        "id": "Qg5TUnSswuay"
      },
      "source": [
        "FScore_arqs3 = []\n",
        "Acuracia_arqs3 = []"
      ],
      "execution_count": 15,
      "outputs": []
    },
    {
      "cell_type": "markdown",
      "metadata": {
        "id": "o9w5J2OEuPFW"
      },
      "source": [
        "**Arquiteturas Próprias**"
      ]
    },
    {
      "cell_type": "code",
      "metadata": {
        "id": "1OCesY0AuLcu",
        "colab": {
          "base_uri": "https://localhost:8080/"
        },
        "outputId": "e229407f-1d7d-46fd-ea76-a5294f11160c"
      },
      "source": [
        "# 4. MLPClassifier(hidden_layer_sizes=(18,),activation='relu',solver='adam',max_iter=200,verbose=False)\n",
        "media_f, media_a = arquitetura2(1, 18, 'relu', 'adam', 200)\n",
        "FScore_arqs3.append(media_f)\n",
        "Acuracia_arqs3.append(media_a)"
      ],
      "execution_count": 16,
      "outputs": [
        {
          "output_type": "stream",
          "name": "stderr",
          "text": [
            "/usr/local/lib/python3.7/dist-packages/sklearn/neural_network/_multilayer_perceptron.py:696: ConvergenceWarning: Stochastic Optimizer: Maximum iterations (200) reached and the optimization hasn't converged yet.\n",
            "  ConvergenceWarning,\n",
            "/usr/local/lib/python3.7/dist-packages/sklearn/neural_network/_multilayer_perceptron.py:696: ConvergenceWarning: Stochastic Optimizer: Maximum iterations (200) reached and the optimization hasn't converged yet.\n",
            "  ConvergenceWarning,\n",
            "/usr/local/lib/python3.7/dist-packages/sklearn/neural_network/_multilayer_perceptron.py:696: ConvergenceWarning: Stochastic Optimizer: Maximum iterations (200) reached and the optimization hasn't converged yet.\n",
            "  ConvergenceWarning,\n"
          ]
        },
        {
          "output_type": "stream",
          "name": "stdout",
          "text": [
            "Desvio Padrão Acurácia: 0.004837331855592419 \n",
            "Média Acurácia: 0.7819732574505844 \n",
            "Desvio Padrão F-Score: 0.004968694586989982 \n",
            "Média F-Score: 0.7871313558581188\n"
          ]
        }
      ]
    },
    {
      "cell_type": "code",
      "metadata": {
        "id": "5UfpIHB9uUkZ",
        "colab": {
          "base_uri": "https://localhost:8080/"
        },
        "outputId": "1b7c3cc0-3b82-40e0-afb8-e95f01fb72db"
      },
      "source": [
        "# 5. MLPClassifier(hidden_layer_sizes=(20,2),activation='logistic',solver='adam',max_iter=200,verbose=False)\n",
        "media_f, media_a = arquitetura2(2, 20, 'logistic', 'adam', 200)\n",
        "FScore_arqs3.append(media_f)\n",
        "Acuracia_arqs3.append(media_a)"
      ],
      "execution_count": 17,
      "outputs": [
        {
          "output_type": "stream",
          "name": "stderr",
          "text": [
            "/usr/local/lib/python3.7/dist-packages/sklearn/neural_network/_multilayer_perceptron.py:696: ConvergenceWarning: Stochastic Optimizer: Maximum iterations (200) reached and the optimization hasn't converged yet.\n",
            "  ConvergenceWarning,\n",
            "/usr/local/lib/python3.7/dist-packages/sklearn/neural_network/_multilayer_perceptron.py:696: ConvergenceWarning: Stochastic Optimizer: Maximum iterations (200) reached and the optimization hasn't converged yet.\n",
            "  ConvergenceWarning,\n",
            "/usr/local/lib/python3.7/dist-packages/sklearn/neural_network/_multilayer_perceptron.py:696: ConvergenceWarning: Stochastic Optimizer: Maximum iterations (200) reached and the optimization hasn't converged yet.\n",
            "  ConvergenceWarning,\n",
            "/usr/local/lib/python3.7/dist-packages/sklearn/neural_network/_multilayer_perceptron.py:696: ConvergenceWarning: Stochastic Optimizer: Maximum iterations (200) reached and the optimization hasn't converged yet.\n",
            "  ConvergenceWarning,\n",
            "/usr/local/lib/python3.7/dist-packages/sklearn/neural_network/_multilayer_perceptron.py:696: ConvergenceWarning: Stochastic Optimizer: Maximum iterations (200) reached and the optimization hasn't converged yet.\n",
            "  ConvergenceWarning,\n",
            "/usr/local/lib/python3.7/dist-packages/sklearn/neural_network/_multilayer_perceptron.py:696: ConvergenceWarning: Stochastic Optimizer: Maximum iterations (200) reached and the optimization hasn't converged yet.\n",
            "  ConvergenceWarning,\n"
          ]
        },
        {
          "output_type": "stream",
          "name": "stdout",
          "text": [
            "Desvio Padrão Acurácia: 0.004595462328076937 \n",
            "Média Acurácia: 0.7977889205067009 \n",
            "Desvio Padrão F-Score: 0.004225891361530557 \n",
            "Média F-Score: 0.8090454126397713\n"
          ]
        }
      ]
    },
    {
      "cell_type": "code",
      "metadata": {
        "id": "rrKvH1QnubF9",
        "colab": {
          "base_uri": "https://localhost:8080/",
          "height": 751
        },
        "outputId": "e397a673-6654-419c-8129-739d74e315a8"
      },
      "source": [
        "# 10. MLPClassifier(hidden_layer_sizes=(30,2),activation='logistic',solver='sgd',max_iter=200,verbose=False)\n",
        "media_f, media_a = arquitetura2(2, 30, 'logistic', 'sgd', 200)\n",
        "FScore_arqs3.append(media_f)\n",
        "Acuracia_arqs3.append(media_a)"
      ],
      "execution_count": 18,
      "outputs": [
        {
          "output_type": "stream",
          "name": "stderr",
          "text": [
            "/usr/local/lib/python3.7/dist-packages/sklearn/neural_network/_multilayer_perceptron.py:696: ConvergenceWarning: Stochastic Optimizer: Maximum iterations (200) reached and the optimization hasn't converged yet.\n",
            "  ConvergenceWarning,\n",
            "/usr/local/lib/python3.7/dist-packages/sklearn/neural_network/_multilayer_perceptron.py:696: ConvergenceWarning: Stochastic Optimizer: Maximum iterations (200) reached and the optimization hasn't converged yet.\n",
            "  ConvergenceWarning,\n",
            "/usr/local/lib/python3.7/dist-packages/sklearn/neural_network/_multilayer_perceptron.py:696: ConvergenceWarning: Stochastic Optimizer: Maximum iterations (200) reached and the optimization hasn't converged yet.\n",
            "  ConvergenceWarning,\n",
            "/usr/local/lib/python3.7/dist-packages/sklearn/neural_network/_multilayer_perceptron.py:696: ConvergenceWarning: Stochastic Optimizer: Maximum iterations (200) reached and the optimization hasn't converged yet.\n",
            "  ConvergenceWarning,\n",
            "/usr/local/lib/python3.7/dist-packages/sklearn/neural_network/_multilayer_perceptron.py:696: ConvergenceWarning: Stochastic Optimizer: Maximum iterations (200) reached and the optimization hasn't converged yet.\n",
            "  ConvergenceWarning,\n",
            "/usr/local/lib/python3.7/dist-packages/sklearn/neural_network/_multilayer_perceptron.py:696: ConvergenceWarning: Stochastic Optimizer: Maximum iterations (200) reached and the optimization hasn't converged yet.\n",
            "  ConvergenceWarning,\n",
            "/usr/local/lib/python3.7/dist-packages/sklearn/neural_network/_multilayer_perceptron.py:696: ConvergenceWarning: Stochastic Optimizer: Maximum iterations (200) reached and the optimization hasn't converged yet.\n",
            "  ConvergenceWarning,\n",
            "/usr/local/lib/python3.7/dist-packages/sklearn/neural_network/_multilayer_perceptron.py:696: ConvergenceWarning: Stochastic Optimizer: Maximum iterations (200) reached and the optimization hasn't converged yet.\n",
            "  ConvergenceWarning,\n",
            "/usr/local/lib/python3.7/dist-packages/sklearn/neural_network/_multilayer_perceptron.py:696: ConvergenceWarning: Stochastic Optimizer: Maximum iterations (200) reached and the optimization hasn't converged yet.\n",
            "  ConvergenceWarning,\n",
            "/usr/local/lib/python3.7/dist-packages/sklearn/neural_network/_multilayer_perceptron.py:696: ConvergenceWarning: Stochastic Optimizer: Maximum iterations (200) reached and the optimization hasn't converged yet.\n",
            "  ConvergenceWarning,\n",
            "/usr/local/lib/python3.7/dist-packages/sklearn/neural_network/_multilayer_perceptron.py:696: ConvergenceWarning: Stochastic Optimizer: Maximum iterations (200) reached and the optimization hasn't converged yet.\n",
            "  ConvergenceWarning,\n"
          ]
        },
        {
          "output_type": "error",
          "ename": "ValueError",
          "evalue": "ignored",
          "traceback": [
            "\u001b[0;31m---------------------------------------------------------------------------\u001b[0m",
            "\u001b[0;31mValueError\u001b[0m                                Traceback (most recent call last)",
            "\u001b[0;32m<ipython-input-18-1c6f564ed30d>\u001b[0m in \u001b[0;36m<module>\u001b[0;34m()\u001b[0m\n\u001b[1;32m      1\u001b[0m \u001b[0;31m# 10. MLPClassifier(hidden_layer_sizes=(30,2),activation='logistic',solver='sgd',max_iter=200,verbose=False)\u001b[0m\u001b[0;34m\u001b[0m\u001b[0;34m\u001b[0m\u001b[0;34m\u001b[0m\u001b[0m\n\u001b[0;32m----> 2\u001b[0;31m \u001b[0mmedia_f\u001b[0m\u001b[0;34m,\u001b[0m \u001b[0mmedia_a\u001b[0m \u001b[0;34m=\u001b[0m \u001b[0marquitetura2\u001b[0m\u001b[0;34m(\u001b[0m\u001b[0;36m2\u001b[0m\u001b[0;34m,\u001b[0m \u001b[0;36m30\u001b[0m\u001b[0;34m,\u001b[0m \u001b[0;34m'logistic'\u001b[0m\u001b[0;34m,\u001b[0m \u001b[0;34m'sgd'\u001b[0m\u001b[0;34m,\u001b[0m \u001b[0;36m200\u001b[0m\u001b[0;34m)\u001b[0m\u001b[0;34m\u001b[0m\u001b[0;34m\u001b[0m\u001b[0m\n\u001b[0m\u001b[1;32m      3\u001b[0m \u001b[0mFScore_arqs3\u001b[0m\u001b[0;34m.\u001b[0m\u001b[0mappend\u001b[0m\u001b[0;34m(\u001b[0m\u001b[0mmedia_f\u001b[0m\u001b[0;34m)\u001b[0m\u001b[0;34m\u001b[0m\u001b[0;34m\u001b[0m\u001b[0m\n\u001b[1;32m      4\u001b[0m \u001b[0mAcuracia_arqs3\u001b[0m\u001b[0;34m.\u001b[0m\u001b[0mappend\u001b[0m\u001b[0;34m(\u001b[0m\u001b[0mmedia_a\u001b[0m\u001b[0;34m)\u001b[0m\u001b[0;34m\u001b[0m\u001b[0;34m\u001b[0m\u001b[0m\n",
            "\u001b[0;32m<ipython-input-14-1d49e72fe570>\u001b[0m in \u001b[0;36marquitetura2\u001b[0;34m(hidden_layer, layer, activ, solv, iter)\u001b[0m\n\u001b[1;32m     16\u001b[0m     \u001b[0;32melse\u001b[0m\u001b[0;34m:\u001b[0m\u001b[0;34m\u001b[0m\u001b[0;34m\u001b[0m\u001b[0m\n\u001b[1;32m     17\u001b[0m       \u001b[0mrede3\u001b[0m \u001b[0;34m=\u001b[0m \u001b[0mMLPClassifier\u001b[0m\u001b[0;34m(\u001b[0m\u001b[0mhidden_layer_sizes\u001b[0m\u001b[0;34m=\u001b[0m\u001b[0;34m(\u001b[0m\u001b[0mlayer\u001b[0m\u001b[0;34m,\u001b[0m\u001b[0;36m2\u001b[0m\u001b[0;34m)\u001b[0m\u001b[0;34m,\u001b[0m\u001b[0mactivation\u001b[0m\u001b[0;34m=\u001b[0m\u001b[0mactiv\u001b[0m\u001b[0;34m,\u001b[0m\u001b[0msolver\u001b[0m\u001b[0;34m=\u001b[0m\u001b[0msolv\u001b[0m\u001b[0;34m,\u001b[0m\u001b[0mmax_iter\u001b[0m\u001b[0;34m=\u001b[0m\u001b[0miter\u001b[0m\u001b[0;34m,\u001b[0m\u001b[0mverbose\u001b[0m\u001b[0;34m=\u001b[0m\u001b[0;32mFalse\u001b[0m\u001b[0;34m)\u001b[0m\u001b[0;34m\u001b[0m\u001b[0;34m\u001b[0m\u001b[0m\n\u001b[0;32m---> 18\u001b[0;31m     \u001b[0mrede3\u001b[0m\u001b[0;34m.\u001b[0m\u001b[0mfit\u001b[0m\u001b[0;34m(\u001b[0m\u001b[0mX_train_stand\u001b[0m\u001b[0;34m,\u001b[0m\u001b[0mY_train\u001b[0m\u001b[0;34m)\u001b[0m\u001b[0;34m\u001b[0m\u001b[0;34m\u001b[0m\u001b[0m\n\u001b[0m\u001b[1;32m     19\u001b[0m \u001b[0;34m\u001b[0m\u001b[0m\n\u001b[1;32m     20\u001b[0m     \u001b[0my_pred\u001b[0m \u001b[0;34m=\u001b[0m \u001b[0mrede3\u001b[0m\u001b[0;34m.\u001b[0m\u001b[0mpredict\u001b[0m\u001b[0;34m(\u001b[0m\u001b[0mX_test_stand\u001b[0m\u001b[0;34m)\u001b[0m\u001b[0;34m\u001b[0m\u001b[0;34m\u001b[0m\u001b[0m\n",
            "\u001b[0;32m/usr/local/lib/python3.7/dist-packages/sklearn/neural_network/_multilayer_perceptron.py\u001b[0m in \u001b[0;36mfit\u001b[0;34m(self, X, y)\u001b[0m\n\u001b[1;32m    750\u001b[0m             \u001b[0mReturns\u001b[0m \u001b[0ma\u001b[0m \u001b[0mtrained\u001b[0m \u001b[0mMLP\u001b[0m \u001b[0mmodel\u001b[0m\u001b[0;34m.\u001b[0m\u001b[0;34m\u001b[0m\u001b[0;34m\u001b[0m\u001b[0m\n\u001b[1;32m    751\u001b[0m         \"\"\"\n\u001b[0;32m--> 752\u001b[0;31m         \u001b[0;32mreturn\u001b[0m \u001b[0mself\u001b[0m\u001b[0;34m.\u001b[0m\u001b[0m_fit\u001b[0m\u001b[0;34m(\u001b[0m\u001b[0mX\u001b[0m\u001b[0;34m,\u001b[0m \u001b[0my\u001b[0m\u001b[0;34m,\u001b[0m \u001b[0mincremental\u001b[0m\u001b[0;34m=\u001b[0m\u001b[0;32mFalse\u001b[0m\u001b[0;34m)\u001b[0m\u001b[0;34m\u001b[0m\u001b[0;34m\u001b[0m\u001b[0m\n\u001b[0m\u001b[1;32m    753\u001b[0m \u001b[0;34m\u001b[0m\u001b[0m\n\u001b[1;32m    754\u001b[0m     \u001b[0;32mdef\u001b[0m \u001b[0m_check_solver\u001b[0m\u001b[0;34m(\u001b[0m\u001b[0mself\u001b[0m\u001b[0;34m)\u001b[0m\u001b[0;34m:\u001b[0m\u001b[0;34m\u001b[0m\u001b[0;34m\u001b[0m\u001b[0m\n",
            "\u001b[0;32m/usr/local/lib/python3.7/dist-packages/sklearn/neural_network/_multilayer_perceptron.py\u001b[0m in \u001b[0;36m_fit\u001b[0;34m(self, X, y, incremental)\u001b[0m\n\u001b[1;32m    391\u001b[0m         )\n\u001b[1;32m    392\u001b[0m \u001b[0;34m\u001b[0m\u001b[0m\n\u001b[0;32m--> 393\u001b[0;31m         \u001b[0mX\u001b[0m\u001b[0;34m,\u001b[0m \u001b[0my\u001b[0m \u001b[0;34m=\u001b[0m \u001b[0mself\u001b[0m\u001b[0;34m.\u001b[0m\u001b[0m_validate_input\u001b[0m\u001b[0;34m(\u001b[0m\u001b[0mX\u001b[0m\u001b[0;34m,\u001b[0m \u001b[0my\u001b[0m\u001b[0;34m,\u001b[0m \u001b[0mincremental\u001b[0m\u001b[0;34m,\u001b[0m \u001b[0mreset\u001b[0m\u001b[0;34m=\u001b[0m\u001b[0mfirst_pass\u001b[0m\u001b[0;34m)\u001b[0m\u001b[0;34m\u001b[0m\u001b[0;34m\u001b[0m\u001b[0m\n\u001b[0m\u001b[1;32m    394\u001b[0m \u001b[0;34m\u001b[0m\u001b[0m\n\u001b[1;32m    395\u001b[0m         \u001b[0mn_samples\u001b[0m\u001b[0;34m,\u001b[0m \u001b[0mn_features\u001b[0m \u001b[0;34m=\u001b[0m \u001b[0mX\u001b[0m\u001b[0;34m.\u001b[0m\u001b[0mshape\u001b[0m\u001b[0;34m\u001b[0m\u001b[0;34m\u001b[0m\u001b[0m\n",
            "\u001b[0;32m/usr/local/lib/python3.7/dist-packages/sklearn/neural_network/_multilayer_perceptron.py\u001b[0m in \u001b[0;36m_validate_input\u001b[0;34m(self, X, y, incremental, reset)\u001b[0m\n\u001b[1;32m   1104\u001b[0m             \u001b[0mmulti_output\u001b[0m\u001b[0;34m=\u001b[0m\u001b[0;32mTrue\u001b[0m\u001b[0;34m,\u001b[0m\u001b[0;34m\u001b[0m\u001b[0;34m\u001b[0m\u001b[0m\n\u001b[1;32m   1105\u001b[0m             \u001b[0mdtype\u001b[0m\u001b[0;34m=\u001b[0m\u001b[0;34m(\u001b[0m\u001b[0mnp\u001b[0m\u001b[0;34m.\u001b[0m\u001b[0mfloat64\u001b[0m\u001b[0;34m,\u001b[0m \u001b[0mnp\u001b[0m\u001b[0;34m.\u001b[0m\u001b[0mfloat32\u001b[0m\u001b[0;34m)\u001b[0m\u001b[0;34m,\u001b[0m\u001b[0;34m\u001b[0m\u001b[0;34m\u001b[0m\u001b[0m\n\u001b[0;32m-> 1106\u001b[0;31m             \u001b[0mreset\u001b[0m\u001b[0;34m=\u001b[0m\u001b[0mreset\u001b[0m\u001b[0;34m,\u001b[0m\u001b[0;34m\u001b[0m\u001b[0;34m\u001b[0m\u001b[0m\n\u001b[0m\u001b[1;32m   1107\u001b[0m         )\n\u001b[1;32m   1108\u001b[0m         \u001b[0;32mif\u001b[0m \u001b[0my\u001b[0m\u001b[0;34m.\u001b[0m\u001b[0mndim\u001b[0m \u001b[0;34m==\u001b[0m \u001b[0;36m2\u001b[0m \u001b[0;32mand\u001b[0m \u001b[0my\u001b[0m\u001b[0;34m.\u001b[0m\u001b[0mshape\u001b[0m\u001b[0;34m[\u001b[0m\u001b[0;36m1\u001b[0m\u001b[0;34m]\u001b[0m \u001b[0;34m==\u001b[0m \u001b[0;36m1\u001b[0m\u001b[0;34m:\u001b[0m\u001b[0;34m\u001b[0m\u001b[0;34m\u001b[0m\u001b[0m\n",
            "\u001b[0;32m/usr/local/lib/python3.7/dist-packages/sklearn/base.py\u001b[0m in \u001b[0;36m_validate_data\u001b[0;34m(self, X, y, reset, validate_separately, **check_params)\u001b[0m\n\u001b[1;32m    574\u001b[0m                 \u001b[0my\u001b[0m \u001b[0;34m=\u001b[0m \u001b[0mcheck_array\u001b[0m\u001b[0;34m(\u001b[0m\u001b[0my\u001b[0m\u001b[0;34m,\u001b[0m \u001b[0;34m**\u001b[0m\u001b[0mcheck_y_params\u001b[0m\u001b[0;34m)\u001b[0m\u001b[0;34m\u001b[0m\u001b[0;34m\u001b[0m\u001b[0m\n\u001b[1;32m    575\u001b[0m             \u001b[0;32melse\u001b[0m\u001b[0;34m:\u001b[0m\u001b[0;34m\u001b[0m\u001b[0;34m\u001b[0m\u001b[0m\n\u001b[0;32m--> 576\u001b[0;31m                 \u001b[0mX\u001b[0m\u001b[0;34m,\u001b[0m \u001b[0my\u001b[0m \u001b[0;34m=\u001b[0m \u001b[0mcheck_X_y\u001b[0m\u001b[0;34m(\u001b[0m\u001b[0mX\u001b[0m\u001b[0;34m,\u001b[0m \u001b[0my\u001b[0m\u001b[0;34m,\u001b[0m \u001b[0;34m**\u001b[0m\u001b[0mcheck_params\u001b[0m\u001b[0;34m)\u001b[0m\u001b[0;34m\u001b[0m\u001b[0;34m\u001b[0m\u001b[0m\n\u001b[0m\u001b[1;32m    577\u001b[0m             \u001b[0mout\u001b[0m \u001b[0;34m=\u001b[0m \u001b[0mX\u001b[0m\u001b[0;34m,\u001b[0m \u001b[0my\u001b[0m\u001b[0;34m\u001b[0m\u001b[0;34m\u001b[0m\u001b[0m\n\u001b[1;32m    578\u001b[0m \u001b[0;34m\u001b[0m\u001b[0m\n",
            "\u001b[0;32m/usr/local/lib/python3.7/dist-packages/sklearn/utils/validation.py\u001b[0m in \u001b[0;36mcheck_X_y\u001b[0;34m(X, y, accept_sparse, accept_large_sparse, dtype, order, copy, force_all_finite, ensure_2d, allow_nd, multi_output, ensure_min_samples, ensure_min_features, y_numeric, estimator)\u001b[0m\n\u001b[1;32m    966\u001b[0m         \u001b[0mensure_min_samples\u001b[0m\u001b[0;34m=\u001b[0m\u001b[0mensure_min_samples\u001b[0m\u001b[0;34m,\u001b[0m\u001b[0;34m\u001b[0m\u001b[0;34m\u001b[0m\u001b[0m\n\u001b[1;32m    967\u001b[0m         \u001b[0mensure_min_features\u001b[0m\u001b[0;34m=\u001b[0m\u001b[0mensure_min_features\u001b[0m\u001b[0;34m,\u001b[0m\u001b[0;34m\u001b[0m\u001b[0;34m\u001b[0m\u001b[0m\n\u001b[0;32m--> 968\u001b[0;31m         \u001b[0mestimator\u001b[0m\u001b[0;34m=\u001b[0m\u001b[0mestimator\u001b[0m\u001b[0;34m,\u001b[0m\u001b[0;34m\u001b[0m\u001b[0;34m\u001b[0m\u001b[0m\n\u001b[0m\u001b[1;32m    969\u001b[0m     )\n\u001b[1;32m    970\u001b[0m \u001b[0;34m\u001b[0m\u001b[0m\n",
            "\u001b[0;32m/usr/local/lib/python3.7/dist-packages/sklearn/utils/validation.py\u001b[0m in \u001b[0;36mcheck_array\u001b[0;34m(array, accept_sparse, accept_large_sparse, dtype, order, copy, force_all_finite, ensure_2d, allow_nd, ensure_min_samples, ensure_min_features, estimator)\u001b[0m\n\u001b[1;32m    790\u001b[0m \u001b[0;34m\u001b[0m\u001b[0m\n\u001b[1;32m    791\u001b[0m         \u001b[0;32mif\u001b[0m \u001b[0mforce_all_finite\u001b[0m\u001b[0;34m:\u001b[0m\u001b[0;34m\u001b[0m\u001b[0;34m\u001b[0m\u001b[0m\n\u001b[0;32m--> 792\u001b[0;31m             \u001b[0m_assert_all_finite\u001b[0m\u001b[0;34m(\u001b[0m\u001b[0marray\u001b[0m\u001b[0;34m,\u001b[0m \u001b[0mallow_nan\u001b[0m\u001b[0;34m=\u001b[0m\u001b[0mforce_all_finite\u001b[0m \u001b[0;34m==\u001b[0m \u001b[0;34m\"allow-nan\"\u001b[0m\u001b[0;34m)\u001b[0m\u001b[0;34m\u001b[0m\u001b[0;34m\u001b[0m\u001b[0m\n\u001b[0m\u001b[1;32m    793\u001b[0m \u001b[0;34m\u001b[0m\u001b[0m\n\u001b[1;32m    794\u001b[0m     \u001b[0;32mif\u001b[0m \u001b[0mensure_min_samples\u001b[0m \u001b[0;34m>\u001b[0m \u001b[0;36m0\u001b[0m\u001b[0;34m:\u001b[0m\u001b[0;34m\u001b[0m\u001b[0;34m\u001b[0m\u001b[0m\n",
            "\u001b[0;32m/usr/local/lib/python3.7/dist-packages/sklearn/utils/validation.py\u001b[0m in \u001b[0;36m_assert_all_finite\u001b[0;34m(X, allow_nan, msg_dtype)\u001b[0m\n\u001b[1;32m    114\u001b[0m             raise ValueError(\n\u001b[1;32m    115\u001b[0m                 msg_err.format(\n\u001b[0;32m--> 116\u001b[0;31m                     \u001b[0mtype_err\u001b[0m\u001b[0;34m,\u001b[0m \u001b[0mmsg_dtype\u001b[0m \u001b[0;32mif\u001b[0m \u001b[0mmsg_dtype\u001b[0m \u001b[0;32mis\u001b[0m \u001b[0;32mnot\u001b[0m \u001b[0;32mNone\u001b[0m \u001b[0;32melse\u001b[0m \u001b[0mX\u001b[0m\u001b[0;34m.\u001b[0m\u001b[0mdtype\u001b[0m\u001b[0;34m\u001b[0m\u001b[0;34m\u001b[0m\u001b[0m\n\u001b[0m\u001b[1;32m    117\u001b[0m                 )\n\u001b[1;32m    118\u001b[0m             )\n",
            "\u001b[0;31mValueError\u001b[0m: Input contains NaN, infinity or a value too large for dtype('float64')."
          ]
        }
      ]
    },
    {
      "cell_type": "markdown",
      "metadata": {
        "id": "ve28AFj6uzy1"
      },
      "source": [
        "**Arquiteturas Pirâmide Geométrica**"
      ]
    },
    {
      "cell_type": "code",
      "metadata": {
        "id": "qrjLPeMcu669"
      },
      "source": [
        "# 1. MLPClassifier(hidden_layer_sizes=(25,),activation='relu',solver='adam',max_iter=100,verbose=False)\n",
        "media_f, media_a = arquitetura2(1, 25, 'relu', 'adam', 200)\n",
        "FScore_arqs3.append(media_f)\n",
        "Acuracia_arqs3.append(media_a)"
      ],
      "execution_count": null,
      "outputs": []
    },
    {
      "cell_type": "code",
      "metadata": {
        "id": "eMTriN7UvF5a"
      },
      "source": [
        "# 3. MLPClassifier(hidden_layer_sizes=(25,),activation='logistic',solver='adam',max_iter=150,verbose=False)\n",
        "media_f, media_a = arquitetura2(1, 25, 'logistic', 'adam', 200)\n",
        "FScore_arqs3.append(media_f)\n",
        "Acuracia_arqs3.append(media_a)"
      ],
      "execution_count": null,
      "outputs": []
    },
    {
      "cell_type": "code",
      "metadata": {
        "id": "XRATi4ybvb1k"
      },
      "source": [
        "# 5. MLPClassifier(hidden_layer_sizes=(25,),activation='logistic',solver='adam',max_iter=200,verbose=False)\n",
        "media_f, media_a = arquitetura2(1, 25, 'logistic', 'adam', 200)\n",
        "FScore_arqs3.append(media_f)\n",
        "Acuracia_arqs3.append(media_a)"
      ],
      "execution_count": null,
      "outputs": []
    },
    {
      "cell_type": "markdown",
      "metadata": {
        "id": "z7jmU2w86nSV"
      },
      "source": [
        "## Considerações Parciais\n",
        "\n",
        "1. É possível identificar uma rede com desempenho superior às demais?\n",
        "2. Qual estratégia mostrou-se mais producente para a obtenção de boas arquiteturas (Estratégia Própria ou Pirâmide Geométrica)? Por quê?\n",
        "3. Considerar os atributos categóricos trouxe melhorias? Justifique.\n",
        "4. Um número maior de épocas trouxe melhorias?\n",
        "5. Qual a maior dificuldade de resolução do problema proposto perante as RNAs?"
      ]
    },
    {
      "cell_type": "code",
      "metadata": {
        "id": "kFm-oin46nSX"
      },
      "source": [
        ""
      ],
      "execution_count": null,
      "outputs": []
    }
  ]
}