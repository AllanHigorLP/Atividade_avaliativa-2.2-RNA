{
 "cells": [
  {
   "cell_type": "markdown",
   "metadata": {
    "colab_type": "text",
    "id": "view-in-github"
   },
   "source": [
    "<a href=\"https://colab.research.google.com/github/AllanHigorLP/Atividade_avaliativa-2.2-RNA/blob/main/PP2_2_2_Proposi%C3%A7%C3%A3o_e_Avalia%C3%A7%C3%A3o_de_RNAs.ipynb\" target=\"_parent\"><img src=\"https://colab.research.google.com/assets/colab-badge.svg\" alt=\"Open In Colab\"/></a>"
   ]
  },
  {
   "cell_type": "markdown",
   "metadata": {
    "id": "A49m5nHB6nR0",
    "tags": []
   },
   "source": [
    "## Redes Neurais Artificiais 2021.1\n",
    "\n",
    "- **Disciplina**: Redes Neurais Artificiais 2021.1  \n",
    "- **Professora**: Elloá B. Guedes (ebgcosta@uea.edu.br)  \n",
    "- **Github**: http://github.com/elloa  \n",
    "        \n",
    "\n",
    "Levando em conta a base de dados **_Forest Cover Type_**, esta segunda parte do Projeto Prático 2.2 diz respeito à proposição e avaliação de múltiplas redes neurais artificiais do tipo feedforward multilayer perceptron para o problema da classificação multi-classe da cobertura florestal em uma área do Roosevelt National Forest.\n",
    "\n",
    "## Testando Redes Neurais sem os Atributos Categórios\n",
    "\n",
    "1. Abra a base de dados em questão\n",
    "2. Elimine todas as colunas relativas aos atributos categóricos\n",
    "3. Armazene o atributo alvo em uma variável y e os atributos preditores em uma variável X\n",
    "4. Efetue uma partição holdout 70/30 com o sklearn, distribuindo os exemplos de maneira aleatória\n",
    "5. Efetue o escalonamento dos atributos\n",
    "\n",
    "### Escalonando os atributos\n",
    "\n",
    "O treinamento de uma rede neural artificial é mais eficiente quando os valores que lhes são fornecidos como entrada são pequenos, pois isto favorece a convergência. Isto é feito escalonando-se todos os atributos para o intervalo [0,1], mas precisa ser feito de maneira cautelosa, para que informações do conjunto de teste não sejam fornecidas no treinamento.\n",
    "\n",
    "Há duas estratégias para tal escalonamento: normalização e padronização. Ambas possuem características particulares, vantagens e limitações, como é possível ver aqui: https://www.analyticsvidhya.com/blog/2020/04/feature-scaling-machine-learning-normalization-standardization/\n",
    "\n",
    "\n",
    "No nosso caso, vamos usar a padronização. Assim, com os atributos preditores do treinamento, isto é, X_train, deve-se subtrair a média e dividir pelo desvio padrão:\n",
    "\n",
    "X_train_std = (X_train - np.mean(X_train))/np.std(X_train)\n",
    "\n",
    "Em seguida, o mesmo deve ser feito com os atributos preditores do conjunto de testes, mas com padronização relativa ao conjunto de treinamento:\n",
    "\n",
    "X_test_std = (X_test - np.mean(X_train))/np.std(X_train)\n",
    "\n",
    "Se todo o conjunto X for utilizado na padronização, a rede neural receberá informações do conjunto de teste por meio da média e variância utilizada para preparar os dados de treinamento, o que não é desejável.\n",
    "\n",
    "\n",
    "### Continuando\n",
    "\n",
    "5. Treine uma rede neural multilayer perceptron para este problema com uma única camada e dez neurônios  \n",
    "    5.1 Utilize a função de ativação ReLU  \n",
    "    5.2 Utilize o solver Adam    \n",
    "    5.3 Imprima o passo a passo do treinamento    \n",
    "    5.4 Utilize o número máximo de épocas igual a 300  \n",
    "6. Com o modelo em questão, após o treinamento, apresente:  \n",
    "    6.1 Matriz de confusão para o conjunto de teste  \n",
    "    6.2 Acurácia  \n",
    "    6.3 F-Score  \n",
    "    6.4 Precisão  \n",
    "    6.5 Revocação  \n",
    "7. Repita o treinamento da mesma rede anterior sem imprimir o passo a passo (verbose False) por 100 vezes  \n",
    "    7.1 Cada uma destas repetições deve ser feita com uma nova partição Holdout  \n",
    "    7.2 Apresente a média e o desvio padrão da acurácia e do F-Score para o conjunto de treino  \n",
    "8. Repita por 100 vezes o treinamento desta mesma rede, mas utilizando o otimizador SGD  \n",
    "    8.1 Apresente a média e o desvio padrão da acurácia e do F-Score para o conjunto de treino  \n",
    "9. Houve influência da escolha do otimizador no desempenho da rede?"
   ]
  },
  {
   "cell_type": "markdown",
   "metadata": {
    "id": "1grTtuJ_DuQd"
   },
   "source": [
    "# 1 - Abra a base de dados em questão"
   ]
  },
  {
   "cell_type": "markdown",
   "metadata": {
    "id": "GTQ5H48UCEJC"
   },
   "source": [
    "**Criando o diretório no Google Drive**"
   ]
  },
  {
   "cell_type": "code",
   "execution_count": 1,
   "metadata": {
    "colab": {
     "base_uri": "https://localhost:8080/"
    },
    "id": "t1-3msHYB-bL",
    "outputId": "e86fcbd0-771d-40c1-a613-bd54b06fdb2c"
   },
   "outputs": [],
   "source": [
    "#from google.colab import drive, files\n",
    "#drive.mount('/content/drive/')"
   ]
  },
  {
   "cell_type": "markdown",
   "metadata": {
    "id": "txP4_glb_l2L"
   },
   "source": [
    "**Importando as bibliotecas**"
   ]
  },
  {
   "cell_type": "code",
   "execution_count": 2,
   "metadata": {
    "id": "8FQzUnkD6nSF"
   },
   "outputs": [],
   "source": [
    "import numpy as np # linear algebra\n",
    "import pandas as pd # data processing, CSV file I/O (e.g. pd.read_csv)\n",
    "import seaborn as sns\n",
    "import matplotlib.pyplot as plt\n",
    "from sklearn.model_selection import train_test_split #to split the dataset for training and testing\n",
    "from sklearn.neural_network import MLPClassifier #Importing MLPClassifier for classification.\n",
    "from sklearn.preprocessing import StandardScaler\n",
    "from sklearn import metrics\n",
    "from sklearn.metrics import confusion_matrix\n",
    "from sklearn.metrics import precision_score, accuracy_score, f1_score, recall_score"
   ]
  },
  {
   "cell_type": "markdown",
   "metadata": {
    "id": "g57iJP1D_6p7"
   },
   "source": [
    "**Abrindo o dataset**"
   ]
  },
  {
   "cell_type": "code",
   "execution_count": 3,
   "metadata": {
    "colab": {
     "base_uri": "https://localhost:8080/"
    },
    "id": "V9lns2ng_9pF",
    "outputId": "7bc9e702-e888-4770-ff12-cb7bbe1df7b2"
   },
   "outputs": [
    {
     "name": "stdout",
     "output_type": "stream",
     "text": [
      "        Elevation  Aspect  Slope  Horizontal_Distance_To_Hydrology  \\\n",
      "0            2596      51      3                               258   \n",
      "1            2590      56      2                               212   \n",
      "2            2804     139      9                               268   \n",
      "3            2785     155     18                               242   \n",
      "4            2595      45      2                               153   \n",
      "...           ...     ...    ...                               ...   \n",
      "581007       2396     153     20                                85   \n",
      "581008       2391     152     19                                67   \n",
      "581009       2386     159     17                                60   \n",
      "581010       2384     170     15                                60   \n",
      "581011       2383     165     13                                60   \n",
      "\n",
      "        Vertical_Distance_To_Hydrology  Horizontal_Distance_To_Roadways  \\\n",
      "0                                    0                              510   \n",
      "1                                   -6                              390   \n",
      "2                                   65                             3180   \n",
      "3                                  118                             3090   \n",
      "4                                   -1                              391   \n",
      "...                                ...                              ...   \n",
      "581007                              17                              108   \n",
      "581008                              12                               95   \n",
      "581009                               7                               90   \n",
      "581010                               5                               90   \n",
      "581011                               4                               67   \n",
      "\n",
      "        Hillshade_9am  Hillshade_Noon  Hillshade_3pm  \\\n",
      "0                 221             232            148   \n",
      "1                 220             235            151   \n",
      "2                 234             238            135   \n",
      "3                 238             238            122   \n",
      "4                 220             234            150   \n",
      "...               ...             ...            ...   \n",
      "581007            240             237            118   \n",
      "581008            240             237            119   \n",
      "581009            236             241            130   \n",
      "581010            230             245            143   \n",
      "581011            231             244            141   \n",
      "\n",
      "        Horizontal_Distance_To_Fire_Points  ...  Soil_Type32  Soil_Type33  \\\n",
      "0                                     6279  ...            0            0   \n",
      "1                                     6225  ...            0            0   \n",
      "2                                     6121  ...            0            0   \n",
      "3                                     6211  ...            0            0   \n",
      "4                                     6172  ...            0            0   \n",
      "...                                    ...  ...          ...          ...   \n",
      "581007                                 837  ...            0            0   \n",
      "581008                                 845  ...            0            0   \n",
      "581009                                 854  ...            0            0   \n",
      "581010                                 864  ...            0            0   \n",
      "581011                                 875  ...            0            0   \n",
      "\n",
      "        Soil_Type34  Soil_Type35  Soil_Type36  Soil_Type37  Soil_Type38  \\\n",
      "0                 0            0            0            0            0   \n",
      "1                 0            0            0            0            0   \n",
      "2                 0            0            0            0            0   \n",
      "3                 0            0            0            0            0   \n",
      "4                 0            0            0            0            0   \n",
      "...             ...          ...          ...          ...          ...   \n",
      "581007            0            0            0            0            0   \n",
      "581008            0            0            0            0            0   \n",
      "581009            0            0            0            0            0   \n",
      "581010            0            0            0            0            0   \n",
      "581011            0            0            0            0            0   \n",
      "\n",
      "        Soil_Type39  Soil_Type40  Cover_Type  \n",
      "0                 0            0           5  \n",
      "1                 0            0           5  \n",
      "2                 0            0           2  \n",
      "3                 0            0           2  \n",
      "4                 0            0           5  \n",
      "...             ...          ...         ...  \n",
      "581007            0            0           3  \n",
      "581008            0            0           3  \n",
      "581009            0            0           3  \n",
      "581010            0            0           3  \n",
      "581011            0            0           3  \n",
      "\n",
      "[581012 rows x 55 columns]\n"
     ]
    }
   ],
   "source": [
    "df = pd.read_csv('./covtype.csv')\n",
    "print(df)"
   ]
  },
  {
   "cell_type": "markdown",
   "metadata": {
    "id": "68N3TE9REAQ0"
   },
   "source": [
    "# 2 - Elimine todas as colunas relativas aos atributos categóricos"
   ]
  },
  {
   "cell_type": "markdown",
   "metadata": {
    "id": "9_bps5cmEZOO"
   },
   "source": [
    "**Mostrando as colunas do dataset**"
   ]
  },
  {
   "cell_type": "code",
   "execution_count": 4,
   "metadata": {
    "colab": {
     "base_uri": "https://localhost:8080/"
    },
    "id": "tUYlNn73EatE",
    "outputId": "08ccd4ff-14b9-4359-da1a-48abe143967a"
   },
   "outputs": [
    {
     "data": {
      "text/plain": [
       "Index(['Elevation', 'Aspect', 'Slope', 'Horizontal_Distance_To_Hydrology',\n",
       "       'Vertical_Distance_To_Hydrology', 'Horizontal_Distance_To_Roadways',\n",
       "       'Hillshade_9am', 'Hillshade_Noon', 'Hillshade_3pm',\n",
       "       'Horizontal_Distance_To_Fire_Points', 'Wilderness_Area1',\n",
       "       'Wilderness_Area2', 'Wilderness_Area3', 'Wilderness_Area4',\n",
       "       'Soil_Type1', 'Soil_Type2', 'Soil_Type3', 'Soil_Type4', 'Soil_Type5',\n",
       "       'Soil_Type6', 'Soil_Type7', 'Soil_Type8', 'Soil_Type9', 'Soil_Type10',\n",
       "       'Soil_Type11', 'Soil_Type12', 'Soil_Type13', 'Soil_Type14',\n",
       "       'Soil_Type15', 'Soil_Type16', 'Soil_Type17', 'Soil_Type18',\n",
       "       'Soil_Type19', 'Soil_Type20', 'Soil_Type21', 'Soil_Type22',\n",
       "       'Soil_Type23', 'Soil_Type24', 'Soil_Type25', 'Soil_Type26',\n",
       "       'Soil_Type27', 'Soil_Type28', 'Soil_Type29', 'Soil_Type30',\n",
       "       'Soil_Type31', 'Soil_Type32', 'Soil_Type33', 'Soil_Type34',\n",
       "       'Soil_Type35', 'Soil_Type36', 'Soil_Type37', 'Soil_Type38',\n",
       "       'Soil_Type39', 'Soil_Type40', 'Cover_Type'],\n",
       "      dtype='object')"
      ]
     },
     "execution_count": 4,
     "metadata": {},
     "output_type": "execute_result"
    }
   ],
   "source": [
    "df.columns"
   ]
  },
  {
   "cell_type": "markdown",
   "metadata": {
    "id": "To1fNCOCEwig"
   },
   "source": [
    "**Deletando os atributos categóricos**"
   ]
  },
  {
   "cell_type": "code",
   "execution_count": 5,
   "metadata": {
    "id": "TeWeHCjZE2Vm"
   },
   "outputs": [],
   "source": [
    "df.drop(columns=['Wilderness_Area1',\n",
    "       'Wilderness_Area2', 'Wilderness_Area3', 'Wilderness_Area4',\n",
    "       'Soil_Type1', 'Soil_Type2', 'Soil_Type3', 'Soil_Type4', 'Soil_Type5',\n",
    "       'Soil_Type6', 'Soil_Type7', 'Soil_Type8', 'Soil_Type9', 'Soil_Type10',\n",
    "       'Soil_Type11', 'Soil_Type12', 'Soil_Type13', 'Soil_Type14',\n",
    "       'Soil_Type15', 'Soil_Type16', 'Soil_Type17', 'Soil_Type18',\n",
    "       'Soil_Type19', 'Soil_Type20', 'Soil_Type21', 'Soil_Type22',\n",
    "       'Soil_Type23', 'Soil_Type24', 'Soil_Type25', 'Soil_Type26',\n",
    "       'Soil_Type27', 'Soil_Type28', 'Soil_Type29', 'Soil_Type30',\n",
    "       'Soil_Type31', 'Soil_Type32', 'Soil_Type33', 'Soil_Type34',\n",
    "       'Soil_Type35', 'Soil_Type36', 'Soil_Type37', 'Soil_Type38',\n",
    "       'Soil_Type39', 'Soil_Type40'], inplace=True)"
   ]
  },
  {
   "cell_type": "markdown",
   "metadata": {
    "id": "-gMBSPVEFPis"
   },
   "source": [
    "**Verificando se há inconsistencias após a eliminação das colunas**"
   ]
  },
  {
   "cell_type": "code",
   "execution_count": 6,
   "metadata": {
    "colab": {
     "base_uri": "https://localhost:8080/"
    },
    "id": "L7sekDIjFXGz",
    "outputId": "7f8efe65-5c99-4321-8c94-4a575c2addad"
   },
   "outputs": [
    {
     "name": "stdout",
     "output_type": "stream",
     "text": [
      "<class 'pandas.core.frame.DataFrame'>\n",
      "RangeIndex: 581012 entries, 0 to 581011\n",
      "Data columns (total 11 columns):\n",
      " #   Column                              Non-Null Count   Dtype\n",
      "---  ------                              --------------   -----\n",
      " 0   Elevation                           581012 non-null  int64\n",
      " 1   Aspect                              581012 non-null  int64\n",
      " 2   Slope                               581012 non-null  int64\n",
      " 3   Horizontal_Distance_To_Hydrology    581012 non-null  int64\n",
      " 4   Vertical_Distance_To_Hydrology      581012 non-null  int64\n",
      " 5   Horizontal_Distance_To_Roadways     581012 non-null  int64\n",
      " 6   Hillshade_9am                       581012 non-null  int64\n",
      " 7   Hillshade_Noon                      581012 non-null  int64\n",
      " 8   Hillshade_3pm                       581012 non-null  int64\n",
      " 9   Horizontal_Distance_To_Fire_Points  581012 non-null  int64\n",
      " 10  Cover_Type                          581012 non-null  int64\n",
      "dtypes: int64(11)\n",
      "memory usage: 48.8 MB\n"
     ]
    }
   ],
   "source": [
    "df.info()"
   ]
  },
  {
   "cell_type": "markdown",
   "metadata": {
    "id": "t3saaA_vFhAx"
   },
   "source": [
    "**Visão geral do dataset**"
   ]
  },
  {
   "cell_type": "code",
   "execution_count": 7,
   "metadata": {
    "colab": {
     "base_uri": "https://localhost:8080/",
     "height": 444
    },
    "id": "Y7fP9dafFfMd",
    "outputId": "f74f688e-ea36-431e-a053-2e0a0ae0eda7"
   },
   "outputs": [
    {
     "data": {
      "text/html": [
       "<div>\n",
       "<style scoped>\n",
       "    .dataframe tbody tr th:only-of-type {\n",
       "        vertical-align: middle;\n",
       "    }\n",
       "\n",
       "    .dataframe tbody tr th {\n",
       "        vertical-align: top;\n",
       "    }\n",
       "\n",
       "    .dataframe thead th {\n",
       "        text-align: right;\n",
       "    }\n",
       "</style>\n",
       "<table border=\"1\" class=\"dataframe\">\n",
       "  <thead>\n",
       "    <tr style=\"text-align: right;\">\n",
       "      <th></th>\n",
       "      <th>Elevation</th>\n",
       "      <th>Aspect</th>\n",
       "      <th>Slope</th>\n",
       "      <th>Horizontal_Distance_To_Hydrology</th>\n",
       "      <th>Vertical_Distance_To_Hydrology</th>\n",
       "      <th>Horizontal_Distance_To_Roadways</th>\n",
       "      <th>Hillshade_9am</th>\n",
       "      <th>Hillshade_Noon</th>\n",
       "      <th>Hillshade_3pm</th>\n",
       "      <th>Horizontal_Distance_To_Fire_Points</th>\n",
       "      <th>Cover_Type</th>\n",
       "    </tr>\n",
       "  </thead>\n",
       "  <tbody>\n",
       "    <tr>\n",
       "      <th>0</th>\n",
       "      <td>2596</td>\n",
       "      <td>51</td>\n",
       "      <td>3</td>\n",
       "      <td>258</td>\n",
       "      <td>0</td>\n",
       "      <td>510</td>\n",
       "      <td>221</td>\n",
       "      <td>232</td>\n",
       "      <td>148</td>\n",
       "      <td>6279</td>\n",
       "      <td>5</td>\n",
       "    </tr>\n",
       "    <tr>\n",
       "      <th>1</th>\n",
       "      <td>2590</td>\n",
       "      <td>56</td>\n",
       "      <td>2</td>\n",
       "      <td>212</td>\n",
       "      <td>-6</td>\n",
       "      <td>390</td>\n",
       "      <td>220</td>\n",
       "      <td>235</td>\n",
       "      <td>151</td>\n",
       "      <td>6225</td>\n",
       "      <td>5</td>\n",
       "    </tr>\n",
       "    <tr>\n",
       "      <th>2</th>\n",
       "      <td>2804</td>\n",
       "      <td>139</td>\n",
       "      <td>9</td>\n",
       "      <td>268</td>\n",
       "      <td>65</td>\n",
       "      <td>3180</td>\n",
       "      <td>234</td>\n",
       "      <td>238</td>\n",
       "      <td>135</td>\n",
       "      <td>6121</td>\n",
       "      <td>2</td>\n",
       "    </tr>\n",
       "    <tr>\n",
       "      <th>3</th>\n",
       "      <td>2785</td>\n",
       "      <td>155</td>\n",
       "      <td>18</td>\n",
       "      <td>242</td>\n",
       "      <td>118</td>\n",
       "      <td>3090</td>\n",
       "      <td>238</td>\n",
       "      <td>238</td>\n",
       "      <td>122</td>\n",
       "      <td>6211</td>\n",
       "      <td>2</td>\n",
       "    </tr>\n",
       "    <tr>\n",
       "      <th>4</th>\n",
       "      <td>2595</td>\n",
       "      <td>45</td>\n",
       "      <td>2</td>\n",
       "      <td>153</td>\n",
       "      <td>-1</td>\n",
       "      <td>391</td>\n",
       "      <td>220</td>\n",
       "      <td>234</td>\n",
       "      <td>150</td>\n",
       "      <td>6172</td>\n",
       "      <td>5</td>\n",
       "    </tr>\n",
       "    <tr>\n",
       "      <th>...</th>\n",
       "      <td>...</td>\n",
       "      <td>...</td>\n",
       "      <td>...</td>\n",
       "      <td>...</td>\n",
       "      <td>...</td>\n",
       "      <td>...</td>\n",
       "      <td>...</td>\n",
       "      <td>...</td>\n",
       "      <td>...</td>\n",
       "      <td>...</td>\n",
       "      <td>...</td>\n",
       "    </tr>\n",
       "    <tr>\n",
       "      <th>581006</th>\n",
       "      <td>2401</td>\n",
       "      <td>157</td>\n",
       "      <td>21</td>\n",
       "      <td>90</td>\n",
       "      <td>15</td>\n",
       "      <td>120</td>\n",
       "      <td>238</td>\n",
       "      <td>238</td>\n",
       "      <td>119</td>\n",
       "      <td>830</td>\n",
       "      <td>3</td>\n",
       "    </tr>\n",
       "    <tr>\n",
       "      <th>581007</th>\n",
       "      <td>2396</td>\n",
       "      <td>153</td>\n",
       "      <td>20</td>\n",
       "      <td>85</td>\n",
       "      <td>17</td>\n",
       "      <td>108</td>\n",
       "      <td>240</td>\n",
       "      <td>237</td>\n",
       "      <td>118</td>\n",
       "      <td>837</td>\n",
       "      <td>3</td>\n",
       "    </tr>\n",
       "    <tr>\n",
       "      <th>581008</th>\n",
       "      <td>2391</td>\n",
       "      <td>152</td>\n",
       "      <td>19</td>\n",
       "      <td>67</td>\n",
       "      <td>12</td>\n",
       "      <td>95</td>\n",
       "      <td>240</td>\n",
       "      <td>237</td>\n",
       "      <td>119</td>\n",
       "      <td>845</td>\n",
       "      <td>3</td>\n",
       "    </tr>\n",
       "    <tr>\n",
       "      <th>581009</th>\n",
       "      <td>2386</td>\n",
       "      <td>159</td>\n",
       "      <td>17</td>\n",
       "      <td>60</td>\n",
       "      <td>7</td>\n",
       "      <td>90</td>\n",
       "      <td>236</td>\n",
       "      <td>241</td>\n",
       "      <td>130</td>\n",
       "      <td>854</td>\n",
       "      <td>3</td>\n",
       "    </tr>\n",
       "    <tr>\n",
       "      <th>581010</th>\n",
       "      <td>2384</td>\n",
       "      <td>170</td>\n",
       "      <td>15</td>\n",
       "      <td>60</td>\n",
       "      <td>5</td>\n",
       "      <td>90</td>\n",
       "      <td>230</td>\n",
       "      <td>245</td>\n",
       "      <td>143</td>\n",
       "      <td>864</td>\n",
       "      <td>3</td>\n",
       "    </tr>\n",
       "  </tbody>\n",
       "</table>\n",
       "<p>581011 rows × 11 columns</p>\n",
       "</div>"
      ],
      "text/plain": [
       "        Elevation  Aspect  Slope  Horizontal_Distance_To_Hydrology  \\\n",
       "0            2596      51      3                               258   \n",
       "1            2590      56      2                               212   \n",
       "2            2804     139      9                               268   \n",
       "3            2785     155     18                               242   \n",
       "4            2595      45      2                               153   \n",
       "...           ...     ...    ...                               ...   \n",
       "581006       2401     157     21                                90   \n",
       "581007       2396     153     20                                85   \n",
       "581008       2391     152     19                                67   \n",
       "581009       2386     159     17                                60   \n",
       "581010       2384     170     15                                60   \n",
       "\n",
       "        Vertical_Distance_To_Hydrology  Horizontal_Distance_To_Roadways  \\\n",
       "0                                    0                              510   \n",
       "1                                   -6                              390   \n",
       "2                                   65                             3180   \n",
       "3                                  118                             3090   \n",
       "4                                   -1                              391   \n",
       "...                                ...                              ...   \n",
       "581006                              15                              120   \n",
       "581007                              17                              108   \n",
       "581008                              12                               95   \n",
       "581009                               7                               90   \n",
       "581010                               5                               90   \n",
       "\n",
       "        Hillshade_9am  Hillshade_Noon  Hillshade_3pm  \\\n",
       "0                 221             232            148   \n",
       "1                 220             235            151   \n",
       "2                 234             238            135   \n",
       "3                 238             238            122   \n",
       "4                 220             234            150   \n",
       "...               ...             ...            ...   \n",
       "581006            238             238            119   \n",
       "581007            240             237            118   \n",
       "581008            240             237            119   \n",
       "581009            236             241            130   \n",
       "581010            230             245            143   \n",
       "\n",
       "        Horizontal_Distance_To_Fire_Points  Cover_Type  \n",
       "0                                     6279           5  \n",
       "1                                     6225           5  \n",
       "2                                     6121           2  \n",
       "3                                     6211           2  \n",
       "4                                     6172           5  \n",
       "...                                    ...         ...  \n",
       "581006                                 830           3  \n",
       "581007                                 837           3  \n",
       "581008                                 845           3  \n",
       "581009                                 854           3  \n",
       "581010                                 864           3  \n",
       "\n",
       "[581011 rows x 11 columns]"
      ]
     },
     "execution_count": 7,
     "metadata": {},
     "output_type": "execute_result"
    }
   ],
   "source": [
    "df.head(-1)"
   ]
  },
  {
   "cell_type": "markdown",
   "metadata": {
    "id": "VXwqzPaMGwJa"
   },
   "source": [
    "# 3 - Armazene o atributo alvo em uma variável y e os atributos preditores em uma variável X"
   ]
  },
  {
   "cell_type": "code",
   "execution_count": 8,
   "metadata": {
    "colab": {
     "base_uri": "https://localhost:8080/",
     "height": 226
    },
    "id": "YhRjd5QYGc5w",
    "outputId": "8486dbbd-7009-4764-ffb3-66fd887b8fcd"
   },
   "outputs": [
    {
     "data": {
      "text/html": [
       "<div>\n",
       "<style scoped>\n",
       "    .dataframe tbody tr th:only-of-type {\n",
       "        vertical-align: middle;\n",
       "    }\n",
       "\n",
       "    .dataframe tbody tr th {\n",
       "        vertical-align: top;\n",
       "    }\n",
       "\n",
       "    .dataframe thead th {\n",
       "        text-align: right;\n",
       "    }\n",
       "</style>\n",
       "<table border=\"1\" class=\"dataframe\">\n",
       "  <thead>\n",
       "    <tr style=\"text-align: right;\">\n",
       "      <th></th>\n",
       "      <th>Elevation</th>\n",
       "      <th>Aspect</th>\n",
       "      <th>Slope</th>\n",
       "      <th>Horizontal_Distance_To_Hydrology</th>\n",
       "      <th>Vertical_Distance_To_Hydrology</th>\n",
       "      <th>Horizontal_Distance_To_Roadways</th>\n",
       "      <th>Hillshade_9am</th>\n",
       "      <th>Hillshade_Noon</th>\n",
       "      <th>Hillshade_3pm</th>\n",
       "      <th>Horizontal_Distance_To_Fire_Points</th>\n",
       "    </tr>\n",
       "  </thead>\n",
       "  <tbody>\n",
       "    <tr>\n",
       "      <th>0</th>\n",
       "      <td>2596</td>\n",
       "      <td>51</td>\n",
       "      <td>3</td>\n",
       "      <td>258</td>\n",
       "      <td>0</td>\n",
       "      <td>510</td>\n",
       "      <td>221</td>\n",
       "      <td>232</td>\n",
       "      <td>148</td>\n",
       "      <td>6279</td>\n",
       "    </tr>\n",
       "    <tr>\n",
       "      <th>1</th>\n",
       "      <td>2590</td>\n",
       "      <td>56</td>\n",
       "      <td>2</td>\n",
       "      <td>212</td>\n",
       "      <td>-6</td>\n",
       "      <td>390</td>\n",
       "      <td>220</td>\n",
       "      <td>235</td>\n",
       "      <td>151</td>\n",
       "      <td>6225</td>\n",
       "    </tr>\n",
       "    <tr>\n",
       "      <th>2</th>\n",
       "      <td>2804</td>\n",
       "      <td>139</td>\n",
       "      <td>9</td>\n",
       "      <td>268</td>\n",
       "      <td>65</td>\n",
       "      <td>3180</td>\n",
       "      <td>234</td>\n",
       "      <td>238</td>\n",
       "      <td>135</td>\n",
       "      <td>6121</td>\n",
       "    </tr>\n",
       "    <tr>\n",
       "      <th>3</th>\n",
       "      <td>2785</td>\n",
       "      <td>155</td>\n",
       "      <td>18</td>\n",
       "      <td>242</td>\n",
       "      <td>118</td>\n",
       "      <td>3090</td>\n",
       "      <td>238</td>\n",
       "      <td>238</td>\n",
       "      <td>122</td>\n",
       "      <td>6211</td>\n",
       "    </tr>\n",
       "    <tr>\n",
       "      <th>4</th>\n",
       "      <td>2595</td>\n",
       "      <td>45</td>\n",
       "      <td>2</td>\n",
       "      <td>153</td>\n",
       "      <td>-1</td>\n",
       "      <td>391</td>\n",
       "      <td>220</td>\n",
       "      <td>234</td>\n",
       "      <td>150</td>\n",
       "      <td>6172</td>\n",
       "    </tr>\n",
       "  </tbody>\n",
       "</table>\n",
       "</div>"
      ],
      "text/plain": [
       "   Elevation  Aspect  Slope  Horizontal_Distance_To_Hydrology  \\\n",
       "0       2596      51      3                               258   \n",
       "1       2590      56      2                               212   \n",
       "2       2804     139      9                               268   \n",
       "3       2785     155     18                               242   \n",
       "4       2595      45      2                               153   \n",
       "\n",
       "   Vertical_Distance_To_Hydrology  Horizontal_Distance_To_Roadways  \\\n",
       "0                               0                              510   \n",
       "1                              -6                              390   \n",
       "2                              65                             3180   \n",
       "3                             118                             3090   \n",
       "4                              -1                              391   \n",
       "\n",
       "   Hillshade_9am  Hillshade_Noon  Hillshade_3pm  \\\n",
       "0            221             232            148   \n",
       "1            220             235            151   \n",
       "2            234             238            135   \n",
       "3            238             238            122   \n",
       "4            220             234            150   \n",
       "\n",
       "   Horizontal_Distance_To_Fire_Points  \n",
       "0                                6279  \n",
       "1                                6225  \n",
       "2                                6121  \n",
       "3                                6211  \n",
       "4                                6172  "
      ]
     },
     "execution_count": 8,
     "metadata": {},
     "output_type": "execute_result"
    }
   ],
   "source": [
    "Y = df['Cover_Type']\n",
    "df.drop([\"Cover_Type\"],axis = 1,inplace=True)\n",
    "X = df\n",
    "X.head()"
   ]
  },
  {
   "cell_type": "markdown",
   "metadata": {
    "id": "PtqAVDXSHQlw"
   },
   "source": [
    "# 4 - Efetue uma partição holdout 70/30 com o sklearn, distribuindo os exemplos de maneira aleatória"
   ]
  },
  {
   "cell_type": "code",
   "execution_count": 9,
   "metadata": {
    "id": "dtcJbBRMHUha"
   },
   "outputs": [],
   "source": [
    "X_train, X_test, Y_train, Y_test = train_test_split(X, Y, test_size=0.30)"
   ]
  },
  {
   "cell_type": "markdown",
   "metadata": {
    "id": "a35AmftuJWdJ"
   },
   "source": [
    "# 5 - Efetue o escalonamento dos atributos "
   ]
  },
  {
   "cell_type": "code",
   "execution_count": 10,
   "metadata": {
    "colab": {
     "base_uri": "https://localhost:8080/"
    },
    "id": "-ZbhK8kvKCOc",
    "outputId": "ebedc8d0-d7f1-44e5-b379-3782a8be14cf"
   },
   "outputs": [
    {
     "name": "stdout",
     "output_type": "stream",
     "text": [
      "        Elevation    Aspect     Slope  Horizontal_Distance_To_Hydrology  \\\n",
      "374318   0.740832 -1.138783  0.120631                          3.902790   \n",
      "72060   -0.234833  0.165895 -0.948297                         -0.420495   \n",
      "270819   0.762275 -0.584742 -0.948297                         -0.683938   \n",
      "276956   0.118979 -0.504316  0.655094                          1.329518   \n",
      "477331   1.444883  1.702914  0.254247                          1.287179   \n",
      "...           ...       ...       ...                               ...   \n",
      "101795   0.022485 -0.057508 -0.547449                          0.120503   \n",
      "306235  -1.750152 -0.656231 -0.012985                          1.287179   \n",
      "170241   0.383445 -1.290698 -1.215528                         -0.364043   \n",
      "523343   1.023167 -0.968996  0.254247                         -0.321704   \n",
      "278158  -0.027549 -1.201336 -0.413833                          0.144025   \n",
      "\n",
      "        Vertical_Distance_To_Hydrology  Horizontal_Distance_To_Roadways  \\\n",
      "374318                        1.241446                         0.342193   \n",
      "72060                        -0.487276                         0.739643   \n",
      "270819                       -0.607088                         0.419119   \n",
      "276956                        2.388222                        -1.145682   \n",
      "477331                        1.463955                         1.703781   \n",
      "...                                ...                              ...   \n",
      "101795                        0.762197                         1.146709   \n",
      "306235                        1.155866                        -1.096321   \n",
      "170241                       -0.658436                         0.715283   \n",
      "523343                       -0.144955                        -0.807208   \n",
      "278158                       -1.189034                        -0.648869   \n",
      "\n",
      "        Hillshade_9am  Hillshade_Noon  Hillshade_3pm  \\\n",
      "374318       0.031302       -0.825131      -0.405640   \n",
      "72060        0.442901        1.046080       0.274199   \n",
      "270819       0.704827        0.287481      -0.327197   \n",
      "276956       1.340934       -0.673411      -1.582285   \n",
      "477331      -0.978985       -0.572264       0.535676   \n",
      "...               ...             ...            ...   \n",
      "101795       0.779663        0.843787      -0.144164   \n",
      "306235       1.004172       -0.471118      -1.033184   \n",
      "170241       0.106138        0.338054       0.248051   \n",
      "523343       0.442901       -1.077997      -0.902446   \n",
      "278158       0.031302       -0.319398      -0.065721   \n",
      "\n",
      "        Horizontal_Distance_To_Fire_Points  \n",
      "374318                            0.169991  \n",
      "72060                             1.221261  \n",
      "270819                            1.210681  \n",
      "276956                           -0.754310  \n",
      "477331                            0.817683  \n",
      "...                                    ...  \n",
      "101795                           -0.273643  \n",
      "306235                           -0.706697  \n",
      "170241                           -0.374916  \n",
      "523343                           -0.024240  \n",
      "278158                           -1.135216  \n",
      "\n",
      "[406708 rows x 10 columns]\n",
      "        Elevation    Aspect     Slope  Horizontal_Distance_To_Hydrology  \\\n",
      "380182   1.591411 -1.085166  0.387863                          1.724682   \n",
      "515861   1.112514 -0.423891  0.788710                          0.501555   \n",
      "269182  -2.793720  1.256106 -0.413833                         -0.952085   \n",
      "159141  -0.434970 -0.861762 -0.413833                         -0.820364   \n",
      "412413  -0.424248 -0.817082 -0.814681                         -0.636895   \n",
      "...           ...       ...       ...                               ...   \n",
      "462872   0.404889 -0.709848  0.120631                         -0.820364   \n",
      "313717   0.669354  1.354404  1.991254                         -0.843885   \n",
      "64771    0.018911 -0.352402 -0.413833                          0.435694   \n",
      "236096  -1.328436  0.996958  2.926565                         -0.820364   \n",
      "164457   0.047502 -0.745592 -1.616376                         -0.985016   \n",
      "\n",
      "        Vertical_Distance_To_Hydrology  Horizontal_Distance_To_Roadways  \\\n",
      "380182                        2.045901                         0.436427   \n",
      "515861                        0.505456                        -1.352100   \n",
      "269182                       -0.401696                        -0.751437   \n",
      "159141                       -0.795365                        -0.457836   \n",
      "412413                       -0.795365                        -0.237957   \n",
      "...                                ...                              ...   \n",
      "462872                       -0.281883                        -0.976445   \n",
      "313717                       -0.384579                         0.541559   \n",
      "64771                        -0.624204                         1.447361   \n",
      "236096                        0.300063                        -0.825158   \n",
      "164457                       -0.795365                         0.147314   \n",
      "\n",
      "        Hillshade_9am  Hillshade_Noon  Hillshade_3pm  \\\n",
      "380182       0.106138       -1.179143      -0.693265   \n",
      "515861       1.415770       -0.572264      -1.608433   \n",
      "269182      -0.904149        0.692067       1.189367   \n",
      "159141       0.592573       -0.369971      -0.614822   \n",
      "412413       0.592573        0.034615      -0.353345   \n",
      "...               ...             ...            ...   \n",
      "462872       0.929335       -0.572264      -1.059332   \n",
      "313717      -3.111814       -0.723984       1.843059   \n",
      "64771        1.041590        0.287481      -0.640969   \n",
      "236096      -3.972430        0.186334       2.679784   \n",
      "164457       0.368065        0.540347       0.169608   \n",
      "\n",
      "        Horizontal_Distance_To_Fire_Points  \n",
      "380182                            0.179816  \n",
      "515861                           -1.030920  \n",
      "269182                           -1.106497  \n",
      "159141                            0.367246  \n",
      "412413                            0.464740  \n",
      "...                                    ...  \n",
      "462872                           -0.247191  \n",
      "313717                            0.204001  \n",
      "64771                             2.495482  \n",
      "236096                           -0.496594  \n",
      "164457                           -0.238122  \n",
      "\n",
      "[174304 rows x 10 columns]\n"
     ]
    }
   ],
   "source": [
    "X_train_stand = X_train.copy()\n",
    "X_test_stand = X_test.copy()\n",
    "\n",
    "\n",
    "X_train_stand = (X_train - np.mean(X_train))/np.std(X_train)\n",
    "X_test_stand = (X_test - np.mean(X_train))/np.std(X_train)\n",
    "\n",
    "print(X_train_stand)\n",
    "print(X_test_stand)"
   ]
  },
  {
   "cell_type": "markdown",
   "metadata": {
    "id": "bxIuKCn069uJ"
   },
   "source": [
    "# Continuação"
   ]
  },
  {
   "cell_type": "markdown",
   "metadata": {
    "id": "WdJxjiNW7QZZ"
   },
   "source": [
    "#5 - Treine uma rede neural multilayer perceptron para este problema com uma única camada e dez neurônios"
   ]
  },
  {
   "cell_type": "markdown",
   "metadata": {
    "id": "vgY84-305nWK"
   },
   "source": [
    "**5.1 - Utilize a função de ativação ReLU <br>\n",
    "5.2 - Utilize o solver Adam <br>\n",
    "5.3 - Imprima o passo a passo do treinamento <br>\n",
    "5.4 - Utilize o número máximo de épocas igual a 300**"
   ]
  },
  {
   "cell_type": "code",
   "execution_count": 11,
   "metadata": {
    "colab": {
     "base_uri": "https://localhost:8080/"
    },
    "id": "x4DaQHna6kt6",
    "outputId": "43803140-2beb-4e03-9ec3-3be18666e61e"
   },
   "outputs": [
    {
     "name": "stdout",
     "output_type": "stream",
     "text": [
      "Iteration 1, loss = 0.96111845\n",
      "Iteration 2, loss = 0.71301122\n",
      "Iteration 3, loss = 0.68982319\n",
      "Iteration 4, loss = 0.68023532\n",
      "Iteration 5, loss = 0.67408140\n",
      "Iteration 6, loss = 0.66906594\n",
      "Iteration 7, loss = 0.66504984\n",
      "Iteration 8, loss = 0.66200646\n",
      "Iteration 9, loss = 0.66006059\n",
      "Iteration 10, loss = 0.65876568\n",
      "Iteration 11, loss = 0.65752600\n",
      "Iteration 12, loss = 0.65662629\n",
      "Iteration 13, loss = 0.65602055\n",
      "Iteration 14, loss = 0.65558994\n",
      "Iteration 15, loss = 0.65513468\n",
      "Iteration 16, loss = 0.65480864\n",
      "Iteration 17, loss = 0.65458638\n",
      "Iteration 18, loss = 0.65433303\n",
      "Iteration 19, loss = 0.65404422\n",
      "Iteration 20, loss = 0.65366496\n",
      "Iteration 21, loss = 0.65319127\n",
      "Iteration 22, loss = 0.65288621\n",
      "Iteration 23, loss = 0.65263321\n",
      "Iteration 24, loss = 0.65236856\n",
      "Iteration 25, loss = 0.65213665\n",
      "Iteration 26, loss = 0.65196206\n",
      "Iteration 27, loss = 0.65176357\n",
      "Iteration 28, loss = 0.65150062\n",
      "Iteration 29, loss = 0.65116766\n",
      "Iteration 30, loss = 0.65097929\n",
      "Iteration 31, loss = 0.65074665\n",
      "Iteration 32, loss = 0.65050161\n",
      "Iteration 33, loss = 0.65024520\n",
      "Iteration 34, loss = 0.65013290\n",
      "Iteration 35, loss = 0.65002856\n",
      "Iteration 36, loss = 0.64983849\n",
      "Iteration 37, loss = 0.64968954\n",
      "Iteration 38, loss = 0.64951285\n",
      "Iteration 39, loss = 0.64942604\n",
      "Iteration 40, loss = 0.64929387\n",
      "Iteration 41, loss = 0.64909844\n",
      "Iteration 42, loss = 0.64900513\n",
      "Iteration 43, loss = 0.64899271\n",
      "Iteration 44, loss = 0.64883032\n",
      "Iteration 45, loss = 0.64876103\n",
      "Iteration 46, loss = 0.64873616\n",
      "Iteration 47, loss = 0.64865422\n",
      "Iteration 48, loss = 0.64865504\n",
      "Iteration 49, loss = 0.64852771\n",
      "Iteration 50, loss = 0.64840387\n",
      "Iteration 51, loss = 0.64840135\n",
      "Iteration 52, loss = 0.64842194\n",
      "Iteration 53, loss = 0.64828289\n",
      "Iteration 54, loss = 0.64831889\n",
      "Iteration 55, loss = 0.64828716\n",
      "Iteration 56, loss = 0.64831290\n",
      "Iteration 57, loss = 0.64813142\n",
      "Iteration 58, loss = 0.64816692\n",
      "Iteration 59, loss = 0.64812113\n",
      "Iteration 60, loss = 0.64804027\n",
      "Iteration 61, loss = 0.64813441\n",
      "Iteration 62, loss = 0.64808464\n",
      "Iteration 63, loss = 0.64801747\n",
      "Iteration 64, loss = 0.64796214\n",
      "Iteration 65, loss = 0.64800273\n",
      "Iteration 66, loss = 0.64793770\n",
      "Iteration 67, loss = 0.64793147\n",
      "Iteration 68, loss = 0.64789576\n",
      "Training loss did not improve more than tol=0.000100 for 10 consecutive epochs. Stopping.\n"
     ]
    },
    {
     "data": {
      "text/plain": [
       "MLPClassifier(hidden_layer_sizes=(10,), max_iter=300, verbose=True)"
      ]
     },
     "execution_count": 11,
     "metadata": {},
     "output_type": "execute_result"
    }
   ],
   "source": [
    "rede = MLPClassifier(hidden_layer_sizes=(10,),activation='relu',solver='adam',max_iter=300,verbose=True)\n",
    "rede.fit(X_train_stand,Y_train)"
   ]
  },
  {
   "cell_type": "markdown",
   "metadata": {
    "id": "NIy6RQxRiTZW"
   },
   "source": [
    "# 6 - Com o modelo em questão, após o treinamento, apresente:\n"
   ]
  },
  {
   "cell_type": "markdown",
   "metadata": {
    "id": "ecgk0Vj6idip"
   },
   "source": [
    "**6.1 - Matriz de confusão para o conjunto de teste <br>\n",
    "6.2 - Acurácia <br>\n",
    "6.3 - F-Score <br>\n",
    "6.4 - Precisão <br>\n",
    "6.5 - Revocação**"
   ]
  },
  {
   "cell_type": "code",
   "execution_count": 12,
   "metadata": {
    "colab": {
     "base_uri": "https://localhost:8080/",
     "height": 264
    },
    "id": "IODWMxAG_uyp",
    "outputId": "3dcea64b-cac5-46ce-94a0-0d22eec26911"
   },
   "outputs": [
    {
     "data": {
      "image/png": "[encoded data removed]",
      "text/plain": [
       "<Figure size 288x288 with 2 Axes>"
      ]
     },
     "metadata": {
      "needs_background": "light"
     },
     "output_type": "display_data"
    }
   ],
   "source": [
    "y_pred = rede.predict(X_test_stand)\n",
    "\n",
    "conf_matrix = confusion_matrix(y_pred, Y_test)\n",
    "plt.matshow(conf_matrix, cmap=plt.cm.Greens)\n",
    "\n",
    "for (m, n), value in np.ndenumerate(conf_matrix):\n",
    "    plt.text(m, n, f\"{value}\", va=\"center\", ha=\"center\")\n",
    "plt.xlabel(\"y_pred\")\n",
    "plt.ylabel(\"y_test\")\n",
    "plt.colorbar()\n",
    "plt.plot()\n",
    "plt.show()"
   ]
  },
  {
   "cell_type": "code",
   "execution_count": 13,
   "metadata": {
    "colab": {
     "base_uri": "https://localhost:8080/"
    },
    "id": "V7N7H7GUDG9j",
    "outputId": "05d21186-cdaa-46c9-8b35-530098b60cda"
   },
   "outputs": [
    {
     "name": "stdout",
     "output_type": "stream",
     "text": [
      "Acurácia 0.717\n",
      "F1-Score: 0.727\n",
      "Precisão: 0.740\n",
      "Revocação: 0.717\n"
     ]
    }
   ],
   "source": [
    "acuracia = accuracy_score(y_pred, Y_test)\n",
    "fscore = f1_score(y_pred, Y_test, average='weighted')\n",
    "precisao = precision_score(y_pred, Y_test, average='weighted')\n",
    "revocacao = recall_score(y_pred, Y_test, average='weighted')\n",
    "\n",
    "print(\"Acurácia {:.3f}\".format(acuracia))\n",
    "print(\"F1-Score: {:.3f}\".format(fscore))\n",
    "print(\"Precisão: {:.3f}\".format(precisao))\n",
    "print(\"Revocação: {:.3f}\".format(revocacao))"
   ]
  },
  {
   "cell_type": "markdown",
   "metadata": {
    "id": "ZZxgw2NOjy4H"
   },
   "source": [
    "# 7 - Repita o treinamento da mesma rede anterior sem imprimir o passo a passo (verbose False) por 100 vezes"
   ]
  },
  {
   "cell_type": "markdown",
   "metadata": {
    "id": "Jlf_Hptrj1gM"
   },
   "source": [
    "**7.1 - Cada uma destas repetições deve ser feita com uma nova partição Holdout <br>\n",
    "7.2 - Apresente a média e o desvio padrão da acurácia e do F-Score para o conjunto de treino**"
   ]
  },
  {
   "cell_type": "code",
   "execution_count": 14,
   "metadata": {
    "colab": {
     "base_uri": "https://localhost:8080/"
    },
    "id": "G4F20VmR6nSN",
    "outputId": "675741b5-b240-4d53-9f2c-b8bda765e459"
   },
   "outputs": [
    {
     "name": "stdout",
     "output_type": "stream",
     "text": [
      "Desvio padrão Acurácia: 0.0021960659728800396 \n",
      "Média Acurácia: 0.7182719080839607 \n",
      "Desvio padrão F-Score: 0.00219594454810365 \n",
      "Média F-score: 0.7278876574889274\n"
     ]
    }
   ],
   "source": [
    "acuracia = []\n",
    "fscore = []\n",
    "\n",
    "\n",
    "for i in range(15):\n",
    "    X_train, X_test, Y_train, Y_test = train_test_split(X, Y, test_size=0.30)\n",
    "    \n",
    "    X_train_stand = X_train.copy()\n",
    "    X_test_stand = X_test.copy()\n",
    "    X_train_stand = (X_train - np.mean(X_train))/np.std(X_train)\n",
    "    X_test_stand = (X_test - np.mean(X_train))/np.std(X_train)\n",
    "\n",
    "    y_pred = rede.predict(X_test_stand)\n",
    "    rede = MLPClassifier(hidden_layer_sizes=(10,),activation='relu',solver='adam',max_iter=300,verbose=False)\n",
    "    rede.fit(X_train_stand,Y_train)\n",
    "    acuracia.append(accuracy_score(y_pred, Y_test))\n",
    "    fscore.append(f1_score(y_pred, Y_test, average='weighted'))\n",
    "\n",
    "dp = np.std(fscore)\n",
    "media = np.mean(fscore)\n",
    "dp_a = np.std(acuracia)\n",
    "media_a = np.mean(acuracia)\n",
    "\n",
    "print(\"Desvio padrão Acurácia:\", dp_a, \"\\nMédia Acurácia:\", media_a,\"\\nDesvio padrão F-Score:\", dp, \"\\nMédia F-score:\", media) "
   ]
  },
  {
   "cell_type": "markdown",
   "metadata": {
    "id": "N_dBBsfMktpu"
   },
   "source": [
    "# 8 - Repita por 100 vezes o treinamento desta mesma rede, mas utilizando o otimizador SGD"
   ]
  },
  {
   "cell_type": "markdown",
   "metadata": {
    "id": "mwlClzDDlBbA"
   },
   "source": [
    "**8.1 - Apresente a média e o desvio padrão da acurácia e do F-Score para o conjunto de treino**"
   ]
  },
  {
   "cell_type": "code",
   "execution_count": 15,
   "metadata": {
    "colab": {
     "base_uri": "https://localhost:8080/"
    },
    "id": "8fOuv7TllGaJ",
    "outputId": "6a51bbe4-b2b7-47c8-b2b0-e63319001dad"
   },
   "outputs": [
    {
     "name": "stdout",
     "output_type": "stream",
     "text": [
      "Desvio Padrão Acurácia: 0.0027142951537368503 \n",
      "Média Acurácia: 0.7151780796768862 \n",
      "Desvio Padrão F-Score: 0.002444865678778554 \n",
      "Média F-Score: 0.7260423674941989\n"
     ]
    }
   ],
   "source": [
    "acuraciaSGD = []\n",
    "fscoreSGD = []\n",
    "\n",
    "for i in range(15):\n",
    "    X_train, X_test, Y_train, Y_test = train_test_split(X, Y, test_size=0.30)\n",
    "\n",
    "    X_train_stand = X_train.copy()\n",
    "    X_test_stand = X_test.copy()\n",
    "    X_train_stand = (X_train - np.mean(X_train))/np.std(X_train)\n",
    "    X_test_stand = (X_test - np.mean(X_train))/np.std(X_train)\n",
    "\n",
    "    \n",
    "    rede2 = MLPClassifier(hidden_layer_sizes=(10,),activation='relu',solver='sgd',max_iter=300,verbose=False)\n",
    "    rede2.fit(X_train_stand,Y_train)\n",
    "  \n",
    "    y_pred = rede2.predict(X_test_stand)\n",
    "    acuraciaSGD.append(accuracy_score(y_pred, Y_test))\n",
    "    fscoreSGD.append(f1_score(y_pred, Y_test, average='weighted'))\n",
    "\n",
    "dp_f = np.std(fscoreSGD)\n",
    "media_f = np.mean(fscoreSGD)\n",
    "dp_a = np.std(acuraciaSGD)\n",
    "media_a = np.mean(acuraciaSGD)\n",
    "\n",
    "print(\"Desvio Padrão Acurácia:\", dp_a, \"\\nMédia Acurácia:\", media_a,\"\\nDesvio Padrão F-Score:\", dp_f, \"\\nMédia F-Score:\", media_f) "
   ]
  },
  {
   "cell_type": "markdown",
   "metadata": {
    "id": "bgdgHyVblHcs"
   },
   "source": [
    " # 9 - Houve influência da escolha do otimizador no desempenho da rede?"
   ]
  },
  {
   "cell_type": "markdown",
   "metadata": {
    "id": "20FKxO5VlMqj"
   },
   "source": [
    "**R: Houve uma influência pouco significativa do otimizador SGD em relação ao otimizador ADAM, pois as médias e desvios padrões de acurácia e F-Score de ambos ficaram com valores muito próximos. Entretanto, o otimizador SGD obteve um tempo de execução de 38 minutos e o ADAM de 29 minutos, onde notamos que o tempo de excução dos otimizadores influência no desempenho da rede.**"
   ]
  },
  {
   "cell_type": "markdown",
   "metadata": {
    "id": "74LqNJ0c6nSI",
    "tags": []
   },
   "source": [
    "## Discussão\n",
    "\n",
    "Nos passos anteriores, você avaliou o desempenho de uma única rede neural que contém os seguintes parâmetros: uma única camada oculta com 10 neurônios e função de ativação ReLU. O otimizador utilizado, quer seja SGD ou ADAM, trata-se do algoritmo para aproximar o gradiente do erro. Neste sentido, a escolha do otimizador é um hiperparâmetro, pois diz respeito a como a rede neural definida previamente atuará \"em tempo de execução\"  durante o processo de treinamento. Também são hiperparâmetros a quantidade de épocas, a taxa de aprendizado inicial, dentre outros.\n",
    "\n",
    "Cabe alientar também que você efetuou o treinamento desta rede por 100 vezes e apresentou os resultados em termos de média +- desvio padrão. Lembre-se que em uma rede neural há a inicialização aleatória de pesos e, em consequência, o desempenho delas está sujeito à uma flutuação estocástica. A execução destas múltiplas vezes faz com que eliminemos algum viés introduzido por uma boa ou má \"sorte\" na escolha de pesos no caso de uma única execução.\n",
    "\n",
    "Você também aprendeu uma estratégia para escalonar os atributos para uma melhor convergência da rede. Utilize-a em todos os treinamentos e testes propostos a seguir.\n",
    "\n",
    "## Propondo Novas Arquiteturas\n",
    "\n",
    "Variando  os parâmetros (uma ou duas camadas ocultas, com diferente números de neurônios em cada uma delas e a função de ativação) e o hiperparâmetros solver (Adam ou SGD) e o número de épocas (100,150 e 200), atenda ao que se pede:\n",
    "\n",
    "1. Proponha 10 arquiteturas distintas de RNAs para o problema em questão, à sua escolha\n",
    "2. Avalie cada uma das arquiteturas perante todos os hiperparâmetros apresentados por 100 vezes\n",
    "3. Como resultado da avaliação, apresente:  \n",
    "    3.1 Top-3 melhores redes no tocante à F-Score e Acurácia  \n",
    "    3.2 Repetição em que houve o melhor desempenho de cada uma dessas redes: ilustre tp, tf, fp e fn  "
   ]
  },
  {
   "cell_type": "markdown",
   "metadata": {
    "id": "7EavKbH8NETE"
   },
   "source": [
    "**1. Proponha 10 arquiteturas distintas de RNAs para o problema em questão, à sua escolha**\n",
    "\n",
    "1. Hiperparâmetro solver: Adam, número de épocas: 100, número de camadas ocultas: 1, função de ativação: relu, número de neurônios: 10;\n",
    "2. Hiperparâmetro solver: Adam, número de épocas: 100, número de camadas ocultas: 2, função de ativação: relu, número de neurônios: 15;\n",
    "3. Hiperparâmetro solver: Adam, número de épocas: 150, número de camadas ocultas: 1, função de ativação: logistic, número de neurônios: 8;\n",
    "4. Hiperparâmetro solver: Adam, número de épocas: 200, número de camadas ocultas: 1, função de ativação: relu, número de neurônios: 18;\n",
    "5. Hiperparâmetro solver: Adam, número de épocas: 200, número de camadas ocultas: 2, função de ativação: logistic, número de neurônios: 20;\n",
    "6. Hiperparâmetro solver: SGD, número de épocas: 100, número de camadas ocultas: 1, função de ativação: relu, número de neurônios: 5;\n",
    "7. Hiperparâmetro solver: SGD, número de épocas: 100, número de camadas ocultas: 2, função de ativação: relu, número de neurônios: 13;\n",
    "8. Hiperparâmetro solver: SGD, número de épocas: 150, número de camadas ocultas: 1, função de ativação: logistic, número de neurônios: 17;\n",
    "9. Hiperparâmetro solver: SGD, número de épocas: 200, número de camadas ocultas: 1, função de ativação: relu, número de neurônios: 9;\n",
    "10. Hiperparâmetro solver: SGD, número de épocas: 200, número de camadas ocultas: 2, função de ativação: logistic, número de neurônios: 30;"
   ]
  },
  {
   "cell_type": "markdown",
   "metadata": {
    "id": "30HHSPfvOB0j"
   },
   "source": [
    "1. MLPClassifier(hidden_layer_sizes=(10,),activation='relu',solver='adam',max_iter=100,verbose=False)\n",
    "2. MLPClassifier(hidden_layer_sizes=(15,2),activation='relu',solver='adam',max_iter=100,verbose=False)\n",
    "3. MLPClassifier(hidden_layer_sizes=(8,),activation='logistic',solver='adam',max_iter=150,verbose=False)\n",
    "4. MLPClassifier(hidden_layer_sizes=(18,),activation='relu',solver='adam',max_iter=200,verbose=False)\n",
    "5. MLPClassifier(hidden_layer_sizes=(20,2),activation='logistic',solver='adam',max_iter=200,verbose=False)\n",
    "6. MLPClassifier(hidden_layer_sizes=(5,),activation='relu',solver='sgd',max_iter=100,verbose=False)\n",
    "7. MLPClassifier(hidden_layer_sizes=(13,2),activation='relu',solver='sgd',max_iter=100,verbose=False)\n",
    "8. MLPClassifier(hidden_layer_sizes=(17,),activation='logistic',solver='sgd',max_iter=150,verbose=False)\n",
    "9. MLPClassifier(hidden_layer_sizes=(9,),activation='relu',solver='sgd',max_iter=200,verbose=False)\n",
    "10. MLPClassifier(hidden_layer_sizes=(30,2),activation='logistic',solver='sgd',max_iter=200,verbose=False)"
   ]
  },
  {
   "cell_type": "code",
   "execution_count": 16,
   "metadata": {
    "id": "fqhn7KWRUk27"
   },
   "outputs": [],
   "source": [
    "def arquitetura(hidden_layer,layer, activ, solv, iter):\n",
    "  acuracia = []\n",
    "  fscore = []\n",
    "  \n",
    "  for i in range(15):\n",
    "    X_train, X_test, Y_train, Y_test = train_test_split(X, Y, test_size=0.30)\n",
    "    \n",
    "    X_train_stand = X_train.copy()\n",
    "    X_test_stand = X_test.copy()\n",
    "    X_train_stand = (X_train - np.mean(X_train))/np.std(X_train)\n",
    "    X_test_stand = (X_test - np.mean(X_train))/np.std(X_train)\n",
    "\n",
    "   \n",
    "    if(hidden_layer == 1):\n",
    "      rede3 = MLPClassifier(hidden_layer_sizes=(layer,),activation=activ,solver=solv,max_iter=iter,verbose=False)\n",
    "    else:\n",
    "      rede3 = MLPClassifier(hidden_layer_sizes=(layer,2),activation=activ,solver=solv,max_iter=iter,verbose=False)\n",
    "    rede3.fit(X_train_stand,Y_train)\n",
    "     \n",
    "    y_pred = rede3.predict(X_test_stand)\n",
    "\n",
    "    acuracia.append(accuracy_score(y_pred, Y_test))\n",
    "    fscore.append(f1_score(y_pred, Y_test, average='weighted'))\n",
    "\n",
    "  dp_f = np.std(fscore)\n",
    "  media_f = np.mean(fscore)\n",
    "  dp_a = np.std(acuracia)\n",
    "  media_a = np.mean(acuracia)\n",
    "\n",
    "  print(\"Desvio Padrão Acurácia:\", dp_a, \"\\nMédia Acurácia:\", media_a,\"\\nDesvio Padrão F-Score:\", dp_f, \"\\nMédia F-Score:\", media_f) \n",
    "  return media_f, media_a"
   ]
  },
  {
   "cell_type": "code",
   "execution_count": 17,
   "metadata": {
    "id": "Ui_eKaBfocG0"
   },
   "outputs": [],
   "source": [
    "FScore_arqs = []\n",
    "Acuracia_arqs = []"
   ]
  },
  {
   "cell_type": "code",
   "execution_count": 18,
   "metadata": {
    "colab": {
     "base_uri": "https://localhost:8080/"
    },
    "id": "jmAk4Hx6WLXE",
    "outputId": "ccc55c94-14bb-45d9-a736-2c0654d64fce"
   },
   "outputs": [
    {
     "name": "stderr",
     "output_type": "stream",
     "text": [
      "/home/elloa/.conda/envs/gpr-ufcg/lib/python3.9/site-packages/sklearn/neural_network/_multilayer_perceptron.py:614: ConvergenceWarning: Stochastic Optimizer: Maximum iterations (100) reached and the optimization hasn't converged yet.\n",
      "  warnings.warn(\n",
      "/home/elloa/.conda/envs/gpr-ufcg/lib/python3.9/site-packages/sklearn/neural_network/_multilayer_perceptron.py:614: ConvergenceWarning: Stochastic Optimizer: Maximum iterations (100) reached and the optimization hasn't converged yet.\n",
      "  warnings.warn(\n",
      "/home/elloa/.conda/envs/gpr-ufcg/lib/python3.9/site-packages/sklearn/neural_network/_multilayer_perceptron.py:614: ConvergenceWarning: Stochastic Optimizer: Maximum iterations (100) reached and the optimization hasn't converged yet.\n",
      "  warnings.warn(\n"
     ]
    },
    {
     "name": "stdout",
     "output_type": "stream",
     "text": [
      "Desvio Padrão Acurácia: 0.0031297432231122656 \n",
      "Média Acurácia: 0.718549966342329 \n",
      "Desvio Padrão F-Score: 0.0032068952813825375 \n",
      "Média F-Score: 0.7284409873895787\n"
     ]
    }
   ],
   "source": [
    "# 1. MLPClassifier(hidden_layer_sizes=(10,),activation='relu',solver='adam',max_iter=100,verbose=False)\n",
    "media_f, media_a = arquitetura(1, 10, 'relu', 'adam', 100)\n",
    "FScore_arqs.append(media_f)\n",
    "Acuracia_arqs.append(media_a)"
   ]
  },
  {
   "cell_type": "code",
   "execution_count": 19,
   "metadata": {
    "colab": {
     "base_uri": "https://localhost:8080/",
     "height": 1000
    },
    "id": "OUAmaTh7eNjh",
    "outputId": "e9cd3bbb-5dfe-4f36-b253-c149fbd7efd2"
   },
   "outputs": [
    {
     "name": "stderr",
     "output_type": "stream",
     "text": [
      "/home/elloa/.conda/envs/gpr-ufcg/lib/python3.9/site-packages/sklearn/neural_network/_multilayer_perceptron.py:614: ConvergenceWarning: Stochastic Optimizer: Maximum iterations (100) reached and the optimization hasn't converged yet.\n",
      "  warnings.warn(\n",
      "/home/elloa/.conda/envs/gpr-ufcg/lib/python3.9/site-packages/sklearn/neural_network/_multilayer_perceptron.py:614: ConvergenceWarning: Stochastic Optimizer: Maximum iterations (100) reached and the optimization hasn't converged yet.\n",
      "  warnings.warn(\n",
      "/home/elloa/.conda/envs/gpr-ufcg/lib/python3.9/site-packages/sklearn/neural_network/_multilayer_perceptron.py:614: ConvergenceWarning: Stochastic Optimizer: Maximum iterations (100) reached and the optimization hasn't converged yet.\n",
      "  warnings.warn(\n",
      "/home/elloa/.conda/envs/gpr-ufcg/lib/python3.9/site-packages/sklearn/neural_network/_multilayer_perceptron.py:614: ConvergenceWarning: Stochastic Optimizer: Maximum iterations (100) reached and the optimization hasn't converged yet.\n",
      "  warnings.warn(\n",
      "/home/elloa/.conda/envs/gpr-ufcg/lib/python3.9/site-packages/sklearn/neural_network/_multilayer_perceptron.py:614: ConvergenceWarning: Stochastic Optimizer: Maximum iterations (100) reached and the optimization hasn't converged yet.\n",
      "  warnings.warn(\n",
      "/home/elloa/.conda/envs/gpr-ufcg/lib/python3.9/site-packages/sklearn/neural_network/_multilayer_perceptron.py:614: ConvergenceWarning: Stochastic Optimizer: Maximum iterations (100) reached and the optimization hasn't converged yet.\n",
      "  warnings.warn(\n",
      "/home/elloa/.conda/envs/gpr-ufcg/lib/python3.9/site-packages/sklearn/neural_network/_multilayer_perceptron.py:614: ConvergenceWarning: Stochastic Optimizer: Maximum iterations (100) reached and the optimization hasn't converged yet.\n",
      "  warnings.warn(\n",
      "/home/elloa/.conda/envs/gpr-ufcg/lib/python3.9/site-packages/sklearn/neural_network/_multilayer_perceptron.py:614: ConvergenceWarning: Stochastic Optimizer: Maximum iterations (100) reached and the optimization hasn't converged yet.\n",
      "  warnings.warn(\n",
      "/home/elloa/.conda/envs/gpr-ufcg/lib/python3.9/site-packages/sklearn/neural_network/_multilayer_perceptron.py:614: ConvergenceWarning: Stochastic Optimizer: Maximum iterations (100) reached and the optimization hasn't converged yet.\n",
      "  warnings.warn(\n",
      "/home/elloa/.conda/envs/gpr-ufcg/lib/python3.9/site-packages/sklearn/neural_network/_multilayer_perceptron.py:614: ConvergenceWarning: Stochastic Optimizer: Maximum iterations (100) reached and the optimization hasn't converged yet.\n",
      "  warnings.warn(\n",
      "/home/elloa/.conda/envs/gpr-ufcg/lib/python3.9/site-packages/sklearn/neural_network/_multilayer_perceptron.py:614: ConvergenceWarning: Stochastic Optimizer: Maximum iterations (100) reached and the optimization hasn't converged yet.\n",
      "  warnings.warn(\n",
      "/home/elloa/.conda/envs/gpr-ufcg/lib/python3.9/site-packages/sklearn/neural_network/_multilayer_perceptron.py:614: ConvergenceWarning: Stochastic Optimizer: Maximum iterations (100) reached and the optimization hasn't converged yet.\n",
      "  warnings.warn(\n"
     ]
    },
    {
     "name": "stdout",
     "output_type": "stream",
     "text": [
      "Desvio Padrão Acurácia: 0.002380240872014125 \n",
      "Média Acurácia: 0.7210341319380701 \n",
      "Desvio Padrão F-Score: 0.0037090172934870266 \n",
      "Média F-Score: 0.7336377948793722\n"
     ]
    },
    {
     "name": "stderr",
     "output_type": "stream",
     "text": [
      "/home/elloa/.conda/envs/gpr-ufcg/lib/python3.9/site-packages/sklearn/neural_network/_multilayer_perceptron.py:614: ConvergenceWarning: Stochastic Optimizer: Maximum iterations (100) reached and the optimization hasn't converged yet.\n",
      "  warnings.warn(\n"
     ]
    }
   ],
   "source": [
    "# 2. MLPClassifier(hidden_layer_sizes=(15,2),activation='relu',solver='adam',max_iter=100,verbose=False)\n",
    "media_f, media_a = arquitetura(2, 15, 'relu', 'adam', 100)\n",
    "FScore_arqs.append(media_f)\n",
    "Acuracia_arqs.append(media_a)"
   ]
  },
  {
   "cell_type": "code",
   "execution_count": 20,
   "metadata": {
    "colab": {
     "base_uri": "https://localhost:8080/",
     "height": 287
    },
    "id": "9NwJadm3eNcw",
    "outputId": "32a5c56e-396a-436c-b538-b4634565135e"
   },
   "outputs": [
    {
     "name": "stdout",
     "output_type": "stream",
     "text": [
      "Desvio Padrão Acurácia: 0.0018570509961679364 \n",
      "Média Acurácia: 0.7131907472002937 \n",
      "Desvio Padrão F-Score: 0.0018432768817629296 \n",
      "Média F-Score: 0.7245234063553949\n"
     ]
    }
   ],
   "source": [
    "# 3. MLPClassifier(hidden_layer_sizes=(8,),activation='logistic',solver='adam',max_iter=150,verbose=False)\n",
    "media_f, media_a = arquitetura(1, 8, 'logistic', 'adam', 150)\n",
    "FScore_arqs.append(media_f)\n",
    "Acuracia_arqs.append(media_a)"
   ]
  },
  {
   "cell_type": "code",
   "execution_count": 21,
   "metadata": {
    "id": "sMj9CAd0eNW0"
   },
   "outputs": [
    {
     "name": "stdout",
     "output_type": "stream",
     "text": [
      "Desvio Padrão Acurácia: 0.0013060527528066025 \n",
      "Média Acurácia: 0.7307998286518573 \n",
      "Desvio Padrão F-Score: 0.001759732093570076 \n",
      "Média F-Score: 0.7378688005452879\n"
     ]
    }
   ],
   "source": [
    "# 4. MLPClassifier(hidden_layer_sizes=(18,),activation='relu',solver='adam',max_iter=200,verbose=False)\n",
    "media_f, media_a = arquitetura(1, 18, 'relu', 'adam', 200)\n",
    "FScore_arqs.append(media_f)\n",
    "Acuracia_arqs.append(media_a)"
   ]
  },
  {
   "cell_type": "code",
   "execution_count": 22,
   "metadata": {
    "id": "venMZV6BeNQk"
   },
   "outputs": [
    {
     "name": "stderr",
     "output_type": "stream",
     "text": [
      "/home/elloa/.conda/envs/gpr-ufcg/lib/python3.9/site-packages/sklearn/neural_network/_multilayer_perceptron.py:614: ConvergenceWarning: Stochastic Optimizer: Maximum iterations (200) reached and the optimization hasn't converged yet.\n",
      "  warnings.warn(\n",
      "/home/elloa/.conda/envs/gpr-ufcg/lib/python3.9/site-packages/sklearn/neural_network/_multilayer_perceptron.py:614: ConvergenceWarning: Stochastic Optimizer: Maximum iterations (200) reached and the optimization hasn't converged yet.\n",
      "  warnings.warn(\n",
      "/home/elloa/.conda/envs/gpr-ufcg/lib/python3.9/site-packages/sklearn/neural_network/_multilayer_perceptron.py:614: ConvergenceWarning: Stochastic Optimizer: Maximum iterations (200) reached and the optimization hasn't converged yet.\n",
      "  warnings.warn(\n",
      "/home/elloa/.conda/envs/gpr-ufcg/lib/python3.9/site-packages/sklearn/neural_network/_multilayer_perceptron.py:614: ConvergenceWarning: Stochastic Optimizer: Maximum iterations (200) reached and the optimization hasn't converged yet.\n",
      "  warnings.warn(\n"
     ]
    },
    {
     "name": "stdout",
     "output_type": "stream",
     "text": [
      "Desvio Padrão Acurácia: 0.002650779555371101 \n",
      "Média Acurácia: 0.7388818768741203 \n",
      "Desvio Padrão F-Score: 0.0028474806334959405 \n",
      "Média F-Score: 0.7513327085891925\n"
     ]
    }
   ],
   "source": [
    "# 5. MLPClassifier(hidden_layer_sizes=(20,2),activation='logistic',solver='adam',max_iter=200,verbose=False)\n",
    "media_f, media_a = arquitetura(2, 20, 'logistic', 'adam', 200)\n",
    "FScore_arqs.append(media_f)\n",
    "Acuracia_arqs.append(media_a)"
   ]
  },
  {
   "cell_type": "code",
   "execution_count": 23,
   "metadata": {
    "id": "sRc9UAD9eNKi"
   },
   "outputs": [
    {
     "name": "stderr",
     "output_type": "stream",
     "text": [
      "/home/elloa/.conda/envs/gpr-ufcg/lib/python3.9/site-packages/sklearn/neural_network/_multilayer_perceptron.py:614: ConvergenceWarning: Stochastic Optimizer: Maximum iterations (100) reached and the optimization hasn't converged yet.\n",
      "  warnings.warn(\n",
      "/home/elloa/.conda/envs/gpr-ufcg/lib/python3.9/site-packages/sklearn/neural_network/_multilayer_perceptron.py:614: ConvergenceWarning: Stochastic Optimizer: Maximum iterations (100) reached and the optimization hasn't converged yet.\n",
      "  warnings.warn(\n",
      "/home/elloa/.conda/envs/gpr-ufcg/lib/python3.9/site-packages/sklearn/neural_network/_multilayer_perceptron.py:614: ConvergenceWarning: Stochastic Optimizer: Maximum iterations (100) reached and the optimization hasn't converged yet.\n",
      "  warnings.warn(\n",
      "/home/elloa/.conda/envs/gpr-ufcg/lib/python3.9/site-packages/sklearn/neural_network/_multilayer_perceptron.py:614: ConvergenceWarning: Stochastic Optimizer: Maximum iterations (100) reached and the optimization hasn't converged yet.\n",
      "  warnings.warn(\n"
     ]
    },
    {
     "name": "stdout",
     "output_type": "stream",
     "text": [
      "Desvio Padrão Acurácia: 0.0030568620404942226 \n",
      "Média Acurácia: 0.7027312434979501 \n",
      "Desvio Padrão F-Score: 0.003587186135683673 \n",
      "Média F-Score: 0.7175716927404461\n"
     ]
    },
    {
     "name": "stderr",
     "output_type": "stream",
     "text": [
      "/home/elloa/.conda/envs/gpr-ufcg/lib/python3.9/site-packages/sklearn/neural_network/_multilayer_perceptron.py:614: ConvergenceWarning: Stochastic Optimizer: Maximum iterations (100) reached and the optimization hasn't converged yet.\n",
      "  warnings.warn(\n"
     ]
    }
   ],
   "source": [
    "# 6. MLPClassifier(hidden_layer_sizes=(5,),activation='relu',solver='sgd',max_iter=100,verbose=False)\n",
    "media_f, media_a = arquitetura(1, 5, 'relu', 'sgd', 100)\n",
    "FScore_arqs.append(media_f)\n",
    "Acuracia_arqs.append(media_a)"
   ]
  },
  {
   "cell_type": "code",
   "execution_count": 24,
   "metadata": {
    "id": "YOrblWdYeNEU"
   },
   "outputs": [
    {
     "name": "stderr",
     "output_type": "stream",
     "text": [
      "/home/elloa/.conda/envs/gpr-ufcg/lib/python3.9/site-packages/sklearn/neural_network/_multilayer_perceptron.py:614: ConvergenceWarning: Stochastic Optimizer: Maximum iterations (100) reached and the optimization hasn't converged yet.\n",
      "  warnings.warn(\n",
      "/home/elloa/.conda/envs/gpr-ufcg/lib/python3.9/site-packages/sklearn/neural_network/_multilayer_perceptron.py:614: ConvergenceWarning: Stochastic Optimizer: Maximum iterations (100) reached and the optimization hasn't converged yet.\n",
      "  warnings.warn(\n",
      "/home/elloa/.conda/envs/gpr-ufcg/lib/python3.9/site-packages/sklearn/neural_network/_multilayer_perceptron.py:614: ConvergenceWarning: Stochastic Optimizer: Maximum iterations (100) reached and the optimization hasn't converged yet.\n",
      "  warnings.warn(\n",
      "/home/elloa/.conda/envs/gpr-ufcg/lib/python3.9/site-packages/sklearn/neural_network/_multilayer_perceptron.py:614: ConvergenceWarning: Stochastic Optimizer: Maximum iterations (100) reached and the optimization hasn't converged yet.\n",
      "  warnings.warn(\n",
      "/home/elloa/.conda/envs/gpr-ufcg/lib/python3.9/site-packages/sklearn/neural_network/_multilayer_perceptron.py:614: ConvergenceWarning: Stochastic Optimizer: Maximum iterations (100) reached and the optimization hasn't converged yet.\n",
      "  warnings.warn(\n",
      "/home/elloa/.conda/envs/gpr-ufcg/lib/python3.9/site-packages/sklearn/neural_network/_multilayer_perceptron.py:614: ConvergenceWarning: Stochastic Optimizer: Maximum iterations (100) reached and the optimization hasn't converged yet.\n",
      "  warnings.warn(\n",
      "/home/elloa/.conda/envs/gpr-ufcg/lib/python3.9/site-packages/sklearn/neural_network/_multilayer_perceptron.py:614: ConvergenceWarning: Stochastic Optimizer: Maximum iterations (100) reached and the optimization hasn't converged yet.\n",
      "  warnings.warn(\n",
      "/home/elloa/.conda/envs/gpr-ufcg/lib/python3.9/site-packages/sklearn/neural_network/_multilayer_perceptron.py:614: ConvergenceWarning: Stochastic Optimizer: Maximum iterations (100) reached and the optimization hasn't converged yet.\n",
      "  warnings.warn(\n",
      "/home/elloa/.conda/envs/gpr-ufcg/lib/python3.9/site-packages/sklearn/neural_network/_multilayer_perceptron.py:614: ConvergenceWarning: Stochastic Optimizer: Maximum iterations (100) reached and the optimization hasn't converged yet.\n",
      "  warnings.warn(\n",
      "/home/elloa/.conda/envs/gpr-ufcg/lib/python3.9/site-packages/sklearn/neural_network/_multilayer_perceptron.py:614: ConvergenceWarning: Stochastic Optimizer: Maximum iterations (100) reached and the optimization hasn't converged yet.\n",
      "  warnings.warn(\n",
      "/home/elloa/.conda/envs/gpr-ufcg/lib/python3.9/site-packages/sklearn/neural_network/_multilayer_perceptron.py:614: ConvergenceWarning: Stochastic Optimizer: Maximum iterations (100) reached and the optimization hasn't converged yet.\n",
      "  warnings.warn(\n",
      "/home/elloa/.conda/envs/gpr-ufcg/lib/python3.9/site-packages/sklearn/neural_network/_multilayer_perceptron.py:614: ConvergenceWarning: Stochastic Optimizer: Maximum iterations (100) reached and the optimization hasn't converged yet.\n",
      "  warnings.warn(\n",
      "/home/elloa/.conda/envs/gpr-ufcg/lib/python3.9/site-packages/sklearn/neural_network/_multilayer_perceptron.py:614: ConvergenceWarning: Stochastic Optimizer: Maximum iterations (100) reached and the optimization hasn't converged yet.\n",
      "  warnings.warn(\n"
     ]
    },
    {
     "name": "stdout",
     "output_type": "stream",
     "text": [
      "Desvio Padrão Acurácia: 0.002803642030792968 \n",
      "Média Acurácia: 0.7166112080044059 \n",
      "Desvio Padrão F-Score: 0.0036145873208375664 \n",
      "Média F-Score: 0.7327329617316776\n"
     ]
    },
    {
     "name": "stderr",
     "output_type": "stream",
     "text": [
      "/home/elloa/.conda/envs/gpr-ufcg/lib/python3.9/site-packages/sklearn/neural_network/_multilayer_perceptron.py:614: ConvergenceWarning: Stochastic Optimizer: Maximum iterations (100) reached and the optimization hasn't converged yet.\n",
      "  warnings.warn(\n"
     ]
    }
   ],
   "source": [
    "# 7. MLPClassifier(hidden_layer_sizes=(13,2),activation='relu',solver='sgd',max_iter=100,verbose=False)\n",
    "media_f, media_a = arquitetura(2, 13, 'relu', 'sgd', 100)\n",
    "FScore_arqs.append(media_f)\n",
    "Acuracia_arqs.append(media_a)"
   ]
  },
  {
   "cell_type": "code",
   "execution_count": 25,
   "metadata": {
    "id": "RDr8MAGzeM80"
   },
   "outputs": [
    {
     "name": "stderr",
     "output_type": "stream",
     "text": [
      "/home/elloa/.conda/envs/gpr-ufcg/lib/python3.9/site-packages/sklearn/neural_network/_multilayer_perceptron.py:614: ConvergenceWarning: Stochastic Optimizer: Maximum iterations (150) reached and the optimization hasn't converged yet.\n",
      "  warnings.warn(\n",
      "/home/elloa/.conda/envs/gpr-ufcg/lib/python3.9/site-packages/sklearn/neural_network/_multilayer_perceptron.py:614: ConvergenceWarning: Stochastic Optimizer: Maximum iterations (150) reached and the optimization hasn't converged yet.\n",
      "  warnings.warn(\n",
      "/home/elloa/.conda/envs/gpr-ufcg/lib/python3.9/site-packages/sklearn/neural_network/_multilayer_perceptron.py:614: ConvergenceWarning: Stochastic Optimizer: Maximum iterations (150) reached and the optimization hasn't converged yet.\n",
      "  warnings.warn(\n",
      "/home/elloa/.conda/envs/gpr-ufcg/lib/python3.9/site-packages/sklearn/neural_network/_multilayer_perceptron.py:614: ConvergenceWarning: Stochastic Optimizer: Maximum iterations (150) reached and the optimization hasn't converged yet.\n",
      "  warnings.warn(\n",
      "/home/elloa/.conda/envs/gpr-ufcg/lib/python3.9/site-packages/sklearn/neural_network/_multilayer_perceptron.py:614: ConvergenceWarning: Stochastic Optimizer: Maximum iterations (150) reached and the optimization hasn't converged yet.\n",
      "  warnings.warn(\n",
      "/home/elloa/.conda/envs/gpr-ufcg/lib/python3.9/site-packages/sklearn/neural_network/_multilayer_perceptron.py:614: ConvergenceWarning: Stochastic Optimizer: Maximum iterations (150) reached and the optimization hasn't converged yet.\n",
      "  warnings.warn(\n",
      "/home/elloa/.conda/envs/gpr-ufcg/lib/python3.9/site-packages/sklearn/neural_network/_multilayer_perceptron.py:614: ConvergenceWarning: Stochastic Optimizer: Maximum iterations (150) reached and the optimization hasn't converged yet.\n",
      "  warnings.warn(\n",
      "/home/elloa/.conda/envs/gpr-ufcg/lib/python3.9/site-packages/sklearn/neural_network/_multilayer_perceptron.py:614: ConvergenceWarning: Stochastic Optimizer: Maximum iterations (150) reached and the optimization hasn't converged yet.\n",
      "  warnings.warn(\n",
      "/home/elloa/.conda/envs/gpr-ufcg/lib/python3.9/site-packages/sklearn/neural_network/_multilayer_perceptron.py:614: ConvergenceWarning: Stochastic Optimizer: Maximum iterations (150) reached and the optimization hasn't converged yet.\n",
      "  warnings.warn(\n",
      "/home/elloa/.conda/envs/gpr-ufcg/lib/python3.9/site-packages/sklearn/neural_network/_multilayer_perceptron.py:614: ConvergenceWarning: Stochastic Optimizer: Maximum iterations (150) reached and the optimization hasn't converged yet.\n",
      "  warnings.warn(\n",
      "/home/elloa/.conda/envs/gpr-ufcg/lib/python3.9/site-packages/sklearn/neural_network/_multilayer_perceptron.py:614: ConvergenceWarning: Stochastic Optimizer: Maximum iterations (150) reached and the optimization hasn't converged yet.\n",
      "  warnings.warn(\n",
      "/home/elloa/.conda/envs/gpr-ufcg/lib/python3.9/site-packages/sklearn/neural_network/_multilayer_perceptron.py:614: ConvergenceWarning: Stochastic Optimizer: Maximum iterations (150) reached and the optimization hasn't converged yet.\n",
      "  warnings.warn(\n"
     ]
    },
    {
     "name": "stdout",
     "output_type": "stream",
     "text": [
      "Desvio Padrão Acurácia: 0.0034174875903233183 \n",
      "Média Acurácia: 0.7250474267180711 \n",
      "Desvio Padrão F-Score: 0.003192106715028556 \n",
      "Média F-Score: 0.7342372521160385\n"
     ]
    },
    {
     "name": "stderr",
     "output_type": "stream",
     "text": [
      "/home/elloa/.conda/envs/gpr-ufcg/lib/python3.9/site-packages/sklearn/neural_network/_multilayer_perceptron.py:614: ConvergenceWarning: Stochastic Optimizer: Maximum iterations (150) reached and the optimization hasn't converged yet.\n",
      "  warnings.warn(\n"
     ]
    }
   ],
   "source": [
    "# 8. MLPClassifier(hidden_layer_sizes=(17,),activation='logistic',solver='sgd',max_iter=150,verbose=False)\n",
    "media_f, media_a = arquitetura(1, 17, 'relu', 'sgd', 150)\n",
    "FScore_arqs.append(media_f)\n",
    "Acuracia_arqs.append(media_a)"
   ]
  },
  {
   "cell_type": "code",
   "execution_count": 26,
   "metadata": {
    "id": "zPJahHSyeMxj"
   },
   "outputs": [
    {
     "name": "stdout",
     "output_type": "stream",
     "text": [
      "Desvio Padrão Acurácia: 0.0033153496371343405 \n",
      "Média Acurácia: 0.7119672143687656 \n",
      "Desvio Padrão F-Score: 0.0027423978885138087 \n",
      "Média F-Score: 0.7235489214629366\n"
     ]
    }
   ],
   "source": [
    "# 9. MLPClassifier(hidden_layer_sizes=(9,),activation='relu',solver='sgd',max_iter=200,verbose=False)\n",
    "media_f, media_a = arquitetura(1, 9, 'relu', 'sgd', 200)\n",
    "FScore_arqs.append(media_f)\n",
    "Acuracia_arqs.append(media_a)"
   ]
  },
  {
   "cell_type": "code",
   "execution_count": 27,
   "metadata": {
    "id": "arW3tyIFecfM"
   },
   "outputs": [
    {
     "name": "stderr",
     "output_type": "stream",
     "text": [
      "/home/elloa/.conda/envs/gpr-ufcg/lib/python3.9/site-packages/sklearn/neural_network/_multilayer_perceptron.py:614: ConvergenceWarning: Stochastic Optimizer: Maximum iterations (200) reached and the optimization hasn't converged yet.\n",
      "  warnings.warn(\n",
      "/home/elloa/.conda/envs/gpr-ufcg/lib/python3.9/site-packages/sklearn/neural_network/_multilayer_perceptron.py:614: ConvergenceWarning: Stochastic Optimizer: Maximum iterations (200) reached and the optimization hasn't converged yet.\n",
      "  warnings.warn(\n",
      "/home/elloa/.conda/envs/gpr-ufcg/lib/python3.9/site-packages/sklearn/neural_network/_multilayer_perceptron.py:614: ConvergenceWarning: Stochastic Optimizer: Maximum iterations (200) reached and the optimization hasn't converged yet.\n",
      "  warnings.warn(\n",
      "/home/elloa/.conda/envs/gpr-ufcg/lib/python3.9/site-packages/sklearn/neural_network/_multilayer_perceptron.py:614: ConvergenceWarning: Stochastic Optimizer: Maximum iterations (200) reached and the optimization hasn't converged yet.\n",
      "  warnings.warn(\n",
      "/home/elloa/.conda/envs/gpr-ufcg/lib/python3.9/site-packages/sklearn/neural_network/_multilayer_perceptron.py:614: ConvergenceWarning: Stochastic Optimizer: Maximum iterations (200) reached and the optimization hasn't converged yet.\n",
      "  warnings.warn(\n",
      "/home/elloa/.conda/envs/gpr-ufcg/lib/python3.9/site-packages/sklearn/neural_network/_multilayer_perceptron.py:614: ConvergenceWarning: Stochastic Optimizer: Maximum iterations (200) reached and the optimization hasn't converged yet.\n",
      "  warnings.warn(\n",
      "/home/elloa/.conda/envs/gpr-ufcg/lib/python3.9/site-packages/sklearn/neural_network/_multilayer_perceptron.py:614: ConvergenceWarning: Stochastic Optimizer: Maximum iterations (200) reached and the optimization hasn't converged yet.\n",
      "  warnings.warn(\n",
      "/home/elloa/.conda/envs/gpr-ufcg/lib/python3.9/site-packages/sklearn/neural_network/_multilayer_perceptron.py:614: ConvergenceWarning: Stochastic Optimizer: Maximum iterations (200) reached and the optimization hasn't converged yet.\n",
      "  warnings.warn(\n",
      "/home/elloa/.conda/envs/gpr-ufcg/lib/python3.9/site-packages/sklearn/neural_network/_multilayer_perceptron.py:614: ConvergenceWarning: Stochastic Optimizer: Maximum iterations (200) reached and the optimization hasn't converged yet.\n",
      "  warnings.warn(\n",
      "/home/elloa/.conda/envs/gpr-ufcg/lib/python3.9/site-packages/sklearn/neural_network/_multilayer_perceptron.py:614: ConvergenceWarning: Stochastic Optimizer: Maximum iterations (200) reached and the optimization hasn't converged yet.\n",
      "  warnings.warn(\n",
      "/home/elloa/.conda/envs/gpr-ufcg/lib/python3.9/site-packages/sklearn/neural_network/_multilayer_perceptron.py:614: ConvergenceWarning: Stochastic Optimizer: Maximum iterations (200) reached and the optimization hasn't converged yet.\n",
      "  warnings.warn(\n",
      "/home/elloa/.conda/envs/gpr-ufcg/lib/python3.9/site-packages/sklearn/neural_network/_multilayer_perceptron.py:614: ConvergenceWarning: Stochastic Optimizer: Maximum iterations (200) reached and the optimization hasn't converged yet.\n",
      "  warnings.warn(\n",
      "/home/elloa/.conda/envs/gpr-ufcg/lib/python3.9/site-packages/sklearn/neural_network/_multilayer_perceptron.py:614: ConvergenceWarning: Stochastic Optimizer: Maximum iterations (200) reached and the optimization hasn't converged yet.\n",
      "  warnings.warn(\n",
      "/home/elloa/.conda/envs/gpr-ufcg/lib/python3.9/site-packages/sklearn/neural_network/_multilayer_perceptron.py:614: ConvergenceWarning: Stochastic Optimizer: Maximum iterations (200) reached and the optimization hasn't converged yet.\n",
      "  warnings.warn(\n"
     ]
    },
    {
     "name": "stdout",
     "output_type": "stream",
     "text": [
      "Desvio Padrão Acurácia: 0.0016886084758260427 \n",
      "Média Acurácia: 0.7124625175937825 \n",
      "Desvio Padrão F-Score: 0.0015821773544336722 \n",
      "Média F-Score: 0.7353989527615276\n"
     ]
    },
    {
     "name": "stderr",
     "output_type": "stream",
     "text": [
      "/home/elloa/.conda/envs/gpr-ufcg/lib/python3.9/site-packages/sklearn/neural_network/_multilayer_perceptron.py:614: ConvergenceWarning: Stochastic Optimizer: Maximum iterations (200) reached and the optimization hasn't converged yet.\n",
      "  warnings.warn(\n"
     ]
    }
   ],
   "source": [
    "# 10. MLPClassifier(hidden_layer_sizes=(30,2),activation='logistic',solver='sgd',max_iter=200,verbose=False)\n",
    "media_f, media_a = arquitetura(2, 30, 'logistic', 'sgd', 200)\n",
    "FScore_arqs.append(media_f)\n",
    "Acuracia_arqs.append(media_a)"
   ]
  },
  {
   "cell_type": "markdown",
   "metadata": {
    "id": "hrMPgaZg6nSL"
   },
   "source": [
    "## Estimando o número de neurônios\n",
    "\n",
    "Um dos problemas de pesquisa com redes neurais artificiais consiste na determinação do número de neurônios em sua arquitetura. Embora não seja possível definir a priori qual rede neural é adequada para um problema, pois isto só é possível mediante uma busca exaustiva, há regras na literatura que sugerem o número de neurônios escondidos, tal como a regra da Pirâmide Geométrica, dada a seguir:\n",
    "\n",
    "$$N_h = \\alpha \\cdot \\sqrt{N_i \\cdot N_o},$$\n",
    "\n",
    "em que $N_h$ é o número de neurônios ocultos (a serem distribuídos em uma ou duas camadas ocultas), $N_i$ é o número de neurônios na camada de entrada e $N_o$ é o número de neurônios na camada de saída. \n",
    "\n",
    "1. Consulte a documentação da classe MLPClassifier (disponível em https://scikit-learn.org/stable/modules/generated/sklearn.neural_network.MLPClassifier.html) e obtenha os valores de $N_i$ e $N_o$.\n",
    "2. Teste os valores de $\\alpha$ como sendo iguais a $0.5$, $2$ e $3$.\n",
    "3. Proponha pelo menos 30 redes neurais segundo a regra da pirâmide geométrica e teste-as nos mesmos termos estabelecidos anterioremente  (solver, épocas, etc.)  \n",
    "    3.1 Apresente as top-3 melhores redes no tocante à F-Score e Acurácia  "
   ]
  },
  {
   "cell_type": "code",
   "execution_count": 28,
   "metadata": {
    "id": "J8XAu61l6nSK"
   },
   "outputs": [],
   "source": [
    "Ni = rede.n_features_in_\n",
    "No = rede.n_outputs_\n",
    "\n",
    "alpha1 = 0.5\n",
    "alpha2 = 2\n",
    "alpha3 = 3\n",
    "\n",
    "Nh1 = round(alpha1*np.sqrt(Ni*No))\n",
    "Nh2 = round(alpha2*np.sqrt(Ni*No))\n",
    "Nh3 = round(alpha3*np.sqrt(Ni*No))\n"
   ]
  },
  {
   "cell_type": "code",
   "execution_count": 29,
   "metadata": {
    "id": "Lx0F0eQbpEyd"
   },
   "outputs": [],
   "source": [
    "FScore_arqs2 = []\n",
    "Acuracia_arqs2 = []"
   ]
  },
  {
   "cell_type": "markdown",
   "metadata": {
    "id": "Beaq0_9zXaUs"
   },
   "source": [
    "\n",
    " **Alpha 0.5**\n",
    "1.   MLPClassifier(hidden_layer_sizes=(4,),activation='relu',solver='adam',max_iter=100,verbose=False)\n",
    "2.   MLPClassifier(hidden_layer_sizes=(4,),activation='logistic',solver='SGD',max_iter=150,verbose=False)\n",
    "3.   MLPClassifier(hidden_layer_sizes=(4,),activation='relu',solver='adam',max_iter=200,verbose=False)\n",
    "4.  MLPClassifier(hidden_layer_sizes=(4,),activation='logistic',solver='SGD',max_iter=100,verbose=False)\n",
    "5.  MLPClassifier(hidden_layer_sizes=(4,),activation='relu',solver='adam',max_iter=150,verbose=False)\n",
    "6.  MLPClassifier(hidden_layer_sizes=(2,2),activation='logistic',solver='SGD',max_iter=200,verbose=False)\n",
    "7.  MLPClassifier(hidden_layer_sizes=(2,2),activation='relu',solver='adam',max_iter=100,verbose=False)\n",
    "8.  MLPClassifier(hidden_layer_sizes=(2,2),activation='logistic',solver='SGD',max_iter=150,verbose=False)\n",
    "9.  MLPClassifier(hidden_layer_sizes=(2,2),activation='relu',solver='adam',max_iter=200,verbose=False)\n",
    "10. MLPClassifier(hidden_layer_sizes=(2,2),activation='logistic',solver='SGD',max_iter=100,verbose=False)\n",
    "\n"
   ]
  },
  {
   "cell_type": "code",
   "execution_count": 30,
   "metadata": {
    "id": "6_iRoDq4c2zU"
   },
   "outputs": [
    {
     "name": "stderr",
     "output_type": "stream",
     "text": [
      "/home/elloa/.conda/envs/gpr-ufcg/lib/python3.9/site-packages/sklearn/neural_network/_multilayer_perceptron.py:614: ConvergenceWarning: Stochastic Optimizer: Maximum iterations (100) reached and the optimization hasn't converged yet.\n",
      "  warnings.warn(\n"
     ]
    },
    {
     "name": "stdout",
     "output_type": "stream",
     "text": [
      "Desvio Padrão Acurácia: 0.0026846809807786077 \n",
      "Média Acurácia: 0.7018156018603513 \n",
      "Desvio Padrão F-Score: 0.002771783623912404 \n",
      "Média F-Score: 0.7164427124196977\n"
     ]
    }
   ],
   "source": [
    "# 1. MLPClassifier(hidden_layer_sizes=(10,),activation='relu',solver='adam',max_iter=100,verbose=False)\n",
    "media_f, media_a = arquitetura(1, 4, 'relu', 'adam', 100)\n",
    "FScore_arqs2.append(media_f)\n",
    "Acuracia_arqs2.append(media_a)"
   ]
  },
  {
   "cell_type": "code",
   "execution_count": 31,
   "metadata": {
    "id": "D_iUnPS2kycx"
   },
   "outputs": [
    {
     "ename": "ValueError",
     "evalue": "The solver SGD is not supported.  Expected one of: sgd, adam, lbfgs",
     "output_type": "error",
     "traceback": [
      "\u001b[0;31m---------------------------------------------------------------------------\u001b[0m",
      "\u001b[0;31mValueError\u001b[0m                                Traceback (most recent call last)",
      "\u001b[0;32m/tmp/ipykernel_106028/1206299814.py\u001b[0m in \u001b[0;36m<module>\u001b[0;34m\u001b[0m\n\u001b[1;32m      1\u001b[0m \u001b[0;31m# 2. MLPClassifier(hidden_layer_sizes=(10,),activation='logistic',solver='SGD',max_iter=150,verbose=False)\u001b[0m\u001b[0;34m\u001b[0m\u001b[0;34m\u001b[0m\u001b[0m\n\u001b[0;32m----> 2\u001b[0;31m \u001b[0mmedia_f\u001b[0m\u001b[0;34m,\u001b[0m \u001b[0mmedia_a\u001b[0m \u001b[0;34m=\u001b[0m \u001b[0marquitetura\u001b[0m\u001b[0;34m(\u001b[0m\u001b[0;36m1\u001b[0m\u001b[0;34m,\u001b[0m \u001b[0;36m4\u001b[0m\u001b[0;34m,\u001b[0m \u001b[0;34m'logistic'\u001b[0m\u001b[0;34m,\u001b[0m \u001b[0;34m'SGD'\u001b[0m\u001b[0;34m,\u001b[0m \u001b[0;36m150\u001b[0m\u001b[0;34m)\u001b[0m\u001b[0;34m\u001b[0m\u001b[0;34m\u001b[0m\u001b[0m\n\u001b[0m\u001b[1;32m      3\u001b[0m \u001b[0mFScore_arqs2\u001b[0m\u001b[0;34m.\u001b[0m\u001b[0mappend\u001b[0m\u001b[0;34m(\u001b[0m\u001b[0mmedia_f\u001b[0m\u001b[0;34m)\u001b[0m\u001b[0;34m\u001b[0m\u001b[0;34m\u001b[0m\u001b[0m\n\u001b[1;32m      4\u001b[0m \u001b[0mAcuracia_arqs2\u001b[0m\u001b[0;34m.\u001b[0m\u001b[0mappend\u001b[0m\u001b[0;34m(\u001b[0m\u001b[0mmedia_a\u001b[0m\u001b[0;34m)\u001b[0m\u001b[0;34m\u001b[0m\u001b[0;34m\u001b[0m\u001b[0m\n",
      "\u001b[0;32m/tmp/ipykernel_106028/1571645123.py\u001b[0m in \u001b[0;36marquitetura\u001b[0;34m(hidden_layer, layer, activ, solv, iter)\u001b[0m\n\u001b[1;32m     16\u001b[0m     \u001b[0;32melse\u001b[0m\u001b[0;34m:\u001b[0m\u001b[0;34m\u001b[0m\u001b[0;34m\u001b[0m\u001b[0m\n\u001b[1;32m     17\u001b[0m       \u001b[0mrede3\u001b[0m \u001b[0;34m=\u001b[0m \u001b[0mMLPClassifier\u001b[0m\u001b[0;34m(\u001b[0m\u001b[0mhidden_layer_sizes\u001b[0m\u001b[0;34m=\u001b[0m\u001b[0;34m(\u001b[0m\u001b[0mlayer\u001b[0m\u001b[0;34m,\u001b[0m\u001b[0;36m2\u001b[0m\u001b[0;34m)\u001b[0m\u001b[0;34m,\u001b[0m\u001b[0mactivation\u001b[0m\u001b[0;34m=\u001b[0m\u001b[0mactiv\u001b[0m\u001b[0;34m,\u001b[0m\u001b[0msolver\u001b[0m\u001b[0;34m=\u001b[0m\u001b[0msolv\u001b[0m\u001b[0;34m,\u001b[0m\u001b[0mmax_iter\u001b[0m\u001b[0;34m=\u001b[0m\u001b[0miter\u001b[0m\u001b[0;34m,\u001b[0m\u001b[0mverbose\u001b[0m\u001b[0;34m=\u001b[0m\u001b[0;32mFalse\u001b[0m\u001b[0;34m)\u001b[0m\u001b[0;34m\u001b[0m\u001b[0;34m\u001b[0m\u001b[0m\n\u001b[0;32m---> 18\u001b[0;31m     \u001b[0mrede3\u001b[0m\u001b[0;34m.\u001b[0m\u001b[0mfit\u001b[0m\u001b[0;34m(\u001b[0m\u001b[0mX_train_stand\u001b[0m\u001b[0;34m,\u001b[0m\u001b[0mY_train\u001b[0m\u001b[0;34m)\u001b[0m\u001b[0;34m\u001b[0m\u001b[0;34m\u001b[0m\u001b[0m\n\u001b[0m\u001b[1;32m     19\u001b[0m \u001b[0;34m\u001b[0m\u001b[0m\n\u001b[1;32m     20\u001b[0m     \u001b[0my_pred\u001b[0m \u001b[0;34m=\u001b[0m \u001b[0mrede3\u001b[0m\u001b[0;34m.\u001b[0m\u001b[0mpredict\u001b[0m\u001b[0;34m(\u001b[0m\u001b[0mX_test_stand\u001b[0m\u001b[0;34m)\u001b[0m\u001b[0;34m\u001b[0m\u001b[0;34m\u001b[0m\u001b[0m\n",
      "\u001b[0;32m~/.conda/envs/gpr-ufcg/lib/python3.9/site-packages/sklearn/neural_network/_multilayer_perceptron.py\u001b[0m in \u001b[0;36mfit\u001b[0;34m(self, X, y)\u001b[0m\n\u001b[1;32m    671\u001b[0m         \u001b[0mself\u001b[0m \u001b[0;34m:\u001b[0m \u001b[0mreturns\u001b[0m \u001b[0ma\u001b[0m \u001b[0mtrained\u001b[0m \u001b[0mMLP\u001b[0m \u001b[0mmodel\u001b[0m\u001b[0;34m.\u001b[0m\u001b[0;34m\u001b[0m\u001b[0;34m\u001b[0m\u001b[0m\n\u001b[1;32m    672\u001b[0m         \"\"\"\n\u001b[0;32m--> 673\u001b[0;31m         \u001b[0;32mreturn\u001b[0m \u001b[0mself\u001b[0m\u001b[0;34m.\u001b[0m\u001b[0m_fit\u001b[0m\u001b[0;34m(\u001b[0m\u001b[0mX\u001b[0m\u001b[0;34m,\u001b[0m \u001b[0my\u001b[0m\u001b[0;34m,\u001b[0m \u001b[0mincremental\u001b[0m\u001b[0;34m=\u001b[0m\u001b[0;32mFalse\u001b[0m\u001b[0;34m)\u001b[0m\u001b[0;34m\u001b[0m\u001b[0;34m\u001b[0m\u001b[0m\n\u001b[0m\u001b[1;32m    674\u001b[0m \u001b[0;34m\u001b[0m\u001b[0m\n\u001b[1;32m    675\u001b[0m     \u001b[0;34m@\u001b[0m\u001b[0mproperty\u001b[0m\u001b[0;34m\u001b[0m\u001b[0;34m\u001b[0m\u001b[0m\n",
      "\u001b[0;32m~/.conda/envs/gpr-ufcg/lib/python3.9/site-packages/sklearn/neural_network/_multilayer_perceptron.py\u001b[0m in \u001b[0;36m_fit\u001b[0;34m(self, X, y, incremental)\u001b[0m\n\u001b[1;32m    355\u001b[0m \u001b[0;34m\u001b[0m\u001b[0m\n\u001b[1;32m    356\u001b[0m         \u001b[0;31m# Validate input parameters.\u001b[0m\u001b[0;34m\u001b[0m\u001b[0;34m\u001b[0m\u001b[0m\n\u001b[0;32m--> 357\u001b[0;31m         \u001b[0mself\u001b[0m\u001b[0;34m.\u001b[0m\u001b[0m_validate_hyperparameters\u001b[0m\u001b[0;34m(\u001b[0m\u001b[0;34m)\u001b[0m\u001b[0;34m\u001b[0m\u001b[0;34m\u001b[0m\u001b[0m\n\u001b[0m\u001b[1;32m    358\u001b[0m         \u001b[0;32mif\u001b[0m \u001b[0mnp\u001b[0m\u001b[0;34m.\u001b[0m\u001b[0many\u001b[0m\u001b[0;34m(\u001b[0m\u001b[0mnp\u001b[0m\u001b[0;34m.\u001b[0m\u001b[0marray\u001b[0m\u001b[0;34m(\u001b[0m\u001b[0mhidden_layer_sizes\u001b[0m\u001b[0;34m)\u001b[0m \u001b[0;34m<=\u001b[0m \u001b[0;36m0\u001b[0m\u001b[0;34m)\u001b[0m\u001b[0;34m:\u001b[0m\u001b[0;34m\u001b[0m\u001b[0;34m\u001b[0m\u001b[0m\n\u001b[1;32m    359\u001b[0m             raise ValueError(\"hidden_layer_sizes must be > 0, got %s.\" %\n",
      "\u001b[0;32m~/.conda/envs/gpr-ufcg/lib/python3.9/site-packages/sklearn/neural_network/_multilayer_perceptron.py\u001b[0m in \u001b[0;36m_validate_hyperparameters\u001b[0;34m(self)\u001b[0m\n\u001b[1;32m    454\u001b[0m         \u001b[0msupported_solvers\u001b[0m \u001b[0;34m=\u001b[0m \u001b[0m_STOCHASTIC_SOLVERS\u001b[0m \u001b[0;34m+\u001b[0m \u001b[0;34m[\u001b[0m\u001b[0;34m\"lbfgs\"\u001b[0m\u001b[0;34m]\u001b[0m\u001b[0;34m\u001b[0m\u001b[0;34m\u001b[0m\u001b[0m\n\u001b[1;32m    455\u001b[0m         \u001b[0;32mif\u001b[0m \u001b[0mself\u001b[0m\u001b[0;34m.\u001b[0m\u001b[0msolver\u001b[0m \u001b[0;32mnot\u001b[0m \u001b[0;32min\u001b[0m \u001b[0msupported_solvers\u001b[0m\u001b[0;34m:\u001b[0m\u001b[0;34m\u001b[0m\u001b[0;34m\u001b[0m\u001b[0m\n\u001b[0;32m--> 456\u001b[0;31m             raise ValueError(\"The solver %s is not supported. \"\n\u001b[0m\u001b[1;32m    457\u001b[0m                              \u001b[0;34m\" Expected one of: %s\"\u001b[0m \u001b[0;34m%\u001b[0m\u001b[0;34m\u001b[0m\u001b[0;34m\u001b[0m\u001b[0m\n\u001b[1;32m    458\u001b[0m                              (self.solver, \", \".join(supported_solvers)))\n",
      "\u001b[0;31mValueError\u001b[0m: The solver SGD is not supported.  Expected one of: sgd, adam, lbfgs"
     ]
    }
   ],
   "source": [
    "# 2. MLPClassifier(hidden_layer_sizes=(10,),activation='logistic',solver='SGD',max_iter=150,verbose=False)\n",
    "media_f, media_a = arquitetura(1, 4, 'logistic', 'SGD', 150)\n",
    "FScore_arqs2.append(media_f)\n",
    "Acuracia_arqs2.append(media_a)"
   ]
  },
  {
   "cell_type": "code",
   "execution_count": 32,
   "metadata": {
    "id": "aXyKGLj0k07T"
   },
   "outputs": [
    {
     "name": "stdout",
     "output_type": "stream",
     "text": [
      "Desvio Padrão Acurácia: 0.0027024609284505723 \n",
      "Média Acurácia: 0.6994905452542685 \n",
      "Desvio Padrão F-Score: 0.002952758873151467 \n",
      "Média F-Score: 0.7136145773061793\n"
     ]
    }
   ],
   "source": [
    "# 3. MLPClassifier(hidden_layer_sizes=(10,),activation='relu',solver='adam',max_iter=200,verbose=False)\n",
    "media_f, media_a = arquitetura(1, 4, 'relu', 'adam', 200)\n",
    "FScore_arqs2.append(media_f)\n",
    "Acuracia_arqs2.append(media_a)"
   ]
  },
  {
   "cell_type": "code",
   "execution_count": 33,
   "metadata": {
    "id": "VFHJRfY5k3MQ"
   },
   "outputs": [
    {
     "ename": "ValueError",
     "evalue": "The solver SGD is not supported.  Expected one of: sgd, adam, lbfgs",
     "output_type": "error",
     "traceback": [
      "\u001b[0;31m---------------------------------------------------------------------------\u001b[0m",
      "\u001b[0;31mValueError\u001b[0m                                Traceback (most recent call last)",
      "\u001b[0;32m/tmp/ipykernel_106028/2318680494.py\u001b[0m in \u001b[0;36m<module>\u001b[0;34m\u001b[0m\n\u001b[1;32m      1\u001b[0m \u001b[0;31m# 4. MLPClassifier(hidden_layer_sizes=(10,),activation='logistic',solver='adSGDam',max_iter=100,verbose=False)\u001b[0m\u001b[0;34m\u001b[0m\u001b[0;34m\u001b[0m\u001b[0m\n\u001b[0;32m----> 2\u001b[0;31m \u001b[0mmedia_f\u001b[0m\u001b[0;34m,\u001b[0m \u001b[0mmedia_a\u001b[0m \u001b[0;34m=\u001b[0m \u001b[0marquitetura\u001b[0m\u001b[0;34m(\u001b[0m\u001b[0;36m1\u001b[0m\u001b[0;34m,\u001b[0m \u001b[0;36m4\u001b[0m\u001b[0;34m,\u001b[0m \u001b[0;34m'logistic'\u001b[0m\u001b[0;34m,\u001b[0m \u001b[0;34m'SGD'\u001b[0m\u001b[0;34m,\u001b[0m \u001b[0;36m100\u001b[0m\u001b[0;34m)\u001b[0m\u001b[0;34m\u001b[0m\u001b[0;34m\u001b[0m\u001b[0m\n\u001b[0m\u001b[1;32m      3\u001b[0m \u001b[0mFScore_arqs2\u001b[0m\u001b[0;34m.\u001b[0m\u001b[0mappend\u001b[0m\u001b[0;34m(\u001b[0m\u001b[0mmedia_f\u001b[0m\u001b[0;34m)\u001b[0m\u001b[0;34m\u001b[0m\u001b[0;34m\u001b[0m\u001b[0m\n\u001b[1;32m      4\u001b[0m \u001b[0mAcuracia_arqs2\u001b[0m\u001b[0;34m.\u001b[0m\u001b[0mappend\u001b[0m\u001b[0;34m(\u001b[0m\u001b[0mmedia_a\u001b[0m\u001b[0;34m)\u001b[0m\u001b[0;34m\u001b[0m\u001b[0;34m\u001b[0m\u001b[0m\n",
      "\u001b[0;32m/tmp/ipykernel_106028/1571645123.py\u001b[0m in \u001b[0;36marquitetura\u001b[0;34m(hidden_layer, layer, activ, solv, iter)\u001b[0m\n\u001b[1;32m     16\u001b[0m     \u001b[0;32melse\u001b[0m\u001b[0;34m:\u001b[0m\u001b[0;34m\u001b[0m\u001b[0;34m\u001b[0m\u001b[0m\n\u001b[1;32m     17\u001b[0m       \u001b[0mrede3\u001b[0m \u001b[0;34m=\u001b[0m \u001b[0mMLPClassifier\u001b[0m\u001b[0;34m(\u001b[0m\u001b[0mhidden_layer_sizes\u001b[0m\u001b[0;34m=\u001b[0m\u001b[0;34m(\u001b[0m\u001b[0mlayer\u001b[0m\u001b[0;34m,\u001b[0m\u001b[0;36m2\u001b[0m\u001b[0;34m)\u001b[0m\u001b[0;34m,\u001b[0m\u001b[0mactivation\u001b[0m\u001b[0;34m=\u001b[0m\u001b[0mactiv\u001b[0m\u001b[0;34m,\u001b[0m\u001b[0msolver\u001b[0m\u001b[0;34m=\u001b[0m\u001b[0msolv\u001b[0m\u001b[0;34m,\u001b[0m\u001b[0mmax_iter\u001b[0m\u001b[0;34m=\u001b[0m\u001b[0miter\u001b[0m\u001b[0;34m,\u001b[0m\u001b[0mverbose\u001b[0m\u001b[0;34m=\u001b[0m\u001b[0;32mFalse\u001b[0m\u001b[0;34m)\u001b[0m\u001b[0;34m\u001b[0m\u001b[0;34m\u001b[0m\u001b[0m\n\u001b[0;32m---> 18\u001b[0;31m     \u001b[0mrede3\u001b[0m\u001b[0;34m.\u001b[0m\u001b[0mfit\u001b[0m\u001b[0;34m(\u001b[0m\u001b[0mX_train_stand\u001b[0m\u001b[0;34m,\u001b[0m\u001b[0mY_train\u001b[0m\u001b[0;34m)\u001b[0m\u001b[0;34m\u001b[0m\u001b[0;34m\u001b[0m\u001b[0m\n\u001b[0m\u001b[1;32m     19\u001b[0m \u001b[0;34m\u001b[0m\u001b[0m\n\u001b[1;32m     20\u001b[0m     \u001b[0my_pred\u001b[0m \u001b[0;34m=\u001b[0m \u001b[0mrede3\u001b[0m\u001b[0;34m.\u001b[0m\u001b[0mpredict\u001b[0m\u001b[0;34m(\u001b[0m\u001b[0mX_test_stand\u001b[0m\u001b[0;34m)\u001b[0m\u001b[0;34m\u001b[0m\u001b[0;34m\u001b[0m\u001b[0m\n",
      "\u001b[0;32m~/.conda/envs/gpr-ufcg/lib/python3.9/site-packages/sklearn/neural_network/_multilayer_perceptron.py\u001b[0m in \u001b[0;36mfit\u001b[0;34m(self, X, y)\u001b[0m\n\u001b[1;32m    671\u001b[0m         \u001b[0mself\u001b[0m \u001b[0;34m:\u001b[0m \u001b[0mreturns\u001b[0m \u001b[0ma\u001b[0m \u001b[0mtrained\u001b[0m \u001b[0mMLP\u001b[0m \u001b[0mmodel\u001b[0m\u001b[0;34m.\u001b[0m\u001b[0;34m\u001b[0m\u001b[0;34m\u001b[0m\u001b[0m\n\u001b[1;32m    672\u001b[0m         \"\"\"\n\u001b[0;32m--> 673\u001b[0;31m         \u001b[0;32mreturn\u001b[0m \u001b[0mself\u001b[0m\u001b[0;34m.\u001b[0m\u001b[0m_fit\u001b[0m\u001b[0;34m(\u001b[0m\u001b[0mX\u001b[0m\u001b[0;34m,\u001b[0m \u001b[0my\u001b[0m\u001b[0;34m,\u001b[0m \u001b[0mincremental\u001b[0m\u001b[0;34m=\u001b[0m\u001b[0;32mFalse\u001b[0m\u001b[0;34m)\u001b[0m\u001b[0;34m\u001b[0m\u001b[0;34m\u001b[0m\u001b[0m\n\u001b[0m\u001b[1;32m    674\u001b[0m \u001b[0;34m\u001b[0m\u001b[0m\n\u001b[1;32m    675\u001b[0m     \u001b[0;34m@\u001b[0m\u001b[0mproperty\u001b[0m\u001b[0;34m\u001b[0m\u001b[0;34m\u001b[0m\u001b[0m\n",
      "\u001b[0;32m~/.conda/envs/gpr-ufcg/lib/python3.9/site-packages/sklearn/neural_network/_multilayer_perceptron.py\u001b[0m in \u001b[0;36m_fit\u001b[0;34m(self, X, y, incremental)\u001b[0m\n\u001b[1;32m    355\u001b[0m \u001b[0;34m\u001b[0m\u001b[0m\n\u001b[1;32m    356\u001b[0m         \u001b[0;31m# Validate input parameters.\u001b[0m\u001b[0;34m\u001b[0m\u001b[0;34m\u001b[0m\u001b[0m\n\u001b[0;32m--> 357\u001b[0;31m         \u001b[0mself\u001b[0m\u001b[0;34m.\u001b[0m\u001b[0m_validate_hyperparameters\u001b[0m\u001b[0;34m(\u001b[0m\u001b[0;34m)\u001b[0m\u001b[0;34m\u001b[0m\u001b[0;34m\u001b[0m\u001b[0m\n\u001b[0m\u001b[1;32m    358\u001b[0m         \u001b[0;32mif\u001b[0m \u001b[0mnp\u001b[0m\u001b[0;34m.\u001b[0m\u001b[0many\u001b[0m\u001b[0;34m(\u001b[0m\u001b[0mnp\u001b[0m\u001b[0;34m.\u001b[0m\u001b[0marray\u001b[0m\u001b[0;34m(\u001b[0m\u001b[0mhidden_layer_sizes\u001b[0m\u001b[0;34m)\u001b[0m \u001b[0;34m<=\u001b[0m \u001b[0;36m0\u001b[0m\u001b[0;34m)\u001b[0m\u001b[0;34m:\u001b[0m\u001b[0;34m\u001b[0m\u001b[0;34m\u001b[0m\u001b[0m\n\u001b[1;32m    359\u001b[0m             raise ValueError(\"hidden_layer_sizes must be > 0, got %s.\" %\n",
      "\u001b[0;32m~/.conda/envs/gpr-ufcg/lib/python3.9/site-packages/sklearn/neural_network/_multilayer_perceptron.py\u001b[0m in \u001b[0;36m_validate_hyperparameters\u001b[0;34m(self)\u001b[0m\n\u001b[1;32m    454\u001b[0m         \u001b[0msupported_solvers\u001b[0m \u001b[0;34m=\u001b[0m \u001b[0m_STOCHASTIC_SOLVERS\u001b[0m \u001b[0;34m+\u001b[0m \u001b[0;34m[\u001b[0m\u001b[0;34m\"lbfgs\"\u001b[0m\u001b[0;34m]\u001b[0m\u001b[0;34m\u001b[0m\u001b[0;34m\u001b[0m\u001b[0m\n\u001b[1;32m    455\u001b[0m         \u001b[0;32mif\u001b[0m \u001b[0mself\u001b[0m\u001b[0;34m.\u001b[0m\u001b[0msolver\u001b[0m \u001b[0;32mnot\u001b[0m \u001b[0;32min\u001b[0m \u001b[0msupported_solvers\u001b[0m\u001b[0;34m:\u001b[0m\u001b[0;34m\u001b[0m\u001b[0;34m\u001b[0m\u001b[0m\n\u001b[0;32m--> 456\u001b[0;31m             raise ValueError(\"The solver %s is not supported. \"\n\u001b[0m\u001b[1;32m    457\u001b[0m                              \u001b[0;34m\" Expected one of: %s\"\u001b[0m \u001b[0;34m%\u001b[0m\u001b[0;34m\u001b[0m\u001b[0;34m\u001b[0m\u001b[0m\n\u001b[1;32m    458\u001b[0m                              (self.solver, \", \".join(supported_solvers)))\n",
      "\u001b[0;31mValueError\u001b[0m: The solver SGD is not supported.  Expected one of: sgd, adam, lbfgs"
     ]
    }
   ],
   "source": [
    "# 4. MLPClassifier(hidden_layer_sizes=(10,),activation='logistic',solver='adSGDam',max_iter=100,verbose=False)\n",
    "media_f, media_a = arquitetura(1, 4, 'logistic', 'SGD', 100)\n",
    "FScore_arqs2.append(media_f)\n",
    "Acuracia_arqs2.append(media_a)"
   ]
  },
  {
   "cell_type": "code",
   "execution_count": 34,
   "metadata": {
    "id": "C2D4-dTJk5cM"
   },
   "outputs": [
    {
     "name": "stdout",
     "output_type": "stream",
     "text": [
      "Desvio Padrão Acurácia: 0.0023974810898361775 \n",
      "Média Acurácia: 0.7033137506884523 \n",
      "Desvio Padrão F-Score: 0.0023999152242565724 \n",
      "Média F-Score: 0.7176166213822908\n"
     ]
    }
   ],
   "source": [
    "# 5. MLPClassifier(hidden_layer_sizes=(10,),activation='relu',solver='adam',max_iter=150,verbose=False)\n",
    "media_f, media_a = arquitetura(1, 4, 'relu', 'adam', 150)\n",
    "FScore_arqs2.append(media_f)\n",
    "Acuracia_arqs2.append(media_a)"
   ]
  },
  {
   "cell_type": "code",
   "execution_count": null,
   "metadata": {
    "id": "9pNVD0xhk7r4"
   },
   "outputs": [],
   "source": [
    "# 6. MLPClassifier(hidden_layer_sizes=(10,),activation='logistic',solver='SGD',max_iter=200,verbose=False)\n",
    "media_f, media_a = arquitetura(1, 4, 'logistic', 'SGD', 100)\n",
    "FScore_arqs2.append(media_f)\n",
    "Acuracia_arqs2.append(media_a)"
   ]
  },
  {
   "cell_type": "code",
   "execution_count": 35,
   "metadata": {
    "id": "k39iVkFQk9qg"
   },
   "outputs": [
    {
     "name": "stderr",
     "output_type": "stream",
     "text": [
      "/home/elloa/.conda/envs/gpr-ufcg/lib/python3.9/site-packages/sklearn/neural_network/_multilayer_perceptron.py:614: ConvergenceWarning: Stochastic Optimizer: Maximum iterations (100) reached and the optimization hasn't converged yet.\n",
      "  warnings.warn(\n",
      "/home/elloa/.conda/envs/gpr-ufcg/lib/python3.9/site-packages/sklearn/neural_network/_multilayer_perceptron.py:614: ConvergenceWarning: Stochastic Optimizer: Maximum iterations (100) reached and the optimization hasn't converged yet.\n",
      "  warnings.warn(\n"
     ]
    },
    {
     "name": "stdout",
     "output_type": "stream",
     "text": [
      "Desvio Padrão Acurácia: 0.0039253936000475075 \n",
      "Média Acurácia: 0.7021280827366746 \n",
      "Desvio Padrão F-Score: 0.0038991495988220026 \n",
      "Média F-Score: 0.7165276397772263\n"
     ]
    }
   ],
   "source": [
    "# 7. MLPClassifier(hidden_layer_sizes=(10,),activation='relu',solver='adam',max_iter=100,verbose=False)\n",
    "media_f, media_a = arquitetura(1, 4, 'relu', 'adam', 100)\n",
    "FScore_arqs2.append(media_f)\n",
    "Acuracia_arqs2.append(media_a)"
   ]
  },
  {
   "cell_type": "code",
   "execution_count": null,
   "metadata": {
    "id": "Hv0OUotvlADv"
   },
   "outputs": [],
   "source": [
    "# 8. MLPClassifier(hidden_layer_sizes=(10,),activation='logistic',solver='SGD',max_iter=150,verbose=False)\n",
    "media_f, media_a = arquitetura(1, 4, 'logistic', 'SGD', 150)\n",
    "FScore_arqs2.append(media_f)\n",
    "Acuracia_arqs2.append(media_a)"
   ]
  },
  {
   "cell_type": "code",
   "execution_count": 36,
   "metadata": {
    "id": "rhyPTD3vlCB5"
   },
   "outputs": [
    {
     "name": "stdout",
     "output_type": "stream",
     "text": [
      "Desvio Padrão Acurácia: 0.003355618064219651 \n",
      "Média Acurácia: 0.7020489107153786 \n",
      "Desvio Padrão F-Score: 0.0031617716876645783 \n",
      "Média F-Score: 0.7166348348040705\n"
     ]
    }
   ],
   "source": [
    "# 9. MLPClassifier(hidden_layer_sizes=(10,),activation='relu',solver='adam',max_iter=200,verbose=False)\n",
    "media_f, media_a = arquitetura(1, 4, 'relu', 'adam', 200)\n",
    "FScore_arqs2.append(media_f)\n",
    "Acuracia_arqs2.append(media_a)"
   ]
  },
  {
   "cell_type": "code",
   "execution_count": null,
   "metadata": {
    "id": "MaenQghglEj1"
   },
   "outputs": [],
   "source": [
    "# 10. MLPClassifier(hidden_layer_sizes=(10,),activation='logistic',solver='SGD',max_iter=100,verbose=False)\n",
    "media_f, media_a = arquitetura(1, 4, 'logistic', 'SGD', 100)\n",
    "FScore_arqs2.append(media_f)\n",
    "Acuracia_arqs2.append(media_a)"
   ]
  },
  {
   "cell_type": "markdown",
   "metadata": {
    "id": "aNg4BBHGiE0S"
   },
   "source": [
    "**Alpha 2**\n",
    "1.   MLPClassifier(hidden_layer_sizes=(16,),activation='relu',solver='adam',max_iter=100,verbose=False)\n",
    "2.   MLPClassifier(hidden_layer_sizes=(16,),activation='relu',solver='SGD',max_iter=100,verbose=False)\n",
    "3.   MLPClassifier(hidden_layer_sizes=(16,),activation='logistic',solver='adam',max_iter=150,verbose=False)\n",
    "4.  MLPClassifier(hidden_layer_sizes=(16,),activation='relu',solver='SGD',max_iter=200,verbose=False)\n",
    "5.  MLPClassifier(hidden_layer_sizes=(16,),activation='logistic',solver='adam',max_iter=200,verbose=False)\n",
    "6.  MLPClassifier(hidden_layer_sizes=(8,2),activation='relu',solver='SGD',max_iter=100,verbose=False)\n",
    "7.  MLPClassifier(hidden_layer_sizes=(8,2),activation='relu',solver='adam',max_iter=100,verbose=False)\n",
    "8.  MLPClassifier(hidden_layer_sizes=(8,2),activation='logistic',solver='SGD',max_iter=150,verbose=False)\n",
    "9.  MLPClassifier(hidden_layer_sizes=(8,2),activation='relu',solver='adam',max_iter=100,verbose=False)\n",
    "10. MLPClassifier(hidden_layer_sizes=(8,2),activation='logistic',solver='SGD',max_iter=100,verbose=False)\n"
   ]
  },
  {
   "cell_type": "code",
   "execution_count": 37,
   "metadata": {
    "id": "Hs6wzCPCfxMz"
   },
   "outputs": [
    {
     "name": "stdout",
     "output_type": "stream",
     "text": [
      "Desvio Padrão Acurácia: 0.003754319558293256 \n",
      "Média Acurácia: 0.7005786824551742 \n",
      "Desvio Padrão F-Score: 0.0034425158623880747 \n",
      "Média F-Score: 0.7147772009768608\n"
     ]
    }
   ],
   "source": [
    "# 1. MLPClassifier(hidden_layer_sizes=(10,),activation='relu',solver='adam',max_iter=100,verbose=False)\n",
    "media_f, media_a = arquitetura(1, 4, 'relu', 'adam', 100)\n",
    "FScore_arqs2.append(media_f)\n",
    "Acuracia_arqs2.append(media_a)"
   ]
  },
  {
   "cell_type": "code",
   "execution_count": null,
   "metadata": {
    "id": "CfOYuQQLlYtR"
   },
   "outputs": [],
   "source": [
    "# 2. MLPClassifier(hidden_layer_sizes=(10,),activation='relu',solver='SGD',max_iter=100,verbose=False)\n",
    "media_f, media_a = arquitetura(1, 4, 'logistic', 'SGD', 100)\n",
    "FScore_arqs2.append(media_f)\n",
    "Acuracia_arqs2.append(media_a)"
   ]
  },
  {
   "cell_type": "code",
   "execution_count": 38,
   "metadata": {
    "id": "Ot5-fYWzlY0s"
   },
   "outputs": [
    {
     "name": "stdout",
     "output_type": "stream",
     "text": [
      "Desvio Padrão Acurácia: 0.004395674914818868 \n",
      "Média Acurácia: 0.6997074077473838 \n",
      "Desvio Padrão F-Score: 0.0037827331660121332 \n",
      "Média F-Score: 0.7144345697053864\n"
     ]
    }
   ],
   "source": [
    "# 3. MLPClassifier(hidden_layer_sizes=(10,),activation='logistic',solver='adam',max_iter=150,verbose=False)\n",
    "media_f, media_a = arquitetura(1, 4, 'relu', 'adam', 150)\n",
    "FScore_arqs2.append(media_f)\n",
    "Acuracia_arqs2.append(media_a)"
   ]
  },
  {
   "cell_type": "code",
   "execution_count": null,
   "metadata": {
    "id": "L24A3Is8lY6y"
   },
   "outputs": [],
   "source": [
    "# 4. MLPClassifier(hidden_layer_sizes=(10,),activation='relu',solver='adSGDam',max_iter=200,verbose=False)\n",
    "media_f, media_a = arquitetura(1, 4, 'logistic', 'SGD', 200)\n",
    "FScore_arqs2.append(media_f)\n",
    "Acuracia_arqs2.append(media_a)"
   ]
  },
  {
   "cell_type": "code",
   "execution_count": 39,
   "metadata": {
    "id": "2PutQspilZAg"
   },
   "outputs": [
    {
     "name": "stdout",
     "output_type": "stream",
     "text": [
      "Desvio Padrão Acurácia: 0.003330780680980354 \n",
      "Média Acurácia: 0.7018538492136345 \n",
      "Desvio Padrão F-Score: 0.0026421078971209057 \n",
      "Média F-Score: 0.7161965554894917\n"
     ]
    }
   ],
   "source": [
    "# 5. MLPClassifier(hidden_layer_sizes=(10,),activation='logistic',solver='adam',max_iter=200,verbose=False)\n",
    "media_f, media_a = arquitetura(1, 4, 'relu', 'adam', 100)\n",
    "FScore_arqs2.append(media_f)\n",
    "Acuracia_arqs2.append(media_a)"
   ]
  },
  {
   "cell_type": "code",
   "execution_count": null,
   "metadata": {
    "id": "4gYaYzG8lZGG"
   },
   "outputs": [],
   "source": [
    "# 6. MLPClassifier(hidden_layer_sizes=(10,),activation='relu',solver='SGD',max_iter=100,verbose=False)\n",
    "media_f, media_a = arquitetura(1, 4, 'logistic', 'SGD', 100)\n",
    "FScore_arqs2.append(media_f)\n",
    "Acuracia_arqs2.append(media_a)"
   ]
  },
  {
   "cell_type": "code",
   "execution_count": 40,
   "metadata": {
    "id": "1XjevB5nlZK8"
   },
   "outputs": [
    {
     "name": "stderr",
     "output_type": "stream",
     "text": [
      "/home/elloa/.conda/envs/gpr-ufcg/lib/python3.9/site-packages/sklearn/neural_network/_multilayer_perceptron.py:614: ConvergenceWarning: Stochastic Optimizer: Maximum iterations (100) reached and the optimization hasn't converged yet.\n",
      "  warnings.warn(\n"
     ]
    },
    {
     "name": "stdout",
     "output_type": "stream",
     "text": [
      "Desvio Padrão Acurácia: 0.004355134336501288 \n",
      "Média Acurácia: 0.7017333700507924 \n",
      "Desvio Padrão F-Score: 0.004056461475189312 \n",
      "Média F-Score: 0.715362605045117\n"
     ]
    }
   ],
   "source": [
    "# 7. MLPClassifier(hidden_layer_sizes=(10,),activation='relu',solver='adam',max_iter=100,verbose=False)\n",
    "media_f, media_a = arquitetura(1, 4, 'relu', 'adam', 100)\n",
    "FScore_arqs2.append(media_f)\n",
    "Acuracia_arqs2.append(media_a)"
   ]
  },
  {
   "cell_type": "code",
   "execution_count": null,
   "metadata": {
    "id": "p9o10dFGlZPV"
   },
   "outputs": [],
   "source": [
    "# 8. MLPClassifier(hidden_layer_sizes=(10,),activation='logistic',solver='SGD',max_iter=150,verbose=False)\n",
    "media_f, media_a = arquitetura(1, 4, 'logistic', 'SGD', 150)\n",
    "FScore_arqs2.append(media_f)\n",
    "Acuracia_arqs2.append(media_a)"
   ]
  },
  {
   "cell_type": "code",
   "execution_count": 41,
   "metadata": {
    "id": "lkzq5ta1lZUu"
   },
   "outputs": [
    {
     "name": "stdout",
     "output_type": "stream",
     "text": [
      "Desvio Padrão Acurácia: 0.003687514705609679 \n",
      "Média Acurácia: 0.7005913040817576 \n",
      "Desvio Padrão F-Score: 0.002719570402105005 \n",
      "Média F-Score: 0.715303805282409\n"
     ]
    }
   ],
   "source": [
    "# 9. MLPClassifier(hidden_layer_sizes=(10,),activation='relu',solver='adam',max_iter=100,verbose=False)\n",
    "media_f, media_a = arquitetura(1, 4, 'relu', 'adam', 100)\n",
    "FScore_arqs2.append(media_f)\n",
    "Acuracia_arqs2.append(media_a)"
   ]
  },
  {
   "cell_type": "code",
   "execution_count": null,
   "metadata": {
    "id": "jG70exd7lZbh"
   },
   "outputs": [],
   "source": [
    "# 10. MLPClassifier(hidden_layer_sizes=(10,),activation='relu',solver='SGD',max_iter=100,verbose=False)\n",
    "media_f, media_a = arquitetura(1, 4, 'logistic', 'SGD', 100)\n",
    "FScore_arqs2.append(media_f)\n",
    "Acuracia_arqs2.append(media_a)"
   ]
  },
  {
   "cell_type": "markdown",
   "metadata": {
    "id": "KVAsbyuFiIo1"
   },
   "source": [
    "**Alpha 3**\n",
    "1.   MLPClassifier(hidden_layer_sizes=(24,),activation='relu',solver='adam',max_iter=100,verbose=False)\n",
    "2.   MLPClassifier(hidden_layer_sizes=(24,),activation='relu',solver='SGD',max_iter=100,verbose=False)\n",
    "3.   MLPClassifier(hidden_layer_sizes=(24,),activation='logistic',solver='adam',max_iter=150,verbose=False)\n",
    "4.  MLPClassifier(hidden_layer_sizes=(24,),activation='relu',solver='SGD',max_iter=200,verbose=False)\n",
    "5.  MLPClassifier(hidden_layer_sizes=(24,),activation='logistic',solver='adam',max_iter=200,verbose=False)\n",
    "6.  MLPClassifier(hidden_layer_sizes=(12,2),activation='relu',solver='SGD',max_iter=100,verbose=False)\n",
    "7.  MLPClassifier(hidden_layer_sizes=(12,2),activation='relu',solver='adam',max_iter=100,verbose=False)\n",
    "8.  MLPClassifier(hidden_layer_sizes=(12,2),activation='logistic',solver='SGD',max_iter=150,verbose=False)\n",
    "9.  MLPClassifier(hidden_layer_sizes=(12,2),activation='relu',solver='SGD',max_iter=200,verbose=False)\n",
    "10. MLPClassifier(hidden_layer_sizes=(12,2),activation='relu',solver='adam',max_iter=200,verbose=False)\n"
   ]
  },
  {
   "cell_type": "code",
   "execution_count": 42,
   "metadata": {
    "id": "2m5kdK5QdaiW"
   },
   "outputs": [
    {
     "name": "stderr",
     "output_type": "stream",
     "text": [
      "/home/elloa/.conda/envs/gpr-ufcg/lib/python3.9/site-packages/sklearn/neural_network/_multilayer_perceptron.py:614: ConvergenceWarning: Stochastic Optimizer: Maximum iterations (100) reached and the optimization hasn't converged yet.\n",
      "  warnings.warn(\n",
      "/home/elloa/.conda/envs/gpr-ufcg/lib/python3.9/site-packages/sklearn/neural_network/_multilayer_perceptron.py:614: ConvergenceWarning: Stochastic Optimizer: Maximum iterations (100) reached and the optimization hasn't converged yet.\n",
      "  warnings.warn(\n",
      "/home/elloa/.conda/envs/gpr-ufcg/lib/python3.9/site-packages/sklearn/neural_network/_multilayer_perceptron.py:614: ConvergenceWarning: Stochastic Optimizer: Maximum iterations (100) reached and the optimization hasn't converged yet.\n",
      "  warnings.warn(\n",
      "/home/elloa/.conda/envs/gpr-ufcg/lib/python3.9/site-packages/sklearn/neural_network/_multilayer_perceptron.py:614: ConvergenceWarning: Stochastic Optimizer: Maximum iterations (100) reached and the optimization hasn't converged yet.\n",
      "  warnings.warn(\n",
      "/home/elloa/.conda/envs/gpr-ufcg/lib/python3.9/site-packages/sklearn/neural_network/_multilayer_perceptron.py:614: ConvergenceWarning: Stochastic Optimizer: Maximum iterations (100) reached and the optimization hasn't converged yet.\n",
      "  warnings.warn(\n",
      "/home/elloa/.conda/envs/gpr-ufcg/lib/python3.9/site-packages/sklearn/neural_network/_multilayer_perceptron.py:614: ConvergenceWarning: Stochastic Optimizer: Maximum iterations (100) reached and the optimization hasn't converged yet.\n",
      "  warnings.warn(\n",
      "/home/elloa/.conda/envs/gpr-ufcg/lib/python3.9/site-packages/sklearn/neural_network/_multilayer_perceptron.py:614: ConvergenceWarning: Stochastic Optimizer: Maximum iterations (100) reached and the optimization hasn't converged yet.\n",
      "  warnings.warn(\n",
      "/home/elloa/.conda/envs/gpr-ufcg/lib/python3.9/site-packages/sklearn/neural_network/_multilayer_perceptron.py:614: ConvergenceWarning: Stochastic Optimizer: Maximum iterations (100) reached and the optimization hasn't converged yet.\n",
      "  warnings.warn(\n",
      "/home/elloa/.conda/envs/gpr-ufcg/lib/python3.9/site-packages/sklearn/neural_network/_multilayer_perceptron.py:614: ConvergenceWarning: Stochastic Optimizer: Maximum iterations (100) reached and the optimization hasn't converged yet.\n",
      "  warnings.warn(\n",
      "/home/elloa/.conda/envs/gpr-ufcg/lib/python3.9/site-packages/sklearn/neural_network/_multilayer_perceptron.py:614: ConvergenceWarning: Stochastic Optimizer: Maximum iterations (100) reached and the optimization hasn't converged yet.\n",
      "  warnings.warn(\n",
      "/home/elloa/.conda/envs/gpr-ufcg/lib/python3.9/site-packages/sklearn/neural_network/_multilayer_perceptron.py:614: ConvergenceWarning: Stochastic Optimizer: Maximum iterations (100) reached and the optimization hasn't converged yet.\n",
      "  warnings.warn(\n",
      "/home/elloa/.conda/envs/gpr-ufcg/lib/python3.9/site-packages/sklearn/neural_network/_multilayer_perceptron.py:614: ConvergenceWarning: Stochastic Optimizer: Maximum iterations (100) reached and the optimization hasn't converged yet.\n",
      "  warnings.warn(\n",
      "/home/elloa/.conda/envs/gpr-ufcg/lib/python3.9/site-packages/sklearn/neural_network/_multilayer_perceptron.py:614: ConvergenceWarning: Stochastic Optimizer: Maximum iterations (100) reached and the optimization hasn't converged yet.\n",
      "  warnings.warn(\n",
      "/home/elloa/.conda/envs/gpr-ufcg/lib/python3.9/site-packages/sklearn/neural_network/_multilayer_perceptron.py:614: ConvergenceWarning: Stochastic Optimizer: Maximum iterations (100) reached and the optimization hasn't converged yet.\n",
      "  warnings.warn(\n"
     ]
    },
    {
     "name": "stdout",
     "output_type": "stream",
     "text": [
      "Desvio Padrão Acurácia: 0.002635626363566987 \n",
      "Média Acurácia: 0.7413759867817148 \n",
      "Desvio Padrão F-Score: 0.0031541770427993628 \n",
      "Média F-Score: 0.7479268244118178\n"
     ]
    }
   ],
   "source": [
    "# 1. MLPClassifier(hidden_layer_sizes=(24,),activation='relu',solver='adam',max_iter=100,verbose=False)\n",
    "media_f, media_a = arquitetura(1, 25, 'relu', 'adam', 100)\n",
    "FScore_arqs2.append(media_f)\n",
    "Acuracia_arqs2.append(media_a)"
   ]
  },
  {
   "cell_type": "code",
   "execution_count": null,
   "metadata": {
    "id": "gyAiBrdQmP5a"
   },
   "outputs": [],
   "source": [
    "# 2. MLPClassifier(hidden_layer_sizes=(24,),activation='relu',solver='SGD',max_iter=100,verbose=False)\n",
    "media_f, media_a = arquitetura(1, 25, 'relu', 'SGD', 100)\n",
    "FScore_arqs2.append(media_f)\n",
    "Acuracia_arqs2.append(media_a)"
   ]
  },
  {
   "cell_type": "code",
   "execution_count": 43,
   "metadata": {
    "id": "pyaGxn0hmQN5"
   },
   "outputs": [
    {
     "name": "stderr",
     "output_type": "stream",
     "text": [
      "/home/elloa/.conda/envs/gpr-ufcg/lib/python3.9/site-packages/sklearn/neural_network/_multilayer_perceptron.py:614: ConvergenceWarning: Stochastic Optimizer: Maximum iterations (150) reached and the optimization hasn't converged yet.\n",
      "  warnings.warn(\n",
      "/home/elloa/.conda/envs/gpr-ufcg/lib/python3.9/site-packages/sklearn/neural_network/_multilayer_perceptron.py:614: ConvergenceWarning: Stochastic Optimizer: Maximum iterations (150) reached and the optimization hasn't converged yet.\n",
      "  warnings.warn(\n",
      "/home/elloa/.conda/envs/gpr-ufcg/lib/python3.9/site-packages/sklearn/neural_network/_multilayer_perceptron.py:614: ConvergenceWarning: Stochastic Optimizer: Maximum iterations (150) reached and the optimization hasn't converged yet.\n",
      "  warnings.warn(\n",
      "/home/elloa/.conda/envs/gpr-ufcg/lib/python3.9/site-packages/sklearn/neural_network/_multilayer_perceptron.py:614: ConvergenceWarning: Stochastic Optimizer: Maximum iterations (150) reached and the optimization hasn't converged yet.\n",
      "  warnings.warn(\n",
      "/home/elloa/.conda/envs/gpr-ufcg/lib/python3.9/site-packages/sklearn/neural_network/_multilayer_perceptron.py:614: ConvergenceWarning: Stochastic Optimizer: Maximum iterations (150) reached and the optimization hasn't converged yet.\n",
      "  warnings.warn(\n",
      "/home/elloa/.conda/envs/gpr-ufcg/lib/python3.9/site-packages/sklearn/neural_network/_multilayer_perceptron.py:614: ConvergenceWarning: Stochastic Optimizer: Maximum iterations (150) reached and the optimization hasn't converged yet.\n",
      "  warnings.warn(\n",
      "/home/elloa/.conda/envs/gpr-ufcg/lib/python3.9/site-packages/sklearn/neural_network/_multilayer_perceptron.py:614: ConvergenceWarning: Stochastic Optimizer: Maximum iterations (150) reached and the optimization hasn't converged yet.\n",
      "  warnings.warn(\n",
      "/home/elloa/.conda/envs/gpr-ufcg/lib/python3.9/site-packages/sklearn/neural_network/_multilayer_perceptron.py:614: ConvergenceWarning: Stochastic Optimizer: Maximum iterations (150) reached and the optimization hasn't converged yet.\n",
      "  warnings.warn(\n",
      "/home/elloa/.conda/envs/gpr-ufcg/lib/python3.9/site-packages/sklearn/neural_network/_multilayer_perceptron.py:614: ConvergenceWarning: Stochastic Optimizer: Maximum iterations (150) reached and the optimization hasn't converged yet.\n",
      "  warnings.warn(\n",
      "/home/elloa/.conda/envs/gpr-ufcg/lib/python3.9/site-packages/sklearn/neural_network/_multilayer_perceptron.py:614: ConvergenceWarning: Stochastic Optimizer: Maximum iterations (150) reached and the optimization hasn't converged yet.\n",
      "  warnings.warn(\n",
      "/home/elloa/.conda/envs/gpr-ufcg/lib/python3.9/site-packages/sklearn/neural_network/_multilayer_perceptron.py:614: ConvergenceWarning: Stochastic Optimizer: Maximum iterations (150) reached and the optimization hasn't converged yet.\n",
      "  warnings.warn(\n",
      "/home/elloa/.conda/envs/gpr-ufcg/lib/python3.9/site-packages/sklearn/neural_network/_multilayer_perceptron.py:614: ConvergenceWarning: Stochastic Optimizer: Maximum iterations (150) reached and the optimization hasn't converged yet.\n",
      "  warnings.warn(\n"
     ]
    },
    {
     "name": "stdout",
     "output_type": "stream",
     "text": [
      "Desvio Padrão Acurácia: 0.003356681292865782 \n",
      "Média Acurácia: 0.7470932011504803 \n",
      "Desvio Padrão F-Score: 0.0034084728473328515 \n",
      "Média F-Score: 0.7539163897665984\n"
     ]
    }
   ],
   "source": [
    "# 3. MLPClassifier(hidden_layer_sizes=(24,),activation='logistic',solver='adam',max_iter=150,verbose=False)\n",
    "media_f, media_a = arquitetura(1, 25, 'logistic', 'adam', 150)\n",
    "FScore_arqs2.append(media_f)\n",
    "Acuracia_arqs2.append(media_a)"
   ]
  },
  {
   "cell_type": "code",
   "execution_count": null,
   "metadata": {
    "id": "v7cZgZa-mQRt"
   },
   "outputs": [],
   "source": [
    "# 4. MLPClassifier(hidden_layer_sizes=(24,),activation='relu',solver='SGD',max_iter=200,verbose=False)\n",
    "media_f, media_a = arquitetura(1, 25, 'relu', 'SGD', 200)\n",
    "FScore_arqs2.append(media_f)\n",
    "Acuracia_arqs2.append(media_a)"
   ]
  },
  {
   "cell_type": "code",
   "execution_count": 44,
   "metadata": {
    "id": "zg3lyt6UmQUq"
   },
   "outputs": [
    {
     "name": "stderr",
     "output_type": "stream",
     "text": [
      "/home/elloa/.conda/envs/gpr-ufcg/lib/python3.9/site-packages/sklearn/neural_network/_multilayer_perceptron.py:614: ConvergenceWarning: Stochastic Optimizer: Maximum iterations (200) reached and the optimization hasn't converged yet.\n",
      "  warnings.warn(\n",
      "/home/elloa/.conda/envs/gpr-ufcg/lib/python3.9/site-packages/sklearn/neural_network/_multilayer_perceptron.py:614: ConvergenceWarning: Stochastic Optimizer: Maximum iterations (200) reached and the optimization hasn't converged yet.\n",
      "  warnings.warn(\n",
      "/home/elloa/.conda/envs/gpr-ufcg/lib/python3.9/site-packages/sklearn/neural_network/_multilayer_perceptron.py:614: ConvergenceWarning: Stochastic Optimizer: Maximum iterations (200) reached and the optimization hasn't converged yet.\n",
      "  warnings.warn(\n",
      "/home/elloa/.conda/envs/gpr-ufcg/lib/python3.9/site-packages/sklearn/neural_network/_multilayer_perceptron.py:614: ConvergenceWarning: Stochastic Optimizer: Maximum iterations (200) reached and the optimization hasn't converged yet.\n",
      "  warnings.warn(\n",
      "/home/elloa/.conda/envs/gpr-ufcg/lib/python3.9/site-packages/sklearn/neural_network/_multilayer_perceptron.py:614: ConvergenceWarning: Stochastic Optimizer: Maximum iterations (200) reached and the optimization hasn't converged yet.\n",
      "  warnings.warn(\n"
     ]
    },
    {
     "name": "stdout",
     "output_type": "stream",
     "text": [
      "Desvio Padrão Acurácia: 0.0038430670318996456 \n",
      "Média Acurácia: 0.7487917661097853 \n",
      "Desvio Padrão F-Score: 0.003815039797196513 \n",
      "Média F-Score: 0.7557262400293626\n"
     ]
    },
    {
     "name": "stderr",
     "output_type": "stream",
     "text": [
      "/home/elloa/.conda/envs/gpr-ufcg/lib/python3.9/site-packages/sklearn/neural_network/_multilayer_perceptron.py:614: ConvergenceWarning: Stochastic Optimizer: Maximum iterations (200) reached and the optimization hasn't converged yet.\n",
      "  warnings.warn(\n"
     ]
    }
   ],
   "source": [
    "# 5. MLPClassifier(hidden_layer_sizes=(24,),activation='logistic',solver='adam',max_iter=200,verbose=False)\n",
    "media_f, media_a = arquitetura(1, 25, 'logistic', 'adam', 200)\n",
    "FScore_arqs2.append(media_f)\n",
    "Acuracia_arqs2.append(media_a)"
   ]
  },
  {
   "cell_type": "code",
   "execution_count": null,
   "metadata": {
    "id": "E91bxZEBmQXf"
   },
   "outputs": [],
   "source": [
    "\n",
    "# 6. MLPClassifier(hidden_layer_sizes=(12,2),activation='relu',solver='SGD',max_iter=100,verbose=False)\n",
    "media_f, media_a = arquitetura(1, 25, 'relu', 'SGD', 100)\n",
    "FScore_arqs2.append(media_f)\n",
    "Acuracia_arqs2.append(media_a)"
   ]
  },
  {
   "cell_type": "code",
   "execution_count": 45,
   "metadata": {
    "id": "gyuIyrFWmQas"
   },
   "outputs": [
    {
     "name": "stderr",
     "output_type": "stream",
     "text": [
      "/home/elloa/.conda/envs/gpr-ufcg/lib/python3.9/site-packages/sklearn/neural_network/_multilayer_perceptron.py:614: ConvergenceWarning: Stochastic Optimizer: Maximum iterations (100) reached and the optimization hasn't converged yet.\n",
      "  warnings.warn(\n",
      "/home/elloa/.conda/envs/gpr-ufcg/lib/python3.9/site-packages/sklearn/neural_network/_multilayer_perceptron.py:614: ConvergenceWarning: Stochastic Optimizer: Maximum iterations (100) reached and the optimization hasn't converged yet.\n",
      "  warnings.warn(\n",
      "/home/elloa/.conda/envs/gpr-ufcg/lib/python3.9/site-packages/sklearn/neural_network/_multilayer_perceptron.py:614: ConvergenceWarning: Stochastic Optimizer: Maximum iterations (100) reached and the optimization hasn't converged yet.\n",
      "  warnings.warn(\n",
      "/home/elloa/.conda/envs/gpr-ufcg/lib/python3.9/site-packages/sklearn/neural_network/_multilayer_perceptron.py:614: ConvergenceWarning: Stochastic Optimizer: Maximum iterations (100) reached and the optimization hasn't converged yet.\n",
      "  warnings.warn(\n",
      "/home/elloa/.conda/envs/gpr-ufcg/lib/python3.9/site-packages/sklearn/neural_network/_multilayer_perceptron.py:614: ConvergenceWarning: Stochastic Optimizer: Maximum iterations (100) reached and the optimization hasn't converged yet.\n",
      "  warnings.warn(\n",
      "/home/elloa/.conda/envs/gpr-ufcg/lib/python3.9/site-packages/sklearn/neural_network/_multilayer_perceptron.py:614: ConvergenceWarning: Stochastic Optimizer: Maximum iterations (100) reached and the optimization hasn't converged yet.\n",
      "  warnings.warn(\n",
      "/home/elloa/.conda/envs/gpr-ufcg/lib/python3.9/site-packages/sklearn/neural_network/_multilayer_perceptron.py:614: ConvergenceWarning: Stochastic Optimizer: Maximum iterations (100) reached and the optimization hasn't converged yet.\n",
      "  warnings.warn(\n",
      "/home/elloa/.conda/envs/gpr-ufcg/lib/python3.9/site-packages/sklearn/neural_network/_multilayer_perceptron.py:614: ConvergenceWarning: Stochastic Optimizer: Maximum iterations (100) reached and the optimization hasn't converged yet.\n",
      "  warnings.warn(\n",
      "/home/elloa/.conda/envs/gpr-ufcg/lib/python3.9/site-packages/sklearn/neural_network/_multilayer_perceptron.py:614: ConvergenceWarning: Stochastic Optimizer: Maximum iterations (100) reached and the optimization hasn't converged yet.\n",
      "  warnings.warn(\n",
      "/home/elloa/.conda/envs/gpr-ufcg/lib/python3.9/site-packages/sklearn/neural_network/_multilayer_perceptron.py:614: ConvergenceWarning: Stochastic Optimizer: Maximum iterations (100) reached and the optimization hasn't converged yet.\n",
      "  warnings.warn(\n",
      "/home/elloa/.conda/envs/gpr-ufcg/lib/python3.9/site-packages/sklearn/neural_network/_multilayer_perceptron.py:614: ConvergenceWarning: Stochastic Optimizer: Maximum iterations (100) reached and the optimization hasn't converged yet.\n",
      "  warnings.warn(\n"
     ]
    },
    {
     "name": "stdout",
     "output_type": "stream",
     "text": [
      "Desvio Padrão Acurácia: 0.010162174146160666 \n",
      "Média Acurácia: 0.7148621565387676 \n",
      "Desvio Padrão F-Score: 0.006319751316495101 \n",
      "Média F-Score: 0.7281525372435068\n"
     ]
    },
    {
     "name": "stderr",
     "output_type": "stream",
     "text": [
      "/home/elloa/.conda/envs/gpr-ufcg/lib/python3.9/site-packages/sklearn/neural_network/_multilayer_perceptron.py:614: ConvergenceWarning: Stochastic Optimizer: Maximum iterations (100) reached and the optimization hasn't converged yet.\n",
      "  warnings.warn(\n"
     ]
    }
   ],
   "source": [
    "\n",
    "# 7. MLPClassifier(hidden_layer_sizes=(12,2),activation='relu',solver='adam',max_iter=100,verbose=False)\n",
    "media_f, media_a = arquitetura(2, 12, 'relu', 'adam', 100)\n",
    "FScore_arqs2.append(media_f)\n",
    "Acuracia_arqs2.append(media_a)"
   ]
  },
  {
   "cell_type": "code",
   "execution_count": null,
   "metadata": {
    "id": "qQifnrdmmQe-"
   },
   "outputs": [],
   "source": [
    "# 8. MLPClassifier(hidden_layer_sizes=(12,2),activation='logistic',solver='SGD',max_iter=150,verbose=False)\n",
    "media_f, media_a = arquitetura(1, 25, 'logistic', 'SGD', 150)\n",
    "FScore_arqs2.append(media_f)\n",
    "Acuracia_arqs2.append(media_a)"
   ]
  },
  {
   "cell_type": "code",
   "execution_count": null,
   "metadata": {
    "id": "sQP4OC9RmQi5"
   },
   "outputs": [],
   "source": [
    "# 9. MLPClassifier(hidden_layer_sizes=(12,2),activation='relu',solver='SGD',max_iter=200,verbose=False)\n",
    "media_f, media_a = arquitetura(1, 25, 'relu', 'SGD', 200)\n",
    "FScore_arqs2.append(media_f)\n",
    "Acuracia_arqs2.append(media_a)"
   ]
  },
  {
   "cell_type": "code",
   "execution_count": 46,
   "metadata": {
    "id": "dwhZ9Et6mQlY"
   },
   "outputs": [
    {
     "name": "stderr",
     "output_type": "stream",
     "text": [
      "/home/elloa/.conda/envs/gpr-ufcg/lib/python3.9/site-packages/sklearn/neural_network/_multilayer_perceptron.py:614: ConvergenceWarning: Stochastic Optimizer: Maximum iterations (200) reached and the optimization hasn't converged yet.\n",
      "  warnings.warn(\n",
      "/home/elloa/.conda/envs/gpr-ufcg/lib/python3.9/site-packages/sklearn/neural_network/_multilayer_perceptron.py:614: ConvergenceWarning: Stochastic Optimizer: Maximum iterations (200) reached and the optimization hasn't converged yet.\n",
      "  warnings.warn(\n",
      "/home/elloa/.conda/envs/gpr-ufcg/lib/python3.9/site-packages/sklearn/neural_network/_multilayer_perceptron.py:614: ConvergenceWarning: Stochastic Optimizer: Maximum iterations (200) reached and the optimization hasn't converged yet.\n",
      "  warnings.warn(\n"
     ]
    },
    {
     "name": "stdout",
     "output_type": "stream",
     "text": [
      "Desvio Padrão Acurácia: 0.0027362062978545684 \n",
      "Média Acurácia: 0.7407777981763661 \n",
      "Desvio Padrão F-Score: 0.0032705913008260422 \n",
      "Média F-Score: 0.7472630652502832\n"
     ]
    }
   ],
   "source": [
    "# 10. MLPClassifier(hidden_layer_sizes=(12,2),activation='relu',solver='adam',max_iter=200,verbose=False)\n",
    "media_f, media_a = arquitetura(1, 25, 'relu', 'adam', 200)\n",
    "FScore_arqs2.append(media_f)\n",
    "Acuracia_arqs2.append(media_a)"
   ]
  },
  {
   "cell_type": "markdown",
   "metadata": {
    "id": "ZOe3HvhJ6nSO"
   },
   "source": [
    "## Testando as Redes Neurais com Atributos Categóricos\n",
    "\n",
    "1. Considere as 6 redes neurais obtidas nos dois top-3 anteriores (arquiteturas próprias e regra da pirâmide geométrica)\n",
    "2. Com todos os atributos preditores da base de dados original, incluindo os categóricos, treine e teste estas mesmas redes por 100 repetições  \n",
    "    2.1 Considere o melhor otimizador para cada uma delas  \n",
    "    2.2 Faça uso de 200 épocas para treinamento  \n",
    "    2.2 Apresente os resultados de acurácia e F-Score em termos da média +- dp para cada arquitetura\n",
    "3. Apresente o gráfico boxplot para o F-Score das 6 arquiteturas perante as 100 repetições"
   ]
  },
  {
   "cell_type": "code",
   "execution_count": null,
   "metadata": {
    "id": "qggD03I-6nST"
   },
   "outputs": [],
   "source": []
  },
  {
   "cell_type": "markdown",
   "metadata": {
    "id": "z7jmU2w86nSV"
   },
   "source": [
    "## Considerações Parciais\n",
    "\n",
    "1. É possível identificar uma rede com desempenho superior às demais?\n",
    "2. Qual estratégia mostrou-se mais producente para a obtenção de boas arquiteturas (Estratégia Própria ou Pirâmide Geométrica)? Por quê?\n",
    "3. Considerar os atributos categóricos trouxe melhorias? Justifique.\n",
    "4. Um número maior de épocas trouxe melhorias?\n",
    "5. Qual a maior dificuldade de resolução do problema proposto perante as RNAs?"
   ]
  },
  {
   "cell_type": "code",
   "execution_count": null,
   "metadata": {
    "id": "kFm-oin46nSX"
   },
   "outputs": [],
   "source": []
  }
 ],
 "metadata": {
  "colab": {
   "include_colab_link": true,
   "name": "PP2_2_2_Proposição_e_Avaliação_de_RNAs.ipynb",
   "provenance": []
  },
  "kernelspec": {
   "display_name": "Python 3 (ipykernel)",
   "language": "python",
   "name": "python3"
  },
  "language_info": {
   "codemirror_mode": {
    "name": "ipython",
    "version": 3
   },
   "file_extension": ".py",
   "mimetype": "text/x-python",
   "name": "python",
   "nbconvert_exporter": "python",
   "pygments_lexer": "ipython3",
   "version": "3.9.7"
  }
 },
 "nbformat": 4,
 "nbformat_minor": 4
}
