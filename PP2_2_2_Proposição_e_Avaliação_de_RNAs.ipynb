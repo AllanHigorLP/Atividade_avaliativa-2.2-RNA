{
  "nbformat": 4,
  "nbformat_minor": 0,
  "metadata": {
    "kernelspec": {
      "display_name": "Python 3",
      "language": "python",
      "name": "python3"
    },
    "language_info": {
      "codemirror_mode": {
        "name": "ipython",
        "version": 3
      },
      "file_extension": ".py",
      "mimetype": "text/x-python",
      "name": "python",
      "nbconvert_exporter": "python",
      "pygments_lexer": "ipython3",
      "version": "3.6.10"
    },
    "colab": {
      "name": "PP2_2_2_Proposição_e_Avaliação_de_RNAs.ipynb",
      "provenance": [],
      "include_colab_link": true
    }
  },
  "cells": [
    {
      "cell_type": "markdown",
      "metadata": {
        "id": "view-in-github",
        "colab_type": "text"
      },
      "source": [
        "<a href=\"https://colab.research.google.com/github/AllanHigorLP/Atividade_avaliativa-2.2-RNA/blob/main/PP2_2_2_Proposi%C3%A7%C3%A3o_e_Avalia%C3%A7%C3%A3o_de_RNAs.ipynb\" target=\"_parent\"><img src=\"https://colab.research.google.com/assets/colab-badge.svg\" alt=\"Open In Colab\"/></a>"
      ]
    },
    {
      "cell_type": "markdown",
      "metadata": {
        "id": "A49m5nHB6nR0"
      },
      "source": [
        "## Redes Neurais Artificiais 2021.1\n",
        "\n",
        "- **Disciplina**: Redes Neurais Artificiais 2021.1  \n",
        "- **Professora**: Elloá B. Guedes (ebgcosta@uea.edu.br)  \n",
        "- **Github**: http://github.com/elloa  \n",
        "        \n",
        "\n",
        "Levando em conta a base de dados **_Forest Cover Type_**, esta segunda parte do Projeto Prático 2.2 diz respeito à proposição e avaliação de múltiplas redes neurais artificiais do tipo feedforward multilayer perceptron para o problema da classificação multi-classe da cobertura florestal em uma área do Roosevelt National Forest.\n",
        "\n",
        "## Testando Redes Neurais sem os Atributos Categórios\n",
        "\n",
        "1. Abra a base de dados em questão\n",
        "2. Elimine todas as colunas relativas aos atributos categóricos\n",
        "3. Armazene o atributo alvo em uma variável y e os atributos preditores em uma variável X\n",
        "4. Efetue uma partição holdout 70/30 com o sklearn, distribuindo os exemplos de maneira aleatória\n",
        "5. Efetue o escalonamento dos atributos\n",
        "\n",
        "### Escalonando os atributos\n",
        "\n",
        "O treinamento de uma rede neural artificial é mais eficiente quando os valores que lhes são fornecidos como entrada são pequenos, pois isto favorece a convergência. Isto é feito escalonando-se todos os atributos para o intervalo [0,1], mas precisa ser feito de maneira cautelosa, para que informações do conjunto de teste não sejam fornecidas no treinamento.\n",
        "\n",
        "Há duas estratégias para tal escalonamento: normalização e padronização. Ambas possuem características particulares, vantagens e limitações, como é possível ver aqui: https://www.analyticsvidhya.com/blog/2020/04/feature-scaling-machine-learning-normalization-standardization/\n",
        "\n",
        "\n",
        "No nosso caso, vamos usar a padronização. Assim, com os atributos preditores do treinamento, isto é, X_train, deve-se subtrair a média e dividir pelo desvio padrão:\n",
        "\n",
        "X_train_std = (X_train - np.mean(X_train))/np.std(X_train)\n",
        "\n",
        "Em seguida, o mesmo deve ser feito com os atributos preditores do conjunto de testes, mas com padronização relativa ao conjunto de treinamento:\n",
        "\n",
        "X_test_std = (X_test - np.mean(X_train))/np.std(X_train)\n",
        "\n",
        "Se todo o conjunto X for utilizado na padronização, a rede neural receberá informações do conjunto de teste por meio da média e variância utilizada para preparar os dados de treinamento, o que não é desejável.\n",
        "\n",
        "\n",
        "### Continuando\n",
        "\n",
        "5. Treine uma rede neural multilayer perceptron para este problema com uma única camada e dez neurônios  \n",
        "    5.1 Utilize a função de ativação ReLU  \n",
        "    5.2 Utilize o solver Adam    \n",
        "    5.3 Imprima o passo a passo do treinamento    \n",
        "    5.4 Utilize o número máximo de épocas igual a 300  \n",
        "6. Com o modelo em questão, após o treinamento, apresente:  \n",
        "    6.1 Matriz de confusão para o conjunto de teste  \n",
        "    6.2 Acurácia  \n",
        "    6.3 F-Score  \n",
        "    6.4 Precisão  \n",
        "    6.5 Revocação  \n",
        "7. Repita o treinamento da mesma rede anterior sem imprimir o passo a passo (verbose False) por 100 vezes  \n",
        "    7.1 Cada uma destas repetições deve ser feita com uma nova partição Holdout  \n",
        "    7.2 Apresente a média e o desvio padrão da acurácia e do F-Score para o conjunto de treino  \n",
        "8. Repita por 100 vezes o treinamento desta mesma rede, mas utilizando o otimizador SGD  \n",
        "    8.1 Apresente a média e o desvio padrão da acurácia e do F-Score para o conjunto de treino  \n",
        "9. Houve influência da escolha do otimizador no desempenho da rede?"
      ]
    },
    {
      "cell_type": "markdown",
      "metadata": {
        "id": "1grTtuJ_DuQd"
      },
      "source": [
        "# 1 - Abra a base de dados em questão"
      ]
    },
    {
      "cell_type": "markdown",
      "metadata": {
        "id": "GTQ5H48UCEJC"
      },
      "source": [
        "**Criando o diretório no Google Drive**"
      ]
    },
    {
      "cell_type": "code",
      "metadata": {
        "colab": {
          "base_uri": "https://localhost:8080/"
        },
        "id": "t1-3msHYB-bL",
        "outputId": "6e5c6f21-851f-4217-a4dd-cc2d9da6b6b8"
      },
      "source": [
        "from google.colab import drive, files\n",
        "drive.mount('/content/drive/')"
      ],
      "execution_count": null,
      "outputs": [
        {
          "output_type": "stream",
          "name": "stdout",
          "text": [
            "Drive already mounted at /content/drive/; to attempt to forcibly remount, call drive.mount(\"/content/drive/\", force_remount=True).\n"
          ]
        }
      ]
    },
    {
      "cell_type": "markdown",
      "metadata": {
        "id": "txP4_glb_l2L"
      },
      "source": [
        "**Importando as bibliotecas**"
      ]
    },
    {
      "cell_type": "code",
      "metadata": {
        "id": "8FQzUnkD6nSF"
      },
      "source": [
        "import numpy as np # linear algebra\n",
        "import pandas as pd # data processing, CSV file I/O (e.g. pd.read_csv)\n",
        "import seaborn as sns\n",
        "import matplotlib.pyplot as plt\n",
        "from sklearn.model_selection import train_test_split #to split the dataset for training and testing\n",
        "from sklearn.neural_network import MLPClassifier #Importing MLPClassifier for classification.\n",
        "from sklearn.preprocessing import StandardScaler\n",
        "from sklearn import metrics\n",
        "from sklearn.metrics import confusion_matrix\n",
        "from sklearn.metrics import precision_score, accuracy_score, f1_score, recall_score"
      ],
      "execution_count": null,
      "outputs": []
    },
    {
      "cell_type": "markdown",
      "metadata": {
        "id": "g57iJP1D_6p7"
      },
      "source": [
        "**Abrindo o dataset**"
      ]
    },
    {
      "cell_type": "code",
      "metadata": {
        "colab": {
          "base_uri": "https://localhost:8080/"
        },
        "id": "V9lns2ng_9pF",
        "outputId": "989611c3-bd4e-480c-a2b4-f89111f83a60"
      },
      "source": [
        "df = pd.read_csv('/content/drive/My Drive/Colab Notebooks/covtype.csv')\n",
        "print(df)"
      ],
      "execution_count": null,
      "outputs": [
        {
          "output_type": "stream",
          "name": "stdout",
          "text": [
            "        Elevation  Aspect  Slope  ...  Soil_Type39  Soil_Type40  Cover_Type\n",
            "0            2596      51      3  ...            0            0           5\n",
            "1            2590      56      2  ...            0            0           5\n",
            "2            2804     139      9  ...            0            0           2\n",
            "3            2785     155     18  ...            0            0           2\n",
            "4            2595      45      2  ...            0            0           5\n",
            "...           ...     ...    ...  ...          ...          ...         ...\n",
            "581007       2396     153     20  ...            0            0           3\n",
            "581008       2391     152     19  ...            0            0           3\n",
            "581009       2386     159     17  ...            0            0           3\n",
            "581010       2384     170     15  ...            0            0           3\n",
            "581011       2383     165     13  ...            0            0           3\n",
            "\n",
            "[581012 rows x 55 columns]\n"
          ]
        }
      ]
    },
    {
      "cell_type": "markdown",
      "metadata": {
        "id": "68N3TE9REAQ0"
      },
      "source": [
        "# 2 - Elimine todas as colunas relativas aos atributos categóricos"
      ]
    },
    {
      "cell_type": "markdown",
      "metadata": {
        "id": "9_bps5cmEZOO"
      },
      "source": [
        "**Mostrando as colunas do dataset**"
      ]
    },
    {
      "cell_type": "code",
      "metadata": {
        "colab": {
          "base_uri": "https://localhost:8080/"
        },
        "id": "tUYlNn73EatE",
        "outputId": "bbd4f883-cfae-4bc3-9daa-d03c4eb2d2ee"
      },
      "source": [
        "df.columns"
      ],
      "execution_count": null,
      "outputs": [
        {
          "output_type": "execute_result",
          "data": {
            "text/plain": [
              "Index(['Elevation', 'Aspect', 'Slope', 'Horizontal_Distance_To_Hydrology',\n",
              "       'Vertical_Distance_To_Hydrology', 'Horizontal_Distance_To_Roadways',\n",
              "       'Hillshade_9am', 'Hillshade_Noon', 'Hillshade_3pm',\n",
              "       'Horizontal_Distance_To_Fire_Points', 'Wilderness_Area1',\n",
              "       'Wilderness_Area2', 'Wilderness_Area3', 'Wilderness_Area4',\n",
              "       'Soil_Type1', 'Soil_Type2', 'Soil_Type3', 'Soil_Type4', 'Soil_Type5',\n",
              "       'Soil_Type6', 'Soil_Type7', 'Soil_Type8', 'Soil_Type9', 'Soil_Type10',\n",
              "       'Soil_Type11', 'Soil_Type12', 'Soil_Type13', 'Soil_Type14',\n",
              "       'Soil_Type15', 'Soil_Type16', 'Soil_Type17', 'Soil_Type18',\n",
              "       'Soil_Type19', 'Soil_Type20', 'Soil_Type21', 'Soil_Type22',\n",
              "       'Soil_Type23', 'Soil_Type24', 'Soil_Type25', 'Soil_Type26',\n",
              "       'Soil_Type27', 'Soil_Type28', 'Soil_Type29', 'Soil_Type30',\n",
              "       'Soil_Type31', 'Soil_Type32', 'Soil_Type33', 'Soil_Type34',\n",
              "       'Soil_Type35', 'Soil_Type36', 'Soil_Type37', 'Soil_Type38',\n",
              "       'Soil_Type39', 'Soil_Type40', 'Cover_Type'],\n",
              "      dtype='object')"
            ]
          },
          "metadata": {},
          "execution_count": 20
        }
      ]
    },
    {
      "cell_type": "markdown",
      "metadata": {
        "id": "To1fNCOCEwig"
      },
      "source": [
        "**Deletando os atributos categóricos**"
      ]
    },
    {
      "cell_type": "code",
      "metadata": {
        "id": "TeWeHCjZE2Vm"
      },
      "source": [
        "df.drop(columns=['Wilderness_Area1',\n",
        "       'Wilderness_Area2', 'Wilderness_Area3', 'Wilderness_Area4',\n",
        "       'Soil_Type1', 'Soil_Type2', 'Soil_Type3', 'Soil_Type4', 'Soil_Type5',\n",
        "       'Soil_Type6', 'Soil_Type7', 'Soil_Type8', 'Soil_Type9', 'Soil_Type10',\n",
        "       'Soil_Type11', 'Soil_Type12', 'Soil_Type13', 'Soil_Type14',\n",
        "       'Soil_Type15', 'Soil_Type16', 'Soil_Type17', 'Soil_Type18',\n",
        "       'Soil_Type19', 'Soil_Type20', 'Soil_Type21', 'Soil_Type22',\n",
        "       'Soil_Type23', 'Soil_Type24', 'Soil_Type25', 'Soil_Type26',\n",
        "       'Soil_Type27', 'Soil_Type28', 'Soil_Type29', 'Soil_Type30',\n",
        "       'Soil_Type31', 'Soil_Type32', 'Soil_Type33', 'Soil_Type34',\n",
        "       'Soil_Type35', 'Soil_Type36', 'Soil_Type37', 'Soil_Type38',\n",
        "       'Soil_Type39', 'Soil_Type40'], inplace=True)"
      ],
      "execution_count": null,
      "outputs": []
    },
    {
      "cell_type": "markdown",
      "metadata": {
        "id": "-gMBSPVEFPis"
      },
      "source": [
        "**Verificando se há inconsistencias após a eliminação das colunas**"
      ]
    },
    {
      "cell_type": "code",
      "metadata": {
        "colab": {
          "base_uri": "https://localhost:8080/"
        },
        "id": "L7sekDIjFXGz",
        "outputId": "df59df0c-07ef-455d-bccd-7a277ecd3606"
      },
      "source": [
        "df.info()"
      ],
      "execution_count": null,
      "outputs": [
        {
          "output_type": "stream",
          "name": "stdout",
          "text": [
            "<class 'pandas.core.frame.DataFrame'>\n",
            "RangeIndex: 581012 entries, 0 to 581011\n",
            "Data columns (total 11 columns):\n",
            " #   Column                              Non-Null Count   Dtype\n",
            "---  ------                              --------------   -----\n",
            " 0   Elevation                           581012 non-null  int64\n",
            " 1   Aspect                              581012 non-null  int64\n",
            " 2   Slope                               581012 non-null  int64\n",
            " 3   Horizontal_Distance_To_Hydrology    581012 non-null  int64\n",
            " 4   Vertical_Distance_To_Hydrology      581012 non-null  int64\n",
            " 5   Horizontal_Distance_To_Roadways     581012 non-null  int64\n",
            " 6   Hillshade_9am                       581012 non-null  int64\n",
            " 7   Hillshade_Noon                      581012 non-null  int64\n",
            " 8   Hillshade_3pm                       581012 non-null  int64\n",
            " 9   Horizontal_Distance_To_Fire_Points  581012 non-null  int64\n",
            " 10  Cover_Type                          581012 non-null  int64\n",
            "dtypes: int64(11)\n",
            "memory usage: 48.8 MB\n"
          ]
        }
      ]
    },
    {
      "cell_type": "markdown",
      "metadata": {
        "id": "t3saaA_vFhAx"
      },
      "source": [
        "**Visão geral do dataset**"
      ]
    },
    {
      "cell_type": "code",
      "metadata": {
        "colab": {
          "base_uri": "https://localhost:8080/",
          "height": 443
        },
        "id": "Y7fP9dafFfMd",
        "outputId": "a21ff6f8-3733-4490-b58b-73114144fe11"
      },
      "source": [
        "df.head(-1)"
      ],
      "execution_count": null,
      "outputs": [
        {
          "output_type": "execute_result",
          "data": {
            "text/html": [
              "<div>\n",
              "<style scoped>\n",
              "    .dataframe tbody tr th:only-of-type {\n",
              "        vertical-align: middle;\n",
              "    }\n",
              "\n",
              "    .dataframe tbody tr th {\n",
              "        vertical-align: top;\n",
              "    }\n",
              "\n",
              "    .dataframe thead th {\n",
              "        text-align: right;\n",
              "    }\n",
              "</style>\n",
              "<table border=\"1\" class=\"dataframe\">\n",
              "  <thead>\n",
              "    <tr style=\"text-align: right;\">\n",
              "      <th></th>\n",
              "      <th>Elevation</th>\n",
              "      <th>Aspect</th>\n",
              "      <th>Slope</th>\n",
              "      <th>Horizontal_Distance_To_Hydrology</th>\n",
              "      <th>Vertical_Distance_To_Hydrology</th>\n",
              "      <th>Horizontal_Distance_To_Roadways</th>\n",
              "      <th>Hillshade_9am</th>\n",
              "      <th>Hillshade_Noon</th>\n",
              "      <th>Hillshade_3pm</th>\n",
              "      <th>Horizontal_Distance_To_Fire_Points</th>\n",
              "      <th>Cover_Type</th>\n",
              "    </tr>\n",
              "  </thead>\n",
              "  <tbody>\n",
              "    <tr>\n",
              "      <th>0</th>\n",
              "      <td>2596</td>\n",
              "      <td>51</td>\n",
              "      <td>3</td>\n",
              "      <td>258</td>\n",
              "      <td>0</td>\n",
              "      <td>510</td>\n",
              "      <td>221</td>\n",
              "      <td>232</td>\n",
              "      <td>148</td>\n",
              "      <td>6279</td>\n",
              "      <td>5</td>\n",
              "    </tr>\n",
              "    <tr>\n",
              "      <th>1</th>\n",
              "      <td>2590</td>\n",
              "      <td>56</td>\n",
              "      <td>2</td>\n",
              "      <td>212</td>\n",
              "      <td>-6</td>\n",
              "      <td>390</td>\n",
              "      <td>220</td>\n",
              "      <td>235</td>\n",
              "      <td>151</td>\n",
              "      <td>6225</td>\n",
              "      <td>5</td>\n",
              "    </tr>\n",
              "    <tr>\n",
              "      <th>2</th>\n",
              "      <td>2804</td>\n",
              "      <td>139</td>\n",
              "      <td>9</td>\n",
              "      <td>268</td>\n",
              "      <td>65</td>\n",
              "      <td>3180</td>\n",
              "      <td>234</td>\n",
              "      <td>238</td>\n",
              "      <td>135</td>\n",
              "      <td>6121</td>\n",
              "      <td>2</td>\n",
              "    </tr>\n",
              "    <tr>\n",
              "      <th>3</th>\n",
              "      <td>2785</td>\n",
              "      <td>155</td>\n",
              "      <td>18</td>\n",
              "      <td>242</td>\n",
              "      <td>118</td>\n",
              "      <td>3090</td>\n",
              "      <td>238</td>\n",
              "      <td>238</td>\n",
              "      <td>122</td>\n",
              "      <td>6211</td>\n",
              "      <td>2</td>\n",
              "    </tr>\n",
              "    <tr>\n",
              "      <th>4</th>\n",
              "      <td>2595</td>\n",
              "      <td>45</td>\n",
              "      <td>2</td>\n",
              "      <td>153</td>\n",
              "      <td>-1</td>\n",
              "      <td>391</td>\n",
              "      <td>220</td>\n",
              "      <td>234</td>\n",
              "      <td>150</td>\n",
              "      <td>6172</td>\n",
              "      <td>5</td>\n",
              "    </tr>\n",
              "    <tr>\n",
              "      <th>...</th>\n",
              "      <td>...</td>\n",
              "      <td>...</td>\n",
              "      <td>...</td>\n",
              "      <td>...</td>\n",
              "      <td>...</td>\n",
              "      <td>...</td>\n",
              "      <td>...</td>\n",
              "      <td>...</td>\n",
              "      <td>...</td>\n",
              "      <td>...</td>\n",
              "      <td>...</td>\n",
              "    </tr>\n",
              "    <tr>\n",
              "      <th>581006</th>\n",
              "      <td>2401</td>\n",
              "      <td>157</td>\n",
              "      <td>21</td>\n",
              "      <td>90</td>\n",
              "      <td>15</td>\n",
              "      <td>120</td>\n",
              "      <td>238</td>\n",
              "      <td>238</td>\n",
              "      <td>119</td>\n",
              "      <td>830</td>\n",
              "      <td>3</td>\n",
              "    </tr>\n",
              "    <tr>\n",
              "      <th>581007</th>\n",
              "      <td>2396</td>\n",
              "      <td>153</td>\n",
              "      <td>20</td>\n",
              "      <td>85</td>\n",
              "      <td>17</td>\n",
              "      <td>108</td>\n",
              "      <td>240</td>\n",
              "      <td>237</td>\n",
              "      <td>118</td>\n",
              "      <td>837</td>\n",
              "      <td>3</td>\n",
              "    </tr>\n",
              "    <tr>\n",
              "      <th>581008</th>\n",
              "      <td>2391</td>\n",
              "      <td>152</td>\n",
              "      <td>19</td>\n",
              "      <td>67</td>\n",
              "      <td>12</td>\n",
              "      <td>95</td>\n",
              "      <td>240</td>\n",
              "      <td>237</td>\n",
              "      <td>119</td>\n",
              "      <td>845</td>\n",
              "      <td>3</td>\n",
              "    </tr>\n",
              "    <tr>\n",
              "      <th>581009</th>\n",
              "      <td>2386</td>\n",
              "      <td>159</td>\n",
              "      <td>17</td>\n",
              "      <td>60</td>\n",
              "      <td>7</td>\n",
              "      <td>90</td>\n",
              "      <td>236</td>\n",
              "      <td>241</td>\n",
              "      <td>130</td>\n",
              "      <td>854</td>\n",
              "      <td>3</td>\n",
              "    </tr>\n",
              "    <tr>\n",
              "      <th>581010</th>\n",
              "      <td>2384</td>\n",
              "      <td>170</td>\n",
              "      <td>15</td>\n",
              "      <td>60</td>\n",
              "      <td>5</td>\n",
              "      <td>90</td>\n",
              "      <td>230</td>\n",
              "      <td>245</td>\n",
              "      <td>143</td>\n",
              "      <td>864</td>\n",
              "      <td>3</td>\n",
              "    </tr>\n",
              "  </tbody>\n",
              "</table>\n",
              "<p>581011 rows × 11 columns</p>\n",
              "</div>"
            ],
            "text/plain": [
              "        Elevation  Aspect  ...  Horizontal_Distance_To_Fire_Points  Cover_Type\n",
              "0            2596      51  ...                                6279           5\n",
              "1            2590      56  ...                                6225           5\n",
              "2            2804     139  ...                                6121           2\n",
              "3            2785     155  ...                                6211           2\n",
              "4            2595      45  ...                                6172           5\n",
              "...           ...     ...  ...                                 ...         ...\n",
              "581006       2401     157  ...                                 830           3\n",
              "581007       2396     153  ...                                 837           3\n",
              "581008       2391     152  ...                                 845           3\n",
              "581009       2386     159  ...                                 854           3\n",
              "581010       2384     170  ...                                 864           3\n",
              "\n",
              "[581011 rows x 11 columns]"
            ]
          },
          "metadata": {},
          "execution_count": 23
        }
      ]
    },
    {
      "cell_type": "markdown",
      "metadata": {
        "id": "VXwqzPaMGwJa"
      },
      "source": [
        "# 3 - Armazene o atributo alvo em uma variável y e os atributos preditores em uma variável X"
      ]
    },
    {
      "cell_type": "code",
      "metadata": {
        "colab": {
          "base_uri": "https://localhost:8080/",
          "height": 226
        },
        "id": "YhRjd5QYGc5w",
        "outputId": "7574a2a1-09c6-442e-8416-885ac3e607dc"
      },
      "source": [
        "Y = df['Cover_Type']\n",
        "df.drop([\"Cover_Type\"],axis = 1,inplace=True)\n",
        "X = df\n",
        "X.head()"
      ],
      "execution_count": null,
      "outputs": [
        {
          "output_type": "execute_result",
          "data": {
            "text/html": [
              "<div>\n",
              "<style scoped>\n",
              "    .dataframe tbody tr th:only-of-type {\n",
              "        vertical-align: middle;\n",
              "    }\n",
              "\n",
              "    .dataframe tbody tr th {\n",
              "        vertical-align: top;\n",
              "    }\n",
              "\n",
              "    .dataframe thead th {\n",
              "        text-align: right;\n",
              "    }\n",
              "</style>\n",
              "<table border=\"1\" class=\"dataframe\">\n",
              "  <thead>\n",
              "    <tr style=\"text-align: right;\">\n",
              "      <th></th>\n",
              "      <th>Elevation</th>\n",
              "      <th>Aspect</th>\n",
              "      <th>Slope</th>\n",
              "      <th>Horizontal_Distance_To_Hydrology</th>\n",
              "      <th>Vertical_Distance_To_Hydrology</th>\n",
              "      <th>Horizontal_Distance_To_Roadways</th>\n",
              "      <th>Hillshade_9am</th>\n",
              "      <th>Hillshade_Noon</th>\n",
              "      <th>Hillshade_3pm</th>\n",
              "      <th>Horizontal_Distance_To_Fire_Points</th>\n",
              "    </tr>\n",
              "  </thead>\n",
              "  <tbody>\n",
              "    <tr>\n",
              "      <th>0</th>\n",
              "      <td>2596</td>\n",
              "      <td>51</td>\n",
              "      <td>3</td>\n",
              "      <td>258</td>\n",
              "      <td>0</td>\n",
              "      <td>510</td>\n",
              "      <td>221</td>\n",
              "      <td>232</td>\n",
              "      <td>148</td>\n",
              "      <td>6279</td>\n",
              "    </tr>\n",
              "    <tr>\n",
              "      <th>1</th>\n",
              "      <td>2590</td>\n",
              "      <td>56</td>\n",
              "      <td>2</td>\n",
              "      <td>212</td>\n",
              "      <td>-6</td>\n",
              "      <td>390</td>\n",
              "      <td>220</td>\n",
              "      <td>235</td>\n",
              "      <td>151</td>\n",
              "      <td>6225</td>\n",
              "    </tr>\n",
              "    <tr>\n",
              "      <th>2</th>\n",
              "      <td>2804</td>\n",
              "      <td>139</td>\n",
              "      <td>9</td>\n",
              "      <td>268</td>\n",
              "      <td>65</td>\n",
              "      <td>3180</td>\n",
              "      <td>234</td>\n",
              "      <td>238</td>\n",
              "      <td>135</td>\n",
              "      <td>6121</td>\n",
              "    </tr>\n",
              "    <tr>\n",
              "      <th>3</th>\n",
              "      <td>2785</td>\n",
              "      <td>155</td>\n",
              "      <td>18</td>\n",
              "      <td>242</td>\n",
              "      <td>118</td>\n",
              "      <td>3090</td>\n",
              "      <td>238</td>\n",
              "      <td>238</td>\n",
              "      <td>122</td>\n",
              "      <td>6211</td>\n",
              "    </tr>\n",
              "    <tr>\n",
              "      <th>4</th>\n",
              "      <td>2595</td>\n",
              "      <td>45</td>\n",
              "      <td>2</td>\n",
              "      <td>153</td>\n",
              "      <td>-1</td>\n",
              "      <td>391</td>\n",
              "      <td>220</td>\n",
              "      <td>234</td>\n",
              "      <td>150</td>\n",
              "      <td>6172</td>\n",
              "    </tr>\n",
              "  </tbody>\n",
              "</table>\n",
              "</div>"
            ],
            "text/plain": [
              "   Elevation  Aspect  ...  Hillshade_3pm  Horizontal_Distance_To_Fire_Points\n",
              "0       2596      51  ...            148                                6279\n",
              "1       2590      56  ...            151                                6225\n",
              "2       2804     139  ...            135                                6121\n",
              "3       2785     155  ...            122                                6211\n",
              "4       2595      45  ...            150                                6172\n",
              "\n",
              "[5 rows x 10 columns]"
            ]
          },
          "metadata": {},
          "execution_count": 24
        }
      ]
    },
    {
      "cell_type": "markdown",
      "metadata": {
        "id": "PtqAVDXSHQlw"
      },
      "source": [
        "# 4 - Efetue uma partição holdout 70/30 com o sklearn, distribuindo os exemplos de maneira aleatória"
      ]
    },
    {
      "cell_type": "code",
      "metadata": {
        "id": "dtcJbBRMHUha"
      },
      "source": [
        "X_train, X_test, Y_train, Y_test = train_test_split(X, Y, test_size=0.30)"
      ],
      "execution_count": null,
      "outputs": []
    },
    {
      "cell_type": "markdown",
      "metadata": {
        "id": "a35AmftuJWdJ"
      },
      "source": [
        "# 5 - Efetue o escalonamento dos atributos "
      ]
    },
    {
      "cell_type": "code",
      "metadata": {
        "id": "-ZbhK8kvKCOc",
        "colab": {
          "base_uri": "https://localhost:8080/"
        },
        "outputId": "68e407f2-e9d8-4a8f-fbc8-d83ebcbd57a4"
      },
      "source": [
        "X_train_stand = X_train.copy()\n",
        "X_test_stand = X_test.copy()\n",
        "\n",
        "\n",
        "X_train_stand = (X_train - np.mean(X_train))/np.std(X_train)\n",
        "X_test_stand = (X_test - np.mean(X_train))/np.std(X_train)\n",
        "\n",
        "print(X_train_stand)\n",
        "print(X_test_stand)"
      ],
      "execution_count": null,
      "outputs": [
        {
          "output_type": "stream",
          "name": "stdout",
          "text": [
            "        Elevation    Aspect  ...  Hillshade_3pm  Horizontal_Distance_To_Fire_Points\n",
            "431237  -0.247714  0.746177  ...       0.483385                           -0.037562\n",
            "132692   0.173641 -0.835642  ...      -0.013029                           -0.541904\n",
            "468915   0.873519  0.871292  ...       1.319451                           -0.847681\n",
            "190512  -0.187010 -0.871390  ...      -1.058112                           -0.258023\n",
            "499057   1.430565 -0.201127  ...      -0.927477                           -1.211592\n",
            "...           ...       ...  ...            ...                                 ...\n",
            "151247   0.420027 -1.389726  ...       0.352750                           -0.754815\n",
            "145255   0.862807 -1.130558  ...      -0.065284                            1.227069\n",
            "447458   0.559288  0.585314  ...       1.188816                           -0.835601\n",
            "289456   1.209175 -0.987568  ...       0.274368                            0.210079\n",
            "499897  -0.333413  1.702417  ...       0.509512                           -0.532844\n",
            "\n",
            "[406708 rows x 10 columns]\n",
            "        Elevation    Aspect  ...  Hillshade_3pm  Horizontal_Distance_To_Fire_Points\n",
            "385653  -0.336984 -1.166305  ...      -0.274300                           -0.578900\n",
            "20808   -0.872604 -0.469232  ...      -0.039156                            3.275393\n",
            "4907    -2.647295 -1.362915  ...      -0.300427                           -0.680070\n",
            "194420   1.155613 -1.309294  ...       0.091479                           -0.340318\n",
            "247568  -0.779764 -1.255673  ...      -0.744587                           -0.770670\n",
            "...           ...       ...  ...            ...                                 ...\n",
            "395220   0.698550 -0.630095  ...      -0.378808                            0.768026\n",
            "164747  -0.386975 -0.138570  ...      -0.404935                            0.013023\n",
            "221659  -0.097740 -0.326243  ...      -1.005858                            0.140619\n",
            "144115  -0.390546  1.729228  ...       0.378877                            0.023593\n",
            "8194     1.119905  0.397640  ...       0.770783                           -1.062857\n",
            "\n",
            "[174304 rows x 10 columns]\n"
          ]
        }
      ]
    },
    {
      "cell_type": "markdown",
      "metadata": {
        "id": "bxIuKCn069uJ"
      },
      "source": [
        "# Continuação"
      ]
    },
    {
      "cell_type": "markdown",
      "metadata": {
        "id": "WdJxjiNW7QZZ"
      },
      "source": [
        "#5 - Treine uma rede neural multilayer perceptron para este problema com uma única camada e dez neurônios"
      ]
    },
    {
      "cell_type": "markdown",
      "metadata": {
        "id": "vgY84-305nWK"
      },
      "source": [
        "**5.1 - Utilize a função de ativação ReLU <br>\n",
        "5.2 - Utilize o solver Adam <br>\n",
        "5.3 - Imprima o passo a passo do treinamento <br>\n",
        "5.4 - Utilize o número máximo de épocas igual a 300**"
      ]
    },
    {
      "cell_type": "code",
      "metadata": {
        "colab": {
          "base_uri": "https://localhost:8080/"
        },
        "id": "x4DaQHna6kt6",
        "outputId": "7fd94a4e-0cb8-43c1-cf7e-5f718954782b"
      },
      "source": [
        "rede = MLPClassifier(hidden_layer_sizes=(10,),activation='relu',solver='adam',max_iter=300,verbose=True)\n",
        "rede.fit(X_train_stand,Y_train)"
      ],
      "execution_count": null,
      "outputs": [
        {
          "output_type": "stream",
          "name": "stdout",
          "text": [
            "Iteration 1, loss = 0.89987862\n",
            "Iteration 2, loss = 0.70453501\n",
            "Iteration 3, loss = 0.68505318\n",
            "Iteration 4, loss = 0.67676100\n",
            "Iteration 5, loss = 0.67145835\n",
            "Iteration 6, loss = 0.66867634\n",
            "Iteration 7, loss = 0.66702079\n",
            "Iteration 8, loss = 0.66608997\n",
            "Iteration 9, loss = 0.66550358\n",
            "Iteration 10, loss = 0.66509362\n",
            "Iteration 11, loss = 0.66466175\n",
            "Iteration 12, loss = 0.66448647\n",
            "Iteration 13, loss = 0.66414859\n",
            "Iteration 14, loss = 0.66387757\n",
            "Iteration 15, loss = 0.66359784\n",
            "Iteration 16, loss = 0.66335164\n",
            "Iteration 17, loss = 0.66302067\n",
            "Iteration 18, loss = 0.66273914\n",
            "Iteration 19, loss = 0.66241211\n",
            "Iteration 20, loss = 0.66193576\n",
            "Iteration 21, loss = 0.66157956\n",
            "Iteration 22, loss = 0.66120469\n",
            "Iteration 23, loss = 0.66086860\n",
            "Iteration 24, loss = 0.66062824\n",
            "Iteration 25, loss = 0.66040603\n",
            "Iteration 26, loss = 0.66021352\n",
            "Iteration 27, loss = 0.65993015\n",
            "Iteration 28, loss = 0.65975853\n",
            "Iteration 29, loss = 0.65955356\n",
            "Iteration 30, loss = 0.65931239\n",
            "Iteration 31, loss = 0.65906073\n",
            "Iteration 32, loss = 0.65889292\n",
            "Iteration 33, loss = 0.65860910\n",
            "Iteration 34, loss = 0.65834528\n",
            "Iteration 35, loss = 0.65812687\n",
            "Iteration 36, loss = 0.65787058\n",
            "Iteration 37, loss = 0.65775826\n",
            "Iteration 38, loss = 0.65751058\n",
            "Iteration 39, loss = 0.65738346\n",
            "Iteration 40, loss = 0.65719316\n",
            "Iteration 41, loss = 0.65694980\n",
            "Iteration 42, loss = 0.65680427\n",
            "Iteration 43, loss = 0.65646124\n",
            "Iteration 44, loss = 0.65625081\n",
            "Iteration 45, loss = 0.65604469\n",
            "Iteration 46, loss = 0.65565612\n",
            "Iteration 47, loss = 0.65547556\n",
            "Iteration 48, loss = 0.65517216\n",
            "Iteration 49, loss = 0.65473342\n",
            "Iteration 50, loss = 0.65430830\n",
            "Iteration 51, loss = 0.65400949\n",
            "Iteration 52, loss = 0.65367860\n",
            "Iteration 53, loss = 0.65349959\n",
            "Iteration 54, loss = 0.65335576\n",
            "Iteration 55, loss = 0.65310223\n",
            "Iteration 56, loss = 0.65308038\n",
            "Iteration 57, loss = 0.65295625\n",
            "Iteration 58, loss = 0.65296431\n",
            "Iteration 59, loss = 0.65274123\n",
            "Iteration 60, loss = 0.65269589\n",
            "Iteration 61, loss = 0.65254074\n",
            "Iteration 62, loss = 0.65240755\n",
            "Iteration 63, loss = 0.65228652\n",
            "Iteration 64, loss = 0.65219093\n",
            "Iteration 65, loss = 0.65209942\n",
            "Iteration 66, loss = 0.65206697\n",
            "Iteration 67, loss = 0.65195840\n",
            "Iteration 68, loss = 0.65190081\n",
            "Iteration 69, loss = 0.65179001\n",
            "Iteration 70, loss = 0.65180657\n",
            "Iteration 71, loss = 0.65185451\n",
            "Iteration 72, loss = 0.65168259\n",
            "Iteration 73, loss = 0.65159163\n",
            "Iteration 74, loss = 0.65143687\n",
            "Iteration 75, loss = 0.65135051\n",
            "Iteration 76, loss = 0.65111333\n",
            "Iteration 77, loss = 0.65091348\n",
            "Iteration 78, loss = 0.65047164\n",
            "Iteration 79, loss = 0.65004661\n",
            "Iteration 80, loss = 0.64953497\n",
            "Iteration 81, loss = 0.64861435\n",
            "Iteration 82, loss = 0.64797838\n",
            "Iteration 83, loss = 0.64721913\n",
            "Iteration 84, loss = 0.64661236\n",
            "Iteration 85, loss = 0.64614292\n",
            "Iteration 86, loss = 0.64571653\n",
            "Iteration 87, loss = 0.64519023\n",
            "Iteration 88, loss = 0.64500630\n",
            "Iteration 89, loss = 0.64472446\n",
            "Iteration 90, loss = 0.64443250\n",
            "Iteration 91, loss = 0.64422176\n",
            "Iteration 92, loss = 0.64393301\n",
            "Iteration 93, loss = 0.64381227\n",
            "Iteration 94, loss = 0.64367665\n",
            "Iteration 95, loss = 0.64343721\n",
            "Iteration 96, loss = 0.64336149\n",
            "Iteration 97, loss = 0.64300027\n",
            "Iteration 98, loss = 0.64271587\n",
            "Iteration 99, loss = 0.64243080\n",
            "Iteration 100, loss = 0.64227586\n",
            "Iteration 101, loss = 0.64200960\n",
            "Iteration 102, loss = 0.64181534\n",
            "Iteration 103, loss = 0.64159761\n",
            "Iteration 104, loss = 0.64137505\n",
            "Iteration 105, loss = 0.64126237\n",
            "Iteration 106, loss = 0.64117684\n",
            "Iteration 107, loss = 0.64100151\n",
            "Iteration 108, loss = 0.64084335\n",
            "Iteration 109, loss = 0.64080091\n",
            "Iteration 110, loss = 0.64065648\n",
            "Iteration 111, loss = 0.64066830\n",
            "Iteration 112, loss = 0.64057267\n",
            "Iteration 113, loss = 0.64043656\n",
            "Iteration 114, loss = 0.64034924\n",
            "Iteration 115, loss = 0.64025006\n",
            "Iteration 116, loss = 0.64030841\n",
            "Iteration 117, loss = 0.64020000\n",
            "Iteration 118, loss = 0.64009798\n",
            "Iteration 119, loss = 0.64005361\n",
            "Iteration 120, loss = 0.64002547\n",
            "Iteration 121, loss = 0.63994721\n",
            "Iteration 122, loss = 0.63983652\n",
            "Iteration 123, loss = 0.63987423\n",
            "Iteration 124, loss = 0.63983697\n",
            "Iteration 125, loss = 0.63973860\n",
            "Iteration 126, loss = 0.63969339\n",
            "Iteration 127, loss = 0.63962114\n",
            "Iteration 128, loss = 0.63965486\n",
            "Iteration 129, loss = 0.63956884\n",
            "Iteration 130, loss = 0.63957979\n",
            "Iteration 131, loss = 0.63948590\n",
            "Iteration 132, loss = 0.63951104\n",
            "Iteration 133, loss = 0.63946492\n",
            "Training loss did not improve more than tol=0.000100 for 10 consecutive epochs. Stopping.\n"
          ]
        },
        {
          "output_type": "execute_result",
          "data": {
            "text/plain": [
              "MLPClassifier(hidden_layer_sizes=(10,), max_iter=300, verbose=True)"
            ]
          },
          "metadata": {},
          "execution_count": 27
        }
      ]
    },
    {
      "cell_type": "markdown",
      "metadata": {
        "id": "NIy6RQxRiTZW"
      },
      "source": [
        "# 6 - Com o modelo em questão, após o treinamento, apresente:\n"
      ]
    },
    {
      "cell_type": "markdown",
      "metadata": {
        "id": "ecgk0Vj6idip"
      },
      "source": [
        "**6.1 - Matriz de confusão para o conjunto de teste <br>\n",
        "6.2 - Acurácia <br>\n",
        "6.3 - F-Score <br>\n",
        "6.4 - Precisão <br>\n",
        "6.5 - Revocação**"
      ]
    },
    {
      "cell_type": "code",
      "metadata": {
        "colab": {
          "base_uri": "https://localhost:8080/",
          "height": 260
        },
        "id": "IODWMxAG_uyp",
        "outputId": "9f8b7dd5-22f2-4a49-c73c-583bccfbe736"
      },
      "source": [
        "y_pred = rede.predict(X_test_stand)\n",
        "\n",
        "conf_matrix = confusion_matrix(y_pred, Y_test)\n",
        "plt.matshow(conf_matrix, cmap=plt.cm.Greens)\n",
        "\n",
        "for (m, n), value in np.ndenumerate(conf_matrix):\n",
        "    plt.text(m, n, f\"{value}\", va=\"center\", ha=\"center\")\n",
        "plt.xlabel(\"y_pred\")\n",
        "plt.ylabel(\"y_test\")\n",
        "plt.colorbar()\n",
        "plt.plot()\n",
        "plt.show()"
      ],
      "execution_count": null,
      "outputs": [
        {
          "output_type": "display_data",
          "data": {
            "image/png": "[encoded data removed]",
            "text/plain": [
              "<Figure size 288x288 with 2 Axes>"
            ]
          },
          "metadata": {
            "needs_background": "light"
          }
        }
      ]
    },
    {
      "cell_type": "code",
      "metadata": {
        "colab": {
          "base_uri": "https://localhost:8080/"
        },
        "id": "V7N7H7GUDG9j",
        "outputId": "0f78882f-f0ea-4dec-d513-e8785fc2003c"
      },
      "source": [
        "acuracia = accuracy_score(y_pred, Y_test)\n",
        "fscore = f1_score(y_pred, Y_test, average='weighted')\n",
        "precisao = precision_score(y_pred, Y_test, average='weighted')\n",
        "revocacao = recall_score(y_pred, Y_test, average='weighted')\n",
        "\n",
        "print(\"Acurácia {:.3f}\".format(acuracia))\n",
        "print(\"F1-Score: {:.3f}\".format(fscore))\n",
        "print(\"Precisão: {:.3f}\".format(precisao))\n",
        "print(\"Revocação: {:.3f}\".format(revocacao))"
      ],
      "execution_count": null,
      "outputs": [
        {
          "output_type": "stream",
          "name": "stdout",
          "text": [
            "Acurácia 0.724\n",
            "F1-Score: 0.732\n",
            "Precisão: 0.743\n",
            "Revocação: 0.724\n"
          ]
        }
      ]
    },
    {
      "cell_type": "markdown",
      "metadata": {
        "id": "ZZxgw2NOjy4H"
      },
      "source": [
        "# 7 - Repita o treinamento da mesma rede anterior sem imprimir o passo a passo (verbose False) por 100 vezes"
      ]
    },
    {
      "cell_type": "markdown",
      "metadata": {
        "id": "Jlf_Hptrj1gM"
      },
      "source": [
        "**7.1 - Cada uma destas repetições deve ser feita com uma nova partição Holdout <br>\n",
        "7.2 - Apresente a média e o desvio padrão da acurácia e do F-Score para o conjunto de treino**"
      ]
    },
    {
      "cell_type": "code",
      "metadata": {
        "id": "G4F20VmR6nSN",
        "colab": {
          "base_uri": "https://localhost:8080/"
        },
        "outputId": "675741b5-b240-4d53-9f2c-b8bda765e459"
      },
      "source": [
        "acuracia = []\n",
        "fscore = []\n",
        "\n",
        "\n",
        "\n",
        "\n",
        "for i in range(100):\n",
        "    print(\"it \", i)\n",
        "    X_train, X_test, Y_train, Y_test = train_test_split(X, Y, test_size=0.30)\n",
        "    \n",
        "    X_train_stand = X_train.copy()\n",
        "    X_test_stand = X_test.copy()\n",
        "    X_train_stand = (X_train - np.mean(X_train))/np.std(X_train)\n",
        "    X_test_stand = (X_test - np.mean(X_train))/np.std(X_train)\n",
        "\n",
        "    y_pred = rede.predict(X_test_stand)\n",
        "    rede = MLPClassifier(hidden_layer_sizes=(10,),activation='relu',solver='adam',max_iter=300,verbose=False)\n",
        "    rede.fit(X_train_stand,Y_train)\n",
        "    acuracia.append(accuracy_score(y_pred, Y_test))\n",
        "    fscore.append(f1_score(y_pred, Y_test, average='weighted'))\n",
        "\n",
        "dp = np.std(fscore)\n",
        "media = np.mean(fscore)\n",
        "dp_a = np.std(acuracia)\n",
        "media_a = np.mean(acuracia)\n",
        "\n",
        "print(\"Desvio padrão Acurácia:\", dp_a, \"\\nMédia Acurácia:\", media_a,\"\\nDesvio padrão F-Score:\", dp, \"\\nMédia F-score:\", media) "
      ],
      "execution_count": null,
      "outputs": [
        {
          "output_type": "stream",
          "name": "stdout",
          "text": [
            "it  0\n",
            "it  1\n",
            "it  2\n",
            "it  3\n",
            "it  4\n",
            "it  5\n",
            "it  6\n",
            "it  7\n",
            "it  8\n",
            "it  9\n",
            "it  10\n",
            "it  11\n",
            "it  12\n",
            "it  13\n",
            "it  14\n",
            "it  15\n",
            "it  16\n",
            "it  17\n",
            "it  18\n",
            "it  19\n",
            "it  20\n",
            "it  21\n",
            "it  22\n",
            "it  23\n",
            "it  24\n",
            "it  25\n",
            "it  26\n",
            "it  27\n",
            "it  28\n",
            "it  29\n",
            "it  30\n",
            "it  31\n",
            "it  32\n",
            "it  33\n",
            "it  34\n",
            "it  35\n",
            "it  36\n",
            "it  37\n",
            "it  38\n",
            "it  39\n",
            "it  40\n",
            "it  41\n",
            "it  42\n",
            "it  43\n",
            "it  44\n",
            "it  45\n",
            "it  46\n",
            "it  47\n",
            "it  48\n",
            "it  49\n",
            "it  50\n",
            "it  51\n",
            "it  52\n",
            "it  53\n",
            "it  54\n",
            "it  55\n",
            "it  56\n",
            "it  57\n",
            "it  58\n",
            "it  59\n",
            "it  60\n",
            "it  61\n",
            "it  62\n",
            "it  63\n",
            "it  64\n",
            "it  65\n",
            "it  66\n",
            "it  67\n",
            "it  68\n",
            "it  69\n",
            "it  70\n",
            "it  71\n",
            "it  72\n",
            "it  73\n",
            "it  74\n",
            "it  75\n",
            "it  76\n",
            "it  77\n",
            "it  78\n",
            "it  79\n",
            "it  80\n",
            "it  81\n",
            "it  82\n",
            "it  83\n",
            "it  84\n",
            "it  85\n",
            "it  86\n",
            "it  87\n",
            "it  88\n",
            "it  89\n",
            "it  90\n",
            "it  91\n",
            "it  92\n",
            "it  93\n",
            "it  94\n",
            "it  95\n",
            "it  96\n",
            "it  97\n",
            "it  98\n",
            "it  99\n",
            "Desvio padrão Acurácia: 0.003169108211259438 \n",
            "Média Acurácia: 0.7183860955571875 \n",
            "Desvio padrão F-Score: 0.0032379627545900125 \n",
            "Média F-score: 0.7280866505372633\n"
          ]
        }
      ]
    },
    {
      "cell_type": "markdown",
      "metadata": {
        "id": "N_dBBsfMktpu"
      },
      "source": [
        "# 8 - Repita por 100 vezes o treinamento desta mesma rede, mas utilizando o otimizador SGD"
      ]
    },
    {
      "cell_type": "markdown",
      "metadata": {
        "id": "mwlClzDDlBbA"
      },
      "source": [
        "**8.1 - Apresente a média e o desvio padrão da acurácia e do F-Score para o conjunto de treino**"
      ]
    },
    {
      "cell_type": "code",
      "metadata": {
        "id": "8fOuv7TllGaJ",
        "colab": {
          "base_uri": "https://localhost:8080/"
        },
        "outputId": "6a51bbe4-b2b7-47c8-b2b0-e63319001dad"
      },
      "source": [
        "acuraciaSGD = []\n",
        "fscoreSGD = []\n",
        "\n",
        "for i in range(100):\n",
        "    X_train, X_test, Y_train, Y_test = train_test_split(X, Y, test_size=0.30)\n",
        "\n",
        "    X_train_stand = X_train.copy()\n",
        "    X_test_stand = X_test.copy()\n",
        "    X_train_stand = (X_train - np.mean(X_train))/np.std(X_train)\n",
        "    X_test_stand = (X_test - np.mean(X_train))/np.std(X_train)\n",
        "\n",
        "    \n",
        "    rede2 = MLPClassifier(hidden_layer_sizes=(10,),activation='relu',solver='sgd',max_iter=300,verbose=False)\n",
        "    rede2.fit(X_train_stand,Y_train)\n",
        "  \n",
        "    y_pred = rede2.predict(X_test_stand)\n",
        "    acuraciaSGD.append(accuracy_score(y_pred, Y_test))\n",
        "    fscoreSGD.append(f1_score(y_pred, Y_test, average='weighted'))\n",
        "\n",
        "dp_f = np.std(fscoreSGD)\n",
        "media_f = np.mean(fscoreSGD)\n",
        "dp_a = np.std(acuraciaSGD)\n",
        "media_a = np.mean(acuraciaSGD)\n",
        "\n",
        "print(\"Desvio Padrão Acurácia:\", dp_a, \"\\nMédia Acurácia:\", media_a,\"\\nDesvio Padrão F-Score:\", dp_f, \"\\nMédia F-Score:\", media_f) "
      ],
      "execution_count": null,
      "outputs": [
        {
          "output_type": "stream",
          "name": "stdout",
          "text": [
            "Desvio Padrão Acurácia: 0.003365937250785146 \n",
            "Média Acurácia: 0.7145390811455847 \n",
            "Desvio Padrão F-Score: 0.0031973411716127564 \n",
            "Média F-Score: 0.7255676391069339\n"
          ]
        }
      ]
    },
    {
      "cell_type": "markdown",
      "metadata": {
        "id": "bgdgHyVblHcs"
      },
      "source": [
        " # 9 - Houve influência da escolha do otimizador no desempenho da rede?"
      ]
    },
    {
      "cell_type": "markdown",
      "metadata": {
        "id": "20FKxO5VlMqj"
      },
      "source": [
        "**R: Houve uma influência pouco significativa do otimizador SGD em relação ao otimizador ADAM, pois as médias e desvios padrões de acurácia e F-Score de ambos ficaram com valores muito próximos. Entretanto, o otimizador SGD obteve um tempo de execução de 38 minutos e o ADAM de 29 minutos, onde notamos que o tempo de excução dos otimizadores influência no desempenho da rede.**"
      ]
    },
    {
      "cell_type": "markdown",
      "metadata": {
        "id": "74LqNJ0c6nSI"
      },
      "source": [
        "## Discussão\n",
        "\n",
        "Nos passos anteriores, você avaliou o desempenho de uma única rede neural que contém os seguintes parâmetros: uma única camada oculta com 10 neurônios e função de ativação ReLU. O otimizador utilizado, quer seja SGD ou ADAM, trata-se do algoritmo para aproximar o gradiente do erro. Neste sentido, a escolha do otimizador é um hiperparâmetro, pois diz respeito a como a rede neural definida previamente atuará \"em tempo de execução\"  durante o processo de treinamento. Também são hiperparâmetros a quantidade de épocas, a taxa de aprendizado inicial, dentre outros.\n",
        "\n",
        "Cabe alientar também que você efetuou o treinamento desta rede por 100 vezes e apresentou os resultados em termos de média +- desvio padrão. Lembre-se que em uma rede neural há a inicialização aleatória de pesos e, em consequência, o desempenho delas está sujeito à uma flutuação estocástica. A execução destas múltiplas vezes faz com que eliminemos algum viés introduzido por uma boa ou má \"sorte\" na escolha de pesos no caso de uma única execução.\n",
        "\n",
        "Você também aprendeu uma estratégia para escalonar os atributos para uma melhor convergência da rede. Utilize-a em todos os treinamentos e testes propostos a seguir.\n",
        "\n",
        "## Propondo Novas Arquiteturas\n",
        "\n",
        "Variando  os parâmetros (uma ou duas camadas ocultas, com diferente números de neurônios em cada uma delas e a função de ativação) e o hiperparâmetros solver (Adam ou SGD) e o número de épocas (100,150 e 200), atenda ao que se pede:\n",
        "\n",
        "1. Proponha 10 arquiteturas distintas de RNAs para o problema em questão, à sua escolha\n",
        "2. Avalie cada uma das arquiteturas perante todos os hiperparâmetros apresentados por 100 vezes\n",
        "3. Como resultado da avaliação, apresente:  \n",
        "    3.1 Top-3 melhores redes no tocante à F-Score e Acurácia  \n",
        "    3.2 Repetição em que houve o melhor desempenho de cada uma dessas redes: ilustre tp, tf, fp e fn  "
      ]
    },
    {
      "cell_type": "markdown",
      "metadata": {
        "id": "7EavKbH8NETE"
      },
      "source": [
        "**1. Proponha 10 arquiteturas distintas de RNAs para o problema em questão, à sua escolha**\n",
        "\n",
        "1. Hiperparâmetro solver: Adam, número de épocas: 100, número de camadas ocultas: 1, função de ativação: relu, número de neurônios: 10;\n",
        "2. Hiperparâmetro solver: Adam, número de épocas: 100, número de camadas ocultas: 2, função de ativação: relu, número de neurônios: 15;\n",
        "3. Hiperparâmetro solver: Adam, número de épocas: 150, número de camadas ocultas: 1, função de ativação: logistic, número de neurônios: 8;\n",
        "4. Hiperparâmetro solver: Adam, número de épocas: 200, número de camadas ocultas: 1, função de ativação: relu, número de neurônios: 18;\n",
        "5. Hiperparâmetro solver: Adam, número de épocas: 200, número de camadas ocultas: 2, função de ativação: logistic, número de neurônios: 20;\n",
        "6. Hiperparâmetro solver: SGD, número de épocas: 100, número de camadas ocultas: 1, função de ativação: relu, número de neurônios: 5;\n",
        "7. Hiperparâmetro solver: SGD, número de épocas: 100, número de camadas ocultas: 2, função de ativação: relu, número de neurônios: 13;\n",
        "8. Hiperparâmetro solver: SGD, número de épocas: 150, número de camadas ocultas: 1, função de ativação: logistic, número de neurônios: 17;\n",
        "9. Hiperparâmetro solver: SGD, número de épocas: 200, número de camadas ocultas: 1, função de ativação: relu, número de neurônios: 9;\n",
        "10. Hiperparâmetro solver: SGD, número de épocas: 200, número de camadas ocultas: 2, função de ativação: logistic, número de neurônios: 30;"
      ]
    },
    {
      "cell_type": "markdown",
      "metadata": {
        "id": "30HHSPfvOB0j"
      },
      "source": [
        "1. MLPClassifier(hidden_layer_sizes=(10,),activation='relu',solver='adam',max_iter=100,verbose=False)\n",
        "2. MLPClassifier(hidden_layer_sizes=(15,2),activation='relu',solver='adam',max_iter=100,verbose=False)\n",
        "3. MLPClassifier(hidden_layer_sizes=(8,),activation='logistic',solver='adam',max_iter=150,verbose=False)\n",
        "4. MLPClassifier(hidden_layer_sizes=(18,),activation='relu',solver='adam',max_iter=200,verbose=False)\n",
        "5. MLPClassifier(hidden_layer_sizes=(20,2),activation='logistic',solver='adam',max_iter=200,verbose=False)\n",
        "6. MLPClassifier(hidden_layer_sizes=(5,),activation='relu',solver='sgd',max_iter=100,verbose=False)\n",
        "7. MLPClassifier(hidden_layer_sizes=(13,2),activation='relu',solver='sgd',max_iter=100,verbose=False)\n",
        "8. MLPClassifier(hidden_layer_sizes=(17,),activation='logistic',solver='sgd',max_iter=150,verbose=False)\n",
        "9. MLPClassifier(hidden_layer_sizes=(9,),activation='relu',solver='sgd',max_iter=200,verbose=False)\n",
        "10. MLPClassifier(hidden_layer_sizes=(30,2),activation='logistic',solver='sgd',max_iter=200,verbose=False)"
      ]
    },
    {
      "cell_type": "code",
      "metadata": {
        "id": "fqhn7KWRUk27"
      },
      "source": [
        "def arquitetura(hidden_layer,layer, activ, solv, iter):\n",
        "  acuracia = []\n",
        "  fscore = []\n",
        "  \n",
        "  for i in range(2):\n",
        "    X_train, X_test, Y_train, Y_test = train_test_split(X, Y, test_size=0.30)\n",
        "    \n",
        "    X_train_stand = X_train.copy()\n",
        "    X_test_stand = X_test.copy()\n",
        "    X_train_stand = (X_train - np.mean(X_train))/np.std(X_train)\n",
        "    X_test_stand = (X_test - np.mean(X_train))/np.std(X_train)\n",
        "\n",
        "   \n",
        "    if(hidden_layer == 1):\n",
        "      rede3 = MLPClassifier(hidden_layer_sizes=(layer,),activation=activ,solver=solv,max_iter=iter,verbose=False)\n",
        "    else:\n",
        "      rede3 = MLPClassifier(hidden_layer_sizes=(layer,2),activation=activ,solver=solv,max_iter=iter,verbose=False)\n",
        "    rede3.fit(X_train_stand,Y_train)\n",
        "     \n",
        "    y_pred = rede3.predict(X_test_stand)\n",
        "\n",
        "    acuracia.append(accuracy_score(y_pred, Y_test))\n",
        "    fscore.append(f1_score(y_pred, Y_test, average='weighted'))\n",
        "\n",
        "  dp_f = np.std(fscore)\n",
        "  media_f = np.mean(fscore)\n",
        "  dp_a = np.std(acuracia)\n",
        "  media_a = np.mean(acuracia)\n",
        "\n",
        "  print(\"Desvio Padrão Acurácia:\", dp_a, \"\\nMédia Acurácia:\", media_a,\"\\nDesvio Padrão F-Score:\", dp_f, \"\\nMédia F-Score:\", media_f) \n",
        "  return media_f, media_a"
      ],
      "execution_count": null,
      "outputs": []
    },
    {
      "cell_type": "code",
      "metadata": {
        "id": "Ui_eKaBfocG0"
      },
      "source": [
        "FScore_arqs = []\n",
        "Acuracia_arqs = []"
      ],
      "execution_count": null,
      "outputs": []
    },
    {
      "cell_type": "code",
      "metadata": {
        "id": "jmAk4Hx6WLXE"
      },
      "source": [
        "# 1. MLPClassifier(hidden_layer_sizes=(10,),activation='relu',solver='adam',max_iter=100,verbose=False)\n",
        "media_f, media_a = arquitetura(1, 10, 'relu', 'adam', 100)\n",
        "FScore_arqs.append(media_f)\n",
        "Acuracia_arqs.append(media_a)"
      ],
      "execution_count": null,
      "outputs": []
    },
    {
      "cell_type": "code",
      "metadata": {
        "id": "OUAmaTh7eNjh"
      },
      "source": [
        "# 2. MLPClassifier(hidden_layer_sizes=(15,2),activation='relu',solver='adam',max_iter=100,verbose=False)\n",
        "media_f, media_a = arquitetura(2, 15, 'relu', 'adam', 100)\n",
        "FScore_arqs.append(media_f)\n",
        "Acuracia_arqs.append(media_a)"
      ],
      "execution_count": null,
      "outputs": []
    },
    {
      "cell_type": "code",
      "metadata": {
        "id": "9NwJadm3eNcw"
      },
      "source": [
        "# 3. MLPClassifier(hidden_layer_sizes=(8,),activation='logistic',solver='adam',max_iter=150,verbose=False)\n",
        "media_f, media_a = arquitetura(1, 8, 'logistic', 'adam', 150)\n",
        "FScore_arqs.append(media_f)\n",
        "Acuracia_arqs.append(media_a)"
      ],
      "execution_count": null,
      "outputs": []
    },
    {
      "cell_type": "code",
      "metadata": {
        "id": "sMj9CAd0eNW0"
      },
      "source": [
        "# 4. MLPClassifier(hidden_layer_sizes=(18,),activation='relu',solver='adam',max_iter=200,verbose=False)\n",
        "media_f, media_a = arquitetura(1, 18, 'relu', 'adam', 200)\n",
        "FScore_arqs.append(media_f)\n",
        "Acuracia_arqs.append(media_a)"
      ],
      "execution_count": null,
      "outputs": []
    },
    {
      "cell_type": "code",
      "metadata": {
        "id": "venMZV6BeNQk"
      },
      "source": [
        "# 5. MLPClassifier(hidden_layer_sizes=(20,2),activation='logistic',solver='adam',max_iter=200,verbose=False)\n",
        "media_f, media_a = arquitetura(2, 20, 'logistic', 'adam', 200)\n",
        "FScore_arqs.append(media_f)\n",
        "Acuracia_arqs.append(media_a)"
      ],
      "execution_count": null,
      "outputs": []
    },
    {
      "cell_type": "code",
      "metadata": {
        "id": "sRc9UAD9eNKi"
      },
      "source": [
        "# 6. MLPClassifier(hidden_layer_sizes=(5,),activation='relu',solver='sgd',max_iter=100,verbose=False)\n",
        "media_f, media_a = arquitetura(1, 5, 'relu', 'sgd', 100)\n",
        "FScore_arqs.append(media_f)\n",
        "Acuracia_arqs.append(media_a)"
      ],
      "execution_count": null,
      "outputs": []
    },
    {
      "cell_type": "code",
      "metadata": {
        "id": "YOrblWdYeNEU"
      },
      "source": [
        "# 7. MLPClassifier(hidden_layer_sizes=(13,2),activation='relu',solver='sgd',max_iter=100,verbose=False)\n",
        "media_f, media_a = arquitetura(2, 13, 'relu', 'sgd', 100)\n",
        "FScore_arqs.append(media_f)\n",
        "Acuracia_arqs.append(media_a)"
      ],
      "execution_count": null,
      "outputs": []
    },
    {
      "cell_type": "code",
      "metadata": {
        "id": "RDr8MAGzeM80"
      },
      "source": [
        "# 8. MLPClassifier(hidden_layer_sizes=(17,),activation='logistic',solver='sgd',max_iter=150,verbose=False)\n",
        "media_f, media_a = arquitetura(1, 17, 'relu', 'sgd', 150)\n",
        "FScore_arqs.append(media_f)\n",
        "Acuracia_arqs.append(media_a)"
      ],
      "execution_count": null,
      "outputs": []
    },
    {
      "cell_type": "code",
      "metadata": {
        "id": "zPJahHSyeMxj"
      },
      "source": [
        "# 9. MLPClassifier(hidden_layer_sizes=(9,),activation='relu',solver='sgd',max_iter=200,verbose=False)\n",
        "media_f, media_a = arquitetura(1, 9, 'relu', 'sgd', 200)\n",
        "FScore_arqs.append(media_f)\n",
        "Acuracia_arqs.append(media_a)"
      ],
      "execution_count": null,
      "outputs": []
    },
    {
      "cell_type": "code",
      "metadata": {
        "id": "arW3tyIFecfM"
      },
      "source": [
        "# 10. MLPClassifier(hidden_layer_sizes=(30,2),activation='logistic',solver='sgd',max_iter=200,verbose=False)\n",
        "media_f, media_a = arquitetura(2, 30, 'logistic', 'sgd', 200)\n",
        "FScore_arqs.append(media_f)\n",
        "Acuracia_arqs.append(media_a)"
      ],
      "execution_count": null,
      "outputs": []
    },
    {
      "cell_type": "markdown",
      "metadata": {
        "id": "hrMPgaZg6nSL"
      },
      "source": [
        "## Estimando o número de neurônios\n",
        "\n",
        "Um dos problemas de pesquisa com redes neurais artificiais consiste na determinação do número de neurônios em sua arquitetura. Embora não seja possível definir a priori qual rede neural é adequada para um problema, pois isto só é possível mediante uma busca exaustiva, há regras na literatura que sugerem o número de neurônios escondidos, tal como a regra da Pirâmide Geométrica, dada a seguir:\n",
        "\n",
        "$$N_h = \\alpha \\cdot \\sqrt{N_i \\cdot N_o},$$\n",
        "\n",
        "em que $N_h$ é o número de neurônios ocultos (a serem distribuídos em uma ou duas camadas ocultas), $N_i$ é o número de neurônios na camada de entrada e $N_o$ é o número de neurônios na camada de saída. \n",
        "\n",
        "1. Consulte a documentação da classe MLPClassifier (disponível em https://scikit-learn.org/stable/modules/generated/sklearn.neural_network.MLPClassifier.html) e obtenha os valores de $N_i$ e $N_o$.\n",
        "2. Teste os valores de $\\alpha$ como sendo iguais a $0.5$, $2$ e $3$.\n",
        "3. Proponha pelo menos 30 redes neurais segundo a regra da pirâmide geométrica e teste-as nos mesmos termos estabelecidos anterioremente  (solver, épocas, etc.)  \n",
        "    3.1 Apresente as top-3 melhores redes no tocante à F-Score e Acurácia  "
      ]
    },
    {
      "cell_type": "code",
      "metadata": {
        "id": "J8XAu61l6nSK"
      },
      "source": [
        "Ni = rede.n_features_in_\n",
        "No = rede.n_outputs_\n",
        "\n",
        "alpha1 = 0.5\n",
        "alpha2 = 2\n",
        "alpha3 = 3\n",
        "\n",
        "Nh1 = round(alpha1*np.sqrt(Ni*No))\n",
        "Nh2 = round(alpha2*np.sqrt(Ni*No))\n",
        "Nh3 = round(alpha3*np.sqrt(Ni*No))\n"
      ],
      "execution_count": null,
      "outputs": []
    },
    {
      "cell_type": "code",
      "metadata": {
        "id": "Lx0F0eQbpEyd"
      },
      "source": [
        "FScore_arqs2 = []\n",
        "Acuracia_arqs2 = []"
      ],
      "execution_count": null,
      "outputs": []
    },
    {
      "cell_type": "markdown",
      "metadata": {
        "id": "Beaq0_9zXaUs"
      },
      "source": [
        "\n",
        " **Alpha 0.5**\n",
        "1.   MLPClassifier(hidden_layer_sizes=(4,),activation='relu',solver='adam',max_iter=100,verbose=False)\n",
        "2.   MLPClassifier(hidden_layer_sizes=(4,),activation='logistic',solver='SGD',max_iter=150,verbose=False)\n",
        "3.   MLPClassifier(hidden_layer_sizes=(4,),activation='relu',solver='adam',max_iter=200,verbose=False)\n",
        "4.  MLPClassifier(hidden_layer_sizes=(4,),activation='logistic',solver='SGD',max_iter=100,verbose=False)\n",
        "5.  MLPClassifier(hidden_layer_sizes=(4,),activation='relu',solver='adam',max_iter=150,verbose=False)\n",
        "6.  MLPClassifier(hidden_layer_sizes=(2,2),activation='logistic',solver='SGD',max_iter=200,verbose=False)\n",
        "7.  MLPClassifier(hidden_layer_sizes=(2,2),activation='relu',solver='adam',max_iter=100,verbose=False)\n",
        "8.  MLPClassifier(hidden_layer_sizes=(2,2),activation='logistic',solver='SGD',max_iter=150,verbose=False)\n",
        "9.  MLPClassifier(hidden_layer_sizes=(2,2),activation='relu',solver='adam',max_iter=200,verbose=False)\n",
        "10. MLPClassifier(hidden_layer_sizes=(2,2),activation='logistic',solver='SGD',max_iter=100,verbose=False)\n",
        "\n"
      ]
    },
    {
      "cell_type": "code",
      "metadata": {
        "id": "6_iRoDq4c2zU"
      },
      "source": [
        "# 1. MLPClassifier(hidden_layer_sizes=(10,),activation='relu',solver='adam',max_iter=100,verbose=False)\n",
        "media_f, media_a = arquitetura(1, 4, 'relu', 'adam', 100)\n",
        "FScore_arqs2.append(media_f)\n",
        "Acuracia_arqs2.append(media_a)"
      ],
      "execution_count": null,
      "outputs": []
    },
    {
      "cell_type": "code",
      "metadata": {
        "id": "D_iUnPS2kycx"
      },
      "source": [
        "# 2. MLPClassifier(hidden_layer_sizes=(10,),activation='logistic',solver='SGD',max_iter=150,verbose=False)\n",
        "media_f, media_a = arquitetura(1, 4, 'logistic', 'SGD', 150)\n",
        "FScore_arqs2.append(media_f)\n",
        "Acuracia_arqs2.append(media_a)"
      ],
      "execution_count": null,
      "outputs": []
    },
    {
      "cell_type": "code",
      "metadata": {
        "id": "aXyKGLj0k07T"
      },
      "source": [
        "# 3. MLPClassifier(hidden_layer_sizes=(10,),activation='relu',solver='adam',max_iter=200,verbose=False)\n",
        "media_f, media_a = arquitetura(1, 4, 'relu', 'adam', 200)\n",
        "FScore_arqs2.append(media_f)\n",
        "Acuracia_arqs2.append(media_a)"
      ],
      "execution_count": null,
      "outputs": []
    },
    {
      "cell_type": "code",
      "metadata": {
        "id": "VFHJRfY5k3MQ"
      },
      "source": [
        "# 4. MLPClassifier(hidden_layer_sizes=(10,),activation='logistic',solver='adSGDam',max_iter=100,verbose=False)\n",
        "media_f, media_a = arquitetura(1, 4, 'logistic', 'SGD', 100)\n",
        "FScore_arqs2.append(media_f)\n",
        "Acuracia_arqs2.append(media_a)"
      ],
      "execution_count": null,
      "outputs": []
    },
    {
      "cell_type": "code",
      "metadata": {
        "id": "C2D4-dTJk5cM"
      },
      "source": [
        "# 5. MLPClassifier(hidden_layer_sizes=(10,),activation='relu',solver='adam',max_iter=150,verbose=False)\n",
        "media_f, media_a = arquitetura(1, 4, 'relu', 'adam', 150)\n",
        "FScore_arqs2.append(media_f)\n",
        "Acuracia_arqs2.append(media_a)"
      ],
      "execution_count": null,
      "outputs": []
    },
    {
      "cell_type": "code",
      "metadata": {
        "id": "9pNVD0xhk7r4"
      },
      "source": [
        "# 6. MLPClassifier(hidden_layer_sizes=(10,),activation='logistic',solver='SGD',max_iter=200,verbose=False)\n",
        "media_f, media_a = arquitetura(1, 4, 'logistic', 'SGD', 100)\n",
        "FScore_arqs2.append(media_f)\n",
        "Acuracia_arqs2.append(media_a)"
      ],
      "execution_count": null,
      "outputs": []
    },
    {
      "cell_type": "code",
      "metadata": {
        "id": "k39iVkFQk9qg"
      },
      "source": [
        "# 7. MLPClassifier(hidden_layer_sizes=(10,),activation='relu',solver='adam',max_iter=100,verbose=False)\n",
        "media_f, media_a = arquitetura(1, 4, 'relu', 'adam', 100)\n",
        "FScore_arqs2.append(media_f)\n",
        "Acuracia_arqs2.append(media_a)"
      ],
      "execution_count": null,
      "outputs": []
    },
    {
      "cell_type": "code",
      "metadata": {
        "id": "Hv0OUotvlADv"
      },
      "source": [
        "# 8. MLPClassifier(hidden_layer_sizes=(10,),activation='logistic',solver='SGD',max_iter=150,verbose=False)\n",
        "media_f, media_a = arquitetura(1, 4, 'logistic', 'SGD', 150)\n",
        "FScore_arqs2.append(media_f)\n",
        "Acuracia_arqs2.append(media_a)"
      ],
      "execution_count": null,
      "outputs": []
    },
    {
      "cell_type": "code",
      "metadata": {
        "id": "rhyPTD3vlCB5"
      },
      "source": [
        "# 9. MLPClassifier(hidden_layer_sizes=(10,),activation='relu',solver='adam',max_iter=200,verbose=False)\n",
        "media_f, media_a = arquitetura(1, 4, 'relu', 'adam', 200)\n",
        "FScore_arqs2.append(media_f)\n",
        "Acuracia_arqs2.append(media_a)"
      ],
      "execution_count": null,
      "outputs": []
    },
    {
      "cell_type": "code",
      "metadata": {
        "id": "MaenQghglEj1"
      },
      "source": [
        "# 10. MLPClassifier(hidden_layer_sizes=(10,),activation='logistic',solver='SGD',max_iter=100,verbose=False)\n",
        "media_f, media_a = arquitetura(1, 4, 'logistic', 'SGD', 100)\n",
        "FScore_arqs2.append(media_f)\n",
        "Acuracia_arqs2.append(media_a)"
      ],
      "execution_count": null,
      "outputs": []
    },
    {
      "cell_type": "markdown",
      "metadata": {
        "id": "aNg4BBHGiE0S"
      },
      "source": [
        "**Alpha 2**\n",
        "1.   MLPClassifier(hidden_layer_sizes=(16,),activation='relu',solver='adam',max_iter=100,verbose=False)\n",
        "2.   MLPClassifier(hidden_layer_sizes=(16,),activation='relu',solver='SGD',max_iter=100,verbose=False)\n",
        "3.   MLPClassifier(hidden_layer_sizes=(16,),activation='logistic',solver='adam',max_iter=150,verbose=False)\n",
        "4.  MLPClassifier(hidden_layer_sizes=(16,),activation='relu',solver='SGD',max_iter=200,verbose=False)\n",
        "5.  MLPClassifier(hidden_layer_sizes=(16,),activation='logistic',solver='adam',max_iter=200,verbose=False)\n",
        "6.  MLPClassifier(hidden_layer_sizes=(8,2),activation='relu',solver='SGD',max_iter=100,verbose=False)\n",
        "7.  MLPClassifier(hidden_layer_sizes=(8,2),activation='relu',solver='adam',max_iter=100,verbose=False)\n",
        "8.  MLPClassifier(hidden_layer_sizes=(8,2),activation='logistic',solver='SGD',max_iter=150,verbose=False)\n",
        "9.  MLPClassifier(hidden_layer_sizes=(8,2),activation='relu',solver='adam',max_iter=100,verbose=False)\n",
        "10. MLPClassifier(hidden_layer_sizes=(8,2),activation='logistic',solver='SGD',max_iter=100,verbose=False)\n"
      ]
    },
    {
      "cell_type": "code",
      "metadata": {
        "id": "Hs6wzCPCfxMz"
      },
      "source": [
        "# 1. MLPClassifier(hidden_layer_sizes=(10,),activation='relu',solver='adam',max_iter=100,verbose=False)\n",
        "media_f, media_a = arquitetura(1, 4, 'relu', 'adam', 100)\n",
        "FScore_arqs2.append(media_f)\n",
        "Acuracia_arqs2.append(media_a)"
      ],
      "execution_count": null,
      "outputs": []
    },
    {
      "cell_type": "code",
      "metadata": {
        "id": "CfOYuQQLlYtR"
      },
      "source": [
        "# 2. MLPClassifier(hidden_layer_sizes=(10,),activation='relu',solver='SGD',max_iter=100,verbose=False)\n",
        "media_f, media_a = arquitetura(1, 4, 'logistic', 'SGD', 100)\n",
        "FScore_arqs2.append(media_f)\n",
        "Acuracia_arqs2.append(media_a)"
      ],
      "execution_count": null,
      "outputs": []
    },
    {
      "cell_type": "code",
      "metadata": {
        "id": "Ot5-fYWzlY0s"
      },
      "source": [
        "# 3. MLPClassifier(hidden_layer_sizes=(10,),activation='logistic',solver='adam',max_iter=150,verbose=False)\n",
        "media_f, media_a = arquitetura(1, 4, 'relu', 'adam', 150)\n",
        "FScore_arqs2.append(media_f)\n",
        "Acuracia_arqs2.append(media_a)"
      ],
      "execution_count": null,
      "outputs": []
    },
    {
      "cell_type": "code",
      "metadata": {
        "id": "L24A3Is8lY6y"
      },
      "source": [
        "# 4. MLPClassifier(hidden_layer_sizes=(10,),activation='relu',solver='adSGDam',max_iter=200,verbose=False)\n",
        "media_f, media_a = arquitetura(1, 4, 'logistic', 'SGD', 200)\n",
        "FScore_arqs2.append(media_f)\n",
        "Acuracia_arqs2.append(media_a)"
      ],
      "execution_count": null,
      "outputs": []
    },
    {
      "cell_type": "code",
      "metadata": {
        "id": "2PutQspilZAg"
      },
      "source": [
        "# 5. MLPClassifier(hidden_layer_sizes=(10,),activation='logistic',solver='adam',max_iter=200,verbose=False)\n",
        "media_f, media_a = arquitetura(1, 4, 'relu', 'adam', 100)\n",
        "FScore_arqs2.append(media_f)\n",
        "Acuracia_arqs2.append(media_a)"
      ],
      "execution_count": null,
      "outputs": []
    },
    {
      "cell_type": "code",
      "metadata": {
        "id": "4gYaYzG8lZGG"
      },
      "source": [
        "# 6. MLPClassifier(hidden_layer_sizes=(10,),activation='relu',solver='SGD',max_iter=100,verbose=False)\n",
        "media_f, media_a = arquitetura(1, 4, 'logistic', 'SGD', 100)\n",
        "FScore_arqs2.append(media_f)\n",
        "Acuracia_arqs2.append(media_a)"
      ],
      "execution_count": null,
      "outputs": []
    },
    {
      "cell_type": "code",
      "metadata": {
        "id": "1XjevB5nlZK8"
      },
      "source": [
        "# 7. MLPClassifier(hidden_layer_sizes=(10,),activation='relu',solver='adam',max_iter=100,verbose=False)\n",
        "media_f, media_a = arquitetura(1, 4, 'relu', 'adam', 100)\n",
        "FScore_arqs2.append(media_f)\n",
        "Acuracia_arqs2.append(media_a)"
      ],
      "execution_count": null,
      "outputs": []
    },
    {
      "cell_type": "code",
      "metadata": {
        "id": "p9o10dFGlZPV"
      },
      "source": [
        "# 8. MLPClassifier(hidden_layer_sizes=(10,),activation='logistic',solver='SGD',max_iter=150,verbose=False)\n",
        "media_f, media_a = arquitetura(1, 4, 'logistic', 'SGD', 150)\n",
        "FScore_arqs2.append(media_f)\n",
        "Acuracia_arqs2.append(media_a)"
      ],
      "execution_count": null,
      "outputs": []
    },
    {
      "cell_type": "code",
      "metadata": {
        "id": "lkzq5ta1lZUu"
      },
      "source": [
        "# 9. MLPClassifier(hidden_layer_sizes=(10,),activation='relu',solver='adam',max_iter=100,verbose=False)\n",
        "media_f, media_a = arquitetura(1, 4, 'relu', 'adam', 100)\n",
        "FScore_arqs2.append(media_f)\n",
        "Acuracia_arqs2.append(media_a)"
      ],
      "execution_count": null,
      "outputs": []
    },
    {
      "cell_type": "code",
      "metadata": {
        "id": "jG70exd7lZbh"
      },
      "source": [
        "# 10. MLPClassifier(hidden_layer_sizes=(10,),activation='relu',solver='SGD',max_iter=100,verbose=False)\n",
        "media_f, media_a = arquitetura(1, 4, 'logistic', 'SGD', 100)\n",
        "FScore_arqs2.append(media_f)\n",
        "Acuracia_arqs2.append(media_a)"
      ],
      "execution_count": null,
      "outputs": []
    },
    {
      "cell_type": "markdown",
      "metadata": {
        "id": "KVAsbyuFiIo1"
      },
      "source": [
        "**Alpha 3**\n",
        "1.   MLPClassifier(hidden_layer_sizes=(24,),activation='relu',solver='adam',max_iter=100,verbose=False)\n",
        "2.   MLPClassifier(hidden_layer_sizes=(24,),activation='relu',solver='SGD',max_iter=100,verbose=False)\n",
        "3.   MLPClassifier(hidden_layer_sizes=(24,),activation='logistic',solver='adam',max_iter=150,verbose=False)\n",
        "4.  MLPClassifier(hidden_layer_sizes=(24,),activation='relu',solver='SGD',max_iter=200,verbose=False)\n",
        "5.  MLPClassifier(hidden_layer_sizes=(24,),activation='logistic',solver='adam',max_iter=200,verbose=False)\n",
        "6.  MLPClassifier(hidden_layer_sizes=(12,2),activation='relu',solver='SGD',max_iter=100,verbose=False)\n",
        "7.  MLPClassifier(hidden_layer_sizes=(12,2),activation='relu',solver='adam',max_iter=100,verbose=False)\n",
        "8.  MLPClassifier(hidden_layer_sizes=(12,2),activation='logistic',solver='SGD',max_iter=150,verbose=False)\n",
        "9.  MLPClassifier(hidden_layer_sizes=(12,2),activation='relu',solver='SGD',max_iter=200,verbose=False)\n",
        "10. MLPClassifier(hidden_layer_sizes=(12,2),activation='relu',solver='adam',max_iter=200,verbose=False)\n"
      ]
    },
    {
      "cell_type": "code",
      "metadata": {
        "id": "2m5kdK5QdaiW"
      },
      "source": [
        "# 1. MLPClassifier(hidden_layer_sizes=(24,),activation='relu',solver='adam',max_iter=100,verbose=False)\n",
        "media_f, media_a = arquitetura(1, 25, 'relu', 'adam', 100)\n",
        "FScore_arqs2.append(media_f)\n",
        "Acuracia_arqs2.append(media_a)"
      ],
      "execution_count": null,
      "outputs": []
    },
    {
      "cell_type": "code",
      "metadata": {
        "id": "gyAiBrdQmP5a"
      },
      "source": [
        "# 2. MLPClassifier(hidden_layer_sizes=(24,),activation='relu',solver='SGD',max_iter=100,verbose=False)\n",
        "media_f, media_a = arquitetura(1, 25, 'relu', 'SGD', 100)\n",
        "FScore_arqs2.append(media_f)\n",
        "Acuracia_arqs2.append(media_a)"
      ],
      "execution_count": null,
      "outputs": []
    },
    {
      "cell_type": "code",
      "metadata": {
        "id": "pyaGxn0hmQN5"
      },
      "source": [
        "# 3. MLPClassifier(hidden_layer_sizes=(24,),activation='logistic',solver='adam',max_iter=150,verbose=False)\n",
        "media_f, media_a = arquitetura(1, 25, 'logistic', 'adam', 150)\n",
        "FScore_arqs2.append(media_f)\n",
        "Acuracia_arqs2.append(media_a)"
      ],
      "execution_count": null,
      "outputs": []
    },
    {
      "cell_type": "code",
      "metadata": {
        "id": "v7cZgZa-mQRt"
      },
      "source": [
        "# 4. MLPClassifier(hidden_layer_sizes=(24,),activation='relu',solver='SGD',max_iter=200,verbose=False)\n",
        "media_f, media_a = arquitetura(1, 25, 'relu', 'SGD', 200)\n",
        "FScore_arqs2.append(media_f)\n",
        "Acuracia_arqs2.append(media_a)"
      ],
      "execution_count": null,
      "outputs": []
    },
    {
      "cell_type": "code",
      "metadata": {
        "id": "zg3lyt6UmQUq"
      },
      "source": [
        "# 5. MLPClassifier(hidden_layer_sizes=(24,),activation='logistic',solver='adam',max_iter=200,verbose=False)\n",
        "media_f, media_a = arquitetura(1, 25, 'logistic', 'adam', 200)\n",
        "FScore_arqs2.append(media_f)\n",
        "Acuracia_arqs2.append(media_a)"
      ],
      "execution_count": null,
      "outputs": []
    },
    {
      "cell_type": "code",
      "metadata": {
        "id": "E91bxZEBmQXf"
      },
      "source": [
        "\n",
        "# 6. MLPClassifier(hidden_layer_sizes=(12,2),activation='relu',solver='SGD',max_iter=100,verbose=False)\n",
        "media_f, media_a = arquitetura(1, 25, 'relu', 'SGD', 100)\n",
        "FScore_arqs2.append(media_f)\n",
        "Acuracia_arqs2.append(media_a)"
      ],
      "execution_count": null,
      "outputs": []
    },
    {
      "cell_type": "code",
      "metadata": {
        "id": "gyuIyrFWmQas"
      },
      "source": [
        "\n",
        "# 7. MLPClassifier(hidden_layer_sizes=(12,2),activation='relu',solver='adam',max_iter=100,verbose=False)\n",
        "media_f, media_a = arquitetura(2, 12, 'relu', 'adam', 100)\n",
        "FScore_arqs2.append(media_f)\n",
        "Acuracia_arqs2.append(media_a)"
      ],
      "execution_count": null,
      "outputs": []
    },
    {
      "cell_type": "code",
      "metadata": {
        "id": "qQifnrdmmQe-"
      },
      "source": [
        "# 8. MLPClassifier(hidden_layer_sizes=(12,2),activation='logistic',solver='SGD',max_iter=150,verbose=False)\n",
        "media_f, media_a = arquitetura(1, 25, 'logistic', 'SGD', 150)\n",
        "FScore_arqs2.append(media_f)\n",
        "Acuracia_arqs2.append(media_a)"
      ],
      "execution_count": null,
      "outputs": []
    },
    {
      "cell_type": "code",
      "metadata": {
        "id": "sQP4OC9RmQi5"
      },
      "source": [
        "# 9. MLPClassifier(hidden_layer_sizes=(12,2),activation='relu',solver='SGD',max_iter=200,verbose=False)\n",
        "media_f, media_a = arquitetura(1, 25, 'relu', 'SGD', 200)\n",
        "FScore_arqs2.append(media_f)\n",
        "Acuracia_arqs2.append(media_a)"
      ],
      "execution_count": null,
      "outputs": []
    },
    {
      "cell_type": "code",
      "metadata": {
        "id": "dwhZ9Et6mQlY"
      },
      "source": [
        "# 10. MLPClassifier(hidden_layer_sizes=(12,2),activation='relu',solver='adam',max_iter=200,verbose=False)\n",
        "media_f, media_a = arquitetura(1, 25, 'relu', 'adam', 200)\n",
        "FScore_arqs2.append(media_f)\n",
        "Acuracia_arqs2.append(media_a)"
      ],
      "execution_count": null,
      "outputs": []
    },
    {
      "cell_type": "markdown",
      "metadata": {
        "id": "ZOe3HvhJ6nSO"
      },
      "source": [
        "## Testando as Redes Neurais com Atributos Categóricos\n",
        "\n",
        "1. Considere as 6 redes neurais obtidas nos dois top-3 anteriores (arquiteturas próprias e regra da pirâmide geométrica)\n",
        "2. Com todos os atributos preditores da base de dados original, incluindo os categóricos, treine e teste estas mesmas redes por 100 repetições  \n",
        "    2.1 Considere o melhor otimizador para cada uma delas  \n",
        "    2.2 Faça uso de 200 épocas para treinamento  \n",
        "    2.2 Apresente os resultados de acurácia e F-Score em termos da média +- dp para cada arquitetura\n",
        "3. Apresente o gráfico boxplot para o F-Score das 6 arquiteturas perante as 100 repetições"
      ]
    },
    {
      "cell_type": "code",
      "metadata": {
        "id": "qggD03I-6nST"
      },
      "source": [
        ""
      ],
      "execution_count": null,
      "outputs": []
    },
    {
      "cell_type": "markdown",
      "metadata": {
        "id": "z7jmU2w86nSV"
      },
      "source": [
        "## Considerações Parciais\n",
        "\n",
        "1. É possível identificar uma rede com desempenho superior às demais?\n",
        "2. Qual estratégia mostrou-se mais producente para a obtenção de boas arquiteturas (Estratégia Própria ou Pirâmide Geométrica)? Por quê?\n",
        "3. Considerar os atributos categóricos trouxe melhorias? Justifique.\n",
        "4. Um número maior de épocas trouxe melhorias?\n",
        "5. Qual a maior dificuldade de resolução do problema proposto perante as RNAs?"
      ]
    },
    {
      "cell_type": "code",
      "metadata": {
        "id": "kFm-oin46nSX"
      },
      "source": [
        ""
      ],
      "execution_count": null,
      "outputs": []
    }
  ]
}