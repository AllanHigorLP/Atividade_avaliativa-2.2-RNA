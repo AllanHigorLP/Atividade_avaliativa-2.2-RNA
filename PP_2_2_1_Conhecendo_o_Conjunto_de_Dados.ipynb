{
  "nbformat": 4,
  "nbformat_minor": 0,
  "metadata": {
    "kernelspec": {
      "display_name": "Python 3",
      "language": "python",
      "name": "python3"
    },
    "language_info": {
      "codemirror_mode": {
        "name": "ipython",
        "version": 3
      },
      "file_extension": ".py",
      "mimetype": "text/x-python",
      "name": "python",
      "nbconvert_exporter": "python",
      "pygments_lexer": "ipython3",
      "version": "3.6.10"
    },
    "colab": {
      "name": "PP_2.2.1 - Conhecendo o Conjunto de Dados.ipynb",
      "provenance": [],
      "include_colab_link": true
    }
  },
  "cells": [
    {
      "cell_type": "markdown",
      "metadata": {
        "id": "view-in-github",
        "colab_type": "text"
      },
      "source": [
        "<a href=\"https://colab.research.google.com/github/AllanHigorLP/Atividade_avaliativa-2.2-RNA/blob/main/PP_2_2_1_Conhecendo_o_Conjunto_de_Dados.ipynb\" target=\"_parent\"><img src=\"https://colab.research.google.com/assets/colab-badge.svg\" alt=\"Open In Colab\"/></a>"
      ]
    },
    {
      "cell_type": "markdown",
      "metadata": {
        "id": "1MzMZTydmw77"
      },
      "source": [
        "## Redes Neurais Artificiais 2021.1\n",
        "\n",
        "- **Disciplina**: Redes Neurais Artificiais 2021.1  \n",
        "- **Professora**: Elloá B. Guedes (ebgcosta@uea.edu.br)  \n",
        "- **Github**: http://github.com/elloa  \n",
        "\n",
        "### Explorando uma base de dados\n",
        "\n",
        "Nesta atividade prática iremos explorar a seguinte base de dados **_Forest Cover Type_**\n",
        "\n",
        "1. Obtenha esta base de dados no seguinte link: https://www.kaggle.com/uciml/forest-cover-type-dataset/download\n",
        "2. Consulte a documentação oficial da base de dados: https://archive.ics.uci.edu/ml/datasets/covertype\n",
        "3. **Responda**:  \n",
        "\n",
        "    3.1 O que é cada exemplo na base de dados?  \n",
        "    3.2 Em que ano ela foi obtida?  \n",
        "    3.3 Quem foram os responsáveis pela criação desta base de dados?  "
      ]
    },
    {
      "cell_type": "code",
      "metadata": {
        "id": "aOGs5tg5v3qh"
      },
      "source": [
        ""
      ],
      "execution_count": null,
      "outputs": []
    },
    {
      "cell_type": "code",
      "metadata": {
        "id": "uDfBtVJ0mw8J"
      },
      "source": [
        "import numpy as np # linear algebra\n",
        "import pandas as pd # data processing, CSV file I/O (e.g. pd.read_csv)\n",
        "import seaborn as sns\n",
        "import matplotlib.pyplot as plt\n",
        "from sklearn.model_selection import train_test_split #to split the dataset for training and testing\n",
        "from sklearn import metrics\n",
        "import unicodedata\n",
        "import io\n",
        "import random\n"
      ],
      "execution_count": 1,
      "outputs": []
    },
    {
      "cell_type": "markdown",
      "metadata": {
        "id": "yfefsiPVmw8M"
      },
      "source": [
        ""
      ]
    },
    {
      "cell_type": "markdown",
      "metadata": {
        "id": "iI0DkgQUmw8O"
      },
      "source": [
        ""
      ]
    },
    {
      "cell_type": "markdown",
      "metadata": {
        "id": "HYf1sPSOmw8O"
      },
      "source": [
        ""
      ]
    },
    {
      "cell_type": "markdown",
      "metadata": {
        "id": "GOR_fnzXmw8P"
      },
      "source": [
        "### Manipulando a base de dados\n",
        "\n",
        "1. Abra a base de dados com o pandas\n",
        "2. Imprima os 10 primeiros exemplos pertencentes à esta base\n",
        "3. Imprima os 10 últimos exemplos pertencentes à esta base\n",
        "4. Quantos exemplos esta base de dados possui?\n",
        "5. Quais são os atributos que a base de dados possui e quais seus tipos?\n",
        "6. Há algum dado faltante na base?\n",
        "7. De acordo com a documentação da base de dados, qual o significado dos atributos do tipo \"Soil Type\"?  \n",
        "  7.1 Este atributo é quantitativo ou qualitativo?  \n",
        "  7.2 Qual o tipo de codificação utilizada para denotar este atributo? Consulte a seguinte referência:  \n",
        "  * https://pbpython.com/categorical-encoding.html"
      ]
    },
    {
      "cell_type": "code",
      "metadata": {
        "id": "C8IbZiMBmw8S"
      },
      "source": [
        ""
      ],
      "execution_count": null,
      "outputs": []
    },
    {
      "cell_type": "code",
      "metadata": {
        "id": "16wOv96Wmw8W"
      },
      "source": [
        ""
      ],
      "execution_count": null,
      "outputs": []
    },
    {
      "cell_type": "code",
      "metadata": {
        "id": "o22uX3PLmw8X"
      },
      "source": [
        ""
      ],
      "execution_count": null,
      "outputs": []
    },
    {
      "cell_type": "code",
      "metadata": {
        "id": "5SaoDW-Jmw8Y"
      },
      "source": [
        ""
      ],
      "execution_count": null,
      "outputs": []
    },
    {
      "cell_type": "markdown",
      "metadata": {
        "id": "G7m-DMD5mw8Z"
      },
      "source": [
        "### Visualizando a base de dados\n",
        "\n",
        "1. Baseando-se nos fundamentos de visualização de dados abordados na disciplina, plote cada um dos atributos preditores de maneira a enfatizar a sua distribuição, tendência central e dispersão  \n",
        "1.1 Considere que o número de columas no dataset é diferente do número de atributos, conforme discussão promovida a respeito do dataset  \n",
        "1.2 Se preferir, opte por complementar as informações visuais com medidas estatísticas  \n",
        "2. A partir da visualização elaborada, o que pode-se dizer a respeito do balanceamento do atributo-alvo?\n",
        "3. Que tipo de tarefa de Aprendizado de Máquina é sugestiva para este problema?  \n",
        "3.1 Apresente métricas de desempenho compatíveis para a avaliação do problema (liste-as)  \n",
        "3.2 Escolha uma das métricas apresentadas para ser utilizada como referência pela equipe"
      ]
    },
    {
      "cell_type": "code",
      "metadata": {
        "id": "xlANjGihmw8a"
      },
      "source": [
        ""
      ],
      "execution_count": null,
      "outputs": []
    },
    {
      "cell_type": "code",
      "metadata": {
        "id": "bEAakro5mw8b"
      },
      "source": [
        ""
      ],
      "execution_count": null,
      "outputs": []
    },
    {
      "cell_type": "code",
      "metadata": {
        "id": "lanPpMuUmw8b"
      },
      "source": [
        ""
      ],
      "execution_count": null,
      "outputs": []
    },
    {
      "cell_type": "code",
      "metadata": {
        "id": "DUUJLDqQmw8c"
      },
      "source": [
        ""
      ],
      "execution_count": null,
      "outputs": []
    },
    {
      "cell_type": "code",
      "metadata": {
        "id": "2KpjgE1omw8c"
      },
      "source": [
        ""
      ],
      "execution_count": null,
      "outputs": []
    },
    {
      "cell_type": "code",
      "metadata": {
        "id": "ctFQ10TOmw8d"
      },
      "source": [
        ""
      ],
      "execution_count": null,
      "outputs": []
    }
  ]
}